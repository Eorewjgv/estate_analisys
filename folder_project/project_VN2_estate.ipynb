{
 "cells": [
  {
   "cell_type": "markdown",
   "metadata": {
    "toc": true
   },
   "source": [
    "<h1>Содержание<span class=\"tocSkip\"></span></h1>\n",
    "<div class=\"toc\"><ul class=\"toc-item\"><li><span><a href=\"#Изучение-данных-из-файла\" data-toc-modified-id=\"Изучение-данных-из-файла-1\"><span class=\"toc-item-num\">1&nbsp;&nbsp;</span>Изучение данных из файла</a></span><ul class=\"toc-item\"><li><span><a href=\"#Вывод\" data-toc-modified-id=\"Вывод-1.1\"><span class=\"toc-item-num\">1.1&nbsp;&nbsp;</span>Вывод</a></span></li></ul></li><li><span><a href=\"#Предобработка-данных\" data-toc-modified-id=\"Предобработка-данных-2\"><span class=\"toc-item-num\">2&nbsp;&nbsp;</span>Предобработка данных</a></span><ul class=\"toc-item\"><li><span><a href=\"#Обработка-пропусков\" data-toc-modified-id=\"Обработка-пропусков-2.1\"><span class=\"toc-item-num\">2.1&nbsp;&nbsp;</span>Обработка пропусков</a></span></li><li><span><a href=\"#Проверка-столбцов-на-правильность\" data-toc-modified-id=\"Проверка-столбцов-на-правильность-2.2\"><span class=\"toc-item-num\">2.2&nbsp;&nbsp;</span>Проверка столбцов на правильность</a></span></li><li><span><a href=\"#Замена-типов-данных\" data-toc-modified-id=\"Замена-типов-данных-2.3\"><span class=\"toc-item-num\">2.3&nbsp;&nbsp;</span>Замена типов данных</a></span></li></ul></li><li><span><a href=\"#Исследовательский-анализ-данных\" data-toc-modified-id=\"Исследовательский-анализ-данных-3\"><span class=\"toc-item-num\">3&nbsp;&nbsp;</span>Исследовательский анализ данных</a></span><ul class=\"toc-item\"><li><span><a href=\"#Добавление-дополнительных-столбцов\" data-toc-modified-id=\"Добавление-дополнительных-столбцов-3.1\"><span class=\"toc-item-num\">3.1&nbsp;&nbsp;</span>Добавление дополнительных столбцов</a></span></li><li><span><a href=\"#Построение-гистограмм\" data-toc-modified-id=\"Построение-гистограмм-3.2\"><span class=\"toc-item-num\">3.2&nbsp;&nbsp;</span>Построение гистограмм</a></span></li><li><span><a href=\"#Факторы-влияющие-на-стоимость-квартиры\" data-toc-modified-id=\"Факторы-влияющие-на-стоимость-квартиры-3.3\"><span class=\"toc-item-num\">3.3&nbsp;&nbsp;</span>Факторы влияющие на стоимость квартиры</a></span></li><li><span><a href=\"#Стоимость-групп-по-типу-этажей\" data-toc-modified-id=\"Стоимость-групп-по-типу-этажей-3.4\"><span class=\"toc-item-num\">3.4&nbsp;&nbsp;</span>Стоимость групп по типу этажей</a></span></li><li><span><a href=\"#Стоимость-квартир-по-дням,-месяцам-и-годам.\" data-toc-modified-id=\"Стоимость-квартир-по-дням,-месяцам-и-годам.-3.5\"><span class=\"toc-item-num\">3.5&nbsp;&nbsp;</span>Стоимость квартир по дням, месяцам и годам.</a></span></li><li><span><a href=\"#Исследование-стоимость-квартир-в-населенных-пунктах-где-больше-всего-объявлений\" data-toc-modified-id=\"Исследование-стоимость-квартир-в-населенных-пунктах-где-больше-всего-объявлений-3.6\"><span class=\"toc-item-num\">3.6&nbsp;&nbsp;</span>Исследование стоимость квартир в населенных пунктах где больше всего объявлений</a></span><ul class=\"toc-item\"><li><span><a href=\"#Вывод\" data-toc-modified-id=\"Вывод-3.6.1\"><span class=\"toc-item-num\">3.6.1&nbsp;&nbsp;</span>Вывод</a></span></li></ul></li><li><span><a href=\"#Исследование-квартир-в-центре-Санкт-Петербурга\" data-toc-modified-id=\"Исследование-квартир-в-центре-Санкт-Петербурга-3.7\"><span class=\"toc-item-num\">3.7&nbsp;&nbsp;</span>Исследование квартир в центре Санкт-Петербурга</a></span><ul class=\"toc-item\"><li><span><a href=\"#Анализ-территории-в-центре-города\" data-toc-modified-id=\"Анализ-территории-в-центре-города-3.7.1\"><span class=\"toc-item-num\">3.7.1&nbsp;&nbsp;</span>Анализ территории в центре города</a></span></li><li><span><a href=\"#Вывод\" data-toc-modified-id=\"Вывод-3.7.2\"><span class=\"toc-item-num\">3.7.2&nbsp;&nbsp;</span>Вывод</a></span></li><li><span><a href=\"#Исследование-факторов-влияющих-на-цену-квартиры\" data-toc-modified-id=\"Исследование-факторов-влияющих-на-цену-квартиры-3.7.3\"><span class=\"toc-item-num\">3.7.3&nbsp;&nbsp;</span>Исследование факторов влияющих на цену квартиры</a></span></li></ul></li><li><span><a href=\"#Вывод\" data-toc-modified-id=\"Вывод-3.8\"><span class=\"toc-item-num\">3.8&nbsp;&nbsp;</span>Вывод</a></span></li></ul></li><li><span><a href=\"#Общий-вывод\" data-toc-modified-id=\"Общий-вывод-4\"><span class=\"toc-item-num\">4&nbsp;&nbsp;</span>Общий вывод</a></span></li></ul></div>"
   ]
  },
  {
   "cell_type": "markdown",
   "metadata": {},
   "source": [
    "# Исследование объявлений о продаже квартир\n",
    "\n",
    "В вашем распоряжении данные сервиса Яндекс.Недвижимость — архив объявлений о продаже квартир в Санкт-Петербурге и соседних населённых пунктах за несколько лет. Нужно научиться определять рыночную стоимость объектов недвижимости. Ваша задача — установить параметры. Это позволит построить автоматизированную систему: она отследит аномалии и мошенническую деятельность. \n",
    "\n",
    "По каждой квартире на продажу доступны два вида данных. Первые вписаны пользователем, вторые получены автоматически на основе картографических данных. Например, расстояние до центра, аэропорта, ближайшего парка и водоёма. "
   ]
  },
  {
   "cell_type": "markdown",
   "metadata": {},
   "source": [
    "## Изучение данных из файла"
   ]
  },
  {
   "cell_type": "code",
   "execution_count": 1,
   "metadata": {
    "scrolled": true
   },
   "outputs": [],
   "source": [
    "import pandas as pd \n",
    "import matplotlib.pyplot as plt\n",
    "try:\n",
    "    data_estate = pd.read_csv('/datasets/real_estate_data.csv', sep='\\t')\n",
    "except:\n",
    "    data_estate = pd.read_csv('/real_estate_data.csv')\n",
    "\n",
    "import warnings\n",
    "warnings.filterwarnings('ignore')"
   ]
  },
  {
   "cell_type": "code",
   "execution_count": 2,
   "metadata": {},
   "outputs": [
    {
     "data": {
      "text/html": [
       "<style  type=\"text/css\" >\n",
       "    #T_7e20ef2c_3a2c_11ec_8501_02420a391ddarow0_col0 {\n",
       "            background-color:  #3b4cc0;\n",
       "            color:  #f1f1f1;\n",
       "        }    #T_7e20ef2c_3a2c_11ec_8501_02420a391ddarow1_col0 {\n",
       "            background-color:  #3b4cc0;\n",
       "            color:  #f1f1f1;\n",
       "        }    #T_7e20ef2c_3a2c_11ec_8501_02420a391ddarow2_col0 {\n",
       "            background-color:  #3b4cc0;\n",
       "            color:  #f1f1f1;\n",
       "        }    #T_7e20ef2c_3a2c_11ec_8501_02420a391ddarow3_col0 {\n",
       "            background-color:  #3b4cc0;\n",
       "            color:  #f1f1f1;\n",
       "        }    #T_7e20ef2c_3a2c_11ec_8501_02420a391ddarow4_col0 {\n",
       "            background-color:  #3b4cc0;\n",
       "            color:  #f1f1f1;\n",
       "        }    #T_7e20ef2c_3a2c_11ec_8501_02420a391ddarow5_col0 {\n",
       "            background-color:  #ccd9ed;\n",
       "            color:  #000000;\n",
       "        }    #T_7e20ef2c_3a2c_11ec_8501_02420a391ddarow6_col0 {\n",
       "            background-color:  #3c4ec2;\n",
       "            color:  #f1f1f1;\n",
       "        }    #T_7e20ef2c_3a2c_11ec_8501_02420a391ddarow7_col0 {\n",
       "            background-color:  #5673e0;\n",
       "            color:  #000000;\n",
       "        }    #T_7e20ef2c_3a2c_11ec_8501_02420a391ddarow8_col0 {\n",
       "            background-color:  #3b4cc0;\n",
       "            color:  #f1f1f1;\n",
       "        }    #T_7e20ef2c_3a2c_11ec_8501_02420a391ddarow9_col0 {\n",
       "            background-color:  #b40426;\n",
       "            color:  #f1f1f1;\n",
       "        }    #T_7e20ef2c_3a2c_11ec_8501_02420a391ddarow10_col0 {\n",
       "            background-color:  #3b4cc0;\n",
       "            color:  #f1f1f1;\n",
       "        }    #T_7e20ef2c_3a2c_11ec_8501_02420a391ddarow11_col0 {\n",
       "            background-color:  #3b4cc0;\n",
       "            color:  #f1f1f1;\n",
       "        }    #T_7e20ef2c_3a2c_11ec_8501_02420a391ddarow12_col0 {\n",
       "            background-color:  #5b7ae5;\n",
       "            color:  #000000;\n",
       "        }    #T_7e20ef2c_3a2c_11ec_8501_02420a391ddarow13_col0 {\n",
       "            background-color:  #e9d5cb;\n",
       "            color:  #000000;\n",
       "        }    #T_7e20ef2c_3a2c_11ec_8501_02420a391ddarow14_col0 {\n",
       "            background-color:  #3b4cc0;\n",
       "            color:  #f1f1f1;\n",
       "        }    #T_7e20ef2c_3a2c_11ec_8501_02420a391ddarow15_col0 {\n",
       "            background-color:  #92b4fe;\n",
       "            color:  #000000;\n",
       "        }    #T_7e20ef2c_3a2c_11ec_8501_02420a391ddarow16_col0 {\n",
       "            background-color:  #92b4fe;\n",
       "            color:  #000000;\n",
       "        }    #T_7e20ef2c_3a2c_11ec_8501_02420a391ddarow17_col0 {\n",
       "            background-color:  #92b4fe;\n",
       "            color:  #000000;\n",
       "        }    #T_7e20ef2c_3a2c_11ec_8501_02420a391ddarow18_col0 {\n",
       "            background-color:  #f49a7b;\n",
       "            color:  #000000;\n",
       "        }    #T_7e20ef2c_3a2c_11ec_8501_02420a391ddarow19_col0 {\n",
       "            background-color:  #92b4fe;\n",
       "            color:  #000000;\n",
       "        }    #T_7e20ef2c_3a2c_11ec_8501_02420a391ddarow20_col0 {\n",
       "            background-color:  #f7ad90;\n",
       "            color:  #000000;\n",
       "        }    #T_7e20ef2c_3a2c_11ec_8501_02420a391ddarow21_col0 {\n",
       "            background-color:  #6a8bef;\n",
       "            color:  #000000;\n",
       "        }</style><table id=\"T_7e20ef2c_3a2c_11ec_8501_02420a391dda\" ><thead>    <tr>        <th class=\"blank level0\" ></th>        <th class=\"col_heading level0 col0\" >0</th>    </tr></thead><tbody>\n",
       "                <tr>\n",
       "                        <th id=\"T_7e20ef2c_3a2c_11ec_8501_02420a391ddalevel0_row0\" class=\"row_heading level0 row0\" >total_images</th>\n",
       "                        <td id=\"T_7e20ef2c_3a2c_11ec_8501_02420a391ddarow0_col0\" class=\"data row0 col0\" >0</td>\n",
       "            </tr>\n",
       "            <tr>\n",
       "                        <th id=\"T_7e20ef2c_3a2c_11ec_8501_02420a391ddalevel0_row1\" class=\"row_heading level0 row1\" >last_price</th>\n",
       "                        <td id=\"T_7e20ef2c_3a2c_11ec_8501_02420a391ddarow1_col0\" class=\"data row1 col0\" >0</td>\n",
       "            </tr>\n",
       "            <tr>\n",
       "                        <th id=\"T_7e20ef2c_3a2c_11ec_8501_02420a391ddalevel0_row2\" class=\"row_heading level0 row2\" >total_area</th>\n",
       "                        <td id=\"T_7e20ef2c_3a2c_11ec_8501_02420a391ddarow2_col0\" class=\"data row2 col0\" >0</td>\n",
       "            </tr>\n",
       "            <tr>\n",
       "                        <th id=\"T_7e20ef2c_3a2c_11ec_8501_02420a391ddalevel0_row3\" class=\"row_heading level0 row3\" >first_day_exposition</th>\n",
       "                        <td id=\"T_7e20ef2c_3a2c_11ec_8501_02420a391ddarow3_col0\" class=\"data row3 col0\" >0</td>\n",
       "            </tr>\n",
       "            <tr>\n",
       "                        <th id=\"T_7e20ef2c_3a2c_11ec_8501_02420a391ddalevel0_row4\" class=\"row_heading level0 row4\" >rooms</th>\n",
       "                        <td id=\"T_7e20ef2c_3a2c_11ec_8501_02420a391ddarow4_col0\" class=\"data row4 col0\" >0</td>\n",
       "            </tr>\n",
       "            <tr>\n",
       "                        <th id=\"T_7e20ef2c_3a2c_11ec_8501_02420a391ddalevel0_row5\" class=\"row_heading level0 row5\" >ceiling_height</th>\n",
       "                        <td id=\"T_7e20ef2c_3a2c_11ec_8501_02420a391ddarow5_col0\" class=\"data row5 col0\" >38.8</td>\n",
       "            </tr>\n",
       "            <tr>\n",
       "                        <th id=\"T_7e20ef2c_3a2c_11ec_8501_02420a391ddalevel0_row6\" class=\"row_heading level0 row6\" >floors_total</th>\n",
       "                        <td id=\"T_7e20ef2c_3a2c_11ec_8501_02420a391ddarow6_col0\" class=\"data row6 col0\" >0.36</td>\n",
       "            </tr>\n",
       "            <tr>\n",
       "                        <th id=\"T_7e20ef2c_3a2c_11ec_8501_02420a391ddalevel0_row7\" class=\"row_heading level0 row7\" >living_area</th>\n",
       "                        <td id=\"T_7e20ef2c_3a2c_11ec_8501_02420a391ddarow7_col0\" class=\"data row7 col0\" >8.03</td>\n",
       "            </tr>\n",
       "            <tr>\n",
       "                        <th id=\"T_7e20ef2c_3a2c_11ec_8501_02420a391ddalevel0_row8\" class=\"row_heading level0 row8\" >floor</th>\n",
       "                        <td id=\"T_7e20ef2c_3a2c_11ec_8501_02420a391ddarow8_col0\" class=\"data row8 col0\" >0</td>\n",
       "            </tr>\n",
       "            <tr>\n",
       "                        <th id=\"T_7e20ef2c_3a2c_11ec_8501_02420a391ddalevel0_row9\" class=\"row_heading level0 row9\" >is_apartment</th>\n",
       "                        <td id=\"T_7e20ef2c_3a2c_11ec_8501_02420a391ddarow9_col0\" class=\"data row9 col0\" >88.29</td>\n",
       "            </tr>\n",
       "            <tr>\n",
       "                        <th id=\"T_7e20ef2c_3a2c_11ec_8501_02420a391ddalevel0_row10\" class=\"row_heading level0 row10\" >studio</th>\n",
       "                        <td id=\"T_7e20ef2c_3a2c_11ec_8501_02420a391ddarow10_col0\" class=\"data row10 col0\" >0</td>\n",
       "            </tr>\n",
       "            <tr>\n",
       "                        <th id=\"T_7e20ef2c_3a2c_11ec_8501_02420a391ddalevel0_row11\" class=\"row_heading level0 row11\" >open_plan</th>\n",
       "                        <td id=\"T_7e20ef2c_3a2c_11ec_8501_02420a391ddarow11_col0\" class=\"data row11 col0\" >0</td>\n",
       "            </tr>\n",
       "            <tr>\n",
       "                        <th id=\"T_7e20ef2c_3a2c_11ec_8501_02420a391ddalevel0_row12\" class=\"row_heading level0 row12\" >kitchen_area</th>\n",
       "                        <td id=\"T_7e20ef2c_3a2c_11ec_8501_02420a391ddarow12_col0\" class=\"data row12 col0\" >9.61</td>\n",
       "            </tr>\n",
       "            <tr>\n",
       "                        <th id=\"T_7e20ef2c_3a2c_11ec_8501_02420a391ddalevel0_row13\" class=\"row_heading level0 row13\" >balcony</th>\n",
       "                        <td id=\"T_7e20ef2c_3a2c_11ec_8501_02420a391ddarow13_col0\" class=\"data row13 col0\" >48.61</td>\n",
       "            </tr>\n",
       "            <tr>\n",
       "                        <th id=\"T_7e20ef2c_3a2c_11ec_8501_02420a391ddalevel0_row14\" class=\"row_heading level0 row14\" >locality_name</th>\n",
       "                        <td id=\"T_7e20ef2c_3a2c_11ec_8501_02420a391ddarow14_col0\" class=\"data row14 col0\" >0.21</td>\n",
       "            </tr>\n",
       "            <tr>\n",
       "                        <th id=\"T_7e20ef2c_3a2c_11ec_8501_02420a391ddalevel0_row15\" class=\"row_heading level0 row15\" >airports_nearest</th>\n",
       "                        <td id=\"T_7e20ef2c_3a2c_11ec_8501_02420a391ddarow15_col0\" class=\"data row15 col0\" >23.38</td>\n",
       "            </tr>\n",
       "            <tr>\n",
       "                        <th id=\"T_7e20ef2c_3a2c_11ec_8501_02420a391ddalevel0_row16\" class=\"row_heading level0 row16\" >cityCenters_nearest</th>\n",
       "                        <td id=\"T_7e20ef2c_3a2c_11ec_8501_02420a391ddarow16_col0\" class=\"data row16 col0\" >23.29</td>\n",
       "            </tr>\n",
       "            <tr>\n",
       "                        <th id=\"T_7e20ef2c_3a2c_11ec_8501_02420a391ddalevel0_row17\" class=\"row_heading level0 row17\" >parks_around3000</th>\n",
       "                        <td id=\"T_7e20ef2c_3a2c_11ec_8501_02420a391ddarow17_col0\" class=\"data row17 col0\" >23.28</td>\n",
       "            </tr>\n",
       "            <tr>\n",
       "                        <th id=\"T_7e20ef2c_3a2c_11ec_8501_02420a391ddalevel0_row18\" class=\"row_heading level0 row18\" >parks_nearest</th>\n",
       "                        <td id=\"T_7e20ef2c_3a2c_11ec_8501_02420a391ddarow18_col0\" class=\"data row18 col0\" >65.91</td>\n",
       "            </tr>\n",
       "            <tr>\n",
       "                        <th id=\"T_7e20ef2c_3a2c_11ec_8501_02420a391ddalevel0_row19\" class=\"row_heading level0 row19\" >ponds_around3000</th>\n",
       "                        <td id=\"T_7e20ef2c_3a2c_11ec_8501_02420a391ddarow19_col0\" class=\"data row19 col0\" >23.28</td>\n",
       "            </tr>\n",
       "            <tr>\n",
       "                        <th id=\"T_7e20ef2c_3a2c_11ec_8501_02420a391ddalevel0_row20\" class=\"row_heading level0 row20\" >ponds_nearest</th>\n",
       "                        <td id=\"T_7e20ef2c_3a2c_11ec_8501_02420a391ddarow20_col0\" class=\"data row20 col0\" >61.56</td>\n",
       "            </tr>\n",
       "            <tr>\n",
       "                        <th id=\"T_7e20ef2c_3a2c_11ec_8501_02420a391ddalevel0_row21\" class=\"row_heading level0 row21\" >days_exposition</th>\n",
       "                        <td id=\"T_7e20ef2c_3a2c_11ec_8501_02420a391ddarow21_col0\" class=\"data row21 col0\" >13.42</td>\n",
       "            </tr>\n",
       "    </tbody></table>"
      ],
      "text/plain": [
       "<pandas.io.formats.style.Styler at 0x7f3b73127850>"
      ]
     },
     "execution_count": 2,
     "metadata": {},
     "output_type": "execute_result"
    }
   ],
   "source": [
    "pd.DataFrame(data_estate.isna().mean().round(4)*100).style.background_gradient('coolwarm')"
   ]
  },
  {
   "cell_type": "markdown",
   "metadata": {},
   "source": [
    "**Выявил пропущенные значения в столбцах.**"
   ]
  },
  {
   "cell_type": "code",
   "execution_count": 3,
   "metadata": {
    "scrolled": true
   },
   "outputs": [
    {
     "name": "stdout",
     "output_type": "stream",
     "text": [
      "<class 'pandas.core.frame.DataFrame'>\n",
      "RangeIndex: 23699 entries, 0 to 23698\n",
      "Data columns (total 22 columns):\n",
      "total_images            23699 non-null int64\n",
      "last_price              23699 non-null float64\n",
      "total_area              23699 non-null float64\n",
      "first_day_exposition    23699 non-null object\n",
      "rooms                   23699 non-null int64\n",
      "ceiling_height          14504 non-null float64\n",
      "floors_total            23613 non-null float64\n",
      "living_area             21796 non-null float64\n",
      "floor                   23699 non-null int64\n",
      "is_apartment            2775 non-null object\n",
      "studio                  23699 non-null bool\n",
      "open_plan               23699 non-null bool\n",
      "kitchen_area            21421 non-null float64\n",
      "balcony                 12180 non-null float64\n",
      "locality_name           23650 non-null object\n",
      "airports_nearest        18157 non-null float64\n",
      "cityCenters_nearest     18180 non-null float64\n",
      "parks_around3000        18181 non-null float64\n",
      "parks_nearest           8079 non-null float64\n",
      "ponds_around3000        18181 non-null float64\n",
      "ponds_nearest           9110 non-null float64\n",
      "days_exposition         20518 non-null float64\n",
      "dtypes: bool(2), float64(14), int64(3), object(3)\n",
      "memory usage: 3.7+ MB\n"
     ]
    }
   ],
   "source": [
    "data_estate.info()"
   ]
  },
  {
   "cell_type": "markdown",
   "metadata": {},
   "source": [
    "**Еще пропущенные значения очень хорошо видны в информации о таблице, так же я вижу несоответствие типов данных в таблице, эти типы нужно поменять, чтоб проводить дальнейшие исследования, а также заполнить пропуски**"
   ]
  },
  {
   "cell_type": "code",
   "execution_count": 4,
   "metadata": {},
   "outputs": [
    {
     "data": {
      "text/plain": [
       "Index(['total_images', 'last_price', 'total_area', 'first_day_exposition',\n",
       "       'rooms', 'ceiling_height', 'floors_total', 'living_area', 'floor',\n",
       "       'is_apartment', 'studio', 'open_plan', 'kitchen_area', 'balcony',\n",
       "       'locality_name', 'airports_nearest', 'cityCenters_nearest',\n",
       "       'parks_around3000', 'parks_nearest', 'ponds_around3000',\n",
       "       'ponds_nearest', 'days_exposition'],\n",
       "      dtype='object')"
      ]
     },
     "execution_count": 4,
     "metadata": {},
     "output_type": "execute_result"
    }
   ],
   "source": [
    "data_estate.columns"
   ]
  },
  {
   "cell_type": "markdown",
   "metadata": {},
   "source": [
    "**Названия столбцов выглядят нормально. Менять их не вижу смысла.**"
   ]
  },
  {
   "cell_type": "markdown",
   "metadata": {},
   "source": [
    "### Вывод"
   ]
  },
  {
   "cell_type": "markdown",
   "metadata": {},
   "source": [
    "**На начальном этапе были выявлены пропуски и несоответствующие типы данных.\n",
    "Пропуски нужно либо заменить либо убрать, где это потребуется, несоответствующие типы данных заменить.**"
   ]
  },
  {
   "cell_type": "markdown",
   "metadata": {},
   "source": [
    "## Предобработка данных"
   ]
  },
  {
   "cell_type": "markdown",
   "metadata": {},
   "source": [
    "### Обработка пропусков"
   ]
  },
  {
   "cell_type": "code",
   "execution_count": 5,
   "metadata": {
    "scrolled": true
   },
   "outputs": [],
   "source": [
    "data_estate['floors_total'] = data_estate['floors_total']\\\n",
    ".fillna(data_estate.groupby('floor')['floors_total'].transform('median')) \n",
    "# замена пропусков на медианные значения сгруппированные по этажу\n",
    "\n",
    "\n",
    "celling_median = data_estate['ceiling_height'].median() # медиана высоты потолков\n",
    "data_estate['ceiling_height']= data_estate['ceiling_height'].fillna(value=celling_median) \n",
    "# замена пропусков на медианные значения\n",
    "\n",
    "data_estate['balcony'] = data_estate['balcony'].fillna(0) # пропуски в столбце балконов заменил на 0\n",
    "\n",
    "data_estate['kitchen_area'] = data_estate['kitchen_area'] \\\n",
    ".fillna(data_estate.groupby('total_area')['kitchen_area'].transform('median')) \n",
    "# замена пропусков в столбце площади кухонь сгруппированной по общей площади\n",
    "\n",
    "data_estate['living_area'] = data_estate['living_area'] \\\n",
    ".fillna(data_estate.groupby('total_area')['living_area'].transform('median')) \n",
    "# замена пропусков в столбце жилой площади на медианные значения сгруппированной по общей площади"
   ]
  },
  {
   "cell_type": "markdown",
   "metadata": {},
   "source": [
    "**Произвел замены пропусков в столбце 'balcony', 'kitchen_area', 'living_area', 'floors_total', 'celling_height'**\n",
    "\n",
    "**Пропуски 'kithcen_area' и 'living_area' заменял на медианыные значения, сгруппированные по 'total_area', так как у этих столбцов сильная корреляция с общей площадью.**"
   ]
  },
  {
   "cell_type": "code",
   "execution_count": 6,
   "metadata": {},
   "outputs": [],
   "source": [
    "data_estate['is_apartment'] = data_estate['is_apartment'].fillna('False') \n",
    "# пропуски булевых начений заменил на False\n",
    "\n",
    "data_estate['locality_name'] = data_estate['locality_name'].fillna('неизвестно') \n",
    "# пропуски в названии городов заменил на неизвестные"
   ]
  },
  {
   "cell_type": "markdown",
   "metadata": {},
   "source": [
    "**Пропуски в булевом значении апартаментов заменил на False. Пропуски в названии городов заменил на \"неизвестно\".**"
   ]
  },
  {
   "cell_type": "code",
   "execution_count": 7,
   "metadata": {},
   "outputs": [],
   "source": [
    "data_estate['first_day_exposition'] = pd.to_datetime(data_estate['first_day_exposition'], format='%Y-%m-%dT%H:%M:%S') "
   ]
  },
  {
   "cell_type": "markdown",
   "metadata": {},
   "source": [
    "**Изменил формат времени на приемлемый.**"
   ]
  },
  {
   "cell_type": "code",
   "execution_count": 8,
   "metadata": {},
   "outputs": [],
   "source": [
    "data_estate['airports_nearest'] = data_estate['airports_nearest'].fillna(0)\n",
    "\n",
    "centre_median = data_estate['cityCenters_nearest'].median()\n",
    "data_estate['cityCenters_nearest'] = data_estate['cityCenters_nearest'].fillna(value=centre_median)\n",
    "\n",
    "park_median = data_estate['parks_around3000'].median()\n",
    "data_estate['parks_around3000'] = data_estate['parks_around3000'].fillna(value=park_median)\n",
    "\n",
    "data_estate['parks_nearest'] = data_estate['parks_nearest'] \\\n",
    ".fillna(data_estate.groupby('parks_around3000')['parks_nearest'].transform('median'))\n",
    "\n",
    "ponds_median = data_estate['ponds_nearest'].median()\n",
    "data_estate['ponds_nearest'] = data_estate['ponds_nearest'].fillna(value=ponds_median) #\n",
    "\n",
    "data_estate['ponds_around3000'] = data_estate['ponds_around3000'] \\\n",
    ".fillna(data_estate.groupby('ponds_nearest')['ponds_around3000'].transform('median'))"
   ]
  },
  {
   "cell_type": "markdown",
   "metadata": {},
   "source": [
    "**Пропуски расстоянии до аэропорта заменил на 0, это ни как не повлияет на исследование**"
   ]
  },
  {
   "cell_type": "code",
   "execution_count": 9,
   "metadata": {},
   "outputs": [
    {
     "data": {
      "text/html": [
       "<style  type=\"text/css\" >\n",
       "    #T_7e4485a4_3a2c_11ec_8501_02420a391ddarow0_col0 {\n",
       "            background-color:  #3b4cc0;\n",
       "            color:  #f1f1f1;\n",
       "        }    #T_7e4485a4_3a2c_11ec_8501_02420a391ddarow1_col0 {\n",
       "            background-color:  #3b4cc0;\n",
       "            color:  #f1f1f1;\n",
       "        }    #T_7e4485a4_3a2c_11ec_8501_02420a391ddarow2_col0 {\n",
       "            background-color:  #3b4cc0;\n",
       "            color:  #f1f1f1;\n",
       "        }    #T_7e4485a4_3a2c_11ec_8501_02420a391ddarow3_col0 {\n",
       "            background-color:  #3b4cc0;\n",
       "            color:  #f1f1f1;\n",
       "        }    #T_7e4485a4_3a2c_11ec_8501_02420a391ddarow4_col0 {\n",
       "            background-color:  #3b4cc0;\n",
       "            color:  #f1f1f1;\n",
       "        }    #T_7e4485a4_3a2c_11ec_8501_02420a391ddarow5_col0 {\n",
       "            background-color:  #3b4cc0;\n",
       "            color:  #f1f1f1;\n",
       "        }    #T_7e4485a4_3a2c_11ec_8501_02420a391ddarow6_col0 {\n",
       "            background-color:  #3b4cc0;\n",
       "            color:  #f1f1f1;\n",
       "        }    #T_7e4485a4_3a2c_11ec_8501_02420a391ddarow7_col0 {\n",
       "            background-color:  #485fd1;\n",
       "            color:  #f1f1f1;\n",
       "        }    #T_7e4485a4_3a2c_11ec_8501_02420a391ddarow8_col0 {\n",
       "            background-color:  #3b4cc0;\n",
       "            color:  #f1f1f1;\n",
       "        }    #T_7e4485a4_3a2c_11ec_8501_02420a391ddarow9_col0 {\n",
       "            background-color:  #3b4cc0;\n",
       "            color:  #f1f1f1;\n",
       "        }    #T_7e4485a4_3a2c_11ec_8501_02420a391ddarow10_col0 {\n",
       "            background-color:  #3b4cc0;\n",
       "            color:  #f1f1f1;\n",
       "        }    #T_7e4485a4_3a2c_11ec_8501_02420a391ddarow11_col0 {\n",
       "            background-color:  #3b4cc0;\n",
       "            color:  #f1f1f1;\n",
       "        }    #T_7e4485a4_3a2c_11ec_8501_02420a391ddarow12_col0 {\n",
       "            background-color:  #4e68d8;\n",
       "            color:  #000000;\n",
       "        }    #T_7e4485a4_3a2c_11ec_8501_02420a391ddarow13_col0 {\n",
       "            background-color:  #3b4cc0;\n",
       "            color:  #f1f1f1;\n",
       "        }    #T_7e4485a4_3a2c_11ec_8501_02420a391ddarow14_col0 {\n",
       "            background-color:  #3b4cc0;\n",
       "            color:  #f1f1f1;\n",
       "        }    #T_7e4485a4_3a2c_11ec_8501_02420a391ddarow15_col0 {\n",
       "            background-color:  #3b4cc0;\n",
       "            color:  #f1f1f1;\n",
       "        }    #T_7e4485a4_3a2c_11ec_8501_02420a391ddarow16_col0 {\n",
       "            background-color:  #3b4cc0;\n",
       "            color:  #f1f1f1;\n",
       "        }    #T_7e4485a4_3a2c_11ec_8501_02420a391ddarow17_col0 {\n",
       "            background-color:  #3b4cc0;\n",
       "            color:  #f1f1f1;\n",
       "        }    #T_7e4485a4_3a2c_11ec_8501_02420a391ddarow18_col0 {\n",
       "            background-color:  #3b4cc0;\n",
       "            color:  #f1f1f1;\n",
       "        }    #T_7e4485a4_3a2c_11ec_8501_02420a391ddarow19_col0 {\n",
       "            background-color:  #3b4cc0;\n",
       "            color:  #f1f1f1;\n",
       "        }    #T_7e4485a4_3a2c_11ec_8501_02420a391ddarow20_col0 {\n",
       "            background-color:  #3b4cc0;\n",
       "            color:  #f1f1f1;\n",
       "        }    #T_7e4485a4_3a2c_11ec_8501_02420a391ddarow21_col0 {\n",
       "            background-color:  #b40426;\n",
       "            color:  #f1f1f1;\n",
       "        }</style><table id=\"T_7e4485a4_3a2c_11ec_8501_02420a391dda\" ><thead>    <tr>        <th class=\"blank level0\" ></th>        <th class=\"col_heading level0 col0\" >0</th>    </tr></thead><tbody>\n",
       "                <tr>\n",
       "                        <th id=\"T_7e4485a4_3a2c_11ec_8501_02420a391ddalevel0_row0\" class=\"row_heading level0 row0\" >total_images</th>\n",
       "                        <td id=\"T_7e4485a4_3a2c_11ec_8501_02420a391ddarow0_col0\" class=\"data row0 col0\" >0</td>\n",
       "            </tr>\n",
       "            <tr>\n",
       "                        <th id=\"T_7e4485a4_3a2c_11ec_8501_02420a391ddalevel0_row1\" class=\"row_heading level0 row1\" >last_price</th>\n",
       "                        <td id=\"T_7e4485a4_3a2c_11ec_8501_02420a391ddarow1_col0\" class=\"data row1 col0\" >0</td>\n",
       "            </tr>\n",
       "            <tr>\n",
       "                        <th id=\"T_7e4485a4_3a2c_11ec_8501_02420a391ddalevel0_row2\" class=\"row_heading level0 row2\" >total_area</th>\n",
       "                        <td id=\"T_7e4485a4_3a2c_11ec_8501_02420a391ddarow2_col0\" class=\"data row2 col0\" >0</td>\n",
       "            </tr>\n",
       "            <tr>\n",
       "                        <th id=\"T_7e4485a4_3a2c_11ec_8501_02420a391ddalevel0_row3\" class=\"row_heading level0 row3\" >first_day_exposition</th>\n",
       "                        <td id=\"T_7e4485a4_3a2c_11ec_8501_02420a391ddarow3_col0\" class=\"data row3 col0\" >0</td>\n",
       "            </tr>\n",
       "            <tr>\n",
       "                        <th id=\"T_7e4485a4_3a2c_11ec_8501_02420a391ddalevel0_row4\" class=\"row_heading level0 row4\" >rooms</th>\n",
       "                        <td id=\"T_7e4485a4_3a2c_11ec_8501_02420a391ddarow4_col0\" class=\"data row4 col0\" >0</td>\n",
       "            </tr>\n",
       "            <tr>\n",
       "                        <th id=\"T_7e4485a4_3a2c_11ec_8501_02420a391ddalevel0_row5\" class=\"row_heading level0 row5\" >ceiling_height</th>\n",
       "                        <td id=\"T_7e4485a4_3a2c_11ec_8501_02420a391ddarow5_col0\" class=\"data row5 col0\" >0</td>\n",
       "            </tr>\n",
       "            <tr>\n",
       "                        <th id=\"T_7e4485a4_3a2c_11ec_8501_02420a391ddalevel0_row6\" class=\"row_heading level0 row6\" >floors_total</th>\n",
       "                        <td id=\"T_7e4485a4_3a2c_11ec_8501_02420a391ddarow6_col0\" class=\"data row6 col0\" >0</td>\n",
       "            </tr>\n",
       "            <tr>\n",
       "                        <th id=\"T_7e4485a4_3a2c_11ec_8501_02420a391ddalevel0_row7\" class=\"row_heading level0 row7\" >living_area</th>\n",
       "                        <td id=\"T_7e4485a4_3a2c_11ec_8501_02420a391ddarow7_col0\" class=\"data row7 col0\" >0.6</td>\n",
       "            </tr>\n",
       "            <tr>\n",
       "                        <th id=\"T_7e4485a4_3a2c_11ec_8501_02420a391ddalevel0_row8\" class=\"row_heading level0 row8\" >floor</th>\n",
       "                        <td id=\"T_7e4485a4_3a2c_11ec_8501_02420a391ddarow8_col0\" class=\"data row8 col0\" >0</td>\n",
       "            </tr>\n",
       "            <tr>\n",
       "                        <th id=\"T_7e4485a4_3a2c_11ec_8501_02420a391ddalevel0_row9\" class=\"row_heading level0 row9\" >is_apartment</th>\n",
       "                        <td id=\"T_7e4485a4_3a2c_11ec_8501_02420a391ddarow9_col0\" class=\"data row9 col0\" >0</td>\n",
       "            </tr>\n",
       "            <tr>\n",
       "                        <th id=\"T_7e4485a4_3a2c_11ec_8501_02420a391ddalevel0_row10\" class=\"row_heading level0 row10\" >studio</th>\n",
       "                        <td id=\"T_7e4485a4_3a2c_11ec_8501_02420a391ddarow10_col0\" class=\"data row10 col0\" >0</td>\n",
       "            </tr>\n",
       "            <tr>\n",
       "                        <th id=\"T_7e4485a4_3a2c_11ec_8501_02420a391ddalevel0_row11\" class=\"row_heading level0 row11\" >open_plan</th>\n",
       "                        <td id=\"T_7e4485a4_3a2c_11ec_8501_02420a391ddarow11_col0\" class=\"data row11 col0\" >0</td>\n",
       "            </tr>\n",
       "            <tr>\n",
       "                        <th id=\"T_7e4485a4_3a2c_11ec_8501_02420a391ddalevel0_row12\" class=\"row_heading level0 row12\" >kitchen_area</th>\n",
       "                        <td id=\"T_7e4485a4_3a2c_11ec_8501_02420a391ddarow12_col0\" class=\"data row12 col0\" >0.87</td>\n",
       "            </tr>\n",
       "            <tr>\n",
       "                        <th id=\"T_7e4485a4_3a2c_11ec_8501_02420a391ddalevel0_row13\" class=\"row_heading level0 row13\" >balcony</th>\n",
       "                        <td id=\"T_7e4485a4_3a2c_11ec_8501_02420a391ddarow13_col0\" class=\"data row13 col0\" >0</td>\n",
       "            </tr>\n",
       "            <tr>\n",
       "                        <th id=\"T_7e4485a4_3a2c_11ec_8501_02420a391ddalevel0_row14\" class=\"row_heading level0 row14\" >locality_name</th>\n",
       "                        <td id=\"T_7e4485a4_3a2c_11ec_8501_02420a391ddarow14_col0\" class=\"data row14 col0\" >0</td>\n",
       "            </tr>\n",
       "            <tr>\n",
       "                        <th id=\"T_7e4485a4_3a2c_11ec_8501_02420a391ddalevel0_row15\" class=\"row_heading level0 row15\" >airports_nearest</th>\n",
       "                        <td id=\"T_7e4485a4_3a2c_11ec_8501_02420a391ddarow15_col0\" class=\"data row15 col0\" >0</td>\n",
       "            </tr>\n",
       "            <tr>\n",
       "                        <th id=\"T_7e4485a4_3a2c_11ec_8501_02420a391ddalevel0_row16\" class=\"row_heading level0 row16\" >cityCenters_nearest</th>\n",
       "                        <td id=\"T_7e4485a4_3a2c_11ec_8501_02420a391ddarow16_col0\" class=\"data row16 col0\" >0</td>\n",
       "            </tr>\n",
       "            <tr>\n",
       "                        <th id=\"T_7e4485a4_3a2c_11ec_8501_02420a391ddalevel0_row17\" class=\"row_heading level0 row17\" >parks_around3000</th>\n",
       "                        <td id=\"T_7e4485a4_3a2c_11ec_8501_02420a391ddarow17_col0\" class=\"data row17 col0\" >0</td>\n",
       "            </tr>\n",
       "            <tr>\n",
       "                        <th id=\"T_7e4485a4_3a2c_11ec_8501_02420a391ddalevel0_row18\" class=\"row_heading level0 row18\" >parks_nearest</th>\n",
       "                        <td id=\"T_7e4485a4_3a2c_11ec_8501_02420a391ddarow18_col0\" class=\"data row18 col0\" >0</td>\n",
       "            </tr>\n",
       "            <tr>\n",
       "                        <th id=\"T_7e4485a4_3a2c_11ec_8501_02420a391ddalevel0_row19\" class=\"row_heading level0 row19\" >ponds_around3000</th>\n",
       "                        <td id=\"T_7e4485a4_3a2c_11ec_8501_02420a391ddarow19_col0\" class=\"data row19 col0\" >0</td>\n",
       "            </tr>\n",
       "            <tr>\n",
       "                        <th id=\"T_7e4485a4_3a2c_11ec_8501_02420a391ddalevel0_row20\" class=\"row_heading level0 row20\" >ponds_nearest</th>\n",
       "                        <td id=\"T_7e4485a4_3a2c_11ec_8501_02420a391ddarow20_col0\" class=\"data row20 col0\" >0</td>\n",
       "            </tr>\n",
       "            <tr>\n",
       "                        <th id=\"T_7e4485a4_3a2c_11ec_8501_02420a391ddalevel0_row21\" class=\"row_heading level0 row21\" >days_exposition</th>\n",
       "                        <td id=\"T_7e4485a4_3a2c_11ec_8501_02420a391ddarow21_col0\" class=\"data row21 col0\" >13.42</td>\n",
       "            </tr>\n",
       "    </tbody></table>"
      ],
      "text/plain": [
       "<pandas.io.formats.style.Styler at 0x7f3b72030850>"
      ]
     },
     "execution_count": 9,
     "metadata": {},
     "output_type": "execute_result"
    }
   ],
   "source": [
    "pd.DataFrame(data_estate.isna().mean().round(4)*100).style.background_gradient('coolwarm')"
   ]
  },
  {
   "cell_type": "markdown",
   "metadata": {},
   "source": [
    "**Остальные незначительные пропуски в столбце \"living_area\", \"kitchen_area\" заменим на медианные значения.**"
   ]
  },
  {
   "cell_type": "code",
   "execution_count": 10,
   "metadata": {
    "scrolled": true
   },
   "outputs": [],
   "source": [
    "other_liv_area = (data_estate['total_area'] / data_estate['living_area']).median()\n",
    "data_estate['living_area'] = data_estate['living_area'].fillna(value=other_liv_area)"
   ]
  },
  {
   "cell_type": "code",
   "execution_count": 11,
   "metadata": {
    "scrolled": false
   },
   "outputs": [],
   "source": [
    "other_kit_area = data_estate['kitchen_area'].median()\n",
    "data_estate['kitchen_area'] = data_estate['kitchen_area'].fillna(value=other_kit_area)"
   ]
  },
  {
   "cell_type": "code",
   "execution_count": 12,
   "metadata": {},
   "outputs": [
    {
     "data": {
      "text/html": [
       "<style  type=\"text/css\" >\n",
       "    #T_7e54f254_3a2c_11ec_8501_02420a391ddarow0_col0 {\n",
       "            background-color:  #3b4cc0;\n",
       "            color:  #f1f1f1;\n",
       "        }    #T_7e54f254_3a2c_11ec_8501_02420a391ddarow1_col0 {\n",
       "            background-color:  #3b4cc0;\n",
       "            color:  #f1f1f1;\n",
       "        }    #T_7e54f254_3a2c_11ec_8501_02420a391ddarow2_col0 {\n",
       "            background-color:  #3b4cc0;\n",
       "            color:  #f1f1f1;\n",
       "        }    #T_7e54f254_3a2c_11ec_8501_02420a391ddarow3_col0 {\n",
       "            background-color:  #3b4cc0;\n",
       "            color:  #f1f1f1;\n",
       "        }    #T_7e54f254_3a2c_11ec_8501_02420a391ddarow4_col0 {\n",
       "            background-color:  #3b4cc0;\n",
       "            color:  #f1f1f1;\n",
       "        }    #T_7e54f254_3a2c_11ec_8501_02420a391ddarow5_col0 {\n",
       "            background-color:  #3b4cc0;\n",
       "            color:  #f1f1f1;\n",
       "        }    #T_7e54f254_3a2c_11ec_8501_02420a391ddarow6_col0 {\n",
       "            background-color:  #3b4cc0;\n",
       "            color:  #f1f1f1;\n",
       "        }    #T_7e54f254_3a2c_11ec_8501_02420a391ddarow7_col0 {\n",
       "            background-color:  #3b4cc0;\n",
       "            color:  #f1f1f1;\n",
       "        }    #T_7e54f254_3a2c_11ec_8501_02420a391ddarow8_col0 {\n",
       "            background-color:  #3b4cc0;\n",
       "            color:  #f1f1f1;\n",
       "        }    #T_7e54f254_3a2c_11ec_8501_02420a391ddarow9_col0 {\n",
       "            background-color:  #3b4cc0;\n",
       "            color:  #f1f1f1;\n",
       "        }    #T_7e54f254_3a2c_11ec_8501_02420a391ddarow10_col0 {\n",
       "            background-color:  #3b4cc0;\n",
       "            color:  #f1f1f1;\n",
       "        }    #T_7e54f254_3a2c_11ec_8501_02420a391ddarow11_col0 {\n",
       "            background-color:  #3b4cc0;\n",
       "            color:  #f1f1f1;\n",
       "        }    #T_7e54f254_3a2c_11ec_8501_02420a391ddarow12_col0 {\n",
       "            background-color:  #3b4cc0;\n",
       "            color:  #f1f1f1;\n",
       "        }    #T_7e54f254_3a2c_11ec_8501_02420a391ddarow13_col0 {\n",
       "            background-color:  #3b4cc0;\n",
       "            color:  #f1f1f1;\n",
       "        }    #T_7e54f254_3a2c_11ec_8501_02420a391ddarow14_col0 {\n",
       "            background-color:  #3b4cc0;\n",
       "            color:  #f1f1f1;\n",
       "        }    #T_7e54f254_3a2c_11ec_8501_02420a391ddarow15_col0 {\n",
       "            background-color:  #3b4cc0;\n",
       "            color:  #f1f1f1;\n",
       "        }    #T_7e54f254_3a2c_11ec_8501_02420a391ddarow16_col0 {\n",
       "            background-color:  #3b4cc0;\n",
       "            color:  #f1f1f1;\n",
       "        }    #T_7e54f254_3a2c_11ec_8501_02420a391ddarow17_col0 {\n",
       "            background-color:  #3b4cc0;\n",
       "            color:  #f1f1f1;\n",
       "        }    #T_7e54f254_3a2c_11ec_8501_02420a391ddarow18_col0 {\n",
       "            background-color:  #3b4cc0;\n",
       "            color:  #f1f1f1;\n",
       "        }    #T_7e54f254_3a2c_11ec_8501_02420a391ddarow19_col0 {\n",
       "            background-color:  #3b4cc0;\n",
       "            color:  #f1f1f1;\n",
       "        }    #T_7e54f254_3a2c_11ec_8501_02420a391ddarow20_col0 {\n",
       "            background-color:  #3b4cc0;\n",
       "            color:  #f1f1f1;\n",
       "        }    #T_7e54f254_3a2c_11ec_8501_02420a391ddarow21_col0 {\n",
       "            background-color:  #b40426;\n",
       "            color:  #f1f1f1;\n",
       "        }</style><table id=\"T_7e54f254_3a2c_11ec_8501_02420a391dda\" ><thead>    <tr>        <th class=\"blank level0\" ></th>        <th class=\"col_heading level0 col0\" >0</th>    </tr></thead><tbody>\n",
       "                <tr>\n",
       "                        <th id=\"T_7e54f254_3a2c_11ec_8501_02420a391ddalevel0_row0\" class=\"row_heading level0 row0\" >total_images</th>\n",
       "                        <td id=\"T_7e54f254_3a2c_11ec_8501_02420a391ddarow0_col0\" class=\"data row0 col0\" >0</td>\n",
       "            </tr>\n",
       "            <tr>\n",
       "                        <th id=\"T_7e54f254_3a2c_11ec_8501_02420a391ddalevel0_row1\" class=\"row_heading level0 row1\" >last_price</th>\n",
       "                        <td id=\"T_7e54f254_3a2c_11ec_8501_02420a391ddarow1_col0\" class=\"data row1 col0\" >0</td>\n",
       "            </tr>\n",
       "            <tr>\n",
       "                        <th id=\"T_7e54f254_3a2c_11ec_8501_02420a391ddalevel0_row2\" class=\"row_heading level0 row2\" >total_area</th>\n",
       "                        <td id=\"T_7e54f254_3a2c_11ec_8501_02420a391ddarow2_col0\" class=\"data row2 col0\" >0</td>\n",
       "            </tr>\n",
       "            <tr>\n",
       "                        <th id=\"T_7e54f254_3a2c_11ec_8501_02420a391ddalevel0_row3\" class=\"row_heading level0 row3\" >first_day_exposition</th>\n",
       "                        <td id=\"T_7e54f254_3a2c_11ec_8501_02420a391ddarow3_col0\" class=\"data row3 col0\" >0</td>\n",
       "            </tr>\n",
       "            <tr>\n",
       "                        <th id=\"T_7e54f254_3a2c_11ec_8501_02420a391ddalevel0_row4\" class=\"row_heading level0 row4\" >rooms</th>\n",
       "                        <td id=\"T_7e54f254_3a2c_11ec_8501_02420a391ddarow4_col0\" class=\"data row4 col0\" >0</td>\n",
       "            </tr>\n",
       "            <tr>\n",
       "                        <th id=\"T_7e54f254_3a2c_11ec_8501_02420a391ddalevel0_row5\" class=\"row_heading level0 row5\" >ceiling_height</th>\n",
       "                        <td id=\"T_7e54f254_3a2c_11ec_8501_02420a391ddarow5_col0\" class=\"data row5 col0\" >0</td>\n",
       "            </tr>\n",
       "            <tr>\n",
       "                        <th id=\"T_7e54f254_3a2c_11ec_8501_02420a391ddalevel0_row6\" class=\"row_heading level0 row6\" >floors_total</th>\n",
       "                        <td id=\"T_7e54f254_3a2c_11ec_8501_02420a391ddarow6_col0\" class=\"data row6 col0\" >0</td>\n",
       "            </tr>\n",
       "            <tr>\n",
       "                        <th id=\"T_7e54f254_3a2c_11ec_8501_02420a391ddalevel0_row7\" class=\"row_heading level0 row7\" >living_area</th>\n",
       "                        <td id=\"T_7e54f254_3a2c_11ec_8501_02420a391ddarow7_col0\" class=\"data row7 col0\" >0</td>\n",
       "            </tr>\n",
       "            <tr>\n",
       "                        <th id=\"T_7e54f254_3a2c_11ec_8501_02420a391ddalevel0_row8\" class=\"row_heading level0 row8\" >floor</th>\n",
       "                        <td id=\"T_7e54f254_3a2c_11ec_8501_02420a391ddarow8_col0\" class=\"data row8 col0\" >0</td>\n",
       "            </tr>\n",
       "            <tr>\n",
       "                        <th id=\"T_7e54f254_3a2c_11ec_8501_02420a391ddalevel0_row9\" class=\"row_heading level0 row9\" >is_apartment</th>\n",
       "                        <td id=\"T_7e54f254_3a2c_11ec_8501_02420a391ddarow9_col0\" class=\"data row9 col0\" >0</td>\n",
       "            </tr>\n",
       "            <tr>\n",
       "                        <th id=\"T_7e54f254_3a2c_11ec_8501_02420a391ddalevel0_row10\" class=\"row_heading level0 row10\" >studio</th>\n",
       "                        <td id=\"T_7e54f254_3a2c_11ec_8501_02420a391ddarow10_col0\" class=\"data row10 col0\" >0</td>\n",
       "            </tr>\n",
       "            <tr>\n",
       "                        <th id=\"T_7e54f254_3a2c_11ec_8501_02420a391ddalevel0_row11\" class=\"row_heading level0 row11\" >open_plan</th>\n",
       "                        <td id=\"T_7e54f254_3a2c_11ec_8501_02420a391ddarow11_col0\" class=\"data row11 col0\" >0</td>\n",
       "            </tr>\n",
       "            <tr>\n",
       "                        <th id=\"T_7e54f254_3a2c_11ec_8501_02420a391ddalevel0_row12\" class=\"row_heading level0 row12\" >kitchen_area</th>\n",
       "                        <td id=\"T_7e54f254_3a2c_11ec_8501_02420a391ddarow12_col0\" class=\"data row12 col0\" >0</td>\n",
       "            </tr>\n",
       "            <tr>\n",
       "                        <th id=\"T_7e54f254_3a2c_11ec_8501_02420a391ddalevel0_row13\" class=\"row_heading level0 row13\" >balcony</th>\n",
       "                        <td id=\"T_7e54f254_3a2c_11ec_8501_02420a391ddarow13_col0\" class=\"data row13 col0\" >0</td>\n",
       "            </tr>\n",
       "            <tr>\n",
       "                        <th id=\"T_7e54f254_3a2c_11ec_8501_02420a391ddalevel0_row14\" class=\"row_heading level0 row14\" >locality_name</th>\n",
       "                        <td id=\"T_7e54f254_3a2c_11ec_8501_02420a391ddarow14_col0\" class=\"data row14 col0\" >0</td>\n",
       "            </tr>\n",
       "            <tr>\n",
       "                        <th id=\"T_7e54f254_3a2c_11ec_8501_02420a391ddalevel0_row15\" class=\"row_heading level0 row15\" >airports_nearest</th>\n",
       "                        <td id=\"T_7e54f254_3a2c_11ec_8501_02420a391ddarow15_col0\" class=\"data row15 col0\" >0</td>\n",
       "            </tr>\n",
       "            <tr>\n",
       "                        <th id=\"T_7e54f254_3a2c_11ec_8501_02420a391ddalevel0_row16\" class=\"row_heading level0 row16\" >cityCenters_nearest</th>\n",
       "                        <td id=\"T_7e54f254_3a2c_11ec_8501_02420a391ddarow16_col0\" class=\"data row16 col0\" >0</td>\n",
       "            </tr>\n",
       "            <tr>\n",
       "                        <th id=\"T_7e54f254_3a2c_11ec_8501_02420a391ddalevel0_row17\" class=\"row_heading level0 row17\" >parks_around3000</th>\n",
       "                        <td id=\"T_7e54f254_3a2c_11ec_8501_02420a391ddarow17_col0\" class=\"data row17 col0\" >0</td>\n",
       "            </tr>\n",
       "            <tr>\n",
       "                        <th id=\"T_7e54f254_3a2c_11ec_8501_02420a391ddalevel0_row18\" class=\"row_heading level0 row18\" >parks_nearest</th>\n",
       "                        <td id=\"T_7e54f254_3a2c_11ec_8501_02420a391ddarow18_col0\" class=\"data row18 col0\" >0</td>\n",
       "            </tr>\n",
       "            <tr>\n",
       "                        <th id=\"T_7e54f254_3a2c_11ec_8501_02420a391ddalevel0_row19\" class=\"row_heading level0 row19\" >ponds_around3000</th>\n",
       "                        <td id=\"T_7e54f254_3a2c_11ec_8501_02420a391ddarow19_col0\" class=\"data row19 col0\" >0</td>\n",
       "            </tr>\n",
       "            <tr>\n",
       "                        <th id=\"T_7e54f254_3a2c_11ec_8501_02420a391ddalevel0_row20\" class=\"row_heading level0 row20\" >ponds_nearest</th>\n",
       "                        <td id=\"T_7e54f254_3a2c_11ec_8501_02420a391ddarow20_col0\" class=\"data row20 col0\" >0</td>\n",
       "            </tr>\n",
       "            <tr>\n",
       "                        <th id=\"T_7e54f254_3a2c_11ec_8501_02420a391ddalevel0_row21\" class=\"row_heading level0 row21\" >days_exposition</th>\n",
       "                        <td id=\"T_7e54f254_3a2c_11ec_8501_02420a391ddarow21_col0\" class=\"data row21 col0\" >13.42</td>\n",
       "            </tr>\n",
       "    </tbody></table>"
      ],
      "text/plain": [
       "<pandas.io.formats.style.Styler at 0x7f3b72030790>"
      ]
     },
     "execution_count": 12,
     "metadata": {},
     "output_type": "execute_result"
    }
   ],
   "source": [
    "pd.DataFrame(data_estate.isna().mean().round(4)*100).style.background_gradient('coolwarm')"
   ]
  },
  {
   "cell_type": "markdown",
   "metadata": {},
   "source": [
    "**Пропуски в \"days_exposition\" убирать не стал так как, скорее всего объявление еще не снято с продажи.**"
   ]
  },
  {
   "cell_type": "markdown",
   "metadata": {},
   "source": [
    "### Проверка столбцов на правильность"
   ]
  },
  {
   "cell_type": "code",
   "execution_count": 13,
   "metadata": {},
   "outputs": [
    {
     "data": {
      "text/html": [
       "<div>\n",
       "<style scoped>\n",
       "    .dataframe tbody tr th:only-of-type {\n",
       "        vertical-align: middle;\n",
       "    }\n",
       "\n",
       "    .dataframe tbody tr th {\n",
       "        vertical-align: top;\n",
       "    }\n",
       "\n",
       "    .dataframe thead th {\n",
       "        text-align: right;\n",
       "    }\n",
       "</style>\n",
       "<table border=\"1\" class=\"dataframe\">\n",
       "  <thead>\n",
       "    <tr style=\"text-align: right;\">\n",
       "      <th></th>\n",
       "      <th>total_images</th>\n",
       "      <th>last_price</th>\n",
       "      <th>total_area</th>\n",
       "      <th>first_day_exposition</th>\n",
       "      <th>rooms</th>\n",
       "      <th>ceiling_height</th>\n",
       "      <th>floors_total</th>\n",
       "      <th>living_area</th>\n",
       "      <th>floor</th>\n",
       "      <th>is_apartment</th>\n",
       "      <th>...</th>\n",
       "      <th>kitchen_area</th>\n",
       "      <th>balcony</th>\n",
       "      <th>locality_name</th>\n",
       "      <th>airports_nearest</th>\n",
       "      <th>cityCenters_nearest</th>\n",
       "      <th>parks_around3000</th>\n",
       "      <th>parks_nearest</th>\n",
       "      <th>ponds_around3000</th>\n",
       "      <th>ponds_nearest</th>\n",
       "      <th>days_exposition</th>\n",
       "    </tr>\n",
       "  </thead>\n",
       "  <tbody>\n",
       "  </tbody>\n",
       "</table>\n",
       "<p>0 rows × 22 columns</p>\n",
       "</div>"
      ],
      "text/plain": [
       "Empty DataFrame\n",
       "Columns: [total_images, last_price, total_area, first_day_exposition, rooms, ceiling_height, floors_total, living_area, floor, is_apartment, studio, open_plan, kitchen_area, balcony, locality_name, airports_nearest, cityCenters_nearest, parks_around3000, parks_nearest, ponds_around3000, ponds_nearest, days_exposition]\n",
       "Index: []\n",
       "\n",
       "[0 rows x 22 columns]"
      ]
     },
     "execution_count": 13,
     "metadata": {},
     "output_type": "execute_result"
    }
   ],
   "source": [
    "data_estate.query('total_area < kitchen_area') \n",
    "# проверка на правильность заполнения пропусков, общая площадь не должна быть меньше кухни"
   ]
  },
  {
   "cell_type": "code",
   "execution_count": 14,
   "metadata": {},
   "outputs": [
    {
     "data": {
      "text/html": [
       "<div>\n",
       "<style scoped>\n",
       "    .dataframe tbody tr th:only-of-type {\n",
       "        vertical-align: middle;\n",
       "    }\n",
       "\n",
       "    .dataframe tbody tr th {\n",
       "        vertical-align: top;\n",
       "    }\n",
       "\n",
       "    .dataframe thead th {\n",
       "        text-align: right;\n",
       "    }\n",
       "</style>\n",
       "<table border=\"1\" class=\"dataframe\">\n",
       "  <thead>\n",
       "    <tr style=\"text-align: right;\">\n",
       "      <th></th>\n",
       "      <th>total_images</th>\n",
       "      <th>last_price</th>\n",
       "      <th>total_area</th>\n",
       "      <th>first_day_exposition</th>\n",
       "      <th>rooms</th>\n",
       "      <th>ceiling_height</th>\n",
       "      <th>floors_total</th>\n",
       "      <th>living_area</th>\n",
       "      <th>floor</th>\n",
       "      <th>is_apartment</th>\n",
       "      <th>...</th>\n",
       "      <th>kitchen_area</th>\n",
       "      <th>balcony</th>\n",
       "      <th>locality_name</th>\n",
       "      <th>airports_nearest</th>\n",
       "      <th>cityCenters_nearest</th>\n",
       "      <th>parks_around3000</th>\n",
       "      <th>parks_nearest</th>\n",
       "      <th>ponds_around3000</th>\n",
       "      <th>ponds_nearest</th>\n",
       "      <th>days_exposition</th>\n",
       "    </tr>\n",
       "  </thead>\n",
       "  <tbody>\n",
       "  </tbody>\n",
       "</table>\n",
       "<p>0 rows × 22 columns</p>\n",
       "</div>"
      ],
      "text/plain": [
       "Empty DataFrame\n",
       "Columns: [total_images, last_price, total_area, first_day_exposition, rooms, ceiling_height, floors_total, living_area, floor, is_apartment, studio, open_plan, kitchen_area, balcony, locality_name, airports_nearest, cityCenters_nearest, parks_around3000, parks_nearest, ponds_around3000, ponds_nearest, days_exposition]\n",
       "Index: []\n",
       "\n",
       "[0 rows x 22 columns]"
      ]
     },
     "execution_count": 14,
     "metadata": {},
     "output_type": "execute_result"
    }
   ],
   "source": [
    "data_estate.query('living_area > total_area') \n",
    "# проверка на правильность заполнения пропусков общая площадь не должна быть менбше чем жилая "
   ]
  },
  {
   "cell_type": "code",
   "execution_count": 15,
   "metadata": {},
   "outputs": [
    {
     "data": {
      "text/html": [
       "<div>\n",
       "<style scoped>\n",
       "    .dataframe tbody tr th:only-of-type {\n",
       "        vertical-align: middle;\n",
       "    }\n",
       "\n",
       "    .dataframe tbody tr th {\n",
       "        vertical-align: top;\n",
       "    }\n",
       "\n",
       "    .dataframe thead th {\n",
       "        text-align: right;\n",
       "    }\n",
       "</style>\n",
       "<table border=\"1\" class=\"dataframe\">\n",
       "  <thead>\n",
       "    <tr style=\"text-align: right;\">\n",
       "      <th></th>\n",
       "      <th>total_images</th>\n",
       "      <th>last_price</th>\n",
       "      <th>total_area</th>\n",
       "      <th>first_day_exposition</th>\n",
       "      <th>rooms</th>\n",
       "      <th>ceiling_height</th>\n",
       "      <th>floors_total</th>\n",
       "      <th>living_area</th>\n",
       "      <th>floor</th>\n",
       "      <th>is_apartment</th>\n",
       "      <th>...</th>\n",
       "      <th>kitchen_area</th>\n",
       "      <th>balcony</th>\n",
       "      <th>locality_name</th>\n",
       "      <th>airports_nearest</th>\n",
       "      <th>cityCenters_nearest</th>\n",
       "      <th>parks_around3000</th>\n",
       "      <th>parks_nearest</th>\n",
       "      <th>ponds_around3000</th>\n",
       "      <th>ponds_nearest</th>\n",
       "      <th>days_exposition</th>\n",
       "    </tr>\n",
       "  </thead>\n",
       "  <tbody>\n",
       "  </tbody>\n",
       "</table>\n",
       "<p>0 rows × 22 columns</p>\n",
       "</div>"
      ],
      "text/plain": [
       "Empty DataFrame\n",
       "Columns: [total_images, last_price, total_area, first_day_exposition, rooms, ceiling_height, floors_total, living_area, floor, is_apartment, studio, open_plan, kitchen_area, balcony, locality_name, airports_nearest, cityCenters_nearest, parks_around3000, parks_nearest, ponds_around3000, ponds_nearest, days_exposition]\n",
       "Index: []\n",
       "\n",
       "[0 rows x 22 columns]"
      ]
     },
     "execution_count": 15,
     "metadata": {},
     "output_type": "execute_result"
    }
   ],
   "source": [
    "data_estate.query('floors_total < floor')\n",
    "# проверка есть ли в таблице значения этажей больше чем этажей в доме."
   ]
  },
  {
   "cell_type": "markdown",
   "metadata": {},
   "source": [
    "### Замена типов данных"
   ]
  },
  {
   "cell_type": "code",
   "execution_count": 16,
   "metadata": {},
   "outputs": [],
   "source": [
    "data_estate['floors_total'] = data_estate['floors_total'].astype('int')\n",
    "\n",
    "data_estate['balcony'] = data_estate['balcony'].astype('int')\n",
    "\n",
    "data_estate['last_price'] = data_estate['last_price'].astype('int')\n",
    "\n",
    "data_estate['is_apartment'] = data_estate['is_apartment'].astype('bool')\n",
    "\n",
    "data_estate['airports_nearest'] = data_estate['airports_nearest'].astype('int')\n",
    "\n",
    "data_estate['cityCenters_nearest'] = data_estate['cityCenters_nearest'].astype('int')\n",
    "\n",
    "data_estate['parks_around3000'] = data_estate['parks_around3000'].astype('int')\n",
    "\n",
    "data_estate['parks_nearest'] = data_estate['parks_nearest'].astype('int')\n",
    "\n",
    "data_estate['ponds_around3000'] = data_estate['ponds_around3000'].astype('int')"
   ]
  },
  {
   "cell_type": "code",
   "execution_count": 17,
   "metadata": {},
   "outputs": [
    {
     "data": {
      "text/html": [
       "<div>\n",
       "<style scoped>\n",
       "    .dataframe tbody tr th:only-of-type {\n",
       "        vertical-align: middle;\n",
       "    }\n",
       "\n",
       "    .dataframe tbody tr th {\n",
       "        vertical-align: top;\n",
       "    }\n",
       "\n",
       "    .dataframe thead th {\n",
       "        text-align: right;\n",
       "    }\n",
       "</style>\n",
       "<table border=\"1\" class=\"dataframe\">\n",
       "  <thead>\n",
       "    <tr style=\"text-align: right;\">\n",
       "      <th></th>\n",
       "      <th>total_images</th>\n",
       "      <th>last_price</th>\n",
       "      <th>total_area</th>\n",
       "      <th>first_day_exposition</th>\n",
       "      <th>rooms</th>\n",
       "      <th>ceiling_height</th>\n",
       "      <th>floors_total</th>\n",
       "      <th>living_area</th>\n",
       "      <th>floor</th>\n",
       "      <th>is_apartment</th>\n",
       "      <th>...</th>\n",
       "      <th>kitchen_area</th>\n",
       "      <th>balcony</th>\n",
       "      <th>locality_name</th>\n",
       "      <th>airports_nearest</th>\n",
       "      <th>cityCenters_nearest</th>\n",
       "      <th>parks_around3000</th>\n",
       "      <th>parks_nearest</th>\n",
       "      <th>ponds_around3000</th>\n",
       "      <th>ponds_nearest</th>\n",
       "      <th>days_exposition</th>\n",
       "    </tr>\n",
       "  </thead>\n",
       "  <tbody>\n",
       "    <tr>\n",
       "      <td>0</td>\n",
       "      <td>20</td>\n",
       "      <td>13000000</td>\n",
       "      <td>108.0</td>\n",
       "      <td>2019-03-07</td>\n",
       "      <td>3</td>\n",
       "      <td>2.70</td>\n",
       "      <td>16</td>\n",
       "      <td>51.0</td>\n",
       "      <td>8</td>\n",
       "      <td>True</td>\n",
       "      <td>...</td>\n",
       "      <td>25.0</td>\n",
       "      <td>0</td>\n",
       "      <td>Санкт-Петербург</td>\n",
       "      <td>18863</td>\n",
       "      <td>16028</td>\n",
       "      <td>1</td>\n",
       "      <td>482</td>\n",
       "      <td>2</td>\n",
       "      <td>755.0</td>\n",
       "      <td>NaN</td>\n",
       "    </tr>\n",
       "    <tr>\n",
       "      <td>1</td>\n",
       "      <td>7</td>\n",
       "      <td>3350000</td>\n",
       "      <td>40.4</td>\n",
       "      <td>2018-12-04</td>\n",
       "      <td>1</td>\n",
       "      <td>2.65</td>\n",
       "      <td>11</td>\n",
       "      <td>18.6</td>\n",
       "      <td>1</td>\n",
       "      <td>True</td>\n",
       "      <td>...</td>\n",
       "      <td>11.0</td>\n",
       "      <td>2</td>\n",
       "      <td>посёлок Шушары</td>\n",
       "      <td>12817</td>\n",
       "      <td>18603</td>\n",
       "      <td>0</td>\n",
       "      <td>3127</td>\n",
       "      <td>0</td>\n",
       "      <td>502.0</td>\n",
       "      <td>81.0</td>\n",
       "    </tr>\n",
       "    <tr>\n",
       "      <td>2</td>\n",
       "      <td>10</td>\n",
       "      <td>5196000</td>\n",
       "      <td>56.0</td>\n",
       "      <td>2015-08-20</td>\n",
       "      <td>2</td>\n",
       "      <td>2.65</td>\n",
       "      <td>5</td>\n",
       "      <td>34.3</td>\n",
       "      <td>4</td>\n",
       "      <td>True</td>\n",
       "      <td>...</td>\n",
       "      <td>8.3</td>\n",
       "      <td>0</td>\n",
       "      <td>Санкт-Петербург</td>\n",
       "      <td>21741</td>\n",
       "      <td>13933</td>\n",
       "      <td>1</td>\n",
       "      <td>90</td>\n",
       "      <td>2</td>\n",
       "      <td>574.0</td>\n",
       "      <td>558.0</td>\n",
       "    </tr>\n",
       "    <tr>\n",
       "      <td>3</td>\n",
       "      <td>0</td>\n",
       "      <td>64900000</td>\n",
       "      <td>159.0</td>\n",
       "      <td>2015-07-24</td>\n",
       "      <td>3</td>\n",
       "      <td>2.65</td>\n",
       "      <td>14</td>\n",
       "      <td>95.0</td>\n",
       "      <td>9</td>\n",
       "      <td>True</td>\n",
       "      <td>...</td>\n",
       "      <td>15.0</td>\n",
       "      <td>0</td>\n",
       "      <td>Санкт-Петербург</td>\n",
       "      <td>28098</td>\n",
       "      <td>6800</td>\n",
       "      <td>2</td>\n",
       "      <td>84</td>\n",
       "      <td>3</td>\n",
       "      <td>234.0</td>\n",
       "      <td>424.0</td>\n",
       "    </tr>\n",
       "    <tr>\n",
       "      <td>4</td>\n",
       "      <td>2</td>\n",
       "      <td>10000000</td>\n",
       "      <td>100.0</td>\n",
       "      <td>2018-06-19</td>\n",
       "      <td>2</td>\n",
       "      <td>3.03</td>\n",
       "      <td>14</td>\n",
       "      <td>32.0</td>\n",
       "      <td>13</td>\n",
       "      <td>True</td>\n",
       "      <td>...</td>\n",
       "      <td>41.0</td>\n",
       "      <td>0</td>\n",
       "      <td>Санкт-Петербург</td>\n",
       "      <td>31856</td>\n",
       "      <td>8098</td>\n",
       "      <td>2</td>\n",
       "      <td>112</td>\n",
       "      <td>1</td>\n",
       "      <td>48.0</td>\n",
       "      <td>121.0</td>\n",
       "    </tr>\n",
       "  </tbody>\n",
       "</table>\n",
       "<p>5 rows × 22 columns</p>\n",
       "</div>"
      ],
      "text/plain": [
       "   total_images  last_price  total_area first_day_exposition  rooms  \\\n",
       "0            20    13000000       108.0           2019-03-07      3   \n",
       "1             7     3350000        40.4           2018-12-04      1   \n",
       "2            10     5196000        56.0           2015-08-20      2   \n",
       "3             0    64900000       159.0           2015-07-24      3   \n",
       "4             2    10000000       100.0           2018-06-19      2   \n",
       "\n",
       "   ceiling_height  floors_total  living_area  floor  is_apartment  ...  \\\n",
       "0            2.70            16         51.0      8          True  ...   \n",
       "1            2.65            11         18.6      1          True  ...   \n",
       "2            2.65             5         34.3      4          True  ...   \n",
       "3            2.65            14         95.0      9          True  ...   \n",
       "4            3.03            14         32.0     13          True  ...   \n",
       "\n",
       "   kitchen_area  balcony    locality_name  airports_nearest  \\\n",
       "0          25.0        0  Санкт-Петербург             18863   \n",
       "1          11.0        2   посёлок Шушары             12817   \n",
       "2           8.3        0  Санкт-Петербург             21741   \n",
       "3          15.0        0  Санкт-Петербург             28098   \n",
       "4          41.0        0  Санкт-Петербург             31856   \n",
       "\n",
       "  cityCenters_nearest  parks_around3000  parks_nearest  ponds_around3000  \\\n",
       "0               16028                 1            482                 2   \n",
       "1               18603                 0           3127                 0   \n",
       "2               13933                 1             90                 2   \n",
       "3                6800                 2             84                 3   \n",
       "4                8098                 2            112                 1   \n",
       "\n",
       "   ponds_nearest  days_exposition  \n",
       "0          755.0              NaN  \n",
       "1          502.0             81.0  \n",
       "2          574.0            558.0  \n",
       "3          234.0            424.0  \n",
       "4           48.0            121.0  \n",
       "\n",
       "[5 rows x 22 columns]"
      ]
     },
     "execution_count": 17,
     "metadata": {},
     "output_type": "execute_result"
    }
   ],
   "source": [
    "data_estate.head(5)"
   ]
  },
  {
   "cell_type": "code",
   "execution_count": 18,
   "metadata": {
    "scrolled": true
   },
   "outputs": [
    {
     "name": "stdout",
     "output_type": "stream",
     "text": [
      "<class 'pandas.core.frame.DataFrame'>\n",
      "RangeIndex: 23699 entries, 0 to 23698\n",
      "Data columns (total 22 columns):\n",
      "total_images            23699 non-null int64\n",
      "last_price              23699 non-null int64\n",
      "total_area              23699 non-null float64\n",
      "first_day_exposition    23699 non-null datetime64[ns]\n",
      "rooms                   23699 non-null int64\n",
      "ceiling_height          23699 non-null float64\n",
      "floors_total            23699 non-null int64\n",
      "living_area             23699 non-null float64\n",
      "floor                   23699 non-null int64\n",
      "is_apartment            23699 non-null bool\n",
      "studio                  23699 non-null bool\n",
      "open_plan               23699 non-null bool\n",
      "kitchen_area            23699 non-null float64\n",
      "balcony                 23699 non-null int64\n",
      "locality_name           23699 non-null object\n",
      "airports_nearest        23699 non-null int64\n",
      "cityCenters_nearest     23699 non-null int64\n",
      "parks_around3000        23699 non-null int64\n",
      "parks_nearest           23699 non-null int64\n",
      "ponds_around3000        23699 non-null int64\n",
      "ponds_nearest           23699 non-null float64\n",
      "days_exposition         20518 non-null float64\n",
      "dtypes: bool(3), datetime64[ns](1), float64(6), int64(11), object(1)\n",
      "memory usage: 3.5+ MB\n"
     ]
    }
   ],
   "source": [
    "data_estate.info()"
   ]
  },
  {
   "cell_type": "markdown",
   "metadata": {},
   "source": [
    "**Вывод**"
   ]
  },
  {
   "cell_type": "markdown",
   "metadata": {},
   "source": [
    "**Изменил типы данных в столбцах 'floors_total' на 'int' так как количество этажей должно быть целое число,\n",
    "'balcony' на 'int' количество балконов должно быть целым (1.5 балкона не бывает), 'last_price' на 'int' для удобства вычисления,\n",
    "'is_apartment' на 'bool' потому что там был булев тип данный True и False, в 'first_day_exposition' нужно было поменять на временной формат.\n",
    "'airports_nearest','cityCenters_nearest', 'parks_around3000', 'parks_nearest', 'ponds_around3000' поменял на 'int' для удобства вычислений.**"
   ]
  },
  {
   "cell_type": "markdown",
   "metadata": {},
   "source": [
    "## Исследовательский анализ данных"
   ]
  },
  {
   "cell_type": "markdown",
   "metadata": {},
   "source": [
    "###  Добавление дополнительных столбцов"
   ]
  },
  {
   "cell_type": "code",
   "execution_count": 19,
   "metadata": {
    "scrolled": false
   },
   "outputs": [],
   "source": [
    "data_estate['price_m2'] = data_estate['last_price'] // data_estate['total_area']\n",
    "data_estate['price_m2'] = data_estate['price_m2'].astype('int')"
   ]
  },
  {
   "cell_type": "markdown",
   "metadata": {},
   "source": [
    "**Получил цену за квадратный метр и вывел её в отдельный столбец**"
   ]
  },
  {
   "cell_type": "code",
   "execution_count": 20,
   "metadata": {},
   "outputs": [],
   "source": [
    "data_estate['day'] = pd.DatetimeIndex(data_estate['first_day_exposition']).day\n",
    "data_estate['month'] = pd.DatetimeIndex(data_estate['first_day_exposition']).month\n",
    "data_estate['year'] = pd.DatetimeIndex(data_estate['first_day_exposition']).year"
   ]
  },
  {
   "cell_type": "markdown",
   "metadata": {},
   "source": [
    "**Добавил в таблицу отдельные столбцы со значениями дня, месяца, года.**"
   ]
  },
  {
   "cell_type": "code",
   "execution_count": 21,
   "metadata": {},
   "outputs": [],
   "source": [
    "data_estate['area_liv_ratio'] = data_estate['living_area'] / data_estate['total_area']\n",
    "data_estate['area_kit_ratio'] = data_estate['kitchen_area'] / data_estate['total_area']"
   ]
  },
  {
   "cell_type": "markdown",
   "metadata": {},
   "source": [
    "**Добавил столбцы с соотношением жилой площади к общей и кухни к общей площади.**"
   ]
  },
  {
   "cell_type": "code",
   "execution_count": 22,
   "metadata": {},
   "outputs": [],
   "source": [
    "def floorname(row):\n",
    "    totflo = row['floors_total']\n",
    "    flo = row['floor']\n",
    "    if flo == 1:\n",
    "        return 'первый'\n",
    "    if totflo == flo:\n",
    "        return 'последний'\n",
    "    return 'другой'\n",
    "\n",
    "data_estate['group_floor'] = data_estate.apply(floorname, axis=1)"
   ]
  },
  {
   "cell_type": "markdown",
   "metadata": {},
   "source": [
    "**Разобрал этажи на категории \"первый\", \"последний\", \"другой\"**"
   ]
  },
  {
   "cell_type": "markdown",
   "metadata": {},
   "source": [
    "### Построение гистограмм"
   ]
  },
  {
   "cell_type": "code",
   "execution_count": 23,
   "metadata": {},
   "outputs": [
    {
     "data": {
      "image/png": "[encoded data removed]",
      "text/plain": [
       "<Figure size 432x288 with 1 Axes>"
      ]
     },
     "metadata": {
      "needs_background": "light"
     },
     "output_type": "display_data"
    },
    {
     "data": {
      "image/png": "[encoded data removed]",
      "text/plain": [
       "<Figure size 432x288 with 1 Axes>"
      ]
     },
     "metadata": {
      "needs_background": "light"
     },
     "output_type": "display_data"
    },
    {
     "data": {
      "image/png": "[encoded data removed]",
      "text/plain": [
       "<Figure size 432x288 with 1 Axes>"
      ]
     },
     "metadata": {
      "needs_background": "light"
     },
     "output_type": "display_data"
    },
    {
     "data": {
      "image/png": "[encoded data removed]",
      "text/plain": [
       "<Figure size 432x288 with 1 Axes>"
      ]
     },
     "metadata": {
      "needs_background": "light"
     },
     "output_type": "display_data"
    }
   ],
   "source": [
    "data_estate.plot(kind='hist', y ='rooms',bins=20, grid=True, range=(0, 8), legend=None)\n",
    "plt.title('Распределение квартир по количеству комнат')\n",
    "plt.xlabel('Количество комнат')\n",
    "plt.ylabel('Количество объявлений')\n",
    "plt.show()\n",
    "\n",
    "data_estate.plot(kind='hist',y ='total_area', bins=100, range=(20, 125), legend=None)\n",
    "plt.title('Распределение квартир по общей площади')\n",
    "plt.xlabel('Площадь квартиры')\n",
    "plt.ylabel('Количество объявлений')\n",
    "plt.show()\n",
    "\n",
    "data_estate.plot(kind='hist' ,y='last_price', bins=100, range=(0, 10000000), legend=None)\n",
    "plt.title('Распределение квартир по цене')\n",
    "plt.xlabel('Цена в млн')\n",
    "plt.ylabel('Количество объявлений')\n",
    "plt.show()\n",
    "\n",
    "data_estate.hist(column='ceiling_height',bins=100, range=(2.4, 3))\n",
    "plt.title('Распределение квартир высоте потолков')\n",
    "plt.xlabel('Высота в м')\n",
    "plt.ylabel('Количество объявлений')\n",
    "plt.show()\n"
   ]
  },
  {
   "cell_type": "markdown",
   "metadata": {},
   "source": [
    "Изучив гистограммы отдельных столбцов видно что:\n",
    "1. Преобладющее большинство квартир имеют одну, две и три комнаты.\n",
    "2. У большинства квартир площадь варьируется от 30 до 50 квадратных метров\n",
    "3. Большинство квартир стоят от 3 млн до 5 млн\n",
    "4. Высота потолков у большнства средняя 2 метра 65 см."
   ]
  },
  {
   "cell_type": "code",
   "execution_count": 24,
   "metadata": {
    "scrolled": false
   },
   "outputs": [
    {
     "data": {
      "image/png": "[encoded data removed]",
      "text/plain": [
       "<Figure size 432x288 with 1 Axes>"
      ]
     },
     "metadata": {
      "needs_background": "light"
     },
     "output_type": "display_data"
    },
    {
     "data": {
      "image/png": "[encoded data removed]",
      "text/plain": [
       "<Figure size 432x288 with 1 Axes>"
      ]
     },
     "metadata": {
      "needs_background": "light"
     },
     "output_type": "display_data"
    },
    {
     "data": {
      "text/plain": [
       "count    20518.000000\n",
       "mean       180.888634\n",
       "std        219.727988\n",
       "min          1.000000\n",
       "25%         45.000000\n",
       "50%         95.000000\n",
       "75%        232.000000\n",
       "max       1580.000000\n",
       "Name: days_exposition, dtype: float64"
      ]
     },
     "execution_count": 24,
     "metadata": {},
     "output_type": "execute_result"
    }
   ],
   "source": [
    "data_estate.hist(column='days_exposition', bins=30, range=(0,1000))\n",
    "plt.title('Зависимость количества объявлений от дней размещения')\n",
    "plt.xlabel('Количество дней')\n",
    "plt.ylabel('Количество объявлений')\n",
    "plt.show()\n",
    "\n",
    "data_estate.hist(column='days_exposition', bins=50, range=(0,400))\n",
    "plt.title('Зависимость количества объявлений от дней размещения')\n",
    "plt.xlabel('Количество дней')\n",
    "plt.ylabel('Количество объявлений')\n",
    "plt.show()\n",
    "data_estate['days_exposition'].describe()"
   ]
  },
  {
   "cell_type": "markdown",
   "metadata": {},
   "source": [
    "В среднем квартиры продаются до 95 дней. В полне реальные значения.\n",
    "\n",
    "Разбив на квартили, считаю коротким периодом продаж до 45 дней, а длинным от 232 дней и больше"
   ]
  },
  {
   "cell_type": "markdown",
   "metadata": {},
   "source": [
    "###  Факторы влияющие на стоимость квартиры\n"
   ]
  },
  {
   "cell_type": "code",
   "execution_count": 25,
   "metadata": {},
   "outputs": [
    {
     "data": {
      "image/png": "[encoded data removed]",
      "text/plain": [
       "<Figure size 432x288 with 1 Axes>"
      ]
     },
     "metadata": {
      "needs_background": "light"
     },
     "output_type": "display_data"
    },
    {
     "data": {
      "image/png": "[encoded data removed]",
      "text/plain": [
       "<Figure size 432x288 with 1 Axes>"
      ]
     },
     "metadata": {
      "needs_background": "light"
     },
     "output_type": "display_data"
    },
    {
     "data": {
      "image/png": "[encoded data removed]",
      "text/plain": [
       "<Figure size 432x288 with 1 Axes>"
      ]
     },
     "metadata": {
      "needs_background": "light"
     },
     "output_type": "display_data"
    },
    {
     "data": {
      "image/png": "[encoded data removed]",
      "text/plain": [
       "<Figure size 432x288 with 1 Axes>"
      ]
     },
     "metadata": {
      "needs_background": "light"
     },
     "output_type": "display_data"
    }
   ],
   "source": [
    "data_estate.boxplot('last_price')\n",
    "plt.ylim(-1000000, 15000000)\n",
    "plt.show()\n",
    "data_estate.boxplot('total_area')\n",
    "plt.ylim(11, 200)\n",
    "plt.show()\n",
    "data_estate.boxplot('rooms')\n",
    "plt.ylim(-1, 15)\n",
    "plt.show()\n",
    "data_estate.boxplot('ceiling_height')\n",
    "plt.ylim(2, 3)\n",
    "plt.show()"
   ]
  },
  {
   "cell_type": "markdown",
   "metadata": {},
   "source": [
    "Для начала уберем выбросы\n",
    "На диаграмме ящик с усами видны выбросы, для более точного исследования нужно избавится от них."
   ]
  },
  {
   "cell_type": "code",
   "execution_count": 26,
   "metadata": {},
   "outputs": [],
   "source": [
    "data_good_stat = data_estate.query('last_price <= 12000000 and (12 <= total_area <= 115) and (0 <= rooms <= 6) and (ceiling_height <= 3)')"
   ]
  },
  {
   "cell_type": "code",
   "execution_count": 27,
   "metadata": {
    "scrolled": false
   },
   "outputs": [
    {
     "data": {
      "image/png": "[encoded data removed]",
      "text/plain": [
       "<Figure size 432x288 with 1 Axes>"
      ]
     },
     "metadata": {
      "needs_background": "light"
     },
     "output_type": "display_data"
    },
    {
     "data": {
      "image/png": "[encoded data removed]",
      "text/plain": [
       "<Figure size 432x288 with 1 Axes>"
      ]
     },
     "metadata": {
      "needs_background": "light"
     },
     "output_type": "display_data"
    },
    {
     "data": {
      "image/png": "[encoded data removed]",
      "text/plain": [
       "<Figure size 432x288 with 1 Axes>"
      ]
     },
     "metadata": {
      "needs_background": "light"
     },
     "output_type": "display_data"
    }
   ],
   "source": [
    "def data_plot(data, y, x, grid=True, style='o', legend=None):\n",
    "    (data.plot(y=y, x=x, grid=grid, style=style, legend=legend))\n",
    "    \n",
    "data_plot(data_good_stat, y='last_price', x='rooms')\n",
    "plt.xlabel('Количество комнат')\n",
    "plt.ylabel('Цена в млн')\n",
    "plt.title('Соотношение цены к количеству комнат')\n",
    "plt.show()\n",
    "\n",
    "data_plot(data_good_stat, y='last_price', x='total_area')\n",
    "plt.xlabel('Площадь в м2')\n",
    "plt.ylabel('Цена в млн')\n",
    "plt.title('Отношение площади к цене')\n",
    "plt.show()\n",
    "\n",
    "data_plot(data_good_stat, y='last_price', x='cityCenters_nearest')\n",
    "plt.xlabel('Расстоние от центра в м')\n",
    "plt.ylabel('Цена в млн')\n",
    "plt.title('Зависимость цены от расстояния до центра')\n",
    "plt.show()"
   ]
  },
  {
   "cell_type": "markdown",
   "metadata": {},
   "source": [
    "После очистки данных от выбросов видно :\n",
    "1. Большинство квартир имеют от 1-ой до 5-ти комнат, в среднем и у них цена больше, чем у остальных.\n",
    "2. На графике видна зависимость цены от общей площади, чем больше площадь, тем квартиры дороже.\n",
    "3. На графике видно, что чем ближе к центру, тем квартиры начинают дорожать."
   ]
  },
  {
   "cell_type": "markdown",
   "metadata": {},
   "source": [
    "### Стоимость групп по типу этажей"
   ]
  },
  {
   "cell_type": "code",
   "execution_count": 28,
   "metadata": {
    "scrolled": false
   },
   "outputs": [
    {
     "data": {
      "image/png": "[encoded data removed]",
      "text/plain": [
       "<Figure size 432x288 with 1 Axes>"
      ]
     },
     "metadata": {
      "needs_background": "light"
     },
     "output_type": "display_data"
    }
   ],
   "source": [
    "floors_price = data_good_stat.pivot_table(index='group_floor', values='last_price', aggfunc='median')\n",
    "floors_price.columns = ['median_price']\n",
    "\n",
    "floors_price.plot(kind='bar', grid=True, legend=None)\n",
    "plt.title('Стоимость групп по типу этажей')\n",
    "plt.ylabel('Цена')\n",
    "plt.xlabel('Группа этажей по типу')\n",
    "plt.show()"
   ]
  },
  {
   "cell_type": "markdown",
   "metadata": {},
   "source": [
    "**По медианной стоимости квартиры в типах этажей, меньше всего стоят квартиры на первом этаже и на последнем.\n",
    "Это может быть связанно с тем что на последний и первый этажи меньше спроса и люди меньше предпочитают покупать квартиру на последнем этаже или на первом ежели на других этажах. Следовательно чем меньше спрос, тем ниже цена.**"
   ]
  },
  {
   "cell_type": "markdown",
   "metadata": {},
   "source": [
    "### Стоимость квартир по дням, месяцам и годам."
   ]
  },
  {
   "cell_type": "code",
   "execution_count": 29,
   "metadata": {},
   "outputs": [
    {
     "data": {
      "image/png": "[encoded data removed]",
      "text/plain": [
       "<Figure size 720x360 with 1 Axes>"
      ]
     },
     "metadata": {
      "needs_background": "light"
     },
     "output_type": "display_data"
    },
    {
     "data": {
      "image/png": "[encoded data removed]",
      "text/plain": [
       "<Figure size 720x360 with 1 Axes>"
      ]
     },
     "metadata": {
      "needs_background": "light"
     },
     "output_type": "display_data"
    },
    {
     "data": {
      "image/png": "[encoded data removed]",
      "text/plain": [
       "<Figure size 720x360 with 1 Axes>"
      ]
     },
     "metadata": {
      "needs_background": "light"
     },
     "output_type": "display_data"
    }
   ],
   "source": [
    "def price_plot(data, index, values, kind, x, y, figsize=(10,5),legend=None):\n",
    "    (data.pivot_table(index=index, values=values).reset_index().plot(kind=kind, x=x, y=y, figsize=figsize,legend=legend))\n",
    "    \n",
    "price_plot(data_good_stat, 'day', 'last_price', 'bar', 'day', 'last_price')\n",
    "plt.xlabel('День')\n",
    "plt.ylabel('Цена')\n",
    "plt.show()\n",
    "\n",
    "price_plot(data_good_stat, 'month', 'last_price', 'bar', 'month', 'last_price')\n",
    "plt.xlabel('Месяц')\n",
    "plt.ylabel('Цена')\n",
    "plt.show()\n",
    "\n",
    "price_plot(data_good_stat, 'year', 'last_price', 'bar', 'year', 'last_price')\n",
    "plt.xlabel('Год')\n",
    "plt.ylabel('Цена')\n",
    "plt.show()\n"
   ]
  },
  {
   "cell_type": "markdown",
   "metadata": {},
   "source": [
    "На графиках видна зависимость цены от дня, месяца и года.\n",
    "1. В среднем цена на квартиры не зависит от дня.\n",
    "2. Цена не сильно зависит от месяца\n",
    "3. В 2014 году цены на квартиры выше чем в остальных годах."
   ]
  },
  {
   "cell_type": "markdown",
   "metadata": {},
   "source": [
    "### Исследование стоимость квартир в населенных пунктах где больше всего объявлений"
   ]
  },
  {
   "cell_type": "code",
   "execution_count": 30,
   "metadata": {},
   "outputs": [
    {
     "data": {
      "text/plain": [
       "Санкт-Петербург      12912\n",
       "посёлок Мурино         520\n",
       "посёлок Шушары         436\n",
       "Всеволожск             390\n",
       "посёлок Парголово      326\n",
       "Колпино                325\n",
       "Пушкин                 324\n",
       "деревня Кудрово        298\n",
       "Гатчина                297\n",
       "Выборг                 216\n",
       "Name: locality_name, dtype: int64"
      ]
     },
     "execution_count": 30,
     "metadata": {},
     "output_type": "execute_result"
    }
   ],
   "source": [
    "data_good_stat['locality_name'].value_counts().head(10)"
   ]
  },
  {
   "cell_type": "code",
   "execution_count": 31,
   "metadata": {
    "scrolled": false
   },
   "outputs": [
    {
     "data": {
      "image/png": "[encoded data removed]",
      "text/plain": [
       "<Figure size 1080x360 with 1 Axes>"
      ]
     },
     "metadata": {
      "needs_background": "light"
     },
     "output_type": "display_data"
    }
   ],
   "source": [
    "locality_name_price = data_good_stat.pivot_table(index='locality_name', values='last_price', aggfunc=['count','median'])\n",
    "locality_name_price = locality_name_price.reset_index()\n",
    "locality_name_price.columns = ['city', 'count_city', 'median_price']\n",
    "locality_name_price\n",
    "locality_name_price = locality_name_price.sort_values(by='count_city', ascending=False).head(10)\n",
    "\n",
    "locality_name_price.plot(kind='bar',x='city', y='median_price', figsize=(15, 5), legend=None, grid=True)\n",
    "plt.title('Средняя стоимость квартир в населенных пунктах')\n",
    "plt.xlabel('Населенный пункт')\n",
    "plt.ylabel('Среняя цена')\n",
    "plt.show()"
   ]
  },
  {
   "cell_type": "markdown",
   "metadata": {},
   "source": [
    "#### Вывод"
   ]
  },
  {
   "cell_type": "markdown",
   "metadata": {},
   "source": [
    "Самая высокая цена на квартиры в городе Санкт-Петергбург, а самая низкая цена в городе Выборг."
   ]
  },
  {
   "cell_type": "markdown",
   "metadata": {},
   "source": [
    "### Исследование квартир в центре Санкт-Петербурга"
   ]
  },
  {
   "cell_type": "code",
   "execution_count": 32,
   "metadata": {
    "scrolled": false
   },
   "outputs": [
    {
     "data": {
      "image/png": "[encoded data removed]",
      "text/plain": [
       "<Figure size 720x360 with 1 Axes>"
      ]
     },
     "metadata": {
      "needs_background": "light"
     },
     "output_type": "display_data"
    }
   ],
   "source": [
    "data_Petersburg = data_good_stat.query('locality_name == \"Санкт-Петербург\"')\n",
    "data_Petersburg['center_km'] =  (data_Petersburg['cityCenters_nearest'] / 1000).astype('int')\n",
    "data_Petersburg_table = data_Petersburg.pivot_table(index='center_km', values='last_price').reset_index()\n",
    "data_Petersburg_table.plot(kind='bar', x='center_km', y='last_price', figsize=(10, 5), legend=None)\n",
    "plt.title('Зависимость цены от расстояния до центра города')\n",
    "plt.ylabel('Цена')\n",
    "plt.xlabel('Расстояние до центра')\n",
    "plt.show()\n"
   ]
  },
  {
   "cell_type": "markdown",
   "metadata": {},
   "source": [
    "Возьмем область 3 км, как центр города."
   ]
  },
  {
   "cell_type": "markdown",
   "metadata": {},
   "source": [
    "#### Анализ территории в центре города"
   ]
  },
  {
   "cell_type": "code",
   "execution_count": 33,
   "metadata": {
    "scrolled": true
   },
   "outputs": [],
   "source": [
    "estate_center = data_Petersburg.query('center_km < 3')"
   ]
  },
  {
   "cell_type": "code",
   "execution_count": 34,
   "metadata": {
    "scrolled": false
   },
   "outputs": [
    {
     "data": {
      "image/png": "[encoded data removed]",
      "text/plain": [
       "<Figure size 432x288 with 1 Axes>"
      ]
     },
     "metadata": {
      "needs_background": "light"
     },
     "output_type": "display_data"
    },
    {
     "data": {
      "image/png": "[encoded data removed]",
      "text/plain": [
       "<Figure size 432x288 with 1 Axes>"
      ]
     },
     "metadata": {
      "needs_background": "light"
     },
     "output_type": "display_data"
    },
    {
     "data": {
      "image/png": "[encoded data removed]",
      "text/plain": [
       "<Figure size 432x288 with 1 Axes>"
      ]
     },
     "metadata": {
      "needs_background": "light"
     },
     "output_type": "display_data"
    },
    {
     "data": {
      "image/png": "[encoded data removed]",
      "text/plain": [
       "<Figure size 432x288 with 1 Axes>"
      ]
     },
     "metadata": {
      "needs_background": "light"
     },
     "output_type": "display_data"
    }
   ],
   "source": [
    "estate_center['total_area'].plot(kind='hist', bins=100, range=(0, 150), grid=True)\n",
    "plt.xlabel('Площадь в м2')\n",
    "plt.show()\n",
    "estate_center['last_price'].plot(kind='hist', bins=100, range=(0, 20000000),grid=True)\n",
    "plt.xlabel('Цена')\n",
    "plt.show()\n",
    "estate_center['rooms'].plot(kind='hist', bins=30, range=(0, 10), grid=True)\n",
    "plt.xlabel('Количество комнат')\n",
    "plt.show()\n",
    "estate_center['ceiling_height'].hist(bins=30, range=(2, 4))\n",
    "plt.xlabel('Высота потолков в м')\n",
    "plt.show()"
   ]
  },
  {
   "cell_type": "markdown",
   "metadata": {},
   "source": [
    "В графике высоты потолков мы видим очень много квартир, где значение высоты потолка имеет 2.65, это наше медианное значение которое мы применили ко всему датасету, его лучше убрать чтоб исследования были более точные."
   ]
  },
  {
   "cell_type": "code",
   "execution_count": 35,
   "metadata": {
    "scrolled": true
   },
   "outputs": [
    {
     "data": {
      "image/png": "[encoded data removed]",
      "text/plain": [
       "<Figure size 432x288 with 1 Axes>"
      ]
     },
     "metadata": {
      "needs_background": "light"
     },
     "output_type": "display_data"
    },
    {
     "data": {
      "text/plain": [
       "count    102.000000\n",
       "mean       2.832647\n",
       "std        0.155225\n",
       "min        2.500000\n",
       "25%        2.720000\n",
       "50%        2.840000\n",
       "75%        3.000000\n",
       "max        3.000000\n",
       "Name: ceiling_height, dtype: float64"
      ]
     },
     "execution_count": 35,
     "metadata": {},
     "output_type": "execute_result"
    }
   ],
   "source": [
    "estate_good_ceiling = estate_center.query('ceiling_height != 2.65')\n",
    "estate_good_ceiling['ceiling_height'].hist(bins=30, range=(2, 4))\n",
    "plt.xlabel('Высота потолков в м')\n",
    "plt.show()\n",
    "\n",
    "estate_good_ceiling['ceiling_height'].describe()"
   ]
  },
  {
   "cell_type": "markdown",
   "metadata": {},
   "source": [
    "Теперь у нас средняя высота потолков стала 3м."
   ]
  },
  {
   "cell_type": "markdown",
   "metadata": {},
   "source": [
    "#### Вывод"
   ]
  },
  {
   "cell_type": "markdown",
   "metadata": {},
   "source": [
    "Исследуя гистограммы в сегменте квартир которые в центре могу заметить следущее:\n",
    "1. В центре средняя площадь варьируется от 50 до 80 м2\n",
    "2. Чем дальше от центра тем дешевле квадратный метр.\n",
    "3. Больше всего предложений квартир с 2-умя и 3-мя комнатами.\n",
    "4. В центре, высота потолков у квартир в среднем составляет 3 метра."
   ]
  },
  {
   "cell_type": "markdown",
   "metadata": {},
   "source": [
    "#### Исследование факторов влияющих на цену квартиры"
   ]
  },
  {
   "cell_type": "code",
   "execution_count": 36,
   "metadata": {
    "scrolled": false
   },
   "outputs": [
    {
     "data": {
      "image/png": "[encoded data removed]",
      "text/plain": [
       "<Figure size 432x288 with 1 Axes>"
      ]
     },
     "metadata": {
      "needs_background": "light"
     },
     "output_type": "display_data"
    },
    {
     "data": {
      "image/png": "[encoded data removed]",
      "text/plain": [
       "<Figure size 432x288 with 1 Axes>"
      ]
     },
     "metadata": {
      "needs_background": "light"
     },
     "output_type": "display_data"
    },
    {
     "data": {
      "image/png": "[encoded data removed]",
      "text/plain": [
       "<Figure size 432x288 with 1 Axes>"
      ]
     },
     "metadata": {
      "needs_background": "light"
     },
     "output_type": "display_data"
    },
    {
     "data": {
      "image/png": "[encoded data removed]",
      "text/plain": [
       "<Figure size 432x288 with 1 Axes>"
      ]
     },
     "metadata": {
      "needs_background": "light"
     },
     "output_type": "display_data"
    },
    {
     "data": {
      "image/png": "[encoded data removed]",
      "text/plain": [
       "<Figure size 432x288 with 1 Axes>"
      ]
     },
     "metadata": {
      "needs_background": "light"
     },
     "output_type": "display_data"
    }
   ],
   "source": [
    "def price_g(data, index, values, aggfunc,kind, x, y, grid=True, legend=None):\n",
    "    (data.pivot_table(index=index, values=values, aggfunc=aggfunc).reset_index().plot(kind=kind, x=x, y=y, grid=grid, legend=legend))\n",
    "    \n",
    "price_g(estate_center, 'rooms', 'last_price', 'median', 'bar', 'rooms', 'last_price')\n",
    "plt.title('1. Зависимость цены от числа комнат.')\n",
    "plt.xlabel('Количество комнат')\n",
    "plt.ylabel('Цена в млн')\n",
    "plt.show()\n",
    "\n",
    "price_g(estate_center, 'center_km', 'last_price', 'median', 'line', 'center_km', 'last_price')\n",
    "plt.title('2. Зависимость цены от расстояния до центра.')\n",
    "plt.xlabel('Расстояние до центра в км')\n",
    "plt.ylabel('Цена в млн')\n",
    "plt.show()\n",
    "\n",
    "price_g(estate_center, 'day', 'last_price', 'median', 'bar', 'day', 'last_price')# доработать\n",
    "plt.title('3. Зависимость цены от дня размещения объявления.')\n",
    "plt.xlabel('День')\n",
    "plt.ylabel('Цена в млн')\n",
    "plt.show()\n",
    "\n",
    "\n",
    "price_g(estate_center, 'month', 'last_price', 'median', 'bar', 'month', 'last_price')# доработать\n",
    "plt.title('4. Зависимость цены от месяца размещения объявления.')\n",
    "plt.xlabel('Расстояние до центра в км')\n",
    "plt.ylabel('Цена в млн')\n",
    "plt.show()\n",
    "\n",
    "\n",
    "price_g(estate_center, 'year', 'last_price', 'median', 'bar', 'year', 'last_price')#доработать\n",
    "plt.title('5. Зависимость цены от года размещения объявления.')\n",
    "plt.xlabel('Расстояние до центра в км')\n",
    "plt.ylabel('Цена в млн')\n",
    "plt.show()"
   ]
  },
  {
   "cell_type": "code",
   "execution_count": 37,
   "metadata": {},
   "outputs": [
    {
     "data": {
      "image/png": "[encoded data removed]",
      "text/plain": [
       "<Figure size 432x288 with 1 Axes>"
      ]
     },
     "metadata": {
      "needs_background": "light"
     },
     "output_type": "display_data"
    }
   ],
   "source": [
    "floors_price_center = estate_center.pivot_table(index='group_floor', values='last_price', aggfunc='median')\n",
    "floors_price.columns = ['median_price_center']\n",
    "\n",
    "floors_price.plot(kind='bar', grid=True, legend=None)\n",
    "plt.title('6. Стоимость групп по типу этажей')\n",
    "plt.ylabel('Цена')\n",
    "plt.xlabel('Группа этажей по типу')\n",
    "plt.show()"
   ]
  },
  {
   "cell_type": "markdown",
   "metadata": {},
   "source": [
    "В центре города, \"первый\" и \"последний\" этажи, стоят дешевле чем \"другие\" этажи."
   ]
  },
  {
   "cell_type": "markdown",
   "metadata": {},
   "source": [
    "### Вывод"
   ]
  },
  {
   "cell_type": "markdown",
   "metadata": {},
   "source": [
    "1. В среднем, чем больше комнат в квартире, тем больше ее цена.\n",
    "2. Чем дальше от центра, тем цена квартиры ниже.\n",
    "3. Цена особо не зависит от количества дней публикации.\n",
    "4. Цена особо не зависит от месяца публикации.\n",
    "5. В 2016 и 2019 году цены были выше чем остальных годах.\n",
    "6. Больше стоимость у этажей в категории \"другой\", чем у категории \"первый\" и \"последний\", люди меньше предпочитают покупать квартиры на последних и первых этажах, из-за этого и цена ниже."
   ]
  },
  {
   "cell_type": "markdown",
   "metadata": {},
   "source": [
    "## Общий вывод"
   ]
  },
  {
   "cell_type": "markdown",
   "metadata": {},
   "source": [
    "Исследование общих данных показало:\n",
    "Преобладющее большинство квартир имеют одну, две и три комнаты.\n",
    "У большинства квартир площадь варьируется от 30 до 50 квадратных метров\n",
    "Большинство квартир стоят от 3 млн до 5 млн\n",
    "Высота потолков у большнства средняя 2 метра 65 см.\n",
    "\n",
    "В среднем цена на квартиры не зависит от дня.\n",
    "Цена не сильно зависит от месяца\n",
    "В 2014 году цены на квартиры выше, чем в остальных годах.\n",
    "\n",
    "Стоимость последних и первых этажей меньше чем других.\n",
    "\n",
    "Самая высокая цена на квартиры в городе Санкт-Петергбург, а самая низкая цена в городе Выборг. Среди десяти городов с наибольшем количеством объявлений.\n",
    "\n",
    "Исследование центра Санкт-Петербурга:\n",
    "\n",
    "В центре средняя площадь варьируется от 40 до 80 м2\n",
    "Чем дальше от центра тем дешевле квадратный метр.\n",
    "Больше всего предложений квартир с 4-мя и 5-ти комнатами.\n",
    "В центре, высота потолков у квартир в среднем составляет 3 метра.\n",
    "\n",
    "В среднем, чем больше комнат в квартире, тем больше ее цена.\n",
    "Чем дальше от центра, тем цена квартиры ниже.\n",
    "Цена особо не зависит от количества дней публикации.\n",
    "Цена особо не зависит от месяца публикации.\n",
    "В 2016 и 2019 году цены были выше чем остальных годах.\n",
    "Больше стоимость у этажей в категории \"другой\", чем у категории \"первый\" и \"последний\", люди меньше предпочитают покупать квартиры на последних и первых этажах, из-за этого и цена ниже.\n",
    "\n",
    "Медианная стоимость квартиры в центре 7 690 000 млн, а медианная стоимость квартир в общем составляет 4 300 000.\n",
    "Квартиры в центре дороже в 1,78 раз, по сравнению с общими данными.\n",
    "\n",
    "Медианная площадь квартир в центре 69 метра квадратных, а медианная стоимость квартир в остальных случаях составяет 48 метра квадратных.\n",
    "Квартиры в центре по площади больше в 1.43 раза, чем квартиры в остальных случаях.\n"
   ]
  }
 ],
 "metadata": {
  "ExecuteTimeLog": [
   {
    "duration": 885,
    "start_time": "2021-09-27T10:19:26.103Z"
   },
   {
    "duration": 131,
    "start_time": "2021-09-27T10:20:23.402Z"
   },
   {
    "duration": 143,
    "start_time": "2021-09-27T10:20:28.666Z"
   },
   {
    "duration": 89,
    "start_time": "2021-09-27T10:20:58.139Z"
   },
   {
    "duration": 581,
    "start_time": "2021-09-27T10:21:06.098Z"
   },
   {
    "duration": 140,
    "start_time": "2021-09-27T10:21:23.251Z"
   },
   {
    "duration": 117,
    "start_time": "2021-09-27T10:21:44.820Z"
   },
   {
    "duration": 12,
    "start_time": "2021-09-27T10:22:34.052Z"
   },
   {
    "duration": 122,
    "start_time": "2021-09-27T10:25:42.503Z"
   },
   {
    "duration": 123,
    "start_time": "2021-09-27T10:33:11.708Z"
   },
   {
    "duration": 413,
    "start_time": "2021-09-27T10:34:01.115Z"
   },
   {
    "duration": 11,
    "start_time": "2021-09-27T10:34:18.875Z"
   },
   {
    "duration": 10,
    "start_time": "2021-09-27T10:34:36.831Z"
   },
   {
    "duration": 13,
    "start_time": "2021-09-27T10:35:22.336Z"
   },
   {
    "duration": 13,
    "start_time": "2021-09-27T10:35:37.218Z"
   },
   {
    "duration": 12,
    "start_time": "2021-09-27T10:35:43.259Z"
   },
   {
    "duration": 11,
    "start_time": "2021-09-27T10:35:49.274Z"
   },
   {
    "duration": 10,
    "start_time": "2021-09-27T10:36:00.532Z"
   },
   {
    "duration": 11,
    "start_time": "2021-09-27T10:36:42.956Z"
   },
   {
    "duration": 10,
    "start_time": "2021-09-27T10:36:50.636Z"
   },
   {
    "duration": 15,
    "start_time": "2021-09-27T10:37:21.213Z"
   },
   {
    "duration": 200,
    "start_time": "2021-09-27T10:41:11.103Z"
   },
   {
    "duration": 235,
    "start_time": "2021-09-27T10:41:23.951Z"
   },
   {
    "duration": 939,
    "start_time": "2021-09-27T10:42:42.359Z"
   },
   {
    "duration": 859,
    "start_time": "2021-09-28T11:25:23.553Z"
   },
   {
    "duration": 422,
    "start_time": "2021-09-28T11:43:28.863Z"
   },
   {
    "duration": 5,
    "start_time": "2021-09-28T11:43:35.132Z"
   },
   {
    "duration": 128,
    "start_time": "2021-09-28T11:44:56.947Z"
   },
   {
    "duration": 5,
    "start_time": "2021-09-28T11:48:05.593Z"
   },
   {
    "duration": 342,
    "start_time": "2021-09-28T11:48:26.020Z"
   },
   {
    "duration": 98,
    "start_time": "2021-09-28T11:51:42.071Z"
   },
   {
    "duration": 580,
    "start_time": "2021-09-28T11:53:11.251Z"
   },
   {
    "duration": 1192,
    "start_time": "2021-09-28T11:54:15.201Z"
   },
   {
    "duration": 4,
    "start_time": "2021-09-28T11:56:24.841Z"
   },
   {
    "duration": 5,
    "start_time": "2021-09-28T11:56:30.570Z"
   },
   {
    "duration": 5,
    "start_time": "2021-09-28T11:57:45.435Z"
   },
   {
    "duration": 4,
    "start_time": "2021-09-28T11:57:47.746Z"
   },
   {
    "duration": 343,
    "start_time": "2021-09-28T11:58:04.691Z"
   },
   {
    "duration": 13,
    "start_time": "2021-09-28T11:58:20.698Z"
   },
   {
    "duration": 6,
    "start_time": "2021-09-28T11:59:31.651Z"
   },
   {
    "duration": 7,
    "start_time": "2021-09-28T12:00:05.019Z"
   },
   {
    "duration": 7,
    "start_time": "2021-09-28T12:02:52.237Z"
   },
   {
    "duration": 7,
    "start_time": "2021-09-28T12:03:34.405Z"
   },
   {
    "duration": 7,
    "start_time": "2021-09-28T12:05:13.006Z"
   },
   {
    "duration": 11,
    "start_time": "2021-09-28T12:05:23.496Z"
   },
   {
    "duration": 6,
    "start_time": "2021-09-28T12:07:43.585Z"
   },
   {
    "duration": 15,
    "start_time": "2021-09-28T12:09:13.929Z"
   },
   {
    "duration": 43,
    "start_time": "2021-09-28T12:09:22.897Z"
   },
   {
    "duration": 14,
    "start_time": "2021-09-28T12:09:31.649Z"
   },
   {
    "duration": 40,
    "start_time": "2021-09-28T12:09:33.032Z"
   },
   {
    "duration": 8,
    "start_time": "2021-09-28T12:28:09.291Z"
   },
   {
    "duration": 1941,
    "start_time": "2021-09-28T12:28:10.125Z"
   },
   {
    "duration": 4,
    "start_time": "2021-09-28T12:28:21.436Z"
   },
   {
    "duration": 11,
    "start_time": "2021-09-28T12:28:23.260Z"
   },
   {
    "duration": 37,
    "start_time": "2021-09-28T12:28:34.581Z"
   },
   {
    "duration": 371,
    "start_time": "2021-09-28T12:29:03.513Z"
   },
   {
    "duration": 8,
    "start_time": "2021-09-28T12:29:11.668Z"
   },
   {
    "duration": 7,
    "start_time": "2021-09-28T12:29:52.025Z"
   },
   {
    "duration": 10,
    "start_time": "2021-09-28T12:30:25.038Z"
   },
   {
    "duration": 6,
    "start_time": "2021-09-28T12:30:26.688Z"
   },
   {
    "duration": 4,
    "start_time": "2021-09-28T12:30:27.469Z"
   },
   {
    "duration": 5,
    "start_time": "2021-09-28T12:30:43.941Z"
   },
   {
    "duration": 12,
    "start_time": "2021-09-28T12:30:46.453Z"
   },
   {
    "duration": 467,
    "start_time": "2021-09-28T12:40:16.320Z"
   },
   {
    "duration": 6,
    "start_time": "2021-09-28T12:40:28.926Z"
   },
   {
    "duration": 7,
    "start_time": "2021-09-28T12:42:49.800Z"
   },
   {
    "duration": 356,
    "start_time": "2021-09-28T12:43:42.817Z"
   },
   {
    "duration": 12,
    "start_time": "2021-09-28T12:43:54.209Z"
   },
   {
    "duration": 10,
    "start_time": "2021-09-28T12:44:22.402Z"
   },
   {
    "duration": 40,
    "start_time": "2021-09-28T12:44:53.818Z"
   },
   {
    "duration": 84,
    "start_time": "2021-09-28T12:45:05.146Z"
   },
   {
    "duration": 11,
    "start_time": "2021-09-28T12:45:05.697Z"
   },
   {
    "duration": 11,
    "start_time": "2021-09-28T12:45:06.602Z"
   },
   {
    "duration": 5,
    "start_time": "2021-09-28T12:45:07.329Z"
   },
   {
    "duration": 7,
    "start_time": "2021-09-28T12:45:09.265Z"
   },
   {
    "duration": 10,
    "start_time": "2021-09-28T12:45:11.001Z"
   },
   {
    "duration": 40,
    "start_time": "2021-09-28T12:45:11.987Z"
   },
   {
    "duration": 27,
    "start_time": "2021-09-28T12:45:24.883Z"
   },
   {
    "duration": 40,
    "start_time": "2021-09-28T12:45:27.251Z"
   },
   {
    "duration": 25,
    "start_time": "2021-09-28T12:45:30.155Z"
   },
   {
    "duration": 6,
    "start_time": "2021-09-28T12:45:38.707Z"
   },
   {
    "duration": 6,
    "start_time": "2021-09-28T12:46:11.690Z"
   },
   {
    "duration": 5,
    "start_time": "2021-09-28T12:46:12.635Z"
   },
   {
    "duration": 26,
    "start_time": "2021-09-28T12:46:23.330Z"
   },
   {
    "duration": 6,
    "start_time": "2021-09-28T12:47:33.004Z"
   },
   {
    "duration": 368,
    "start_time": "2021-09-28T12:48:42.311Z"
   },
   {
    "duration": 45,
    "start_time": "2021-09-28T12:50:14.469Z"
   },
   {
    "duration": 24,
    "start_time": "2021-09-28T12:51:01.367Z"
   },
   {
    "duration": 10,
    "start_time": "2021-09-28T12:51:13.733Z"
   },
   {
    "duration": 2,
    "start_time": "2021-09-28T13:06:21.918Z"
   },
   {
    "duration": 329,
    "start_time": "2021-09-29T10:25:24.614Z"
   },
   {
    "duration": 760,
    "start_time": "2021-09-29T10:25:32.364Z"
   },
   {
    "duration": 10,
    "start_time": "2021-09-29T10:25:33.126Z"
   },
   {
    "duration": 19,
    "start_time": "2021-09-29T10:25:33.138Z"
   },
   {
    "duration": 5,
    "start_time": "2021-09-29T10:25:33.159Z"
   },
   {
    "duration": 9,
    "start_time": "2021-09-29T10:25:33.165Z"
   },
   {
    "duration": 9,
    "start_time": "2021-09-29T10:25:33.176Z"
   },
   {
    "duration": 10,
    "start_time": "2021-09-29T10:25:33.187Z"
   },
   {
    "duration": 52,
    "start_time": "2021-09-29T10:25:33.199Z"
   },
   {
    "duration": 10,
    "start_time": "2021-09-29T10:25:33.253Z"
   },
   {
    "duration": 9,
    "start_time": "2021-09-29T10:26:28.517Z"
   },
   {
    "duration": 24,
    "start_time": "2021-09-29T10:31:31.902Z"
   },
   {
    "duration": 11,
    "start_time": "2021-09-29T10:32:49.069Z"
   },
   {
    "duration": 370,
    "start_time": "2021-09-29T10:40:28.768Z"
   },
   {
    "duration": 305,
    "start_time": "2021-09-29T10:40:37.539Z"
   },
   {
    "duration": 107,
    "start_time": "2021-09-29T10:41:00.694Z"
   },
   {
    "duration": 42,
    "start_time": "2021-09-29T10:41:06.434Z"
   },
   {
    "duration": 4,
    "start_time": "2021-09-29T10:44:15.802Z"
   },
   {
    "duration": 6,
    "start_time": "2021-09-29T10:53:48.343Z"
   },
   {
    "duration": 11,
    "start_time": "2021-09-29T11:26:54.757Z"
   },
   {
    "duration": 10,
    "start_time": "2021-09-29T11:32:23.567Z"
   },
   {
    "duration": 13,
    "start_time": "2021-09-29T11:32:24.864Z"
   },
   {
    "duration": 5,
    "start_time": "2021-09-29T11:32:25.703Z"
   },
   {
    "duration": 5,
    "start_time": "2021-09-29T11:33:34.912Z"
   },
   {
    "duration": 25,
    "start_time": "2021-09-29T11:33:55.226Z"
   },
   {
    "duration": 9,
    "start_time": "2021-09-29T11:34:02.835Z"
   },
   {
    "duration": 9,
    "start_time": "2021-09-29T11:34:43.473Z"
   },
   {
    "duration": 10,
    "start_time": "2021-09-29T11:34:44.576Z"
   },
   {
    "duration": 6,
    "start_time": "2021-09-29T11:34:45.108Z"
   },
   {
    "duration": 25,
    "start_time": "2021-09-29T11:34:45.321Z"
   },
   {
    "duration": 12,
    "start_time": "2021-09-29T11:37:21.862Z"
   },
   {
    "duration": 744,
    "start_time": "2021-09-29T11:39:40.493Z"
   },
   {
    "duration": 12,
    "start_time": "2021-09-29T11:39:41.238Z"
   },
   {
    "duration": 14,
    "start_time": "2021-09-29T11:39:41.253Z"
   },
   {
    "duration": 7,
    "start_time": "2021-09-29T11:39:41.270Z"
   },
   {
    "duration": 12,
    "start_time": "2021-09-29T11:39:41.278Z"
   },
   {
    "duration": 13,
    "start_time": "2021-09-29T11:39:41.292Z"
   },
   {
    "duration": 43,
    "start_time": "2021-09-29T11:39:41.307Z"
   },
   {
    "duration": 9,
    "start_time": "2021-09-29T11:39:41.355Z"
   },
   {
    "duration": 12,
    "start_time": "2021-09-29T11:39:41.366Z"
   },
   {
    "duration": 28,
    "start_time": "2021-09-29T11:39:41.380Z"
   },
   {
    "duration": 8,
    "start_time": "2021-09-29T11:39:41.410Z"
   },
   {
    "duration": 17,
    "start_time": "2021-09-29T11:39:41.450Z"
   },
   {
    "duration": 3,
    "start_time": "2021-09-29T11:41:14.344Z"
   },
   {
    "duration": 5,
    "start_time": "2021-09-29T11:41:15.642Z"
   },
   {
    "duration": 27,
    "start_time": "2021-09-29T11:41:18.020Z"
   },
   {
    "duration": 7,
    "start_time": "2021-09-29T11:41:26.888Z"
   },
   {
    "duration": 2,
    "start_time": "2021-09-29T11:41:27.404Z"
   },
   {
    "duration": 5,
    "start_time": "2021-09-29T11:41:28.118Z"
   },
   {
    "duration": 59,
    "start_time": "2021-09-29T11:41:28.581Z"
   },
   {
    "duration": 16,
    "start_time": "2021-09-29T11:41:31.056Z"
   },
   {
    "duration": 13,
    "start_time": "2021-09-29T11:41:44.672Z"
   },
   {
    "duration": 9,
    "start_time": "2021-09-29T11:41:45.058Z"
   },
   {
    "duration": 3,
    "start_time": "2021-09-29T11:41:45.442Z"
   },
   {
    "duration": 5,
    "start_time": "2021-09-29T11:41:47.034Z"
   },
   {
    "duration": 27,
    "start_time": "2021-09-29T11:41:47.478Z"
   },
   {
    "duration": 9,
    "start_time": "2021-09-29T11:41:54.380Z"
   },
   {
    "duration": 98,
    "start_time": "2021-09-29T11:42:03.094Z"
   },
   {
    "duration": 13,
    "start_time": "2021-09-29T11:42:03.663Z"
   },
   {
    "duration": 130,
    "start_time": "2021-09-29T11:42:13.275Z"
   },
   {
    "duration": 14,
    "start_time": "2021-09-29T11:42:14.034Z"
   },
   {
    "duration": 11,
    "start_time": "2021-09-29T11:42:18.105Z"
   },
   {
    "duration": 5,
    "start_time": "2021-09-29T11:42:23.584Z"
   },
   {
    "duration": 9,
    "start_time": "2021-09-29T11:42:25.594Z"
   },
   {
    "duration": 7,
    "start_time": "2021-09-29T11:42:27.936Z"
   },
   {
    "duration": 3,
    "start_time": "2021-09-29T11:42:28.307Z"
   },
   {
    "duration": 7,
    "start_time": "2021-09-29T11:42:28.944Z"
   },
   {
    "duration": 26,
    "start_time": "2021-09-29T11:42:29.380Z"
   },
   {
    "duration": 14,
    "start_time": "2021-09-29T11:42:36.120Z"
   },
   {
    "duration": 10,
    "start_time": "2021-09-29T11:43:51.729Z"
   },
   {
    "duration": 5,
    "start_time": "2021-09-29T11:43:52.416Z"
   },
   {
    "duration": 29,
    "start_time": "2021-09-29T11:43:53.035Z"
   },
   {
    "duration": 10,
    "start_time": "2021-09-29T11:43:55.296Z"
   },
   {
    "duration": 10,
    "start_time": "2021-09-29T11:43:58.725Z"
   },
   {
    "duration": 11,
    "start_time": "2021-09-29T11:44:05.940Z"
   },
   {
    "duration": 15,
    "start_time": "2021-09-29T11:45:14.243Z"
   },
   {
    "duration": 44,
    "start_time": "2021-09-29T11:48:31.061Z"
   },
   {
    "duration": 19,
    "start_time": "2021-09-29T11:48:40.444Z"
   },
   {
    "duration": 9,
    "start_time": "2021-09-29T11:48:48.093Z"
   },
   {
    "duration": 862,
    "start_time": "2021-09-29T11:49:49.625Z"
   },
   {
    "duration": 9,
    "start_time": "2021-09-29T11:49:50.488Z"
   },
   {
    "duration": 12,
    "start_time": "2021-09-29T11:49:50.499Z"
   },
   {
    "duration": 4,
    "start_time": "2021-09-29T11:49:50.513Z"
   },
   {
    "duration": 12,
    "start_time": "2021-09-29T11:49:50.519Z"
   },
   {
    "duration": 29,
    "start_time": "2021-09-29T11:49:50.533Z"
   },
   {
    "duration": 9,
    "start_time": "2021-09-29T11:49:50.564Z"
   },
   {
    "duration": 26,
    "start_time": "2021-09-29T11:49:50.575Z"
   },
   {
    "duration": 9,
    "start_time": "2021-09-29T11:49:50.603Z"
   },
   {
    "duration": 25,
    "start_time": "2021-09-29T11:50:21.775Z"
   },
   {
    "duration": 11,
    "start_time": "2021-09-29T11:50:23.460Z"
   },
   {
    "duration": 30,
    "start_time": "2021-09-29T11:50:27.447Z"
   },
   {
    "duration": 27,
    "start_time": "2021-09-29T11:50:29.656Z"
   },
   {
    "duration": 29,
    "start_time": "2021-09-29T11:50:33.047Z"
   },
   {
    "duration": 25,
    "start_time": "2021-09-29T11:50:36.081Z"
   },
   {
    "duration": 27,
    "start_time": "2021-09-29T11:50:40.055Z"
   },
   {
    "duration": 29,
    "start_time": "2021-09-29T11:51:03.747Z"
   },
   {
    "duration": 25,
    "start_time": "2021-09-29T11:51:05.713Z"
   },
   {
    "duration": 10,
    "start_time": "2021-09-29T11:51:15.057Z"
   },
   {
    "duration": 6,
    "start_time": "2021-09-29T11:53:11.945Z"
   },
   {
    "duration": 8,
    "start_time": "2021-09-29T11:53:34.233Z"
   },
   {
    "duration": 11,
    "start_time": "2021-09-29T11:54:41.468Z"
   },
   {
    "duration": 10,
    "start_time": "2021-09-29T11:54:43.025Z"
   },
   {
    "duration": 5,
    "start_time": "2021-09-29T11:54:43.037Z"
   },
   {
    "duration": 11,
    "start_time": "2021-09-29T11:54:44.918Z"
   },
   {
    "duration": 31,
    "start_time": "2021-09-29T11:56:05.451Z"
   },
   {
    "duration": 9070,
    "start_time": "2021-09-29T12:05:07.444Z"
   },
   {
    "duration": 9,
    "start_time": "2021-09-29T12:05:21.971Z"
   },
   {
    "duration": 83,
    "start_time": "2021-09-29T12:07:59.880Z"
   },
   {
    "duration": 26,
    "start_time": "2021-09-29T12:08:05.396Z"
   },
   {
    "duration": 193,
    "start_time": "2021-09-29T12:11:28.618Z"
   },
   {
    "duration": 17,
    "start_time": "2021-09-29T12:12:32.392Z"
   },
   {
    "duration": 14,
    "start_time": "2021-09-29T12:12:32.828Z"
   },
   {
    "duration": 6,
    "start_time": "2021-09-29T12:12:33.538Z"
   },
   {
    "duration": 30,
    "start_time": "2021-09-29T12:12:34.650Z"
   },
   {
    "duration": 297,
    "start_time": "2021-09-29T12:12:42.882Z"
   },
   {
    "duration": 12,
    "start_time": "2021-09-29T12:12:59.081Z"
   },
   {
    "duration": 30,
    "start_time": "2021-09-29T12:13:09.878Z"
   },
   {
    "duration": 382,
    "start_time": "2021-09-29T12:13:56.649Z"
   },
   {
    "duration": 18,
    "start_time": "2021-09-29T12:14:18.544Z"
   },
   {
    "duration": 1167,
    "start_time": "2021-09-29T12:15:10.161Z"
   },
   {
    "duration": -63,
    "start_time": "2021-09-29T12:15:11.393Z"
   },
   {
    "duration": 284,
    "start_time": "2021-09-29T12:15:11.818Z"
   },
   {
    "duration": 13,
    "start_time": "2021-09-29T12:15:19.888Z"
   },
   {
    "duration": 16,
    "start_time": "2021-09-29T12:15:20.251Z"
   },
   {
    "duration": 853,
    "start_time": "2021-09-29T12:16:20.242Z"
   },
   {
    "duration": 10,
    "start_time": "2021-09-29T12:16:21.098Z"
   },
   {
    "duration": 32,
    "start_time": "2021-09-29T12:16:21.110Z"
   },
   {
    "duration": 5,
    "start_time": "2021-09-29T12:16:21.984Z"
   },
   {
    "duration": 17,
    "start_time": "2021-09-29T12:16:23.881Z"
   },
   {
    "duration": 24,
    "start_time": "2021-09-29T12:16:24.440Z"
   },
   {
    "duration": 1224,
    "start_time": "2021-09-29T12:16:25.242Z"
   },
   {
    "duration": -77,
    "start_time": "2021-09-29T12:16:26.545Z"
   },
   {
    "duration": 6,
    "start_time": "2021-09-29T12:16:54.239Z"
   },
   {
    "duration": 38,
    "start_time": "2021-09-29T12:16:56.377Z"
   },
   {
    "duration": 289,
    "start_time": "2021-09-29T12:16:56.620Z"
   },
   {
    "duration": 29,
    "start_time": "2021-09-29T12:17:41.628Z"
   },
   {
    "duration": 34,
    "start_time": "2021-09-29T12:17:46.539Z"
   },
   {
    "duration": 42,
    "start_time": "2021-09-29T12:17:56.747Z"
   },
   {
    "duration": 12,
    "start_time": "2021-09-29T12:18:08.204Z"
   },
   {
    "duration": 12,
    "start_time": "2021-09-29T12:18:08.601Z"
   },
   {
    "duration": 1520,
    "start_time": "2021-09-29T12:18:10.008Z"
   },
   {
    "duration": 28,
    "start_time": "2021-09-29T12:18:17.208Z"
   },
   {
    "duration": 917,
    "start_time": "2021-09-29T12:18:28.369Z"
   },
   {
    "duration": 9,
    "start_time": "2021-09-29T12:18:29.289Z"
   },
   {
    "duration": 12,
    "start_time": "2021-09-29T12:18:29.304Z"
   },
   {
    "duration": 6,
    "start_time": "2021-09-29T12:18:29.318Z"
   },
   {
    "duration": 17,
    "start_time": "2021-09-29T12:18:29.350Z"
   },
   {
    "duration": 10,
    "start_time": "2021-09-29T12:18:29.369Z"
   },
   {
    "duration": 352,
    "start_time": "2021-09-29T12:18:29.381Z"
   },
   {
    "duration": -177,
    "start_time": "2021-09-29T12:18:29.912Z"
   },
   {
    "duration": -218,
    "start_time": "2021-09-29T12:18:29.955Z"
   },
   {
    "duration": -264,
    "start_time": "2021-09-29T12:18:30.002Z"
   },
   {
    "duration": -291,
    "start_time": "2021-09-29T12:18:30.029Z"
   },
   {
    "duration": 16,
    "start_time": "2021-09-29T12:18:52.268Z"
   },
   {
    "duration": 15,
    "start_time": "2021-09-29T12:18:53.282Z"
   },
   {
    "duration": 8,
    "start_time": "2021-09-29T12:18:55.682Z"
   },
   {
    "duration": 887,
    "start_time": "2021-09-29T12:20:22.442Z"
   },
   {
    "duration": 22,
    "start_time": "2021-09-29T12:20:23.331Z"
   },
   {
    "duration": 17,
    "start_time": "2021-09-29T12:20:23.355Z"
   },
   {
    "duration": 5,
    "start_time": "2021-09-29T12:20:23.375Z"
   },
   {
    "duration": 20,
    "start_time": "2021-09-29T12:20:23.382Z"
   },
   {
    "duration": 10,
    "start_time": "2021-09-29T12:20:23.404Z"
   },
   {
    "duration": 44,
    "start_time": "2021-09-29T12:20:23.416Z"
   },
   {
    "duration": 29,
    "start_time": "2021-09-29T12:20:23.466Z"
   },
   {
    "duration": 203,
    "start_time": "2021-09-29T12:20:23.497Z"
   },
   {
    "duration": 9,
    "start_time": "2021-09-29T12:20:23.702Z"
   },
   {
    "duration": 12,
    "start_time": "2021-09-29T12:20:23.713Z"
   },
   {
    "duration": 14,
    "start_time": "2021-09-29T12:21:21.831Z"
   },
   {
    "duration": 11,
    "start_time": "2021-09-29T12:21:22.535Z"
   },
   {
    "duration": 7,
    "start_time": "2021-09-29T12:21:23.625Z"
   },
   {
    "duration": 2,
    "start_time": "2021-09-29T12:21:31.479Z"
   },
   {
    "duration": 26,
    "start_time": "2021-09-29T12:21:32.204Z"
   },
   {
    "duration": 1055,
    "start_time": "2021-09-29T12:21:39.559Z"
   },
   {
    "duration": 15,
    "start_time": "2021-09-29T12:21:40.617Z"
   },
   {
    "duration": 25,
    "start_time": "2021-09-29T12:21:40.635Z"
   },
   {
    "duration": 6,
    "start_time": "2021-09-29T12:21:40.663Z"
   },
   {
    "duration": 19,
    "start_time": "2021-09-29T12:21:40.671Z"
   },
   {
    "duration": 11,
    "start_time": "2021-09-29T12:21:40.692Z"
   },
   {
    "duration": 9,
    "start_time": "2021-09-29T12:21:40.705Z"
   },
   {
    "duration": 3,
    "start_time": "2021-09-29T12:21:40.717Z"
   },
   {
    "duration": 41,
    "start_time": "2021-09-29T12:21:40.749Z"
   },
   {
    "duration": 192,
    "start_time": "2021-09-29T12:21:40.793Z"
   },
   {
    "duration": 11,
    "start_time": "2021-09-29T12:21:40.987Z"
   },
   {
    "duration": 13,
    "start_time": "2021-09-29T12:21:41.001Z"
   },
   {
    "duration": 386,
    "start_time": "2021-09-29T12:22:02.935Z"
   },
   {
    "duration": 6,
    "start_time": "2021-09-29T12:25:11.478Z"
   },
   {
    "duration": 27,
    "start_time": "2021-09-29T12:25:27.396Z"
   },
   {
    "duration": 812,
    "start_time": "2021-09-29T12:25:42.989Z"
   },
   {
    "duration": 10,
    "start_time": "2021-09-29T12:25:43.803Z"
   },
   {
    "duration": 13,
    "start_time": "2021-09-29T12:25:43.816Z"
   },
   {
    "duration": 12,
    "start_time": "2021-09-29T12:25:43.849Z"
   },
   {
    "duration": 19,
    "start_time": "2021-09-29T12:25:43.866Z"
   },
   {
    "duration": 13,
    "start_time": "2021-09-29T12:25:43.887Z"
   },
   {
    "duration": 9,
    "start_time": "2021-09-29T12:25:43.902Z"
   },
   {
    "duration": 5,
    "start_time": "2021-09-29T12:25:43.913Z"
   },
   {
    "duration": 64,
    "start_time": "2021-09-29T12:25:43.920Z"
   },
   {
    "duration": 222,
    "start_time": "2021-09-29T12:25:43.987Z"
   },
   {
    "duration": 10,
    "start_time": "2021-09-29T12:25:44.211Z"
   },
   {
    "duration": 28,
    "start_time": "2021-09-29T12:25:44.223Z"
   },
   {
    "duration": 843,
    "start_time": "2021-09-29T12:47:25.030Z"
   },
   {
    "duration": 10,
    "start_time": "2021-09-29T12:47:25.875Z"
   },
   {
    "duration": 12,
    "start_time": "2021-09-29T12:47:34.394Z"
   },
   {
    "duration": 5,
    "start_time": "2021-09-29T12:47:36.692Z"
   },
   {
    "duration": 13,
    "start_time": "2021-09-29T12:47:38.995Z"
   },
   {
    "duration": 13,
    "start_time": "2021-09-29T12:47:41.250Z"
   },
   {
    "duration": 11,
    "start_time": "2021-09-29T12:47:42.164Z"
   },
   {
    "duration": 2,
    "start_time": "2021-09-29T12:47:42.823Z"
   },
   {
    "duration": 38,
    "start_time": "2021-09-29T12:47:43.812Z"
   },
   {
    "duration": 26,
    "start_time": "2021-09-29T12:56:13.231Z"
   },
   {
    "duration": 111,
    "start_time": "2021-09-29T12:56:14.737Z"
   },
   {
    "duration": 27,
    "start_time": "2021-09-29T12:56:16.917Z"
   },
   {
    "duration": 28,
    "start_time": "2021-09-29T12:56:21.003Z"
   },
   {
    "duration": 27,
    "start_time": "2021-09-29T12:56:22.497Z"
   },
   {
    "duration": 32,
    "start_time": "2021-09-29T12:56:31.636Z"
   },
   {
    "duration": 27,
    "start_time": "2021-09-29T12:56:33.703Z"
   },
   {
    "duration": 219,
    "start_time": "2021-09-29T12:58:24.896Z"
   },
   {
    "duration": 12,
    "start_time": "2021-09-29T12:58:42.760Z"
   },
   {
    "duration": 2,
    "start_time": "2021-09-29T12:58:43.410Z"
   },
   {
    "duration": 28,
    "start_time": "2021-09-29T12:58:43.792Z"
   },
   {
    "duration": 6,
    "start_time": "2021-09-29T12:59:01.408Z"
   },
   {
    "duration": 3,
    "start_time": "2021-09-29T12:59:02.686Z"
   },
   {
    "duration": 28,
    "start_time": "2021-09-29T12:59:03.071Z"
   },
   {
    "duration": 35,
    "start_time": "2021-09-29T12:59:56.335Z"
   },
   {
    "duration": 856,
    "start_time": "2021-09-29T13:00:05.415Z"
   },
   {
    "duration": 12,
    "start_time": "2021-09-29T13:00:06.274Z"
   },
   {
    "duration": 20,
    "start_time": "2021-09-29T13:00:06.292Z"
   },
   {
    "duration": 6,
    "start_time": "2021-09-29T13:00:06.314Z"
   },
   {
    "duration": 18,
    "start_time": "2021-09-29T13:00:06.356Z"
   },
   {
    "duration": 697,
    "start_time": "2021-09-29T13:00:06.376Z"
   },
   {
    "duration": -71,
    "start_time": "2021-09-29T13:00:07.146Z"
   },
   {
    "duration": -74,
    "start_time": "2021-09-29T13:00:07.150Z"
   },
   {
    "duration": -82,
    "start_time": "2021-09-29T13:00:07.159Z"
   },
   {
    "duration": -85,
    "start_time": "2021-09-29T13:00:07.163Z"
   },
   {
    "duration": -88,
    "start_time": "2021-09-29T13:00:07.167Z"
   },
   {
    "duration": 11,
    "start_time": "2021-09-29T13:01:19.614Z"
   },
   {
    "duration": 10,
    "start_time": "2021-09-29T13:01:21.008Z"
   },
   {
    "duration": 9,
    "start_time": "2021-09-29T13:01:22.023Z"
   },
   {
    "duration": 31,
    "start_time": "2021-09-29T13:01:26.304Z"
   },
   {
    "duration": 29,
    "start_time": "2021-09-29T13:01:53.466Z"
   },
   {
    "duration": 32,
    "start_time": "2021-09-29T13:01:56.349Z"
   },
   {
    "duration": 40,
    "start_time": "2021-09-29T13:01:58.843Z"
   },
   {
    "duration": 7,
    "start_time": "2021-09-29T13:02:07.636Z"
   },
   {
    "duration": 3,
    "start_time": "2021-09-29T13:02:09.206Z"
   },
   {
    "duration": 34,
    "start_time": "2021-09-29T13:02:09.540Z"
   },
   {
    "duration": 965,
    "start_time": "2021-09-29T13:02:16.589Z"
   },
   {
    "duration": 14,
    "start_time": "2021-09-29T13:02:17.557Z"
   },
   {
    "duration": 22,
    "start_time": "2021-09-29T13:02:17.574Z"
   },
   {
    "duration": 6,
    "start_time": "2021-09-29T13:02:17.599Z"
   },
   {
    "duration": 19,
    "start_time": "2021-09-29T13:02:17.607Z"
   },
   {
    "duration": 17,
    "start_time": "2021-09-29T13:02:17.651Z"
   },
   {
    "duration": 10,
    "start_time": "2021-09-29T13:02:17.671Z"
   },
   {
    "duration": 19,
    "start_time": "2021-09-29T13:02:17.684Z"
   },
   {
    "duration": 9,
    "start_time": "2021-09-29T13:02:17.706Z"
   },
   {
    "duration": 59,
    "start_time": "2021-09-29T13:02:17.717Z"
   },
   {
    "duration": 136,
    "start_time": "2021-09-29T13:02:17.779Z"
   },
   {
    "duration": 6,
    "start_time": "2021-09-29T13:02:41.143Z"
   },
   {
    "duration": 3,
    "start_time": "2021-09-29T13:02:43.004Z"
   },
   {
    "duration": 37,
    "start_time": "2021-09-29T13:02:43.009Z"
   },
   {
    "duration": 10,
    "start_time": "2021-09-29T13:17:19.631Z"
   },
   {
    "duration": 10,
    "start_time": "2021-09-29T13:26:59.479Z"
   },
   {
    "duration": 25,
    "start_time": "2021-09-29T13:27:14.886Z"
   },
   {
    "duration": 29,
    "start_time": "2021-09-29T13:27:20.834Z"
   },
   {
    "duration": 5,
    "start_time": "2021-09-29T13:27:56.166Z"
   },
   {
    "duration": 349,
    "start_time": "2021-09-29T13:28:13.683Z"
   },
   {
    "duration": 367,
    "start_time": "2021-09-29T13:29:05.263Z"
   },
   {
    "duration": 278,
    "start_time": "2021-09-29T13:40:09.848Z"
   },
   {
    "duration": 11,
    "start_time": "2021-09-29T13:40:36.288Z"
   },
   {
    "duration": 10,
    "start_time": "2021-09-29T13:40:37.103Z"
   },
   {
    "duration": 5,
    "start_time": "2021-09-29T13:40:37.888Z"
   },
   {
    "duration": 6,
    "start_time": "2021-09-29T13:40:39.255Z"
   },
   {
    "duration": 3,
    "start_time": "2021-09-29T13:40:39.851Z"
   },
   {
    "duration": 35,
    "start_time": "2021-09-29T13:40:40.448Z"
   },
   {
    "duration": 259,
    "start_time": "2021-09-29T13:40:43.584Z"
   },
   {
    "duration": 8,
    "start_time": "2021-09-29T13:40:56.054Z"
   },
   {
    "duration": 899,
    "start_time": "2021-09-29T13:41:12.358Z"
   },
   {
    "duration": 6,
    "start_time": "2021-09-29T13:41:18.510Z"
   },
   {
    "duration": 8,
    "start_time": "2021-09-29T13:42:48.167Z"
   },
   {
    "duration": 12,
    "start_time": "2021-09-29T13:43:06.349Z"
   },
   {
    "duration": 10,
    "start_time": "2021-09-29T13:43:22.422Z"
   },
   {
    "duration": 5,
    "start_time": "2021-09-29T13:44:59.088Z"
   },
   {
    "duration": 25,
    "start_time": "2021-09-29T13:44:59.887Z"
   },
   {
    "duration": 15,
    "start_time": "2021-09-29T13:45:41.389Z"
   },
   {
    "duration": 5,
    "start_time": "2021-09-29T13:45:41.737Z"
   },
   {
    "duration": 8,
    "start_time": "2021-09-29T13:45:42.116Z"
   },
   {
    "duration": 41,
    "start_time": "2021-09-29T13:45:43.281Z"
   },
   {
    "duration": 13,
    "start_time": "2021-09-29T13:46:08.322Z"
   },
   {
    "duration": 13,
    "start_time": "2021-09-29T13:46:33.080Z"
   },
   {
    "duration": 16,
    "start_time": "2021-09-29T13:46:59.611Z"
   },
   {
    "duration": 5,
    "start_time": "2021-09-29T13:50:07.856Z"
   },
   {
    "duration": 19,
    "start_time": "2021-09-29T13:52:24.951Z"
   },
   {
    "duration": 13,
    "start_time": "2021-09-29T13:52:32.357Z"
   },
   {
    "duration": 10,
    "start_time": "2021-09-29T13:52:33.078Z"
   },
   {
    "duration": 6,
    "start_time": "2021-09-29T13:52:34.092Z"
   },
   {
    "duration": 5,
    "start_time": "2021-09-29T13:52:34.896Z"
   },
   {
    "duration": 7591,
    "start_time": "2021-09-29T13:52:35.972Z"
   },
   {
    "duration": -120,
    "start_time": "2021-09-29T13:52:43.686Z"
   },
   {
    "duration": 851,
    "start_time": "2021-09-29T13:52:53.944Z"
   },
   {
    "duration": 10,
    "start_time": "2021-09-29T13:52:54.797Z"
   },
   {
    "duration": 12,
    "start_time": "2021-09-29T13:52:54.809Z"
   },
   {
    "duration": 3,
    "start_time": "2021-09-29T13:52:54.823Z"
   },
   {
    "duration": 38,
    "start_time": "2021-09-29T13:52:54.828Z"
   },
   {
    "duration": 11,
    "start_time": "2021-09-29T13:52:54.869Z"
   },
   {
    "duration": 10,
    "start_time": "2021-09-29T13:52:54.882Z"
   },
   {
    "duration": 9,
    "start_time": "2021-09-29T13:52:54.894Z"
   },
   {
    "duration": 7525,
    "start_time": "2021-09-29T13:52:54.905Z"
   },
   {
    "duration": -139,
    "start_time": "2021-09-29T13:53:02.571Z"
   },
   {
    "duration": -144,
    "start_time": "2021-09-29T13:53:02.577Z"
   },
   {
    "duration": -146,
    "start_time": "2021-09-29T13:53:02.581Z"
   },
   {
    "duration": 292,
    "start_time": "2021-09-29T13:53:41.457Z"
   },
   {
    "duration": 107,
    "start_time": "2021-09-29T13:53:52.731Z"
   },
   {
    "duration": 13,
    "start_time": "2021-09-29T13:53:52.938Z"
   },
   {
    "duration": 12,
    "start_time": "2021-09-29T13:53:53.686Z"
   },
   {
    "duration": 625,
    "start_time": "2021-09-29T13:53:54.668Z"
   },
   {
    "duration": 4,
    "start_time": "2021-09-29T13:54:00.928Z"
   },
   {
    "duration": 11,
    "start_time": "2021-09-29T13:54:37.064Z"
   },
   {
    "duration": 12,
    "start_time": "2021-09-29T13:54:37.549Z"
   },
   {
    "duration": 9,
    "start_time": "2021-09-29T13:54:38.329Z"
   },
   {
    "duration": 10,
    "start_time": "2021-09-29T13:54:38.564Z"
   },
   {
    "duration": 284,
    "start_time": "2021-09-29T13:54:39.107Z"
   },
   {
    "duration": 9,
    "start_time": "2021-09-29T13:55:18.933Z"
   },
   {
    "duration": 30,
    "start_time": "2021-09-29T13:55:20.403Z"
   },
   {
    "duration": 9,
    "start_time": "2021-09-29T13:55:51.723Z"
   },
   {
    "duration": 27,
    "start_time": "2021-09-29T13:55:53.075Z"
   },
   {
    "duration": 9,
    "start_time": "2021-09-29T13:55:57.170Z"
   },
   {
    "duration": 7,
    "start_time": "2021-09-29T13:59:08.369Z"
   },
   {
    "duration": 24,
    "start_time": "2021-09-29T13:59:08.877Z"
   },
   {
    "duration": 757,
    "start_time": "2021-09-29T13:59:19.294Z"
   },
   {
    "duration": 10,
    "start_time": "2021-09-29T13:59:20.053Z"
   },
   {
    "duration": 12,
    "start_time": "2021-09-29T13:59:20.065Z"
   },
   {
    "duration": 5,
    "start_time": "2021-09-29T13:59:20.079Z"
   },
   {
    "duration": 13,
    "start_time": "2021-09-29T13:59:20.086Z"
   },
   {
    "duration": 48,
    "start_time": "2021-09-29T13:59:20.101Z"
   },
   {
    "duration": 13,
    "start_time": "2021-09-29T13:59:20.152Z"
   },
   {
    "duration": 10,
    "start_time": "2021-09-29T13:59:20.167Z"
   },
   {
    "duration": 21,
    "start_time": "2021-09-29T13:59:20.179Z"
   },
   {
    "duration": 47,
    "start_time": "2021-09-29T13:59:20.202Z"
   },
   {
    "duration": 9,
    "start_time": "2021-09-29T13:59:20.251Z"
   },
   {
    "duration": 12,
    "start_time": "2021-09-29T13:59:20.262Z"
   },
   {
    "duration": 14,
    "start_time": "2021-09-29T14:01:36.000Z"
   },
   {
    "duration": 826,
    "start_time": "2021-09-29T14:01:54.392Z"
   },
   {
    "duration": 10,
    "start_time": "2021-09-29T14:01:56.289Z"
   },
   {
    "duration": 12,
    "start_time": "2021-09-29T14:01:57.957Z"
   },
   {
    "duration": 6,
    "start_time": "2021-09-29T14:01:59.080Z"
   },
   {
    "duration": 18,
    "start_time": "2021-09-29T14:02:01.277Z"
   },
   {
    "duration": 16,
    "start_time": "2021-09-29T14:02:01.775Z"
   },
   {
    "duration": 12,
    "start_time": "2021-09-29T14:02:02.638Z"
   },
   {
    "duration": 15,
    "start_time": "2021-09-29T14:02:03.820Z"
   },
   {
    "duration": 12,
    "start_time": "2021-09-29T14:02:04.776Z"
   },
   {
    "duration": 9,
    "start_time": "2021-09-29T14:03:47.407Z"
   },
   {
    "duration": 27,
    "start_time": "2021-09-29T14:03:48.570Z"
   },
   {
    "duration": 8,
    "start_time": "2021-09-29T14:04:25.668Z"
   },
   {
    "duration": 30,
    "start_time": "2021-09-29T14:04:26.777Z"
   },
   {
    "duration": 805,
    "start_time": "2021-09-29T14:04:40.693Z"
   },
   {
    "duration": 10,
    "start_time": "2021-09-29T14:04:41.501Z"
   },
   {
    "duration": 20,
    "start_time": "2021-09-29T14:04:41.514Z"
   },
   {
    "duration": 7,
    "start_time": "2021-09-29T14:04:41.536Z"
   },
   {
    "duration": 35,
    "start_time": "2021-09-29T14:04:41.545Z"
   },
   {
    "duration": 13,
    "start_time": "2021-09-29T14:04:41.582Z"
   },
   {
    "duration": 31,
    "start_time": "2021-09-29T14:04:41.597Z"
   },
   {
    "duration": 20,
    "start_time": "2021-09-29T14:04:41.631Z"
   },
   {
    "duration": 22,
    "start_time": "2021-09-29T14:04:41.654Z"
   },
   {
    "duration": 46,
    "start_time": "2021-09-29T14:04:41.678Z"
   },
   {
    "duration": 13,
    "start_time": "2021-09-29T14:04:41.726Z"
   },
   {
    "duration": 9,
    "start_time": "2021-09-29T14:04:41.741Z"
   },
   {
    "duration": 26,
    "start_time": "2021-09-29T14:04:41.751Z"
   },
   {
    "duration": 9,
    "start_time": "2021-09-29T14:05:10.794Z"
   },
   {
    "duration": 28,
    "start_time": "2021-09-29T14:05:11.342Z"
   },
   {
    "duration": 1075,
    "start_time": "2021-09-29T14:05:56.862Z"
   },
   {
    "duration": 14,
    "start_time": "2021-09-29T14:05:57.940Z"
   },
   {
    "duration": 16,
    "start_time": "2021-09-29T14:05:57.957Z"
   },
   {
    "duration": 6,
    "start_time": "2021-09-29T14:05:57.976Z"
   },
   {
    "duration": 16,
    "start_time": "2021-09-29T14:05:57.984Z"
   },
   {
    "duration": 15,
    "start_time": "2021-09-29T14:05:58.003Z"
   },
   {
    "duration": 12,
    "start_time": "2021-09-29T14:05:58.050Z"
   },
   {
    "duration": 15,
    "start_time": "2021-09-29T14:05:58.065Z"
   },
   {
    "duration": 15,
    "start_time": "2021-09-29T14:05:58.083Z"
   },
   {
    "duration": 69,
    "start_time": "2021-09-29T14:05:58.100Z"
   },
   {
    "duration": 13,
    "start_time": "2021-09-29T14:05:58.173Z"
   },
   {
    "duration": 18,
    "start_time": "2021-09-29T14:05:58.188Z"
   },
   {
    "duration": 12,
    "start_time": "2021-09-29T14:06:19.456Z"
   },
   {
    "duration": 10,
    "start_time": "2021-09-29T14:06:19.985Z"
   },
   {
    "duration": 6,
    "start_time": "2021-09-29T14:06:20.726Z"
   },
   {
    "duration": 5,
    "start_time": "2021-09-29T14:06:20.993Z"
   },
   {
    "duration": 8,
    "start_time": "2021-09-29T14:06:21.259Z"
   },
   {
    "duration": 38,
    "start_time": "2021-09-29T14:06:21.509Z"
   },
   {
    "duration": 14,
    "start_time": "2021-09-29T14:06:25.775Z"
   },
   {
    "duration": 793,
    "start_time": "2021-09-29T14:06:34.191Z"
   },
   {
    "duration": 10,
    "start_time": "2021-09-29T14:06:34.986Z"
   },
   {
    "duration": 12,
    "start_time": "2021-09-29T14:06:34.998Z"
   },
   {
    "duration": 5,
    "start_time": "2021-09-29T14:06:35.013Z"
   },
   {
    "duration": 34,
    "start_time": "2021-09-29T14:06:35.020Z"
   },
   {
    "duration": 11,
    "start_time": "2021-09-29T14:06:35.056Z"
   },
   {
    "duration": 8,
    "start_time": "2021-09-29T14:06:35.069Z"
   },
   {
    "duration": 9,
    "start_time": "2021-09-29T14:06:35.080Z"
   },
   {
    "duration": 12,
    "start_time": "2021-09-29T14:06:35.091Z"
   },
   {
    "duration": 61,
    "start_time": "2021-09-29T14:06:35.105Z"
   },
   {
    "duration": 9,
    "start_time": "2021-09-29T14:06:35.168Z"
   },
   {
    "duration": 13,
    "start_time": "2021-09-29T14:06:35.179Z"
   },
   {
    "duration": 11,
    "start_time": "2021-09-29T14:06:51.148Z"
   },
   {
    "duration": 10,
    "start_time": "2021-09-29T14:06:51.637Z"
   },
   {
    "duration": 8,
    "start_time": "2021-09-29T14:06:52.012Z"
   },
   {
    "duration": 6,
    "start_time": "2021-09-29T14:06:52.191Z"
   },
   {
    "duration": 8,
    "start_time": "2021-09-29T14:06:52.446Z"
   },
   {
    "duration": 31,
    "start_time": "2021-09-29T14:06:52.712Z"
   },
   {
    "duration": 27,
    "start_time": "2021-09-29T14:06:56.739Z"
   },
   {
    "duration": 10,
    "start_time": "2021-09-29T14:07:25.221Z"
   },
   {
    "duration": 28,
    "start_time": "2021-09-29T14:07:25.805Z"
   },
   {
    "duration": 9,
    "start_time": "2021-09-29T14:07:55.214Z"
   },
   {
    "duration": 12,
    "start_time": "2021-09-29T14:07:56.485Z"
   },
   {
    "duration": 12,
    "start_time": "2021-09-29T14:10:50.352Z"
   },
   {
    "duration": 27,
    "start_time": "2021-09-29T14:10:51.536Z"
   },
   {
    "duration": 9,
    "start_time": "2021-09-29T14:11:27.473Z"
   },
   {
    "duration": 15,
    "start_time": "2021-09-29T14:14:03.743Z"
   },
   {
    "duration": 27,
    "start_time": "2021-09-29T14:14:04.926Z"
   },
   {
    "duration": 27,
    "start_time": "2021-09-29T14:14:11.642Z"
   },
   {
    "duration": 27,
    "start_time": "2021-09-29T14:14:28.933Z"
   },
   {
    "duration": 11,
    "start_time": "2021-09-29T14:14:32.620Z"
   },
   {
    "duration": 17,
    "start_time": "2021-09-29T14:14:37.072Z"
   },
   {
    "duration": 20,
    "start_time": "2021-09-29T14:16:09.090Z"
   },
   {
    "duration": 27,
    "start_time": "2021-09-29T14:16:09.885Z"
   },
   {
    "duration": 11,
    "start_time": "2021-09-29T14:17:42.259Z"
   },
   {
    "duration": 11,
    "start_time": "2021-09-29T14:17:42.783Z"
   },
   {
    "duration": 6,
    "start_time": "2021-09-29T14:17:43.583Z"
   },
   {
    "duration": 5,
    "start_time": "2021-09-29T14:17:43.999Z"
   },
   {
    "duration": 17,
    "start_time": "2021-09-29T14:17:44.446Z"
   },
   {
    "duration": 25,
    "start_time": "2021-09-29T14:17:45.234Z"
   },
   {
    "duration": 823,
    "start_time": "2021-09-29T14:17:55.259Z"
   },
   {
    "duration": 10,
    "start_time": "2021-09-29T14:17:56.084Z"
   },
   {
    "duration": 15,
    "start_time": "2021-09-29T14:17:56.096Z"
   },
   {
    "duration": 5,
    "start_time": "2021-09-29T14:17:56.113Z"
   },
   {
    "duration": 35,
    "start_time": "2021-09-29T14:17:56.119Z"
   },
   {
    "duration": 17,
    "start_time": "2021-09-29T14:17:56.156Z"
   },
   {
    "duration": 14,
    "start_time": "2021-09-29T14:17:56.175Z"
   },
   {
    "duration": 11,
    "start_time": "2021-09-29T14:17:56.191Z"
   },
   {
    "duration": 47,
    "start_time": "2021-09-29T14:17:56.205Z"
   },
   {
    "duration": 26,
    "start_time": "2021-09-29T14:17:56.254Z"
   },
   {
    "duration": 13,
    "start_time": "2021-09-29T14:17:56.282Z"
   },
   {
    "duration": 13,
    "start_time": "2021-09-29T14:17:56.296Z"
   },
   {
    "duration": 16,
    "start_time": "2021-09-29T14:19:06.136Z"
   },
   {
    "duration": 25,
    "start_time": "2021-09-29T14:19:06.634Z"
   },
   {
    "duration": 16,
    "start_time": "2021-09-29T14:19:42.569Z"
   },
   {
    "duration": 28,
    "start_time": "2021-09-29T14:19:43.169Z"
   },
   {
    "duration": 857,
    "start_time": "2021-09-29T14:19:53.311Z"
   },
   {
    "duration": 10,
    "start_time": "2021-09-29T14:19:54.170Z"
   },
   {
    "duration": 14,
    "start_time": "2021-09-29T14:19:54.182Z"
   },
   {
    "duration": 5,
    "start_time": "2021-09-29T14:19:54.197Z"
   },
   {
    "duration": 45,
    "start_time": "2021-09-29T14:19:54.204Z"
   },
   {
    "duration": 12,
    "start_time": "2021-09-29T14:19:54.251Z"
   },
   {
    "duration": 9,
    "start_time": "2021-09-29T14:19:54.266Z"
   },
   {
    "duration": 10,
    "start_time": "2021-09-29T14:19:54.277Z"
   },
   {
    "duration": 24,
    "start_time": "2021-09-29T14:19:54.289Z"
   },
   {
    "duration": 76,
    "start_time": "2021-09-29T14:19:54.316Z"
   },
   {
    "duration": 13,
    "start_time": "2021-09-29T14:19:54.396Z"
   },
   {
    "duration": 49,
    "start_time": "2021-09-29T14:19:54.412Z"
   },
   {
    "duration": 20,
    "start_time": "2021-09-29T14:21:25.208Z"
   },
   {
    "duration": 43,
    "start_time": "2021-09-29T14:21:42.210Z"
   },
   {
    "duration": 39,
    "start_time": "2021-09-29T14:22:19.188Z"
   },
   {
    "duration": 44,
    "start_time": "2021-09-29T14:22:31.306Z"
   },
   {
    "duration": 41,
    "start_time": "2021-09-29T14:22:43.458Z"
   },
   {
    "duration": 40,
    "start_time": "2021-09-29T14:22:52.901Z"
   },
   {
    "duration": 40,
    "start_time": "2021-09-29T14:23:00.358Z"
   },
   {
    "duration": 92,
    "start_time": "2021-09-29T14:24:51.921Z"
   },
   {
    "duration": 47,
    "start_time": "2021-09-29T14:24:56.896Z"
   },
   {
    "duration": 17,
    "start_time": "2021-09-29T14:25:27.940Z"
   },
   {
    "duration": 37,
    "start_time": "2021-09-29T14:25:28.586Z"
   },
   {
    "duration": 887,
    "start_time": "2021-09-29T14:25:45.664Z"
   },
   {
    "duration": 12,
    "start_time": "2021-09-29T14:25:46.553Z"
   },
   {
    "duration": 14,
    "start_time": "2021-09-29T14:25:48.449Z"
   },
   {
    "duration": 5,
    "start_time": "2021-09-29T14:25:49.535Z"
   },
   {
    "duration": 29,
    "start_time": "2021-09-29T14:26:10.639Z"
   },
   {
    "duration": 13,
    "start_time": "2021-09-29T14:26:17.934Z"
   },
   {
    "duration": 15,
    "start_time": "2021-09-29T14:26:18.590Z"
   },
   {
    "duration": 10,
    "start_time": "2021-09-29T14:26:19.796Z"
   },
   {
    "duration": 15,
    "start_time": "2021-09-29T14:26:20.265Z"
   },
   {
    "duration": 24,
    "start_time": "2021-09-29T14:26:20.798Z"
   },
   {
    "duration": 43,
    "start_time": "2021-09-29T14:26:21.250Z"
   },
   {
    "duration": 36,
    "start_time": "2021-09-29T14:26:34.305Z"
   },
   {
    "duration": 15,
    "start_time": "2021-09-29T14:31:04.431Z"
   },
   {
    "duration": 24,
    "start_time": "2021-09-29T14:31:04.972Z"
   },
   {
    "duration": 803,
    "start_time": "2021-09-29T14:31:13.199Z"
   },
   {
    "duration": 18,
    "start_time": "2021-09-29T14:31:14.005Z"
   },
   {
    "duration": 27,
    "start_time": "2021-09-29T14:31:14.025Z"
   },
   {
    "duration": 5,
    "start_time": "2021-09-29T14:31:14.055Z"
   },
   {
    "duration": 53,
    "start_time": "2021-09-29T14:31:14.062Z"
   },
   {
    "duration": 27,
    "start_time": "2021-09-29T14:31:14.117Z"
   },
   {
    "duration": 27,
    "start_time": "2021-09-29T14:31:14.146Z"
   },
   {
    "duration": 20,
    "start_time": "2021-09-29T14:31:14.176Z"
   },
   {
    "duration": 23,
    "start_time": "2021-09-29T14:31:14.198Z"
   },
   {
    "duration": 38,
    "start_time": "2021-09-29T14:31:14.223Z"
   },
   {
    "duration": 45,
    "start_time": "2021-09-29T14:31:14.263Z"
   },
   {
    "duration": 19,
    "start_time": "2021-09-29T14:31:14.311Z"
   },
   {
    "duration": 27,
    "start_time": "2021-09-29T14:31:14.333Z"
   },
   {
    "duration": 9,
    "start_time": "2021-09-29T14:31:42.045Z"
   },
   {
    "duration": 410,
    "start_time": "2021-09-30T10:19:51.838Z"
   },
   {
    "duration": 813,
    "start_time": "2021-09-30T10:19:59.599Z"
   },
   {
    "duration": 10,
    "start_time": "2021-09-30T10:20:00.414Z"
   },
   {
    "duration": 12,
    "start_time": "2021-09-30T10:20:00.597Z"
   },
   {
    "duration": 4,
    "start_time": "2021-09-30T10:20:01.607Z"
   },
   {
    "duration": 25,
    "start_time": "2021-09-30T10:20:01.919Z"
   },
   {
    "duration": 11,
    "start_time": "2021-09-30T10:20:03.199Z"
   },
   {
    "duration": 9,
    "start_time": "2021-09-30T10:20:03.425Z"
   },
   {
    "duration": 10,
    "start_time": "2021-09-30T10:20:03.930Z"
   },
   {
    "duration": 11,
    "start_time": "2021-09-30T10:20:04.178Z"
   },
   {
    "duration": 17,
    "start_time": "2021-09-30T10:20:04.354Z"
   },
   {
    "duration": 22,
    "start_time": "2021-09-30T10:20:04.615Z"
   },
   {
    "duration": 16,
    "start_time": "2021-09-30T10:20:12.807Z"
   },
   {
    "duration": 15,
    "start_time": "2021-09-30T10:20:17.557Z"
   },
   {
    "duration": 5,
    "start_time": "2021-09-30T10:20:57.947Z"
   },
   {
    "duration": 13,
    "start_time": "2021-09-30T10:21:37.273Z"
   },
   {
    "duration": 5,
    "start_time": "2021-09-30T10:21:38.163Z"
   },
   {
    "duration": 133,
    "start_time": "2021-09-30T10:21:39.721Z"
   },
   {
    "duration": 23,
    "start_time": "2021-09-30T10:21:55.140Z"
   },
   {
    "duration": 13,
    "start_time": "2021-09-30T10:23:39.933Z"
   },
   {
    "duration": 25,
    "start_time": "2021-09-30T10:23:40.829Z"
   },
   {
    "duration": 758,
    "start_time": "2021-09-30T10:23:48.073Z"
   },
   {
    "duration": 11,
    "start_time": "2021-09-30T10:23:48.833Z"
   },
   {
    "duration": 12,
    "start_time": "2021-09-30T10:23:48.846Z"
   },
   {
    "duration": 17,
    "start_time": "2021-09-30T10:23:48.860Z"
   },
   {
    "duration": 26,
    "start_time": "2021-09-30T10:23:48.878Z"
   },
   {
    "duration": 11,
    "start_time": "2021-09-30T10:23:48.906Z"
   },
   {
    "duration": 9,
    "start_time": "2021-09-30T10:23:48.919Z"
   },
   {
    "duration": 8,
    "start_time": "2021-09-30T10:23:48.930Z"
   },
   {
    "duration": 8,
    "start_time": "2021-09-30T10:23:48.940Z"
   },
   {
    "duration": 19,
    "start_time": "2021-09-30T10:23:48.976Z"
   },
   {
    "duration": 23,
    "start_time": "2021-09-30T10:23:48.996Z"
   },
   {
    "duration": 10,
    "start_time": "2021-09-30T10:23:49.021Z"
   },
   {
    "duration": 9,
    "start_time": "2021-09-30T10:23:49.033Z"
   },
   {
    "duration": 752,
    "start_time": "2021-09-30T10:35:38.136Z"
   },
   {
    "duration": 11,
    "start_time": "2021-09-30T10:35:38.891Z"
   },
   {
    "duration": 11,
    "start_time": "2021-09-30T10:35:38.904Z"
   },
   {
    "duration": 4,
    "start_time": "2021-09-30T10:35:38.918Z"
   },
   {
    "duration": 30,
    "start_time": "2021-09-30T10:35:38.924Z"
   },
   {
    "duration": 16,
    "start_time": "2021-09-30T10:35:38.977Z"
   },
   {
    "duration": 12,
    "start_time": "2021-09-30T10:35:38.995Z"
   },
   {
    "duration": 10,
    "start_time": "2021-09-30T10:35:39.009Z"
   },
   {
    "duration": 14,
    "start_time": "2021-09-30T10:35:39.022Z"
   },
   {
    "duration": 54,
    "start_time": "2021-09-30T10:35:39.038Z"
   },
   {
    "duration": 23,
    "start_time": "2021-09-30T10:35:39.094Z"
   },
   {
    "duration": 10,
    "start_time": "2021-09-30T10:35:39.119Z"
   },
   {
    "duration": 11,
    "start_time": "2021-09-30T10:35:39.130Z"
   },
   {
    "duration": 370,
    "start_time": "2021-09-30T18:12:45.204Z"
   },
   {
    "duration": 789,
    "start_time": "2021-09-30T18:12:58.741Z"
   },
   {
    "duration": 11,
    "start_time": "2021-09-30T18:12:59.532Z"
   },
   {
    "duration": 11,
    "start_time": "2021-09-30T18:12:59.545Z"
   },
   {
    "duration": 18,
    "start_time": "2021-09-30T18:12:59.558Z"
   },
   {
    "duration": 25,
    "start_time": "2021-09-30T18:12:59.578Z"
   },
   {
    "duration": 11,
    "start_time": "2021-09-30T18:12:59.604Z"
   },
   {
    "duration": 10,
    "start_time": "2021-09-30T18:12:59.617Z"
   },
   {
    "duration": 10,
    "start_time": "2021-09-30T18:12:59.628Z"
   },
   {
    "duration": 37,
    "start_time": "2021-09-30T18:12:59.640Z"
   },
   {
    "duration": 23,
    "start_time": "2021-09-30T18:12:59.679Z"
   },
   {
    "duration": 22,
    "start_time": "2021-09-30T18:12:59.703Z"
   },
   {
    "duration": 55,
    "start_time": "2021-09-30T18:12:59.727Z"
   },
   {
    "duration": 8,
    "start_time": "2021-09-30T18:12:59.784Z"
   },
   {
    "duration": 8,
    "start_time": "2021-09-30T18:12:59.793Z"
   },
   {
    "duration": 24,
    "start_time": "2021-09-30T18:15:42.580Z"
   },
   {
    "duration": 11,
    "start_time": "2021-09-30T18:15:45.016Z"
   },
   {
    "duration": 2,
    "start_time": "2021-09-30T18:15:45.467Z"
   },
   {
    "duration": 3,
    "start_time": "2021-09-30T18:15:46.002Z"
   },
   {
    "duration": 5,
    "start_time": "2021-09-30T18:15:46.518Z"
   },
   {
    "duration": 5,
    "start_time": "2021-09-30T18:15:46.781Z"
   },
   {
    "duration": 17,
    "start_time": "2021-09-30T18:15:47.131Z"
   },
   {
    "duration": 23,
    "start_time": "2021-09-30T18:15:47.607Z"
   },
   {
    "duration": 32,
    "start_time": "2021-09-30T18:15:53.011Z"
   },
   {
    "duration": 780,
    "start_time": "2021-09-30T18:16:06.578Z"
   },
   {
    "duration": 11,
    "start_time": "2021-09-30T18:16:07.360Z"
   },
   {
    "duration": 13,
    "start_time": "2021-09-30T18:16:07.492Z"
   },
   {
    "duration": 7,
    "start_time": "2021-09-30T18:16:08.426Z"
   },
   {
    "duration": 27,
    "start_time": "2021-09-30T18:16:09.224Z"
   },
   {
    "duration": 13,
    "start_time": "2021-09-30T18:16:21.816Z"
   },
   {
    "duration": 2,
    "start_time": "2021-09-30T18:16:22.353Z"
   },
   {
    "duration": 2,
    "start_time": "2021-09-30T18:16:22.690Z"
   },
   {
    "duration": 8,
    "start_time": "2021-09-30T18:16:23.257Z"
   },
   {
    "duration": 9,
    "start_time": "2021-09-30T18:16:23.584Z"
   },
   {
    "duration": 25,
    "start_time": "2021-09-30T18:16:23.878Z"
   },
   {
    "duration": 26,
    "start_time": "2021-09-30T18:16:24.990Z"
   },
   {
    "duration": 4,
    "start_time": "2021-09-30T18:17:44.772Z"
   },
   {
    "duration": 6,
    "start_time": "2021-09-30T18:18:57.858Z"
   },
   {
    "duration": 7,
    "start_time": "2021-09-30T18:19:25.305Z"
   },
   {
    "duration": 8,
    "start_time": "2021-09-30T18:23:12.913Z"
   },
   {
    "duration": 12,
    "start_time": "2021-09-30T18:23:15.681Z"
   },
   {
    "duration": 8,
    "start_time": "2021-09-30T18:23:16.039Z"
   },
   {
    "duration": 8,
    "start_time": "2021-09-30T18:23:16.274Z"
   },
   {
    "duration": 5,
    "start_time": "2021-09-30T18:23:16.916Z"
   },
   {
    "duration": 4,
    "start_time": "2021-09-30T18:23:17.201Z"
   },
   {
    "duration": 17,
    "start_time": "2021-09-30T18:23:18.049Z"
   },
   {
    "duration": 24,
    "start_time": "2021-09-30T18:23:18.504Z"
   },
   {
    "duration": 20,
    "start_time": "2021-09-30T18:23:37.580Z"
   },
   {
    "duration": 7,
    "start_time": "2021-09-30T18:24:15.915Z"
   },
   {
    "duration": 8,
    "start_time": "2021-09-30T18:24:16.245Z"
   },
   {
    "duration": 6,
    "start_time": "2021-09-30T18:24:16.711Z"
   },
   {
    "duration": 5,
    "start_time": "2021-09-30T18:24:16.896Z"
   },
   {
    "duration": 18,
    "start_time": "2021-09-30T18:24:17.187Z"
   },
   {
    "duration": 28,
    "start_time": "2021-09-30T18:24:17.394Z"
   },
   {
    "duration": 779,
    "start_time": "2021-09-30T18:24:26.736Z"
   },
   {
    "duration": 11,
    "start_time": "2021-09-30T18:24:27.517Z"
   },
   {
    "duration": 11,
    "start_time": "2021-09-30T18:24:27.530Z"
   },
   {
    "duration": 4,
    "start_time": "2021-09-30T18:24:27.543Z"
   },
   {
    "duration": 27,
    "start_time": "2021-09-30T18:24:27.549Z"
   },
   {
    "duration": 7,
    "start_time": "2021-09-30T18:24:27.579Z"
   },
   {
    "duration": 8,
    "start_time": "2021-09-30T18:24:27.587Z"
   },
   {
    "duration": 8,
    "start_time": "2021-09-30T18:24:27.598Z"
   },
   {
    "duration": 9,
    "start_time": "2021-09-30T18:24:27.608Z"
   },
   {
    "duration": 24,
    "start_time": "2021-09-30T18:24:27.619Z"
   },
   {
    "duration": 55,
    "start_time": "2021-09-30T18:24:27.644Z"
   },
   {
    "duration": 18,
    "start_time": "2021-09-30T18:24:27.701Z"
   },
   {
    "duration": 9,
    "start_time": "2021-09-30T18:24:27.720Z"
   },
   {
    "duration": 9,
    "start_time": "2021-09-30T18:24:27.731Z"
   },
   {
    "duration": 9,
    "start_time": "2021-09-30T18:25:16.055Z"
   },
   {
    "duration": 9,
    "start_time": "2021-09-30T18:25:16.066Z"
   },
   {
    "duration": 5,
    "start_time": "2021-09-30T18:25:17.245Z"
   },
   {
    "duration": 4,
    "start_time": "2021-09-30T18:25:17.528Z"
   },
   {
    "duration": 16,
    "start_time": "2021-09-30T18:25:17.757Z"
   },
   {
    "duration": 23,
    "start_time": "2021-09-30T18:25:17.963Z"
   },
   {
    "duration": 49,
    "start_time": "2021-09-30T18:26:14.183Z"
   },
   {
    "duration": 36,
    "start_time": "2021-09-30T18:26:21.072Z"
   },
   {
    "duration": 24,
    "start_time": "2021-09-30T18:26:50.236Z"
   },
   {
    "duration": 7,
    "start_time": "2021-09-30T18:28:28.513Z"
   },
   {
    "duration": 5,
    "start_time": "2021-09-30T18:28:29.280Z"
   },
   {
    "duration": 5,
    "start_time": "2021-09-30T18:28:29.545Z"
   },
   {
    "duration": 17,
    "start_time": "2021-09-30T18:28:29.967Z"
   },
   {
    "duration": 24,
    "start_time": "2021-09-30T18:28:30.245Z"
   },
   {
    "duration": 16,
    "start_time": "2021-09-30T18:28:31.549Z"
   },
   {
    "duration": 23,
    "start_time": "2021-09-30T18:28:32.228Z"
   },
   {
    "duration": 829,
    "start_time": "2021-09-30T18:28:44.073Z"
   },
   {
    "duration": 12,
    "start_time": "2021-09-30T18:28:44.904Z"
   },
   {
    "duration": 12,
    "start_time": "2021-09-30T18:28:44.919Z"
   },
   {
    "duration": 4,
    "start_time": "2021-09-30T18:28:44.934Z"
   },
   {
    "duration": 47,
    "start_time": "2021-09-30T18:28:44.940Z"
   },
   {
    "duration": 7,
    "start_time": "2021-09-30T18:28:44.989Z"
   },
   {
    "duration": 10,
    "start_time": "2021-09-30T18:28:44.998Z"
   },
   {
    "duration": 11,
    "start_time": "2021-09-30T18:28:45.011Z"
   },
   {
    "duration": 18,
    "start_time": "2021-09-30T18:28:45.024Z"
   },
   {
    "duration": 49,
    "start_time": "2021-09-30T18:28:45.044Z"
   },
   {
    "duration": 26,
    "start_time": "2021-09-30T18:28:45.095Z"
   },
   {
    "duration": 22,
    "start_time": "2021-09-30T18:28:45.123Z"
   },
   {
    "duration": 38,
    "start_time": "2021-09-30T18:28:45.146Z"
   },
   {
    "duration": 9,
    "start_time": "2021-09-30T18:28:45.186Z"
   },
   {
    "duration": 10,
    "start_time": "2021-09-30T18:28:45.197Z"
   },
   {
    "duration": 762,
    "start_time": "2021-09-30T18:29:45.126Z"
   },
   {
    "duration": 11,
    "start_time": "2021-09-30T18:29:45.890Z"
   },
   {
    "duration": 11,
    "start_time": "2021-09-30T18:29:45.904Z"
   },
   {
    "duration": 4,
    "start_time": "2021-09-30T18:29:45.918Z"
   },
   {
    "duration": 12,
    "start_time": "2021-09-30T18:29:45.924Z"
   },
   {
    "duration": 7,
    "start_time": "2021-09-30T18:29:45.938Z"
   },
   {
    "duration": 7,
    "start_time": "2021-09-30T18:29:45.977Z"
   },
   {
    "duration": 8,
    "start_time": "2021-09-30T18:29:45.987Z"
   },
   {
    "duration": 9,
    "start_time": "2021-09-30T18:29:45.998Z"
   },
   {
    "duration": 25,
    "start_time": "2021-09-30T18:29:46.009Z"
   },
   {
    "duration": 56,
    "start_time": "2021-09-30T18:29:46.036Z"
   },
   {
    "duration": 22,
    "start_time": "2021-09-30T18:29:46.094Z"
   },
   {
    "duration": 17,
    "start_time": "2021-09-30T18:29:46.118Z"
   },
   {
    "duration": 9,
    "start_time": "2021-09-30T18:29:46.137Z"
   },
   {
    "duration": 11,
    "start_time": "2021-09-30T18:29:46.177Z"
   },
   {
    "duration": 26,
    "start_time": "2021-09-30T18:30:07.565Z"
   },
   {
    "duration": 17,
    "start_time": "2021-09-30T18:30:08.766Z"
   },
   {
    "duration": 27,
    "start_time": "2021-09-30T18:30:13.090Z"
   },
   {
    "duration": 26,
    "start_time": "2021-09-30T18:30:14.970Z"
   },
   {
    "duration": 32,
    "start_time": "2021-09-30T18:30:17.289Z"
   },
   {
    "duration": 48,
    "start_time": "2021-09-30T18:31:51.664Z"
   },
   {
    "duration": 32,
    "start_time": "2021-09-30T18:32:13.179Z"
   },
   {
    "duration": 38,
    "start_time": "2021-09-30T18:32:22.380Z"
   },
   {
    "duration": 38,
    "start_time": "2021-09-30T18:32:31.070Z"
   },
   {
    "duration": 5,
    "start_time": "2021-09-30T18:33:56.491Z"
   },
   {
    "duration": 6,
    "start_time": "2021-09-30T18:34:09.799Z"
   },
   {
    "duration": 5,
    "start_time": "2021-09-30T18:34:25.905Z"
   },
   {
    "duration": 1029,
    "start_time": "2021-09-30T18:35:16.373Z"
   },
   {
    "duration": 18,
    "start_time": "2021-09-30T18:35:17.405Z"
   },
   {
    "duration": 11,
    "start_time": "2021-09-30T18:35:19.015Z"
   },
   {
    "duration": 5,
    "start_time": "2021-09-30T18:35:20.389Z"
   },
   {
    "duration": 13,
    "start_time": "2021-09-30T18:35:23.037Z"
   },
   {
    "duration": 12,
    "start_time": "2021-09-30T18:35:36.618Z"
   },
   {
    "duration": 3,
    "start_time": "2021-09-30T18:35:37.057Z"
   },
   {
    "duration": 3,
    "start_time": "2021-09-30T18:35:37.419Z"
   },
   {
    "duration": 11,
    "start_time": "2021-09-30T18:35:38.744Z"
   },
   {
    "duration": 15,
    "start_time": "2021-09-30T18:35:39.945Z"
   },
   {
    "duration": 33,
    "start_time": "2021-09-30T18:35:41.784Z"
   },
   {
    "duration": 32,
    "start_time": "2021-09-30T18:35:42.485Z"
   },
   {
    "duration": 24,
    "start_time": "2021-09-30T18:35:43.170Z"
   },
   {
    "duration": 9,
    "start_time": "2021-09-30T18:36:51.471Z"
   },
   {
    "duration": 8,
    "start_time": "2021-09-30T18:37:35.018Z"
   },
   {
    "duration": 9,
    "start_time": "2021-09-30T18:37:41.348Z"
   },
   {
    "duration": 8,
    "start_time": "2021-09-30T18:37:49.604Z"
   },
   {
    "duration": 9,
    "start_time": "2021-09-30T18:37:55.099Z"
   },
   {
    "duration": 8,
    "start_time": "2021-09-30T18:38:10.745Z"
   },
   {
    "duration": 10,
    "start_time": "2021-09-30T18:38:14.003Z"
   },
   {
    "duration": 18,
    "start_time": "2021-09-30T18:38:18.658Z"
   },
   {
    "duration": 16,
    "start_time": "2021-09-30T18:38:20.258Z"
   },
   {
    "duration": 30,
    "start_time": "2021-09-30T18:38:51.866Z"
   },
   {
    "duration": 1264,
    "start_time": "2021-10-01T09:54:23.349Z"
   },
   {
    "duration": 22,
    "start_time": "2021-10-01T09:54:24.617Z"
   },
   {
    "duration": 35,
    "start_time": "2021-10-01T09:54:24.643Z"
   },
   {
    "duration": 388,
    "start_time": "2021-10-01T09:54:24.681Z"
   },
   {
    "duration": -285,
    "start_time": "2021-10-01T09:54:25.358Z"
   },
   {
    "duration": -292,
    "start_time": "2021-10-01T09:54:25.366Z"
   },
   {
    "duration": -292,
    "start_time": "2021-10-01T09:54:25.368Z"
   },
   {
    "duration": -294,
    "start_time": "2021-10-01T09:54:25.372Z"
   },
   {
    "duration": -294,
    "start_time": "2021-10-01T09:54:25.374Z"
   },
   {
    "duration": -294,
    "start_time": "2021-10-01T09:54:25.376Z"
   },
   {
    "duration": -294,
    "start_time": "2021-10-01T09:54:25.378Z"
   },
   {
    "duration": -293,
    "start_time": "2021-10-01T09:54:25.379Z"
   },
   {
    "duration": -294,
    "start_time": "2021-10-01T09:54:25.381Z"
   },
   {
    "duration": -293,
    "start_time": "2021-10-01T09:54:25.382Z"
   },
   {
    "duration": 7,
    "start_time": "2021-10-01T09:54:42.912Z"
   },
   {
    "duration": 22,
    "start_time": "2021-10-01T09:54:44.801Z"
   },
   {
    "duration": 13,
    "start_time": "2021-10-01T09:54:45.128Z"
   },
   {
    "duration": 13,
    "start_time": "2021-10-01T09:54:45.529Z"
   },
   {
    "duration": 16,
    "start_time": "2021-10-01T09:54:45.928Z"
   },
   {
    "duration": 19,
    "start_time": "2021-10-01T09:54:46.160Z"
   },
   {
    "duration": 38,
    "start_time": "2021-10-01T09:54:46.441Z"
   },
   {
    "duration": 31,
    "start_time": "2021-10-01T09:54:46.688Z"
   },
   {
    "duration": 25,
    "start_time": "2021-10-01T09:54:46.944Z"
   },
   {
    "duration": 12,
    "start_time": "2021-10-01T09:54:47.499Z"
   },
   {
    "duration": 8,
    "start_time": "2021-10-01T09:55:12.145Z"
   },
   {
    "duration": 8,
    "start_time": "2021-10-01T09:55:21.489Z"
   },
   {
    "duration": 6,
    "start_time": "2021-10-01T09:56:27.442Z"
   },
   {
    "duration": 6,
    "start_time": "2021-10-01T09:56:50.130Z"
   },
   {
    "duration": 28,
    "start_time": "2021-10-01T09:57:05.954Z"
   },
   {
    "duration": 45,
    "start_time": "2021-10-01T09:57:15.233Z"
   },
   {
    "duration": 45,
    "start_time": "2021-10-01T09:58:57.372Z"
   },
   {
    "duration": 947,
    "start_time": "2021-10-01T09:59:11.471Z"
   },
   {
    "duration": 14,
    "start_time": "2021-10-01T09:59:12.421Z"
   },
   {
    "duration": 29,
    "start_time": "2021-10-01T09:59:12.438Z"
   },
   {
    "duration": 6,
    "start_time": "2021-10-01T09:59:12.470Z"
   },
   {
    "duration": 16,
    "start_time": "2021-10-01T09:59:12.479Z"
   },
   {
    "duration": 10,
    "start_time": "2021-10-01T09:59:12.497Z"
   },
   {
    "duration": 10,
    "start_time": "2021-10-01T09:59:12.510Z"
   },
   {
    "duration": 53,
    "start_time": "2021-10-01T09:59:12.523Z"
   },
   {
    "duration": 13,
    "start_time": "2021-10-01T09:59:12.579Z"
   },
   {
    "duration": 28,
    "start_time": "2021-10-01T09:59:12.595Z"
   },
   {
    "duration": 59,
    "start_time": "2021-10-01T09:59:12.626Z"
   },
   {
    "duration": 26,
    "start_time": "2021-10-01T09:59:12.687Z"
   },
   {
    "duration": 12,
    "start_time": "2021-10-01T09:59:12.715Z"
   },
   {
    "duration": 57,
    "start_time": "2021-10-01T09:59:12.730Z"
   },
   {
    "duration": 6,
    "start_time": "2021-10-01T09:59:12.789Z"
   },
   {
    "duration": 48,
    "start_time": "2021-10-01T09:59:12.797Z"
   },
   {
    "duration": 6,
    "start_time": "2021-10-01T10:00:18.608Z"
   },
   {
    "duration": 6,
    "start_time": "2021-10-01T10:00:26.284Z"
   },
   {
    "duration": 27,
    "start_time": "2021-10-01T10:03:04.629Z"
   },
   {
    "duration": 6,
    "start_time": "2021-10-01T10:03:05.620Z"
   },
   {
    "duration": 7,
    "start_time": "2021-10-01T10:03:19.669Z"
   },
   {
    "duration": 12,
    "start_time": "2021-10-01T10:03:27.052Z"
   },
   {
    "duration": 60,
    "start_time": "2021-10-01T10:04:18.484Z"
   },
   {
    "duration": 350,
    "start_time": "2021-10-01T19:03:28.565Z"
   },
   {
    "duration": 975,
    "start_time": "2021-10-01T19:03:36.750Z"
   },
   {
    "duration": 21,
    "start_time": "2021-10-01T19:03:37.728Z"
   },
   {
    "duration": 19,
    "start_time": "2021-10-01T19:03:37.753Z"
   },
   {
    "duration": 11,
    "start_time": "2021-10-01T19:03:37.774Z"
   },
   {
    "duration": 58,
    "start_time": "2021-10-01T19:03:37.788Z"
   },
   {
    "duration": 13,
    "start_time": "2021-10-01T19:03:37.849Z"
   },
   {
    "duration": 27,
    "start_time": "2021-10-01T19:03:37.865Z"
   },
   {
    "duration": 15,
    "start_time": "2021-10-01T19:03:37.895Z"
   },
   {
    "duration": 45,
    "start_time": "2021-10-01T19:03:37.913Z"
   },
   {
    "duration": 29,
    "start_time": "2021-10-01T19:03:37.961Z"
   },
   {
    "duration": 29,
    "start_time": "2021-10-01T19:03:37.992Z"
   },
   {
    "duration": 39,
    "start_time": "2021-10-01T19:03:38.023Z"
   },
   {
    "duration": 12,
    "start_time": "2021-10-01T19:03:38.064Z"
   },
   {
    "duration": 66,
    "start_time": "2021-10-01T19:04:10.120Z"
   },
   {
    "duration": 17,
    "start_time": "2021-10-01T19:05:21.815Z"
   },
   {
    "duration": 26,
    "start_time": "2021-10-01T19:05:54.588Z"
   },
   {
    "duration": 31,
    "start_time": "2021-10-01T19:05:54.935Z"
   },
   {
    "duration": 13,
    "start_time": "2021-10-01T19:05:55.488Z"
   },
   {
    "duration": 70,
    "start_time": "2021-10-01T19:06:39.686Z"
   },
   {
    "duration": 981,
    "start_time": "2021-10-01T19:06:54.351Z"
   },
   {
    "duration": 21,
    "start_time": "2021-10-01T19:06:55.335Z"
   },
   {
    "duration": 15,
    "start_time": "2021-10-01T19:06:55.359Z"
   },
   {
    "duration": 5,
    "start_time": "2021-10-01T19:06:55.377Z"
   },
   {
    "duration": 44,
    "start_time": "2021-10-01T19:06:55.384Z"
   },
   {
    "duration": 12,
    "start_time": "2021-10-01T19:06:55.430Z"
   },
   {
    "duration": 16,
    "start_time": "2021-10-01T19:06:55.445Z"
   },
   {
    "duration": 12,
    "start_time": "2021-10-01T19:06:55.464Z"
   },
   {
    "duration": 12,
    "start_time": "2021-10-01T19:06:55.478Z"
   },
   {
    "duration": 69,
    "start_time": "2021-10-01T19:06:55.492Z"
   },
   {
    "duration": 30,
    "start_time": "2021-10-01T19:06:55.563Z"
   },
   {
    "duration": 59,
    "start_time": "2021-10-01T19:06:55.595Z"
   },
   {
    "duration": 14,
    "start_time": "2021-10-01T19:06:55.656Z"
   },
   {
    "duration": 100,
    "start_time": "2021-10-01T19:06:55.673Z"
   },
   {
    "duration": 12,
    "start_time": "2021-10-01T19:06:55.775Z"
   },
   {
    "duration": 6,
    "start_time": "2021-10-01T19:08:24.704Z"
   },
   {
    "duration": 26,
    "start_time": "2021-10-01T19:08:47.992Z"
   },
   {
    "duration": 5,
    "start_time": "2021-10-01T19:08:54.520Z"
   },
   {
    "duration": 419,
    "start_time": "2021-10-01T19:16:24.835Z"
   },
   {
    "duration": 58,
    "start_time": "2021-10-01T19:16:36.045Z"
   },
   {
    "duration": 26,
    "start_time": "2021-10-01T19:17:59.501Z"
   },
   {
    "duration": 6,
    "start_time": "2021-10-01T19:18:03.188Z"
   },
   {
    "duration": 13,
    "start_time": "2021-10-01T19:18:03.849Z"
   },
   {
    "duration": 64,
    "start_time": "2021-10-01T19:18:05.569Z"
   },
   {
    "duration": 1114,
    "start_time": "2021-10-01T19:18:19.782Z"
   },
   {
    "duration": 25,
    "start_time": "2021-10-01T19:18:20.899Z"
   },
   {
    "duration": 21,
    "start_time": "2021-10-01T19:18:20.927Z"
   },
   {
    "duration": 5,
    "start_time": "2021-10-01T19:18:20.951Z"
   },
   {
    "duration": 16,
    "start_time": "2021-10-01T19:18:20.958Z"
   },
   {
    "duration": 60,
    "start_time": "2021-10-01T19:18:20.977Z"
   },
   {
    "duration": 9,
    "start_time": "2021-10-01T19:18:21.040Z"
   },
   {
    "duration": 10,
    "start_time": "2021-10-01T19:18:21.052Z"
   },
   {
    "duration": 17,
    "start_time": "2021-10-01T19:18:21.065Z"
   },
   {
    "duration": 62,
    "start_time": "2021-10-01T19:18:21.084Z"
   },
   {
    "duration": 35,
    "start_time": "2021-10-01T19:18:21.149Z"
   },
   {
    "duration": 52,
    "start_time": "2021-10-01T19:18:21.187Z"
   },
   {
    "duration": 5,
    "start_time": "2021-10-01T19:18:21.242Z"
   },
   {
    "duration": 28,
    "start_time": "2021-10-01T19:18:21.249Z"
   },
   {
    "duration": 81,
    "start_time": "2021-10-01T19:18:21.280Z"
   },
   {
    "duration": 12,
    "start_time": "2021-10-01T19:18:21.363Z"
   },
   {
    "duration": 1293,
    "start_time": "2021-10-01T19:18:51.521Z"
   },
   {
    "duration": 27,
    "start_time": "2021-10-01T19:18:52.818Z"
   },
   {
    "duration": 18,
    "start_time": "2021-10-01T19:18:52.852Z"
   },
   {
    "duration": 6,
    "start_time": "2021-10-01T19:18:52.873Z"
   },
   {
    "duration": 59,
    "start_time": "2021-10-01T19:18:52.881Z"
   },
   {
    "duration": 13,
    "start_time": "2021-10-01T19:18:52.943Z"
   },
   {
    "duration": 12,
    "start_time": "2021-10-01T19:18:52.959Z"
   },
   {
    "duration": 15,
    "start_time": "2021-10-01T19:18:52.976Z"
   },
   {
    "duration": 36,
    "start_time": "2021-10-01T19:18:53.022Z"
   },
   {
    "duration": 32,
    "start_time": "2021-10-01T19:18:53.061Z"
   },
   {
    "duration": 91,
    "start_time": "2021-10-01T19:18:53.096Z"
   },
   {
    "duration": 44,
    "start_time": "2021-10-01T19:18:53.189Z"
   },
   {
    "duration": 6,
    "start_time": "2021-10-01T19:18:53.235Z"
   },
   {
    "duration": 22,
    "start_time": "2021-10-01T19:18:53.244Z"
   },
   {
    "duration": 24,
    "start_time": "2021-10-01T19:18:53.269Z"
   },
   {
    "duration": 14,
    "start_time": "2021-10-01T19:18:53.330Z"
   },
   {
    "duration": 369,
    "start_time": "2021-10-01T19:19:53.818Z"
   },
   {
    "duration": 1057,
    "start_time": "2021-10-01T19:20:01.810Z"
   },
   {
    "duration": 16,
    "start_time": "2021-10-01T19:20:02.869Z"
   },
   {
    "duration": 35,
    "start_time": "2021-10-01T19:20:02.888Z"
   },
   {
    "duration": 8,
    "start_time": "2021-10-01T19:20:02.926Z"
   },
   {
    "duration": 18,
    "start_time": "2021-10-01T19:20:02.943Z"
   },
   {
    "duration": 10,
    "start_time": "2021-10-01T19:20:02.963Z"
   },
   {
    "duration": 30,
    "start_time": "2021-10-01T19:20:02.976Z"
   },
   {
    "duration": 43,
    "start_time": "2021-10-01T19:20:03.010Z"
   },
   {
    "duration": 14,
    "start_time": "2021-10-01T19:20:03.056Z"
   },
   {
    "duration": 38,
    "start_time": "2021-10-01T19:20:03.073Z"
   },
   {
    "duration": 388,
    "start_time": "2021-10-01T19:20:03.113Z"
   },
   {
    "duration": -171,
    "start_time": "2021-10-01T19:20:03.675Z"
   },
   {
    "duration": -189,
    "start_time": "2021-10-01T19:20:03.694Z"
   },
   {
    "duration": -194,
    "start_time": "2021-10-01T19:20:03.700Z"
   },
   {
    "duration": -200,
    "start_time": "2021-10-01T19:20:03.708Z"
   },
   {
    "duration": -206,
    "start_time": "2021-10-01T19:20:03.715Z"
   },
   {
    "duration": -211,
    "start_time": "2021-10-01T19:20:03.721Z"
   },
   {
    "duration": 11,
    "start_time": "2021-10-01T19:20:32.195Z"
   },
   {
    "duration": 93,
    "start_time": "2021-10-01T19:23:13.786Z"
   },
   {
    "duration": 70,
    "start_time": "2021-10-01T19:23:35.522Z"
   },
   {
    "duration": 69,
    "start_time": "2021-10-01T19:25:45.879Z"
   },
   {
    "duration": 27,
    "start_time": "2021-10-01T19:25:53.569Z"
   },
   {
    "duration": 5,
    "start_time": "2021-10-01T19:25:54.790Z"
   },
   {
    "duration": 73,
    "start_time": "2021-10-01T19:26:07.110Z"
   },
   {
    "duration": 953,
    "start_time": "2021-10-01T19:26:22.400Z"
   },
   {
    "duration": 15,
    "start_time": "2021-10-01T19:26:23.356Z"
   },
   {
    "duration": 21,
    "start_time": "2021-10-01T19:26:23.374Z"
   },
   {
    "duration": 33,
    "start_time": "2021-10-01T19:26:23.398Z"
   },
   {
    "duration": 30,
    "start_time": "2021-10-01T19:26:23.434Z"
   },
   {
    "duration": 19,
    "start_time": "2021-10-01T19:26:23.467Z"
   },
   {
    "duration": 41,
    "start_time": "2021-10-01T19:26:23.489Z"
   },
   {
    "duration": 24,
    "start_time": "2021-10-01T19:26:23.534Z"
   },
   {
    "duration": 19,
    "start_time": "2021-10-01T19:26:23.561Z"
   },
   {
    "duration": 50,
    "start_time": "2021-10-01T19:26:23.582Z"
   },
   {
    "duration": 14,
    "start_time": "2021-10-01T19:26:23.634Z"
   },
   {
    "duration": 67,
    "start_time": "2021-10-01T19:26:23.651Z"
   },
   {
    "duration": 29,
    "start_time": "2021-10-01T19:26:23.720Z"
   },
   {
    "duration": 12,
    "start_time": "2021-10-01T19:26:23.752Z"
   },
   {
    "duration": 45,
    "start_time": "2021-10-01T19:26:23.766Z"
   },
   {
    "duration": 42,
    "start_time": "2021-10-01T19:26:23.814Z"
   },
   {
    "duration": 14,
    "start_time": "2021-10-01T19:26:23.859Z"
   },
   {
    "duration": 1010,
    "start_time": "2021-10-01T19:30:23.620Z"
   },
   {
    "duration": 16,
    "start_time": "2021-10-01T19:30:24.634Z"
   },
   {
    "duration": 59,
    "start_time": "2021-10-01T19:30:24.654Z"
   },
   {
    "duration": 46,
    "start_time": "2021-10-01T19:30:24.716Z"
   },
   {
    "duration": 39,
    "start_time": "2021-10-01T19:30:24.765Z"
   },
   {
    "duration": 33,
    "start_time": "2021-10-01T19:30:24.806Z"
   },
   {
    "duration": 26,
    "start_time": "2021-10-01T19:30:24.841Z"
   },
   {
    "duration": 24,
    "start_time": "2021-10-01T19:30:24.870Z"
   },
   {
    "duration": 27,
    "start_time": "2021-10-01T19:30:24.899Z"
   },
   {
    "duration": 39,
    "start_time": "2021-10-01T19:30:24.929Z"
   },
   {
    "duration": 11,
    "start_time": "2021-10-01T19:30:24.970Z"
   },
   {
    "duration": 7458,
    "start_time": "2021-10-01T19:30:24.983Z"
   },
   {
    "duration": -221,
    "start_time": "2021-10-01T19:30:32.665Z"
   },
   {
    "duration": -227,
    "start_time": "2021-10-01T19:30:32.673Z"
   },
   {
    "duration": 41,
    "start_time": "2021-10-01T19:30:46.493Z"
   },
   {
    "duration": 26,
    "start_time": "2021-10-01T19:30:48.592Z"
   },
   {
    "duration": 15,
    "start_time": "2021-10-01T19:30:49.567Z"
   },
   {
    "duration": 62,
    "start_time": "2021-10-01T19:31:10.036Z"
   },
   {
    "duration": 28,
    "start_time": "2021-10-01T19:31:58.051Z"
   },
   {
    "duration": 26,
    "start_time": "2021-10-01T19:31:58.690Z"
   },
   {
    "duration": 16,
    "start_time": "2021-10-01T19:31:59.004Z"
   },
   {
    "duration": 69,
    "start_time": "2021-10-01T19:31:59.680Z"
   },
   {
    "duration": 983,
    "start_time": "2021-10-01T19:34:42.188Z"
   },
   {
    "duration": 16,
    "start_time": "2021-10-01T19:34:43.174Z"
   },
   {
    "duration": 34,
    "start_time": "2021-10-01T19:34:43.193Z"
   },
   {
    "duration": 12,
    "start_time": "2021-10-01T19:34:43.234Z"
   },
   {
    "duration": 18,
    "start_time": "2021-10-01T19:34:43.248Z"
   },
   {
    "duration": 10,
    "start_time": "2021-10-01T19:34:43.271Z"
   },
   {
    "duration": 9,
    "start_time": "2021-10-01T19:34:43.283Z"
   },
   {
    "duration": 40,
    "start_time": "2021-10-01T19:34:43.295Z"
   },
   {
    "duration": 16,
    "start_time": "2021-10-01T19:34:43.338Z"
   },
   {
    "duration": 31,
    "start_time": "2021-10-01T19:34:43.357Z"
   },
   {
    "duration": 43,
    "start_time": "2021-10-01T19:34:43.390Z"
   },
   {
    "duration": 34,
    "start_time": "2021-10-01T19:34:43.435Z"
   },
   {
    "duration": 25,
    "start_time": "2021-10-01T19:34:43.471Z"
   },
   {
    "duration": 39,
    "start_time": "2021-10-01T19:34:43.498Z"
   },
   {
    "duration": 61,
    "start_time": "2021-10-01T19:34:43.542Z"
   },
   {
    "duration": 5,
    "start_time": "2021-10-01T19:38:10.284Z"
   },
   {
    "duration": 60,
    "start_time": "2021-10-01T19:38:17.352Z"
   },
   {
    "duration": 1122,
    "start_time": "2021-10-01T19:42:01.423Z"
   },
   {
    "duration": 18,
    "start_time": "2021-10-01T19:42:02.548Z"
   },
   {
    "duration": 27,
    "start_time": "2021-10-01T19:42:02.570Z"
   },
   {
    "duration": 30,
    "start_time": "2021-10-01T19:42:02.599Z"
   },
   {
    "duration": 28,
    "start_time": "2021-10-01T19:42:02.632Z"
   },
   {
    "duration": 11,
    "start_time": "2021-10-01T19:42:02.662Z"
   },
   {
    "duration": 11,
    "start_time": "2021-10-01T19:42:02.675Z"
   },
   {
    "duration": 43,
    "start_time": "2021-10-01T19:42:02.690Z"
   },
   {
    "duration": 19,
    "start_time": "2021-10-01T19:42:02.737Z"
   },
   {
    "duration": 27,
    "start_time": "2021-10-01T19:42:02.760Z"
   },
   {
    "duration": 35,
    "start_time": "2021-10-01T19:42:02.790Z"
   },
   {
    "duration": 33,
    "start_time": "2021-10-01T19:42:02.831Z"
   },
   {
    "duration": 28,
    "start_time": "2021-10-01T19:42:02.867Z"
   },
   {
    "duration": 419,
    "start_time": "2021-10-01T19:42:02.934Z"
   },
   {
    "duration": 15,
    "start_time": "2021-10-01T19:43:08.108Z"
   },
   {
    "duration": 12,
    "start_time": "2021-10-01T19:43:08.757Z"
   },
   {
    "duration": 1100,
    "start_time": "2021-10-01T19:43:19.509Z"
   },
   {
    "duration": 16,
    "start_time": "2021-10-01T19:43:20.612Z"
   },
   {
    "duration": 49,
    "start_time": "2021-10-01T19:43:20.636Z"
   },
   {
    "duration": 11,
    "start_time": "2021-10-01T19:43:20.688Z"
   },
   {
    "duration": 44,
    "start_time": "2021-10-01T19:43:20.701Z"
   },
   {
    "duration": 36,
    "start_time": "2021-10-01T19:43:20.747Z"
   },
   {
    "duration": 28,
    "start_time": "2021-10-01T19:43:20.786Z"
   },
   {
    "duration": 31,
    "start_time": "2021-10-01T19:43:20.817Z"
   },
   {
    "duration": 36,
    "start_time": "2021-10-01T19:43:20.852Z"
   },
   {
    "duration": 40,
    "start_time": "2021-10-01T19:43:20.890Z"
   },
   {
    "duration": 28,
    "start_time": "2021-10-01T19:43:20.934Z"
   },
   {
    "duration": 42,
    "start_time": "2021-10-01T19:43:20.965Z"
   },
   {
    "duration": 46,
    "start_time": "2021-10-01T19:43:21.009Z"
   },
   {
    "duration": 414,
    "start_time": "2021-10-01T19:43:21.057Z"
   },
   {
    "duration": 13,
    "start_time": "2021-10-01T19:44:17.732Z"
   },
   {
    "duration": 81,
    "start_time": "2021-10-01T19:44:38.595Z"
   },
   {
    "duration": 10,
    "start_time": "2021-10-01T19:45:26.851Z"
   },
   {
    "duration": 70,
    "start_time": "2021-10-01T19:45:27.525Z"
   },
   {
    "duration": 1075,
    "start_time": "2021-10-01T19:45:37.607Z"
   },
   {
    "duration": 16,
    "start_time": "2021-10-01T19:45:38.685Z"
   },
   {
    "duration": 39,
    "start_time": "2021-10-01T19:45:38.704Z"
   },
   {
    "duration": 8,
    "start_time": "2021-10-01T19:45:38.747Z"
   },
   {
    "duration": 23,
    "start_time": "2021-10-01T19:45:38.757Z"
   },
   {
    "duration": 56,
    "start_time": "2021-10-01T19:45:38.783Z"
   },
   {
    "duration": 13,
    "start_time": "2021-10-01T19:45:38.841Z"
   },
   {
    "duration": 15,
    "start_time": "2021-10-01T19:45:38.858Z"
   },
   {
    "duration": 14,
    "start_time": "2021-10-01T19:45:38.876Z"
   },
   {
    "duration": 45,
    "start_time": "2021-10-01T19:45:38.892Z"
   },
   {
    "duration": 14,
    "start_time": "2021-10-01T19:45:38.939Z"
   },
   {
    "duration": 41,
    "start_time": "2021-10-01T19:45:38.956Z"
   },
   {
    "duration": 52,
    "start_time": "2021-10-01T19:45:38.999Z"
   },
   {
    "duration": 10,
    "start_time": "2021-10-01T19:45:39.054Z"
   },
   {
    "duration": 92,
    "start_time": "2021-10-01T19:45:39.066Z"
   },
   {
    "duration": 12,
    "start_time": "2021-10-01T19:51:36.444Z"
   },
   {
    "duration": 287,
    "start_time": "2021-10-01T19:52:23.064Z"
   },
   {
    "duration": 14,
    "start_time": "2021-10-01T19:52:30.744Z"
   },
   {
    "duration": 10,
    "start_time": "2021-10-01T19:54:03.165Z"
   },
   {
    "duration": 103,
    "start_time": "2021-10-01T19:54:04.162Z"
   },
   {
    "duration": 63,
    "start_time": "2021-10-01T19:54:09.234Z"
   },
   {
    "duration": 8697,
    "start_time": "2021-10-01T19:55:10.322Z"
   },
   {
    "duration": -652,
    "start_time": "2021-10-01T19:55:39.611Z"
   },
   {
    "duration": 7,
    "start_time": "2021-10-01T19:55:40.048Z"
   },
   {
    "duration": 7,
    "start_time": "2021-10-01T19:55:53.919Z"
   },
   {
    "duration": 10,
    "start_time": "2021-10-01T19:56:22.144Z"
   },
   {
    "duration": 8,
    "start_time": "2021-10-01T19:56:22.829Z"
   },
   {
    "duration": 7,
    "start_time": "2021-10-01T19:56:37.677Z"
   },
   {
    "duration": 7,
    "start_time": "2021-10-01T19:56:38.127Z"
   },
   {
    "duration": 66,
    "start_time": "2021-10-01T19:56:38.822Z"
   },
   {
    "duration": 10,
    "start_time": "2021-10-01T19:58:00.610Z"
   },
   {
    "duration": 8,
    "start_time": "2021-10-01T19:58:09.112Z"
   },
   {
    "duration": 8,
    "start_time": "2021-10-01T19:58:16.190Z"
   },
   {
    "duration": 10499,
    "start_time": "2021-10-01T19:59:27.162Z"
   },
   {
    "duration": 19,
    "start_time": "2021-10-01T20:01:28.453Z"
   },
   {
    "duration": 12,
    "start_time": "2021-10-01T20:01:30.453Z"
   },
   {
    "duration": 12,
    "start_time": "2021-10-01T20:01:30.813Z"
   },
   {
    "duration": 6,
    "start_time": "2021-10-01T20:01:31.379Z"
   },
   {
    "duration": 8,
    "start_time": "2021-10-01T20:01:31.724Z"
   },
   {
    "duration": 15,
    "start_time": "2021-10-01T20:01:32.175Z"
   },
   {
    "duration": 12,
    "start_time": "2021-10-01T20:01:34.175Z"
   },
   {
    "duration": 34,
    "start_time": "2021-10-01T20:01:36.108Z"
   },
   {
    "duration": 28,
    "start_time": "2021-10-01T20:01:36.779Z"
   },
   {
    "duration": 7993,
    "start_time": "2021-10-01T20:01:37.387Z"
   },
   {
    "duration": 6,
    "start_time": "2021-10-01T20:02:01.788Z"
   },
   {
    "duration": 47,
    "start_time": "2021-10-01T20:02:43.008Z"
   },
   {
    "duration": 34,
    "start_time": "2021-10-01T20:02:48.132Z"
   },
   {
    "duration": 13,
    "start_time": "2021-10-01T20:04:50.024Z"
   },
   {
    "duration": 35,
    "start_time": "2021-10-01T20:04:50.968Z"
   },
   {
    "duration": 12,
    "start_time": "2021-10-01T20:05:31.599Z"
   },
   {
    "duration": 13,
    "start_time": "2021-10-01T20:06:52.434Z"
   },
   {
    "duration": 34,
    "start_time": "2021-10-01T20:06:54.043Z"
   },
   {
    "duration": 932,
    "start_time": "2021-10-01T20:07:05.151Z"
   },
   {
    "duration": 14,
    "start_time": "2021-10-01T20:07:06.085Z"
   },
   {
    "duration": 31,
    "start_time": "2021-10-01T20:07:06.102Z"
   },
   {
    "duration": 13,
    "start_time": "2021-10-01T20:07:06.137Z"
   },
   {
    "duration": 45,
    "start_time": "2021-10-01T20:07:06.152Z"
   },
   {
    "duration": 36,
    "start_time": "2021-10-01T20:07:06.200Z"
   },
   {
    "duration": 14,
    "start_time": "2021-10-01T20:07:06.239Z"
   },
   {
    "duration": 13,
    "start_time": "2021-10-01T20:07:06.257Z"
   },
   {
    "duration": 23,
    "start_time": "2021-10-01T20:07:06.273Z"
   },
   {
    "duration": 41,
    "start_time": "2021-10-01T20:07:06.299Z"
   },
   {
    "duration": 24,
    "start_time": "2021-10-01T20:07:06.342Z"
   },
   {
    "duration": 52,
    "start_time": "2021-10-01T20:07:06.369Z"
   },
   {
    "duration": 45,
    "start_time": "2021-10-01T20:07:06.424Z"
   },
   {
    "duration": 29,
    "start_time": "2021-10-01T20:07:06.472Z"
   },
   {
    "duration": 56,
    "start_time": "2021-10-01T20:07:06.504Z"
   },
   {
    "duration": 10,
    "start_time": "2021-10-01T20:07:06.562Z"
   },
   {
    "duration": 5,
    "start_time": "2021-10-01T20:09:52.856Z"
   },
   {
    "duration": 46,
    "start_time": "2021-10-01T20:09:53.299Z"
   },
   {
    "duration": 12,
    "start_time": "2021-10-01T20:09:58.795Z"
   },
   {
    "duration": 30,
    "start_time": "2021-10-01T20:11:03.413Z"
   },
   {
    "duration": 990,
    "start_time": "2021-10-01T20:11:11.261Z"
   },
   {
    "duration": 15,
    "start_time": "2021-10-01T20:11:12.254Z"
   },
   {
    "duration": 16,
    "start_time": "2021-10-01T20:11:12.271Z"
   },
   {
    "duration": 33,
    "start_time": "2021-10-01T20:11:12.290Z"
   },
   {
    "duration": 25,
    "start_time": "2021-10-01T20:11:12.326Z"
   },
   {
    "duration": 12,
    "start_time": "2021-10-01T20:11:12.354Z"
   },
   {
    "duration": 10,
    "start_time": "2021-10-01T20:11:12.368Z"
   },
   {
    "duration": 59,
    "start_time": "2021-10-01T20:11:12.382Z"
   },
   {
    "duration": 13,
    "start_time": "2021-10-01T20:11:12.446Z"
   },
   {
    "duration": 21,
    "start_time": "2021-10-01T20:11:12.461Z"
   },
   {
    "duration": 45,
    "start_time": "2021-10-01T20:11:12.484Z"
   },
   {
    "duration": 30,
    "start_time": "2021-10-01T20:11:12.532Z"
   },
   {
    "duration": 59,
    "start_time": "2021-10-01T20:11:12.565Z"
   },
   {
    "duration": 17,
    "start_time": "2021-10-01T20:11:12.627Z"
   },
   {
    "duration": 5,
    "start_time": "2021-10-01T20:11:12.646Z"
   },
   {
    "duration": 38,
    "start_time": "2021-10-01T20:11:12.653Z"
   },
   {
    "duration": 20,
    "start_time": "2021-10-01T20:11:12.726Z"
   },
   {
    "duration": 13,
    "start_time": "2021-10-01T20:13:27.190Z"
   },
   {
    "duration": 7,
    "start_time": "2021-10-01T20:13:56.591Z"
   },
   {
    "duration": 49,
    "start_time": "2021-10-01T20:13:57.743Z"
   },
   {
    "duration": 11,
    "start_time": "2021-10-01T20:13:58.696Z"
   },
   {
    "duration": 14,
    "start_time": "2021-10-01T20:13:59.443Z"
   },
   {
    "duration": 13,
    "start_time": "2021-10-01T20:14:53.810Z"
   },
   {
    "duration": 6,
    "start_time": "2021-10-01T20:14:55.137Z"
   },
   {
    "duration": 35,
    "start_time": "2021-10-01T20:14:55.467Z"
   },
   {
    "duration": 25,
    "start_time": "2021-10-01T20:14:56.731Z"
   },
   {
    "duration": 24,
    "start_time": "2021-10-01T20:14:57.418Z"
   },
   {
    "duration": 95,
    "start_time": "2021-10-02T07:15:38.775Z"
   },
   {
    "duration": 327,
    "start_time": "2021-10-02T07:16:21.903Z"
   },
   {
    "duration": 891,
    "start_time": "2021-10-02T07:16:33.791Z"
   },
   {
    "duration": 13,
    "start_time": "2021-10-02T07:16:34.684Z"
   },
   {
    "duration": 16,
    "start_time": "2021-10-02T07:16:34.703Z"
   },
   {
    "duration": 6,
    "start_time": "2021-10-02T07:16:34.721Z"
   },
   {
    "duration": 59,
    "start_time": "2021-10-02T07:16:34.730Z"
   },
   {
    "duration": 11,
    "start_time": "2021-10-02T07:16:34.792Z"
   },
   {
    "duration": 15,
    "start_time": "2021-10-02T07:16:34.807Z"
   },
   {
    "duration": 10,
    "start_time": "2021-10-02T07:16:34.824Z"
   },
   {
    "duration": 9,
    "start_time": "2021-10-02T07:16:34.837Z"
   },
   {
    "duration": 13,
    "start_time": "2021-10-02T07:16:34.881Z"
   },
   {
    "duration": 18,
    "start_time": "2021-10-02T07:16:34.896Z"
   },
   {
    "duration": 13,
    "start_time": "2021-10-02T07:16:34.916Z"
   },
   {
    "duration": 63,
    "start_time": "2021-10-02T07:16:34.931Z"
   },
   {
    "duration": 27,
    "start_time": "2021-10-02T07:16:34.996Z"
   },
   {
    "duration": 13,
    "start_time": "2021-10-02T07:16:35.026Z"
   },
   {
    "duration": 6,
    "start_time": "2021-10-02T07:16:35.042Z"
   },
   {
    "duration": 34,
    "start_time": "2021-10-02T07:16:35.082Z"
   },
   {
    "duration": 10,
    "start_time": "2021-10-02T07:16:35.118Z"
   },
   {
    "duration": 13,
    "start_time": "2021-10-02T07:16:35.130Z"
   },
   {
    "duration": 889,
    "start_time": "2021-10-02T07:21:54.040Z"
   },
   {
    "duration": 15,
    "start_time": "2021-10-02T07:21:54.931Z"
   },
   {
    "duration": 15,
    "start_time": "2021-10-02T07:21:54.948Z"
   },
   {
    "duration": 5,
    "start_time": "2021-10-02T07:21:54.982Z"
   },
   {
    "duration": 23,
    "start_time": "2021-10-02T07:21:54.989Z"
   },
   {
    "duration": 11,
    "start_time": "2021-10-02T07:21:55.014Z"
   },
   {
    "duration": 16,
    "start_time": "2021-10-02T07:21:55.027Z"
   },
   {
    "duration": 44,
    "start_time": "2021-10-02T07:21:55.047Z"
   },
   {
    "duration": 21,
    "start_time": "2021-10-02T07:21:55.094Z"
   },
   {
    "duration": 10,
    "start_time": "2021-10-02T07:21:55.117Z"
   },
   {
    "duration": 57,
    "start_time": "2021-10-02T07:21:55.130Z"
   },
   {
    "duration": 24,
    "start_time": "2021-10-02T07:21:55.190Z"
   },
   {
    "duration": 13,
    "start_time": "2021-10-02T07:21:55.216Z"
   },
   {
    "duration": 6,
    "start_time": "2021-10-02T07:21:55.231Z"
   },
   {
    "duration": 67,
    "start_time": "2021-10-02T07:21:55.239Z"
   },
   {
    "duration": 12,
    "start_time": "2021-10-02T07:21:55.308Z"
   },
   {
    "duration": 13,
    "start_time": "2021-10-02T07:21:55.322Z"
   },
   {
    "duration": 53,
    "start_time": "2021-10-02T07:22:56.536Z"
   },
   {
    "duration": 953,
    "start_time": "2021-10-02T07:33:05.695Z"
   },
   {
    "duration": 14,
    "start_time": "2021-10-02T07:33:06.651Z"
   },
   {
    "duration": 27,
    "start_time": "2021-10-02T07:33:06.668Z"
   },
   {
    "duration": 5,
    "start_time": "2021-10-02T07:33:06.698Z"
   },
   {
    "duration": 24,
    "start_time": "2021-10-02T07:33:06.706Z"
   },
   {
    "duration": 8,
    "start_time": "2021-10-02T07:33:06.732Z"
   },
   {
    "duration": 46,
    "start_time": "2021-10-02T07:33:06.743Z"
   },
   {
    "duration": 24,
    "start_time": "2021-10-02T07:33:06.792Z"
   },
   {
    "duration": 11,
    "start_time": "2021-10-02T07:33:06.819Z"
   },
   {
    "duration": 58,
    "start_time": "2021-10-02T07:33:06.832Z"
   },
   {
    "duration": 27,
    "start_time": "2021-10-02T07:33:06.893Z"
   },
   {
    "duration": 4,
    "start_time": "2021-10-02T07:33:06.922Z"
   },
   {
    "duration": 54,
    "start_time": "2021-10-02T07:33:06.928Z"
   },
   {
    "duration": 56,
    "start_time": "2021-10-02T07:33:06.985Z"
   },
   {
    "duration": 10,
    "start_time": "2021-10-02T07:33:07.043Z"
   },
   {
    "duration": 37,
    "start_time": "2021-10-02T07:33:07.055Z"
   },
   {
    "duration": 29,
    "start_time": "2021-10-02T07:34:17.443Z"
   },
   {
    "duration": 29,
    "start_time": "2021-10-02T07:34:17.939Z"
   },
   {
    "duration": 4,
    "start_time": "2021-10-02T07:34:19.117Z"
   },
   {
    "duration": 907,
    "start_time": "2021-10-02T07:34:40.949Z"
   },
   {
    "duration": 14,
    "start_time": "2021-10-02T07:34:41.859Z"
   },
   {
    "duration": 25,
    "start_time": "2021-10-02T07:34:41.876Z"
   },
   {
    "duration": 6,
    "start_time": "2021-10-02T07:34:41.904Z"
   },
   {
    "duration": 22,
    "start_time": "2021-10-02T07:34:41.912Z"
   },
   {
    "duration": 9,
    "start_time": "2021-10-02T07:34:41.936Z"
   },
   {
    "duration": 16,
    "start_time": "2021-10-02T07:34:41.983Z"
   },
   {
    "duration": 24,
    "start_time": "2021-10-02T07:34:42.003Z"
   },
   {
    "duration": 11,
    "start_time": "2021-10-02T07:34:42.029Z"
   },
   {
    "duration": 66,
    "start_time": "2021-10-02T07:34:42.042Z"
   },
   {
    "duration": 23,
    "start_time": "2021-10-02T07:34:42.110Z"
   },
   {
    "duration": 21,
    "start_time": "2021-10-02T07:34:42.135Z"
   },
   {
    "duration": 81,
    "start_time": "2021-10-02T07:34:42.158Z"
   },
   {
    "duration": 10,
    "start_time": "2021-10-02T07:34:42.241Z"
   },
   {
    "duration": 40,
    "start_time": "2021-10-02T07:34:42.253Z"
   },
   {
    "duration": 3408,
    "start_time": "2021-10-02T07:36:35.652Z"
   },
   {
    "duration": 12,
    "start_time": "2021-10-02T07:37:30.487Z"
   },
   {
    "duration": 5,
    "start_time": "2021-10-02T07:41:43.701Z"
   },
   {
    "duration": 9,
    "start_time": "2021-10-02T07:41:56.784Z"
   },
   {
    "duration": 6500,
    "start_time": "2021-10-02T07:43:30.873Z"
   },
   {
    "duration": 6415,
    "start_time": "2021-10-02T07:44:54.955Z"
   },
   {
    "duration": 862,
    "start_time": "2021-10-02T07:47:23.710Z"
   },
   {
    "duration": 14,
    "start_time": "2021-10-02T07:47:24.574Z"
   },
   {
    "duration": 15,
    "start_time": "2021-10-02T07:47:24.594Z"
   },
   {
    "duration": 5,
    "start_time": "2021-10-02T07:47:24.612Z"
   },
   {
    "duration": 22,
    "start_time": "2021-10-02T07:47:24.619Z"
   },
   {
    "duration": 46,
    "start_time": "2021-10-02T07:47:24.643Z"
   },
   {
    "duration": 17,
    "start_time": "2021-10-02T07:47:24.693Z"
   },
   {
    "duration": 23,
    "start_time": "2021-10-02T07:47:24.714Z"
   },
   {
    "duration": 11,
    "start_time": "2021-10-02T07:47:24.740Z"
   },
   {
    "duration": 33,
    "start_time": "2021-10-02T07:47:24.783Z"
   },
   {
    "duration": 24,
    "start_time": "2021-10-02T07:47:24.819Z"
   },
   {
    "duration": 46,
    "start_time": "2021-10-02T07:47:24.845Z"
   },
   {
    "duration": 55,
    "start_time": "2021-10-02T07:47:24.893Z"
   },
   {
    "duration": 9,
    "start_time": "2021-10-02T07:47:24.951Z"
   },
   {
    "duration": 31,
    "start_time": "2021-10-02T07:47:24.962Z"
   },
   {
    "duration": 939,
    "start_time": "2021-10-02T07:55:20.959Z"
   },
   {
    "duration": 14,
    "start_time": "2021-10-02T07:55:21.901Z"
   },
   {
    "duration": 15,
    "start_time": "2021-10-02T07:55:21.919Z"
   },
   {
    "duration": 5,
    "start_time": "2021-10-02T07:55:21.937Z"
   },
   {
    "duration": 56,
    "start_time": "2021-10-02T07:55:21.944Z"
   },
   {
    "duration": 9,
    "start_time": "2021-10-02T07:55:22.002Z"
   },
   {
    "duration": 13,
    "start_time": "2021-10-02T07:55:22.013Z"
   },
   {
    "duration": 24,
    "start_time": "2021-10-02T07:55:22.029Z"
   },
   {
    "duration": 38,
    "start_time": "2021-10-02T07:55:22.055Z"
   },
   {
    "duration": 34,
    "start_time": "2021-10-02T07:55:22.095Z"
   },
   {
    "duration": 59,
    "start_time": "2021-10-02T07:55:22.132Z"
   },
   {
    "duration": 20,
    "start_time": "2021-10-02T07:55:22.194Z"
   },
   {
    "duration": 86,
    "start_time": "2021-10-02T07:55:22.216Z"
   },
   {
    "duration": 10,
    "start_time": "2021-10-02T07:55:22.304Z"
   },
   {
    "duration": 13,
    "start_time": "2021-10-02T07:55:22.316Z"
   },
   {
    "duration": 7,
    "start_time": "2021-10-02T07:55:22.331Z"
   },
   {
    "duration": 6,
    "start_time": "2021-10-02T07:56:16.661Z"
   },
   {
    "duration": 8,
    "start_time": "2021-10-02T07:56:22.029Z"
   },
   {
    "duration": 59,
    "start_time": "2021-10-02T07:56:37.869Z"
   },
   {
    "duration": 16,
    "start_time": "2021-10-02T07:56:53.790Z"
   },
   {
    "duration": 59,
    "start_time": "2021-10-02T07:57:04.126Z"
   },
   {
    "duration": 9,
    "start_time": "2021-10-02T07:57:45.392Z"
   },
   {
    "duration": 303,
    "start_time": "2021-10-02T07:58:29.232Z"
   },
   {
    "duration": 960,
    "start_time": "2021-10-02T08:00:30.845Z"
   },
   {
    "duration": 14,
    "start_time": "2021-10-02T08:00:31.807Z"
   },
   {
    "duration": 15,
    "start_time": "2021-10-02T08:00:31.827Z"
   },
   {
    "duration": 6,
    "start_time": "2021-10-02T08:00:31.844Z"
   },
   {
    "duration": 26,
    "start_time": "2021-10-02T08:00:31.884Z"
   },
   {
    "duration": 9,
    "start_time": "2021-10-02T08:00:31.913Z"
   },
   {
    "duration": 18,
    "start_time": "2021-10-02T08:00:31.926Z"
   },
   {
    "duration": 51,
    "start_time": "2021-10-02T08:00:31.947Z"
   },
   {
    "duration": 12,
    "start_time": "2021-10-02T08:00:32.001Z"
   },
   {
    "duration": 38,
    "start_time": "2021-10-02T08:00:32.015Z"
   },
   {
    "duration": 47,
    "start_time": "2021-10-02T08:00:32.055Z"
   },
   {
    "duration": 21,
    "start_time": "2021-10-02T08:00:32.104Z"
   },
   {
    "duration": 82,
    "start_time": "2021-10-02T08:00:32.128Z"
   },
   {
    "duration": 10,
    "start_time": "2021-10-02T08:00:32.212Z"
   },
   {
    "duration": 13,
    "start_time": "2021-10-02T08:00:32.225Z"
   },
   {
    "duration": 18,
    "start_time": "2021-10-02T08:00:32.240Z"
   },
   {
    "duration": 1055,
    "start_time": "2021-10-02T08:01:48.358Z"
   },
   {
    "duration": 15,
    "start_time": "2021-10-02T08:01:49.416Z"
   },
   {
    "duration": 15,
    "start_time": "2021-10-02T08:01:49.434Z"
   },
   {
    "duration": 5,
    "start_time": "2021-10-02T08:01:49.452Z"
   },
   {
    "duration": 23,
    "start_time": "2021-10-02T08:01:49.482Z"
   },
   {
    "duration": 11,
    "start_time": "2021-10-02T08:01:49.507Z"
   },
   {
    "duration": 18,
    "start_time": "2021-10-02T08:01:49.521Z"
   },
   {
    "duration": 48,
    "start_time": "2021-10-02T08:01:49.542Z"
   },
   {
    "duration": 12,
    "start_time": "2021-10-02T08:01:49.593Z"
   },
   {
    "duration": 28,
    "start_time": "2021-10-02T08:01:49.608Z"
   },
   {
    "duration": 58,
    "start_time": "2021-10-02T08:01:49.638Z"
   },
   {
    "duration": 22,
    "start_time": "2021-10-02T08:01:49.699Z"
   },
   {
    "duration": 12,
    "start_time": "2021-10-02T08:01:49.723Z"
   },
   {
    "duration": 45,
    "start_time": "2021-10-02T08:01:49.738Z"
   },
   {
    "duration": 8,
    "start_time": "2021-10-02T08:01:49.786Z"
   },
   {
    "duration": 36,
    "start_time": "2021-10-02T08:02:07.771Z"
   },
   {
    "duration": 11,
    "start_time": "2021-10-02T08:05:26.919Z"
   },
   {
    "duration": 8,
    "start_time": "2021-10-02T08:07:10.710Z"
   },
   {
    "duration": 17,
    "start_time": "2021-10-02T08:08:10.310Z"
   },
   {
    "duration": 43,
    "start_time": "2021-10-02T08:09:11.423Z"
   },
   {
    "duration": 18,
    "start_time": "2021-10-02T08:10:54.185Z"
   },
   {
    "duration": 7,
    "start_time": "2021-10-02T08:17:50.100Z"
   },
   {
    "duration": 7,
    "start_time": "2021-10-02T08:18:00.996Z"
   },
   {
    "duration": 8,
    "start_time": "2021-10-02T08:18:10.420Z"
   },
   {
    "duration": 112,
    "start_time": "2021-10-02T08:19:00.725Z"
   },
   {
    "duration": 114,
    "start_time": "2021-10-02T08:26:16.346Z"
   },
   {
    "duration": 331,
    "start_time": "2021-10-02T08:27:08.756Z"
   },
   {
    "duration": 6,
    "start_time": "2021-10-02T08:27:23.186Z"
   },
   {
    "duration": 7,
    "start_time": "2021-10-02T08:27:30.473Z"
   },
   {
    "duration": 7,
    "start_time": "2021-10-02T08:27:39.345Z"
   },
   {
    "duration": 7,
    "start_time": "2021-10-02T08:27:45.842Z"
   },
   {
    "duration": 113,
    "start_time": "2021-10-02T08:28:00.586Z"
   },
   {
    "duration": 295,
    "start_time": "2021-10-02T08:31:12.686Z"
   },
   {
    "duration": 109,
    "start_time": "2021-10-02T08:31:20.219Z"
   },
   {
    "duration": 922,
    "start_time": "2021-10-02T08:31:26.981Z"
   },
   {
    "duration": 14,
    "start_time": "2021-10-02T08:31:27.906Z"
   },
   {
    "duration": 16,
    "start_time": "2021-10-02T08:31:27.926Z"
   },
   {
    "duration": 5,
    "start_time": "2021-10-02T08:31:27.944Z"
   },
   {
    "duration": 7,
    "start_time": "2021-10-02T08:31:27.984Z"
   },
   {
    "duration": 137,
    "start_time": "2021-10-02T08:31:27.993Z"
   },
   {
    "duration": 25,
    "start_time": "2021-10-02T08:31:28.133Z"
   },
   {
    "duration": 25,
    "start_time": "2021-10-02T08:31:28.161Z"
   },
   {
    "duration": 15,
    "start_time": "2021-10-02T08:31:28.189Z"
   },
   {
    "duration": 23,
    "start_time": "2021-10-02T08:31:28.206Z"
   },
   {
    "duration": 11,
    "start_time": "2021-10-02T08:31:28.232Z"
   },
   {
    "duration": 57,
    "start_time": "2021-10-02T08:31:28.246Z"
   },
   {
    "duration": 24,
    "start_time": "2021-10-02T08:31:28.306Z"
   },
   {
    "duration": 18,
    "start_time": "2021-10-02T08:31:28.332Z"
   },
   {
    "duration": 40,
    "start_time": "2021-10-02T08:31:28.353Z"
   },
   {
    "duration": 14,
    "start_time": "2021-10-02T08:31:28.395Z"
   },
   {
    "duration": 8,
    "start_time": "2021-10-02T08:31:28.411Z"
   },
   {
    "duration": 16,
    "start_time": "2021-10-02T08:31:28.421Z"
   },
   {
    "duration": 152,
    "start_time": "2021-10-02T08:31:28.439Z"
   },
   {
    "duration": 6,
    "start_time": "2021-10-02T09:40:31.443Z"
   },
   {
    "duration": 9,
    "start_time": "2021-10-02T09:41:27.914Z"
   },
   {
    "duration": 36,
    "start_time": "2021-10-02T09:41:42.563Z"
   },
   {
    "duration": 98,
    "start_time": "2021-10-02T09:42:21.638Z"
   },
   {
    "duration": 33,
    "start_time": "2021-10-02T09:42:25.395Z"
   },
   {
    "duration": 34,
    "start_time": "2021-10-02T09:43:08.772Z"
   },
   {
    "duration": 6,
    "start_time": "2021-10-02T09:44:46.045Z"
   },
   {
    "duration": 22,
    "start_time": "2021-10-02T09:51:44.848Z"
   },
   {
    "duration": 7,
    "start_time": "2021-10-02T09:51:45.680Z"
   },
   {
    "duration": 6,
    "start_time": "2021-10-02T09:51:46.136Z"
   },
   {
    "duration": 23,
    "start_time": "2021-10-02T09:51:46.321Z"
   },
   {
    "duration": 11,
    "start_time": "2021-10-02T09:51:46.520Z"
   },
   {
    "duration": 28,
    "start_time": "2021-10-02T09:51:50.219Z"
   },
   {
    "duration": 27,
    "start_time": "2021-10-02T09:51:50.249Z"
   },
   {
    "duration": 11,
    "start_time": "2021-10-02T09:51:50.279Z"
   },
   {
    "duration": 10,
    "start_time": "2021-10-02T09:51:50.293Z"
   },
   {
    "duration": 14,
    "start_time": "2021-10-02T09:51:50.333Z"
   },
   {
    "duration": 9,
    "start_time": "2021-10-02T09:51:52.274Z"
   },
   {
    "duration": 17,
    "start_time": "2021-10-02T09:51:52.736Z"
   },
   {
    "duration": 6,
    "start_time": "2021-10-02T09:51:53.241Z"
   },
   {
    "duration": 866,
    "start_time": "2021-10-02T09:52:14.324Z"
   },
   {
    "duration": 17,
    "start_time": "2021-10-02T09:52:15.193Z"
   },
   {
    "duration": 16,
    "start_time": "2021-10-02T09:52:15.214Z"
   },
   {
    "duration": 6,
    "start_time": "2021-10-02T09:52:15.234Z"
   },
   {
    "duration": 148,
    "start_time": "2021-10-02T09:52:15.243Z"
   },
   {
    "duration": 22,
    "start_time": "2021-10-02T09:52:15.394Z"
   },
   {
    "duration": 9,
    "start_time": "2021-10-02T09:52:15.418Z"
   },
   {
    "duration": 11,
    "start_time": "2021-10-02T09:52:15.430Z"
   },
   {
    "duration": 56,
    "start_time": "2021-10-02T09:52:15.444Z"
   },
   {
    "duration": 11,
    "start_time": "2021-10-02T09:52:15.502Z"
   },
   {
    "duration": 31,
    "start_time": "2021-10-02T09:52:15.516Z"
   },
   {
    "duration": 54,
    "start_time": "2021-10-02T09:52:15.549Z"
   },
   {
    "duration": 18,
    "start_time": "2021-10-02T09:52:15.605Z"
   },
   {
    "duration": 13,
    "start_time": "2021-10-02T09:52:15.625Z"
   },
   {
    "duration": 46,
    "start_time": "2021-10-02T09:52:15.641Z"
   },
   {
    "duration": 8,
    "start_time": "2021-10-02T09:52:15.689Z"
   },
   {
    "duration": 16,
    "start_time": "2021-10-02T09:52:15.700Z"
   },
   {
    "duration": 7,
    "start_time": "2021-10-02T09:52:15.718Z"
   },
   {
    "duration": 32,
    "start_time": "2021-10-02T12:30:08.549Z"
   },
   {
    "duration": 6,
    "start_time": "2021-10-02T12:30:28.302Z"
   },
   {
    "duration": 7,
    "start_time": "2021-10-02T12:30:40.215Z"
   },
   {
    "duration": 7,
    "start_time": "2021-10-02T12:30:52.215Z"
   },
   {
    "duration": 6,
    "start_time": "2021-10-02T12:30:53.039Z"
   },
   {
    "duration": 94,
    "start_time": "2021-10-02T12:52:52.420Z"
   },
   {
    "duration": 14,
    "start_time": "2021-10-02T12:54:03.721Z"
   },
   {
    "duration": 71,
    "start_time": "2021-10-02T12:54:19.380Z"
   },
   {
    "duration": 342,
    "start_time": "2021-10-02T12:55:01.546Z"
   },
   {
    "duration": 7,
    "start_time": "2021-10-02T12:59:28.070Z"
   },
   {
    "duration": 312,
    "start_time": "2021-10-02T13:01:30.688Z"
   },
   {
    "duration": 21,
    "start_time": "2021-10-02T13:01:49.704Z"
   },
   {
    "duration": 13,
    "start_time": "2021-10-02T13:03:51.556Z"
   },
   {
    "duration": 918,
    "start_time": "2021-10-02T13:03:56.648Z"
   },
   {
    "duration": 17,
    "start_time": "2021-10-02T13:03:57.569Z"
   },
   {
    "duration": 19,
    "start_time": "2021-10-02T13:03:57.590Z"
   },
   {
    "duration": 6,
    "start_time": "2021-10-02T13:03:57.612Z"
   },
   {
    "duration": 136,
    "start_time": "2021-10-02T13:03:57.621Z"
   },
   {
    "duration": 43,
    "start_time": "2021-10-02T13:03:57.760Z"
   },
   {
    "duration": 9,
    "start_time": "2021-10-02T13:03:57.805Z"
   },
   {
    "duration": 19,
    "start_time": "2021-10-02T13:03:57.818Z"
   },
   {
    "duration": 45,
    "start_time": "2021-10-02T13:03:57.840Z"
   },
   {
    "duration": 16,
    "start_time": "2021-10-02T13:03:57.887Z"
   },
   {
    "duration": 33,
    "start_time": "2021-10-02T13:03:57.905Z"
   },
   {
    "duration": 61,
    "start_time": "2021-10-02T13:03:57.940Z"
   },
   {
    "duration": 20,
    "start_time": "2021-10-02T13:03:58.003Z"
   },
   {
    "duration": 13,
    "start_time": "2021-10-02T13:03:58.025Z"
   },
   {
    "duration": 45,
    "start_time": "2021-10-02T13:03:58.040Z"
   },
   {
    "duration": 36,
    "start_time": "2021-10-02T13:03:58.090Z"
   },
   {
    "duration": 8,
    "start_time": "2021-10-02T13:03:58.129Z"
   },
   {
    "duration": 42,
    "start_time": "2021-10-02T13:03:58.140Z"
   },
   {
    "duration": 9,
    "start_time": "2021-10-02T13:03:58.185Z"
   },
   {
    "duration": 34,
    "start_time": "2021-10-02T13:03:58.196Z"
   },
   {
    "duration": 8,
    "start_time": "2021-10-02T13:04:49.550Z"
   },
   {
    "duration": 7,
    "start_time": "2021-10-02T13:05:23.378Z"
   },
   {
    "duration": 22,
    "start_time": "2021-10-02T13:05:40.992Z"
   },
   {
    "duration": 87,
    "start_time": "2021-10-02T13:06:04.343Z"
   },
   {
    "duration": 1063,
    "start_time": "2021-10-02T13:06:32.082Z"
   },
   {
    "duration": 6,
    "start_time": "2021-10-02T13:15:36.061Z"
   },
   {
    "duration": 8,
    "start_time": "2021-10-02T13:15:45.604Z"
   },
   {
    "duration": 60,
    "start_time": "2021-10-02T14:12:30.832Z"
   },
   {
    "duration": 80,
    "start_time": "2021-10-02T15:07:59.874Z"
   },
   {
    "duration": 51,
    "start_time": "2021-10-02T15:10:02.021Z"
   },
   {
    "duration": 81,
    "start_time": "2021-10-02T15:10:10.212Z"
   },
   {
    "duration": 799,
    "start_time": "2021-10-02T15:13:53.767Z"
   },
   {
    "duration": 850,
    "start_time": "2021-10-02T15:14:01.398Z"
   },
   {
    "duration": 917,
    "start_time": "2021-10-02T15:14:15.022Z"
   },
   {
    "duration": 872,
    "start_time": "2021-10-02T15:14:29.105Z"
   },
   {
    "duration": 886,
    "start_time": "2021-10-02T15:16:22.186Z"
   },
   {
    "duration": 297,
    "start_time": "2021-10-02T15:30:36.272Z"
   },
   {
    "duration": 282,
    "start_time": "2021-10-02T15:31:02.368Z"
   },
   {
    "duration": 287,
    "start_time": "2021-10-02T15:31:55.114Z"
   },
   {
    "duration": 266,
    "start_time": "2021-10-02T15:32:25.905Z"
   },
   {
    "duration": 936,
    "start_time": "2021-10-02T15:35:02.239Z"
   },
   {
    "duration": 21,
    "start_time": "2021-10-02T15:35:03.178Z"
   },
   {
    "duration": 16,
    "start_time": "2021-10-02T15:35:03.202Z"
   },
   {
    "duration": 5,
    "start_time": "2021-10-02T15:35:03.221Z"
   },
   {
    "duration": 134,
    "start_time": "2021-10-02T15:35:03.229Z"
   },
   {
    "duration": 42,
    "start_time": "2021-10-02T15:35:03.366Z"
   },
   {
    "duration": 12,
    "start_time": "2021-10-02T15:35:03.411Z"
   },
   {
    "duration": 22,
    "start_time": "2021-10-02T15:35:03.428Z"
   },
   {
    "duration": 50,
    "start_time": "2021-10-02T15:35:03.454Z"
   },
   {
    "duration": 12,
    "start_time": "2021-10-02T15:35:03.507Z"
   },
   {
    "duration": 32,
    "start_time": "2021-10-02T15:35:03.522Z"
   },
   {
    "duration": 54,
    "start_time": "2021-10-02T15:35:03.556Z"
   },
   {
    "duration": 18,
    "start_time": "2021-10-02T15:35:03.612Z"
   },
   {
    "duration": 12,
    "start_time": "2021-10-02T15:35:03.633Z"
   },
   {
    "duration": 50,
    "start_time": "2021-10-02T15:35:03.647Z"
   },
   {
    "duration": 9,
    "start_time": "2021-10-02T15:35:03.699Z"
   },
   {
    "duration": 17,
    "start_time": "2021-10-02T15:35:03.711Z"
   },
   {
    "duration": 6,
    "start_time": "2021-10-02T15:35:03.730Z"
   },
   {
    "duration": 830,
    "start_time": "2021-10-02T15:35:03.739Z"
   },
   {
    "duration": 290,
    "start_time": "2021-10-02T15:35:04.571Z"
   },
   {
    "duration": 1469,
    "start_time": "2021-10-02T15:35:25.052Z"
   },
   {
    "duration": 781,
    "start_time": "2021-10-02T15:35:44.012Z"
   },
   {
    "duration": 529,
    "start_time": "2021-10-02T15:36:00.457Z"
   },
   {
    "duration": 57,
    "start_time": "2021-10-02T15:38:46.693Z"
   },
   {
    "duration": 9092,
    "start_time": "2021-10-02T15:39:06.054Z"
   },
   {
    "duration": 292,
    "start_time": "2021-10-02T15:39:27.694Z"
   },
   {
    "duration": 392,
    "start_time": "2021-10-02T15:40:17.749Z"
   },
   {
    "duration": 260,
    "start_time": "2021-10-02T15:41:17.319Z"
   },
   {
    "duration": 276,
    "start_time": "2021-10-02T15:41:28.151Z"
   },
   {
    "duration": 263,
    "start_time": "2021-10-02T15:41:36.591Z"
   },
   {
    "duration": 243,
    "start_time": "2021-10-02T15:41:41.095Z"
   },
   {
    "duration": 236,
    "start_time": "2021-10-02T15:41:44.423Z"
   },
   {
    "duration": 697,
    "start_time": "2021-10-02T15:41:59.363Z"
   },
   {
    "duration": 270,
    "start_time": "2021-10-02T15:42:04.128Z"
   },
   {
    "duration": 460,
    "start_time": "2021-10-02T15:42:34.663Z"
   },
   {
    "duration": 313,
    "start_time": "2021-10-02T15:42:57.784Z"
   },
   {
    "duration": 335,
    "start_time": "2021-10-02T15:43:20.400Z"
   },
   {
    "duration": 531,
    "start_time": "2021-10-02T15:43:42.801Z"
   },
   {
    "duration": 694,
    "start_time": "2021-10-02T15:44:05.009Z"
   },
   {
    "duration": 262,
    "start_time": "2021-10-02T15:44:18.048Z"
   },
   {
    "duration": 287,
    "start_time": "2021-10-02T15:44:26.144Z"
   },
   {
    "duration": 409,
    "start_time": "2021-10-02T15:44:33.392Z"
   },
   {
    "duration": 297,
    "start_time": "2021-10-02T15:44:42.784Z"
   },
   {
    "duration": 267,
    "start_time": "2021-10-02T15:45:12.993Z"
   },
   {
    "duration": 288,
    "start_time": "2021-10-02T15:45:49.557Z"
   },
   {
    "duration": 278,
    "start_time": "2021-10-02T15:51:44.740Z"
   },
   {
    "duration": 253,
    "start_time": "2021-10-02T15:51:49.729Z"
   },
   {
    "duration": 275,
    "start_time": "2021-10-02T15:51:53.773Z"
   },
   {
    "duration": 897,
    "start_time": "2021-10-02T15:52:17.325Z"
   },
   {
    "duration": 106,
    "start_time": "2021-10-02T15:52:27.613Z"
   },
   {
    "duration": 273,
    "start_time": "2021-10-02T15:52:31.273Z"
   },
   {
    "duration": 286,
    "start_time": "2021-10-02T15:52:42.125Z"
   },
   {
    "duration": 260,
    "start_time": "2021-10-02T15:53:09.533Z"
   },
   {
    "duration": 288,
    "start_time": "2021-10-02T15:53:14.541Z"
   },
   {
    "duration": 527,
    "start_time": "2021-10-02T15:53:17.230Z"
   },
   {
    "duration": 3297,
    "start_time": "2021-10-02T15:53:21.797Z"
   },
   {
    "duration": 559,
    "start_time": "2021-10-02T15:53:34.342Z"
   },
   {
    "duration": 1150,
    "start_time": "2021-10-02T15:53:38.422Z"
   },
   {
    "duration": 273,
    "start_time": "2021-10-02T15:53:54.653Z"
   },
   {
    "duration": 978,
    "start_time": "2021-10-02T15:57:32.565Z"
   },
   {
    "duration": 15,
    "start_time": "2021-10-02T15:57:33.545Z"
   },
   {
    "duration": 33,
    "start_time": "2021-10-02T15:57:33.562Z"
   },
   {
    "duration": 8,
    "start_time": "2021-10-02T15:57:33.599Z"
   },
   {
    "duration": 138,
    "start_time": "2021-10-02T15:57:33.609Z"
   },
   {
    "duration": 43,
    "start_time": "2021-10-02T15:57:33.750Z"
   },
   {
    "duration": 10,
    "start_time": "2021-10-02T15:57:33.796Z"
   },
   {
    "duration": 12,
    "start_time": "2021-10-02T15:57:33.810Z"
   },
   {
    "duration": 24,
    "start_time": "2021-10-02T15:57:33.825Z"
   },
   {
    "duration": 40,
    "start_time": "2021-10-02T15:57:33.851Z"
   },
   {
    "duration": 33,
    "start_time": "2021-10-02T15:57:33.894Z"
   },
   {
    "duration": 24,
    "start_time": "2021-10-02T15:57:33.930Z"
   },
   {
    "duration": 42,
    "start_time": "2021-10-02T15:57:33.956Z"
   },
   {
    "duration": 15,
    "start_time": "2021-10-02T15:57:34.001Z"
   },
   {
    "duration": 16,
    "start_time": "2021-10-02T15:57:34.019Z"
   },
   {
    "duration": 48,
    "start_time": "2021-10-02T15:57:34.037Z"
   },
   {
    "duration": 19,
    "start_time": "2021-10-02T15:57:34.090Z"
   },
   {
    "duration": 8,
    "start_time": "2021-10-02T15:57:34.112Z"
   },
   {
    "duration": 816,
    "start_time": "2021-10-02T15:57:34.123Z"
   },
   {
    "duration": 324,
    "start_time": "2021-10-02T15:57:34.942Z"
   },
   {
    "duration": 362,
    "start_time": "2021-10-02T15:57:35.269Z"
   },
   {
    "duration": 301,
    "start_time": "2021-10-02T15:57:35.634Z"
   },
   {
    "duration": 285,
    "start_time": "2021-10-02T15:57:35.940Z"
   },
   {
    "duration": 1344,
    "start_time": "2021-10-02T15:58:19.659Z"
   },
   {
    "duration": 106,
    "start_time": "2021-10-02T15:58:25.428Z"
   },
   {
    "duration": 311,
    "start_time": "2021-10-02T15:58:41.259Z"
   },
   {
    "duration": 307,
    "start_time": "2021-10-02T15:59:21.317Z"
   },
   {
    "duration": 312,
    "start_time": "2021-10-02T15:59:30.156Z"
   },
   {
    "duration": 305,
    "start_time": "2021-10-02T15:59:33.892Z"
   },
   {
    "duration": 294,
    "start_time": "2021-10-02T15:59:42.149Z"
   },
   {
    "duration": 572,
    "start_time": "2021-10-02T16:01:43.165Z"
   },
   {
    "duration": 655,
    "start_time": "2021-10-02T16:01:56.918Z"
   },
   {
    "duration": 515,
    "start_time": "2021-10-02T16:02:11.990Z"
   },
   {
    "duration": 563,
    "start_time": "2021-10-02T16:02:19.238Z"
   },
   {
    "duration": 588,
    "start_time": "2021-10-02T16:03:14.405Z"
   },
   {
    "duration": 129,
    "start_time": "2021-10-02T16:14:29.180Z"
   },
   {
    "duration": 561,
    "start_time": "2021-10-02T16:14:33.772Z"
   },
   {
    "duration": 668,
    "start_time": "2021-10-02T16:15:26.373Z"
   },
   {
    "duration": 549,
    "start_time": "2021-10-02T16:15:31.791Z"
   },
   {
    "duration": 664,
    "start_time": "2021-10-02T16:16:01.102Z"
   },
   {
    "duration": 557,
    "start_time": "2021-10-02T16:16:10.485Z"
   },
   {
    "duration": 550,
    "start_time": "2021-10-02T16:16:16.886Z"
   },
   {
    "duration": 525,
    "start_time": "2021-10-02T16:19:10.479Z"
   },
   {
    "duration": 665,
    "start_time": "2021-10-02T16:19:22.679Z"
   },
   {
    "duration": 3415,
    "start_time": "2021-10-02T16:19:35.303Z"
   },
   {
    "duration": 675,
    "start_time": "2021-10-02T16:19:43.623Z"
   },
   {
    "duration": 3692,
    "start_time": "2021-10-02T16:19:49.654Z"
   },
   {
    "duration": 996,
    "start_time": "2021-10-02T16:20:02.279Z"
   },
   {
    "duration": 590,
    "start_time": "2021-10-02T16:21:32.466Z"
   },
   {
    "duration": 582,
    "start_time": "2021-10-02T16:21:33.059Z"
   },
   {
    "duration": 341,
    "start_time": "2021-10-02T16:37:52.049Z"
   },
   {
    "duration": 599,
    "start_time": "2021-10-02T16:38:03.150Z"
   },
   {
    "duration": 581,
    "start_time": "2021-10-02T16:38:36.614Z"
   },
   {
    "duration": 613,
    "start_time": "2021-10-02T16:39:19.933Z"
   },
   {
    "duration": 583,
    "start_time": "2021-10-02T16:39:32.618Z"
   },
   {
    "duration": 328,
    "start_time": "2021-10-02T16:39:57.283Z"
   },
   {
    "duration": 582,
    "start_time": "2021-10-02T16:40:07.923Z"
   },
   {
    "duration": 740,
    "start_time": "2021-10-02T16:40:26.916Z"
   },
   {
    "duration": 600,
    "start_time": "2021-10-02T16:40:34.475Z"
   },
   {
    "duration": 599,
    "start_time": "2021-10-02T16:40:44.362Z"
   },
   {
    "duration": 352,
    "start_time": "2021-10-03T07:08:42.626Z"
   },
   {
    "duration": 939,
    "start_time": "2021-10-03T07:08:48.299Z"
   },
   {
    "duration": 15,
    "start_time": "2021-10-03T07:08:49.241Z"
   },
   {
    "duration": 25,
    "start_time": "2021-10-03T07:08:49.259Z"
   },
   {
    "duration": 8,
    "start_time": "2021-10-03T07:08:49.286Z"
   },
   {
    "duration": 135,
    "start_time": "2021-10-03T07:08:49.296Z"
   },
   {
    "duration": 22,
    "start_time": "2021-10-03T07:08:49.433Z"
   },
   {
    "duration": 15,
    "start_time": "2021-10-03T07:08:49.457Z"
   },
   {
    "duration": 23,
    "start_time": "2021-10-03T07:08:49.475Z"
   },
   {
    "duration": 50,
    "start_time": "2021-10-03T07:08:49.501Z"
   },
   {
    "duration": 14,
    "start_time": "2021-10-03T07:08:49.553Z"
   },
   {
    "duration": 38,
    "start_time": "2021-10-03T07:08:49.569Z"
   },
   {
    "duration": 31,
    "start_time": "2021-10-03T07:08:49.610Z"
   },
   {
    "duration": 1578,
    "start_time": "2021-10-03T07:08:49.643Z"
   },
   {
    "duration": -71,
    "start_time": "2021-10-03T07:08:51.295Z"
   },
   {
    "duration": -74,
    "start_time": "2021-10-03T07:08:51.299Z"
   },
   {
    "duration": -75,
    "start_time": "2021-10-03T07:08:51.302Z"
   },
   {
    "duration": -79,
    "start_time": "2021-10-03T07:08:51.307Z"
   },
   {
    "duration": -81,
    "start_time": "2021-10-03T07:08:51.311Z"
   },
   {
    "duration": -82,
    "start_time": "2021-10-03T07:08:51.314Z"
   },
   {
    "duration": -84,
    "start_time": "2021-10-03T07:08:51.317Z"
   },
   {
    "duration": -87,
    "start_time": "2021-10-03T07:08:51.322Z"
   },
   {
    "duration": -90,
    "start_time": "2021-10-03T07:08:51.326Z"
   },
   {
    "duration": -91,
    "start_time": "2021-10-03T07:08:51.329Z"
   },
   {
    "duration": -92,
    "start_time": "2021-10-03T07:08:51.331Z"
   },
   {
    "duration": 12,
    "start_time": "2021-10-03T07:09:07.360Z"
   },
   {
    "duration": 26,
    "start_time": "2021-10-03T07:09:28.504Z"
   },
   {
    "duration": 12,
    "start_time": "2021-10-03T07:09:29.152Z"
   },
   {
    "duration": 28,
    "start_time": "2021-10-03T07:09:30.287Z"
   },
   {
    "duration": 27,
    "start_time": "2021-10-03T07:09:30.671Z"
   },
   {
    "duration": 11,
    "start_time": "2021-10-03T07:09:31.079Z"
   },
   {
    "duration": 11,
    "start_time": "2021-10-03T07:09:31.791Z"
   },
   {
    "duration": 15,
    "start_time": "2021-10-03T07:09:33.086Z"
   },
   {
    "duration": 7736,
    "start_time": "2021-10-03T07:10:25.264Z"
   },
   {
    "duration": 6891,
    "start_time": "2021-10-03T07:10:39.048Z"
   },
   {
    "duration": 1093,
    "start_time": "2021-10-03T07:10:54.152Z"
   },
   {
    "duration": 24,
    "start_time": "2021-10-03T07:11:55.832Z"
   },
   {
    "duration": 11,
    "start_time": "2021-10-03T07:11:57.112Z"
   },
   {
    "duration": 28,
    "start_time": "2021-10-03T07:11:58.009Z"
   },
   {
    "duration": 26,
    "start_time": "2021-10-03T07:11:58.344Z"
   },
   {
    "duration": 1341,
    "start_time": "2021-10-03T07:11:58.592Z"
   },
   {
    "duration": -81,
    "start_time": "2021-10-03T07:12:00.017Z"
   },
   {
    "duration": -87,
    "start_time": "2021-10-03T07:12:00.024Z"
   },
   {
    "duration": 9,
    "start_time": "2021-10-03T07:12:00.656Z"
   },
   {
    "duration": 18,
    "start_time": "2021-10-03T07:12:01.192Z"
   },
   {
    "duration": 8,
    "start_time": "2021-10-03T07:12:01.656Z"
   },
   {
    "duration": 782,
    "start_time": "2021-10-03T07:12:02.440Z"
   },
   {
    "duration": 567,
    "start_time": "2021-10-03T07:12:03.295Z"
   },
   {
    "duration": 559,
    "start_time": "2021-10-03T07:12:05.008Z"
   },
   {
    "duration": 560,
    "start_time": "2021-10-03T07:12:05.570Z"
   },
   {
    "duration": 551,
    "start_time": "2021-10-03T07:12:06.133Z"
   },
   {
    "duration": 936,
    "start_time": "2021-10-03T07:29:18.729Z"
   },
   {
    "duration": 14,
    "start_time": "2021-10-03T07:29:19.668Z"
   },
   {
    "duration": 16,
    "start_time": "2021-10-03T07:29:19.685Z"
   },
   {
    "duration": 6,
    "start_time": "2021-10-03T07:29:20.083Z"
   },
   {
    "duration": 110,
    "start_time": "2021-10-03T07:29:21.269Z"
   },
   {
    "duration": 24,
    "start_time": "2021-10-03T07:29:21.491Z"
   },
   {
    "duration": 11,
    "start_time": "2021-10-03T07:29:21.937Z"
   },
   {
    "duration": 12,
    "start_time": "2021-10-03T07:29:22.434Z"
   },
   {
    "duration": 24,
    "start_time": "2021-10-03T07:29:22.680Z"
   },
   {
    "duration": 13,
    "start_time": "2021-10-03T07:29:22.920Z"
   },
   {
    "duration": 43,
    "start_time": "2021-10-03T07:29:23.424Z"
   },
   {
    "duration": 28,
    "start_time": "2021-10-03T07:29:23.712Z"
   },
   {
    "duration": 19,
    "start_time": "2021-10-03T07:29:23.990Z"
   },
   {
    "duration": 14,
    "start_time": "2021-10-03T07:29:24.248Z"
   },
   {
    "duration": 13,
    "start_time": "2021-10-03T07:29:24.824Z"
   },
   {
    "duration": 8,
    "start_time": "2021-10-03T07:29:27.408Z"
   },
   {
    "duration": 17,
    "start_time": "2021-10-03T07:29:28.103Z"
   },
   {
    "duration": 7,
    "start_time": "2021-10-03T07:29:28.536Z"
   },
   {
    "duration": 786,
    "start_time": "2021-10-03T07:29:29.009Z"
   },
   {
    "duration": 582,
    "start_time": "2021-10-03T07:29:29.797Z"
   },
   {
    "duration": 547,
    "start_time": "2021-10-03T07:29:33.017Z"
   },
   {
    "duration": 539,
    "start_time": "2021-10-03T07:29:33.761Z"
   },
   {
    "duration": 527,
    "start_time": "2021-10-03T07:29:36.145Z"
   },
   {
    "duration": 543,
    "start_time": "2021-10-03T07:29:36.806Z"
   },
   {
    "duration": 10,
    "start_time": "2021-10-03T07:46:08.158Z"
   },
   {
    "duration": 371,
    "start_time": "2021-10-03T07:47:29.199Z"
   },
   {
    "duration": 7,
    "start_time": "2021-10-03T07:47:40.324Z"
   },
   {
    "duration": 9,
    "start_time": "2021-10-03T07:47:55.244Z"
   },
   {
    "duration": 10,
    "start_time": "2021-10-03T07:48:11.835Z"
   },
   {
    "duration": 8,
    "start_time": "2021-10-03T07:48:30.255Z"
   },
   {
    "duration": 59,
    "start_time": "2021-10-03T07:48:43.843Z"
   },
   {
    "duration": 7,
    "start_time": "2021-10-03T07:48:53.718Z"
   },
   {
    "duration": 10,
    "start_time": "2021-10-03T07:49:16.355Z"
   },
   {
    "duration": 32,
    "start_time": "2021-10-03T07:50:02.298Z"
   },
   {
    "duration": 110,
    "start_time": "2021-10-03T07:50:08.622Z"
   },
   {
    "duration": 106,
    "start_time": "2021-10-03T07:50:34.360Z"
   },
   {
    "duration": 114,
    "start_time": "2021-10-03T07:50:51.010Z"
   },
   {
    "duration": 23,
    "start_time": "2021-10-03T07:52:22.694Z"
   },
   {
    "duration": 11,
    "start_time": "2021-10-03T07:52:23.846Z"
   },
   {
    "duration": 958,
    "start_time": "2021-10-03T07:52:37.627Z"
   },
   {
    "duration": 14,
    "start_time": "2021-10-03T07:52:38.588Z"
   },
   {
    "duration": 28,
    "start_time": "2021-10-03T07:52:38.606Z"
   },
   {
    "duration": 5,
    "start_time": "2021-10-03T07:52:38.637Z"
   },
   {
    "duration": 136,
    "start_time": "2021-10-03T07:52:38.645Z"
   },
   {
    "duration": 22,
    "start_time": "2021-10-03T07:52:38.784Z"
   },
   {
    "duration": 9,
    "start_time": "2021-10-03T07:52:38.822Z"
   },
   {
    "duration": 11,
    "start_time": "2021-10-03T07:52:38.835Z"
   },
   {
    "duration": 26,
    "start_time": "2021-10-03T07:52:38.849Z"
   },
   {
    "duration": 11,
    "start_time": "2021-10-03T07:52:38.877Z"
   },
   {
    "duration": 33,
    "start_time": "2021-10-03T07:52:38.923Z"
   },
   {
    "duration": 26,
    "start_time": "2021-10-03T07:52:38.959Z"
   },
   {
    "duration": 445,
    "start_time": "2021-10-03T07:52:38.987Z"
   },
   {
    "duration": -45,
    "start_time": "2021-10-03T07:52:39.481Z"
   },
   {
    "duration": -47,
    "start_time": "2021-10-03T07:52:39.486Z"
   },
   {
    "duration": -48,
    "start_time": "2021-10-03T07:52:39.489Z"
   },
   {
    "duration": -48,
    "start_time": "2021-10-03T07:52:39.491Z"
   },
   {
    "duration": -51,
    "start_time": "2021-10-03T07:52:39.496Z"
   },
   {
    "duration": -54,
    "start_time": "2021-10-03T07:52:39.501Z"
   },
   {
    "duration": -56,
    "start_time": "2021-10-03T07:52:39.505Z"
   },
   {
    "duration": -56,
    "start_time": "2021-10-03T07:52:39.508Z"
   },
   {
    "duration": -57,
    "start_time": "2021-10-03T07:52:39.512Z"
   },
   {
    "duration": -69,
    "start_time": "2021-10-03T07:52:39.527Z"
   },
   {
    "duration": -74,
    "start_time": "2021-10-03T07:52:39.534Z"
   },
   {
    "duration": 11,
    "start_time": "2021-10-03T07:53:16.504Z"
   },
   {
    "duration": 14,
    "start_time": "2021-10-03T07:53:18.855Z"
   },
   {
    "duration": 24,
    "start_time": "2021-10-03T07:53:27.847Z"
   },
   {
    "duration": 10,
    "start_time": "2021-10-03T07:53:28.585Z"
   },
   {
    "duration": 27,
    "start_time": "2021-10-03T07:53:29.431Z"
   },
   {
    "duration": 29,
    "start_time": "2021-10-03T07:53:29.758Z"
   },
   {
    "duration": 13,
    "start_time": "2021-10-03T07:53:30.031Z"
   },
   {
    "duration": 11,
    "start_time": "2021-10-03T07:53:30.551Z"
   },
   {
    "duration": 18,
    "start_time": "2021-10-03T07:53:31.391Z"
   },
   {
    "duration": 9,
    "start_time": "2021-10-03T07:53:36.103Z"
   },
   {
    "duration": 16,
    "start_time": "2021-10-03T07:53:36.575Z"
   },
   {
    "duration": 8,
    "start_time": "2021-10-03T07:53:37.014Z"
   },
   {
    "duration": 773,
    "start_time": "2021-10-03T07:53:37.463Z"
   },
   {
    "duration": 582,
    "start_time": "2021-10-03T07:53:38.918Z"
   },
   {
    "duration": 557,
    "start_time": "2021-10-03T07:53:39.838Z"
   },
   {
    "duration": 559,
    "start_time": "2021-10-03T07:53:40.398Z"
   },
   {
    "duration": 535,
    "start_time": "2021-10-03T07:53:40.960Z"
   },
   {
    "duration": 548,
    "start_time": "2021-10-03T07:53:41.498Z"
   },
   {
    "duration": 11,
    "start_time": "2021-10-03T07:56:54.657Z"
   },
   {
    "duration": 327,
    "start_time": "2021-10-03T07:57:21.977Z"
   },
   {
    "duration": 4401,
    "start_time": "2021-10-03T07:57:37.433Z"
   },
   {
    "duration": 287,
    "start_time": "2021-10-03T07:57:48.394Z"
   },
   {
    "duration": 102,
    "start_time": "2021-10-03T07:59:25.554Z"
   },
   {
    "duration": 57,
    "start_time": "2021-10-03T07:59:29.682Z"
   },
   {
    "duration": 195,
    "start_time": "2021-10-03T08:00:51.011Z"
   },
   {
    "duration": 25,
    "start_time": "2021-10-03T08:03:17.429Z"
   },
   {
    "duration": 57,
    "start_time": "2021-10-03T08:03:19.075Z"
   },
   {
    "duration": 944,
    "start_time": "2021-10-03T08:03:33.936Z"
   },
   {
    "duration": 15,
    "start_time": "2021-10-03T08:03:34.883Z"
   },
   {
    "duration": 31,
    "start_time": "2021-10-03T08:03:34.901Z"
   },
   {
    "duration": 5,
    "start_time": "2021-10-03T08:03:34.935Z"
   },
   {
    "duration": 135,
    "start_time": "2021-10-03T08:03:34.942Z"
   },
   {
    "duration": 25,
    "start_time": "2021-10-03T08:03:35.079Z"
   },
   {
    "duration": 66,
    "start_time": "2021-10-03T08:03:35.106Z"
   },
   {
    "duration": 9,
    "start_time": "2021-10-03T08:03:35.176Z"
   },
   {
    "duration": 31,
    "start_time": "2021-10-03T08:03:35.187Z"
   },
   {
    "duration": 46,
    "start_time": "2021-10-03T08:03:35.221Z"
   },
   {
    "duration": 36,
    "start_time": "2021-10-03T08:03:35.270Z"
   },
   {
    "duration": 43,
    "start_time": "2021-10-03T08:03:35.309Z"
   },
   {
    "duration": 35,
    "start_time": "2021-10-03T08:03:35.355Z"
   },
   {
    "duration": 42,
    "start_time": "2021-10-03T08:03:35.393Z"
   },
   {
    "duration": 28,
    "start_time": "2021-10-03T08:03:35.438Z"
   },
   {
    "duration": 19,
    "start_time": "2021-10-03T08:03:35.469Z"
   },
   {
    "duration": 39,
    "start_time": "2021-10-03T08:03:35.491Z"
   },
   {
    "duration": 21,
    "start_time": "2021-10-03T08:03:35.532Z"
   },
   {
    "duration": 31,
    "start_time": "2021-10-03T08:03:35.556Z"
   },
   {
    "duration": 807,
    "start_time": "2021-10-03T08:03:35.589Z"
   },
   {
    "duration": 575,
    "start_time": "2021-10-03T08:03:36.399Z"
   },
   {
    "duration": 312,
    "start_time": "2021-10-03T08:03:36.977Z"
   },
   {
    "duration": 555,
    "start_time": "2021-10-03T08:03:37.293Z"
   },
   {
    "duration": 548,
    "start_time": "2021-10-03T08:03:37.851Z"
   },
   {
    "duration": 563,
    "start_time": "2021-10-03T08:03:38.402Z"
   },
   {
    "duration": 64,
    "start_time": "2021-10-03T09:02:42.475Z"
   },
   {
    "duration": 57,
    "start_time": "2021-10-03T09:02:49.403Z"
   },
   {
    "duration": 61,
    "start_time": "2021-10-03T09:02:55.747Z"
   },
   {
    "duration": 24,
    "start_time": "2021-10-03T09:02:59.518Z"
   },
   {
    "duration": 24,
    "start_time": "2021-10-03T09:03:01.202Z"
   },
   {
    "duration": 24,
    "start_time": "2021-10-03T09:06:01.612Z"
   },
   {
    "duration": 1209,
    "start_time": "2021-10-03T09:06:14.335Z"
   },
   {
    "duration": 17,
    "start_time": "2021-10-03T09:06:15.547Z"
   },
   {
    "duration": 17,
    "start_time": "2021-10-03T09:06:15.568Z"
   },
   {
    "duration": 34,
    "start_time": "2021-10-03T09:06:15.589Z"
   },
   {
    "duration": 128,
    "start_time": "2021-10-03T09:06:15.625Z"
   },
   {
    "duration": 139,
    "start_time": "2021-10-03T09:06:15.755Z"
   },
   {
    "duration": 12,
    "start_time": "2021-10-03T09:06:15.885Z"
   },
   {
    "duration": -9,
    "start_time": "2021-10-03T09:06:15.908Z"
   },
   {
    "duration": -12,
    "start_time": "2021-10-03T09:06:15.913Z"
   },
   {
    "duration": -13,
    "start_time": "2021-10-03T09:06:15.916Z"
   },
   {
    "duration": -14,
    "start_time": "2021-10-03T09:06:15.918Z"
   },
   {
    "duration": -17,
    "start_time": "2021-10-03T09:06:15.923Z"
   },
   {
    "duration": -19,
    "start_time": "2021-10-03T09:06:15.926Z"
   },
   {
    "duration": -19,
    "start_time": "2021-10-03T09:06:15.928Z"
   },
   {
    "duration": -26,
    "start_time": "2021-10-03T09:06:15.936Z"
   },
   {
    "duration": -28,
    "start_time": "2021-10-03T09:06:15.940Z"
   },
   {
    "duration": -30,
    "start_time": "2021-10-03T09:06:15.944Z"
   },
   {
    "duration": -31,
    "start_time": "2021-10-03T09:06:15.946Z"
   },
   {
    "duration": -32,
    "start_time": "2021-10-03T09:06:15.948Z"
   },
   {
    "duration": -32,
    "start_time": "2021-10-03T09:06:15.950Z"
   },
   {
    "duration": -33,
    "start_time": "2021-10-03T09:06:15.952Z"
   },
   {
    "duration": -36,
    "start_time": "2021-10-03T09:06:15.956Z"
   },
   {
    "duration": -36,
    "start_time": "2021-10-03T09:06:15.958Z"
   },
   {
    "duration": -43,
    "start_time": "2021-10-03T09:06:15.966Z"
   },
   {
    "duration": -47,
    "start_time": "2021-10-03T09:06:15.971Z"
   },
   {
    "duration": 25,
    "start_time": "2021-10-03T09:07:26.896Z"
   },
   {
    "duration": 1155,
    "start_time": "2021-10-03T09:07:32.045Z"
   },
   {
    "duration": 14,
    "start_time": "2021-10-03T09:07:33.203Z"
   },
   {
    "duration": 15,
    "start_time": "2021-10-03T09:07:33.224Z"
   },
   {
    "duration": 21,
    "start_time": "2021-10-03T09:07:33.242Z"
   },
   {
    "duration": 122,
    "start_time": "2021-10-03T09:07:33.266Z"
   },
   {
    "duration": 37,
    "start_time": "2021-10-03T09:07:33.391Z"
   },
   {
    "duration": 25,
    "start_time": "2021-10-03T09:07:33.430Z"
   },
   {
    "duration": 10,
    "start_time": "2021-10-03T09:07:33.459Z"
   },
   {
    "duration": 25,
    "start_time": "2021-10-03T09:07:33.472Z"
   },
   {
    "duration": 55,
    "start_time": "2021-10-03T09:07:33.499Z"
   },
   {
    "duration": 29,
    "start_time": "2021-10-03T09:07:33.556Z"
   },
   {
    "duration": 38,
    "start_time": "2021-10-03T09:07:33.587Z"
   },
   {
    "duration": 25,
    "start_time": "2021-10-03T09:07:33.627Z"
   },
   {
    "duration": 16,
    "start_time": "2021-10-03T09:07:33.655Z"
   },
   {
    "duration": 48,
    "start_time": "2021-10-03T09:07:33.674Z"
   },
   {
    "duration": 14,
    "start_time": "2021-10-03T09:07:33.725Z"
   },
   {
    "duration": 17,
    "start_time": "2021-10-03T09:07:33.741Z"
   },
   {
    "duration": 27,
    "start_time": "2021-10-03T09:07:33.761Z"
   },
   {
    "duration": 12,
    "start_time": "2021-10-03T09:07:33.791Z"
   },
   {
    "duration": 782,
    "start_time": "2021-10-03T09:07:33.821Z"
   },
   {
    "duration": 603,
    "start_time": "2021-10-03T09:07:34.605Z"
   },
   {
    "duration": 319,
    "start_time": "2021-10-03T09:07:35.210Z"
   },
   {
    "duration": 554,
    "start_time": "2021-10-03T09:07:35.533Z"
   },
   {
    "duration": 550,
    "start_time": "2021-10-03T09:07:36.089Z"
   },
   {
    "duration": 576,
    "start_time": "2021-10-03T09:07:36.641Z"
   },
   {
    "duration": 541,
    "start_time": "2021-10-03T09:16:46.870Z"
   },
   {
    "duration": 58,
    "start_time": "2021-10-03T09:21:55.354Z"
   },
   {
    "duration": 36,
    "start_time": "2021-10-03T09:22:00.384Z"
   },
   {
    "duration": 23,
    "start_time": "2021-10-03T09:23:22.210Z"
   },
   {
    "duration": 12,
    "start_time": "2021-10-03T09:23:22.873Z"
   },
   {
    "duration": 29,
    "start_time": "2021-10-03T09:23:24.236Z"
   },
   {
    "duration": 28,
    "start_time": "2021-10-03T09:23:25.209Z"
   },
   {
    "duration": 11,
    "start_time": "2021-10-03T09:23:25.526Z"
   },
   {
    "duration": 11,
    "start_time": "2021-10-03T09:23:25.778Z"
   },
   {
    "duration": 16,
    "start_time": "2021-10-03T09:23:26.017Z"
   },
   {
    "duration": 954,
    "start_time": "2021-10-03T09:23:30.401Z"
   },
   {
    "duration": 14,
    "start_time": "2021-10-03T09:23:31.357Z"
   },
   {
    "duration": 29,
    "start_time": "2021-10-03T09:23:31.374Z"
   },
   {
    "duration": 5,
    "start_time": "2021-10-03T09:23:31.405Z"
   },
   {
    "duration": 127,
    "start_time": "2021-10-03T09:23:31.412Z"
   },
   {
    "duration": 24,
    "start_time": "2021-10-03T09:23:31.542Z"
   },
   {
    "duration": 42,
    "start_time": "2021-10-03T09:23:31.568Z"
   },
   {
    "duration": 14,
    "start_time": "2021-10-03T09:23:31.614Z"
   },
   {
    "duration": 21,
    "start_time": "2021-10-03T09:23:31.631Z"
   },
   {
    "duration": 24,
    "start_time": "2021-10-03T09:23:31.655Z"
   },
   {
    "duration": 15,
    "start_time": "2021-10-03T09:23:31.681Z"
   },
   {
    "duration": 26,
    "start_time": "2021-10-03T09:23:31.722Z"
   },
   {
    "duration": 24,
    "start_time": "2021-10-03T09:23:31.751Z"
   },
   {
    "duration": 45,
    "start_time": "2021-10-03T09:23:31.777Z"
   },
   {
    "duration": 12,
    "start_time": "2021-10-03T09:23:31.825Z"
   },
   {
    "duration": 16,
    "start_time": "2021-10-03T09:23:31.839Z"
   },
   {
    "duration": 36,
    "start_time": "2021-10-03T09:23:31.857Z"
   },
   {
    "duration": 8,
    "start_time": "2021-10-03T09:23:31.923Z"
   },
   {
    "duration": 23,
    "start_time": "2021-10-03T09:23:31.934Z"
   },
   {
    "duration": 6,
    "start_time": "2021-10-03T09:23:31.959Z"
   },
   {
    "duration": 807,
    "start_time": "2021-10-03T09:23:31.967Z"
   },
   {
    "duration": 635,
    "start_time": "2021-10-03T09:23:32.776Z"
   },
   {
    "duration": 313,
    "start_time": "2021-10-03T09:23:33.422Z"
   },
   {
    "duration": 618,
    "start_time": "2021-10-03T09:23:33.738Z"
   },
   {
    "duration": 598,
    "start_time": "2021-10-03T09:23:34.358Z"
   },
   {
    "duration": 571,
    "start_time": "2021-10-03T09:23:34.958Z"
   },
   {
    "duration": 432,
    "start_time": "2021-10-03T09:23:35.532Z"
   },
   {
    "duration": 20,
    "start_time": "2021-10-03T09:25:30.949Z"
   },
   {
    "duration": 970,
    "start_time": "2021-10-03T09:25:36.275Z"
   },
   {
    "duration": 15,
    "start_time": "2021-10-03T09:25:37.247Z"
   },
   {
    "duration": 28,
    "start_time": "2021-10-03T09:25:37.265Z"
   },
   {
    "duration": 5,
    "start_time": "2021-10-03T09:25:37.296Z"
   },
   {
    "duration": 138,
    "start_time": "2021-10-03T09:25:37.304Z"
   },
   {
    "duration": 25,
    "start_time": "2021-10-03T09:25:37.444Z"
   },
   {
    "duration": 28,
    "start_time": "2021-10-03T09:25:37.472Z"
   },
   {
    "duration": 9,
    "start_time": "2021-10-03T09:25:37.525Z"
   },
   {
    "duration": 29,
    "start_time": "2021-10-03T09:25:37.537Z"
   },
   {
    "duration": 33,
    "start_time": "2021-10-03T09:25:37.568Z"
   },
   {
    "duration": 20,
    "start_time": "2021-10-03T09:25:37.603Z"
   },
   {
    "duration": 26,
    "start_time": "2021-10-03T09:25:37.626Z"
   },
   {
    "duration": 25,
    "start_time": "2021-10-03T09:25:37.654Z"
   },
   {
    "duration": 53,
    "start_time": "2021-10-03T09:25:37.682Z"
   },
   {
    "duration": 13,
    "start_time": "2021-10-03T09:25:37.737Z"
   },
   {
    "duration": 14,
    "start_time": "2021-10-03T09:25:37.752Z"
   },
   {
    "duration": 62,
    "start_time": "2021-10-03T09:25:37.768Z"
   },
   {
    "duration": 29,
    "start_time": "2021-10-03T09:25:37.832Z"
   },
   {
    "duration": 29,
    "start_time": "2021-10-03T09:25:37.863Z"
   },
   {
    "duration": 25,
    "start_time": "2021-10-03T09:25:37.894Z"
   },
   {
    "duration": 784,
    "start_time": "2021-10-03T09:25:37.921Z"
   },
   {
    "duration": 592,
    "start_time": "2021-10-03T09:25:38.707Z"
   },
   {
    "duration": 301,
    "start_time": "2021-10-03T09:25:39.303Z"
   },
   {
    "duration": 553,
    "start_time": "2021-10-03T09:25:39.607Z"
   },
   {
    "duration": 559,
    "start_time": "2021-10-03T09:25:40.163Z"
   },
   {
    "duration": 569,
    "start_time": "2021-10-03T09:25:40.724Z"
   },
   {
    "duration": 1040,
    "start_time": "2021-10-03T09:25:41.295Z"
   },
   {
    "duration": 313,
    "start_time": "2021-10-03T09:29:31.694Z"
   },
   {
    "duration": 134,
    "start_time": "2021-10-03T09:29:40.502Z"
   },
   {
    "duration": 318,
    "start_time": "2021-10-03T09:30:22.552Z"
   },
   {
    "duration": 42,
    "start_time": "2021-10-03T09:31:33.495Z"
   },
   {
    "duration": 52,
    "start_time": "2021-10-03T09:32:00.521Z"
   },
   {
    "duration": 6940,
    "start_time": "2021-10-03T09:34:17.458Z"
   },
   {
    "duration": 9,
    "start_time": "2021-10-03T09:34:37.232Z"
   },
   {
    "duration": 8,
    "start_time": "2021-10-03T09:34:41.935Z"
   },
   {
    "duration": 8,
    "start_time": "2021-10-03T09:35:16.688Z"
   },
   {
    "duration": 553,
    "start_time": "2021-10-03T10:18:35.377Z"
   },
   {
    "duration": 611,
    "start_time": "2021-10-03T10:19:00.201Z"
   },
   {
    "duration": 284,
    "start_time": "2021-10-03T10:20:37.275Z"
   },
   {
    "duration": 6,
    "start_time": "2021-10-03T10:31:36.106Z"
   },
   {
    "duration": 8,
    "start_time": "2021-10-03T10:31:54.449Z"
   },
   {
    "duration": 38,
    "start_time": "2021-10-03T10:38:16.167Z"
   },
   {
    "duration": 14,
    "start_time": "2021-10-03T10:38:22.599Z"
   },
   {
    "duration": 14,
    "start_time": "2021-10-03T10:38:30.133Z"
   },
   {
    "duration": 52,
    "start_time": "2021-10-03T10:46:49.597Z"
   },
   {
    "duration": 41,
    "start_time": "2021-10-03T10:46:55.162Z"
   },
   {
    "duration": 921,
    "start_time": "2021-10-03T10:49:21.044Z"
   },
   {
    "duration": 14,
    "start_time": "2021-10-03T10:49:21.968Z"
   },
   {
    "duration": 22,
    "start_time": "2021-10-03T10:49:21.985Z"
   },
   {
    "duration": 5,
    "start_time": "2021-10-03T10:49:22.022Z"
   },
   {
    "duration": 32,
    "start_time": "2021-10-03T10:49:22.029Z"
   },
   {
    "duration": 13,
    "start_time": "2021-10-03T10:49:22.063Z"
   },
   {
    "duration": 22,
    "start_time": "2021-10-03T10:49:22.079Z"
   },
   {
    "duration": 46,
    "start_time": "2021-10-03T10:49:22.105Z"
   },
   {
    "duration": 13,
    "start_time": "2021-10-03T10:49:22.154Z"
   },
   {
    "duration": 22,
    "start_time": "2021-10-03T10:49:22.170Z"
   },
   {
    "duration": 9,
    "start_time": "2021-10-03T10:49:22.195Z"
   },
   {
    "duration": 24,
    "start_time": "2021-10-03T10:49:22.206Z"
   },
   {
    "duration": 32,
    "start_time": "2021-10-03T10:49:22.232Z"
   },
   {
    "duration": 24,
    "start_time": "2021-10-03T10:49:22.267Z"
   },
   {
    "duration": 46,
    "start_time": "2021-10-03T10:49:22.295Z"
   },
   {
    "duration": 33,
    "start_time": "2021-10-03T10:49:22.344Z"
   },
   {
    "duration": 35,
    "start_time": "2021-10-03T10:49:22.379Z"
   },
   {
    "duration": 17,
    "start_time": "2021-10-03T10:49:22.416Z"
   },
   {
    "duration": 38,
    "start_time": "2021-10-03T10:49:22.435Z"
   },
   {
    "duration": 11,
    "start_time": "2021-10-03T10:49:22.475Z"
   },
   {
    "duration": 1016,
    "start_time": "2021-10-03T10:49:22.488Z"
   },
   {
    "duration": 579,
    "start_time": "2021-10-03T10:49:23.506Z"
   },
   {
    "duration": 302,
    "start_time": "2021-10-03T10:49:24.089Z"
   },
   {
    "duration": 541,
    "start_time": "2021-10-03T10:49:24.393Z"
   },
   {
    "duration": 543,
    "start_time": "2021-10-03T10:49:24.937Z"
   },
   {
    "duration": 551,
    "start_time": "2021-10-03T10:49:25.483Z"
   },
   {
    "duration": 8,
    "start_time": "2021-10-03T10:49:26.036Z"
   },
   {
    "duration": 52,
    "start_time": "2021-10-03T10:49:26.046Z"
   },
   {
    "duration": 503,
    "start_time": "2021-10-03T10:52:08.984Z"
   },
   {
    "duration": 428,
    "start_time": "2021-10-03T10:54:29.922Z"
   },
   {
    "duration": 242,
    "start_time": "2021-10-03T10:56:21.499Z"
   },
   {
    "duration": 564,
    "start_time": "2021-10-03T11:37:50.667Z"
   },
   {
    "duration": 498,
    "start_time": "2021-10-03T12:28:31.768Z"
   },
   {
    "duration": 523,
    "start_time": "2021-10-03T12:28:45.639Z"
   },
   {
    "duration": 562,
    "start_time": "2021-10-03T12:29:20.744Z"
   },
   {
    "duration": 558,
    "start_time": "2021-10-03T12:29:26.767Z"
   },
   {
    "duration": 890,
    "start_time": "2021-10-03T13:43:10.262Z"
   },
   {
    "duration": 14,
    "start_time": "2021-10-03T13:43:11.154Z"
   },
   {
    "duration": 15,
    "start_time": "2021-10-03T13:43:11.171Z"
   },
   {
    "duration": 5,
    "start_time": "2021-10-03T13:43:11.188Z"
   },
   {
    "duration": 47,
    "start_time": "2021-10-03T13:43:11.196Z"
   },
   {
    "duration": 9,
    "start_time": "2021-10-03T13:43:11.245Z"
   },
   {
    "duration": 16,
    "start_time": "2021-10-03T13:43:11.256Z"
   },
   {
    "duration": 46,
    "start_time": "2021-10-03T13:43:11.276Z"
   },
   {
    "duration": 11,
    "start_time": "2021-10-03T13:43:11.326Z"
   },
   {
    "duration": 13,
    "start_time": "2021-10-03T13:43:11.339Z"
   },
   {
    "duration": 6,
    "start_time": "2021-10-03T13:43:11.354Z"
   },
   {
    "duration": 11,
    "start_time": "2021-10-03T13:43:11.362Z"
   },
   {
    "duration": 59,
    "start_time": "2021-10-03T13:43:11.375Z"
   },
   {
    "duration": 24,
    "start_time": "2021-10-03T13:43:11.436Z"
   },
   {
    "duration": 25,
    "start_time": "2021-10-03T13:43:11.463Z"
   },
   {
    "duration": 46,
    "start_time": "2021-10-03T13:43:11.490Z"
   },
   {
    "duration": 17,
    "start_time": "2021-10-03T13:43:11.539Z"
   },
   {
    "duration": 8,
    "start_time": "2021-10-03T13:43:11.558Z"
   },
   {
    "duration": 58,
    "start_time": "2021-10-03T13:43:11.568Z"
   },
   {
    "duration": 8,
    "start_time": "2021-10-03T13:43:11.628Z"
   },
   {
    "duration": 797,
    "start_time": "2021-10-03T13:43:11.638Z"
   },
   {
    "duration": 590,
    "start_time": "2021-10-03T13:43:12.437Z"
   },
   {
    "duration": 252,
    "start_time": "2021-10-03T13:43:13.031Z"
   },
   {
    "duration": 528,
    "start_time": "2021-10-03T13:43:13.285Z"
   },
   {
    "duration": 532,
    "start_time": "2021-10-03T13:43:13.822Z"
   },
   {
    "duration": 554,
    "start_time": "2021-10-03T13:43:14.356Z"
   },
   {
    "duration": 13,
    "start_time": "2021-10-03T13:43:14.913Z"
   },
   {
    "duration": 525,
    "start_time": "2021-10-03T13:43:14.929Z"
   },
   {
    "duration": 311,
    "start_time": "2021-10-03T14:05:19.526Z"
   },
   {
    "duration": 746,
    "start_time": "2021-10-03T14:05:47.142Z"
   },
   {
    "duration": 530,
    "start_time": "2021-10-03T14:06:30.264Z"
   },
   {
    "duration": 504,
    "start_time": "2021-10-03T14:07:40.448Z"
   },
   {
    "duration": 500,
    "start_time": "2021-10-03T14:07:55.096Z"
   },
   {
    "duration": 543,
    "start_time": "2021-10-03T14:17:56.301Z"
   },
   {
    "duration": 609,
    "start_time": "2021-10-03T14:18:18.526Z"
   },
   {
    "duration": 543,
    "start_time": "2021-10-03T14:18:22.526Z"
   },
   {
    "duration": 2701,
    "start_time": "2021-10-03T14:23:03.969Z"
   },
   {
    "duration": 4,
    "start_time": "2021-10-03T14:23:22.041Z"
   },
   {
    "duration": 2782,
    "start_time": "2021-10-03T14:23:32.640Z"
   },
   {
    "duration": 2756,
    "start_time": "2021-10-03T14:23:38.609Z"
   },
   {
    "duration": 2709,
    "start_time": "2021-10-03T14:23:49.417Z"
   },
   {
    "duration": 2732,
    "start_time": "2021-10-03T14:23:58.737Z"
   },
   {
    "duration": 2739,
    "start_time": "2021-10-03T14:24:49.874Z"
   },
   {
    "duration": 2818,
    "start_time": "2021-10-03T14:24:58.633Z"
   },
   {
    "duration": 2740,
    "start_time": "2021-10-03T14:25:09.738Z"
   },
   {
    "duration": 2708,
    "start_time": "2021-10-03T14:25:19.466Z"
   },
   {
    "duration": 2998,
    "start_time": "2021-10-03T14:25:30.946Z"
   },
   {
    "duration": 973,
    "start_time": "2021-10-03T14:48:09.735Z"
   },
   {
    "duration": 40,
    "start_time": "2021-10-03T14:48:10.711Z"
   },
   {
    "duration": 33,
    "start_time": "2021-10-03T14:48:10.754Z"
   },
   {
    "duration": 21,
    "start_time": "2021-10-03T14:48:10.790Z"
   },
   {
    "duration": 11,
    "start_time": "2021-10-03T14:48:10.814Z"
   },
   {
    "duration": 48,
    "start_time": "2021-10-03T14:48:10.828Z"
   },
   {
    "duration": 19,
    "start_time": "2021-10-03T14:48:10.879Z"
   },
   {
    "duration": 42,
    "start_time": "2021-10-03T14:48:10.901Z"
   },
   {
    "duration": 24,
    "start_time": "2021-10-03T14:48:10.949Z"
   },
   {
    "duration": 28,
    "start_time": "2021-10-03T14:48:10.977Z"
   },
   {
    "duration": 28,
    "start_time": "2021-10-03T14:48:11.008Z"
   },
   {
    "duration": 19,
    "start_time": "2021-10-03T14:48:11.038Z"
   },
   {
    "duration": 26,
    "start_time": "2021-10-03T14:48:11.059Z"
   },
   {
    "duration": 59,
    "start_time": "2021-10-03T14:48:11.087Z"
   },
   {
    "duration": 26,
    "start_time": "2021-10-03T14:48:11.149Z"
   },
   {
    "duration": 48,
    "start_time": "2021-10-03T14:48:11.178Z"
   },
   {
    "duration": 18,
    "start_time": "2021-10-03T14:48:11.229Z"
   },
   {
    "duration": 30,
    "start_time": "2021-10-03T14:48:11.250Z"
   },
   {
    "duration": 31,
    "start_time": "2021-10-03T14:48:11.282Z"
   },
   {
    "duration": 34,
    "start_time": "2021-10-03T14:48:11.316Z"
   },
   {
    "duration": 16,
    "start_time": "2021-10-03T14:48:11.353Z"
   },
   {
    "duration": 796,
    "start_time": "2021-10-03T14:48:11.372Z"
   },
   {
    "duration": 2842,
    "start_time": "2021-10-03T14:48:12.170Z"
   },
   {
    "duration": 12,
    "start_time": "2021-10-03T14:48:15.014Z"
   },
   {
    "duration": 22,
    "start_time": "2021-10-03T14:48:15.029Z"
   },
   {
    "duration": 50,
    "start_time": "2021-10-03T14:48:21.767Z"
   },
   {
    "duration": 916,
    "start_time": "2021-10-03T14:48:28.675Z"
   },
   {
    "duration": 61,
    "start_time": "2021-10-03T14:48:29.594Z"
   },
   {
    "duration": 12,
    "start_time": "2021-10-03T14:48:29.661Z"
   },
   {
    "duration": 46,
    "start_time": "2021-10-03T14:48:29.676Z"
   },
   {
    "duration": 6,
    "start_time": "2021-10-03T14:48:29.725Z"
   },
   {
    "duration": 42,
    "start_time": "2021-10-03T14:48:29.733Z"
   },
   {
    "duration": 14,
    "start_time": "2021-10-03T14:48:29.779Z"
   },
   {
    "duration": 33,
    "start_time": "2021-10-03T14:48:29.797Z"
   },
   {
    "duration": 24,
    "start_time": "2021-10-03T14:48:29.833Z"
   },
   {
    "duration": 12,
    "start_time": "2021-10-03T14:48:29.859Z"
   },
   {
    "duration": 24,
    "start_time": "2021-10-03T14:48:29.873Z"
   },
   {
    "duration": 20,
    "start_time": "2021-10-03T14:48:29.900Z"
   },
   {
    "duration": 27,
    "start_time": "2021-10-03T14:48:29.923Z"
   },
   {
    "duration": 27,
    "start_time": "2021-10-03T14:48:29.953Z"
   },
   {
    "duration": 29,
    "start_time": "2021-10-03T14:48:29.983Z"
   },
   {
    "duration": 32,
    "start_time": "2021-10-03T14:48:30.014Z"
   },
   {
    "duration": 28,
    "start_time": "2021-10-03T14:48:30.048Z"
   },
   {
    "duration": 32,
    "start_time": "2021-10-03T14:48:30.079Z"
   },
   {
    "duration": 37,
    "start_time": "2021-10-03T14:48:30.114Z"
   },
   {
    "duration": 44,
    "start_time": "2021-10-03T14:48:30.153Z"
   },
   {
    "duration": 14,
    "start_time": "2021-10-03T14:48:30.200Z"
   },
   {
    "duration": 804,
    "start_time": "2021-10-03T14:48:30.218Z"
   },
   {
    "duration": 2729,
    "start_time": "2021-10-03T14:48:31.025Z"
   },
   {
    "duration": 7,
    "start_time": "2021-10-03T14:48:33.756Z"
   },
   {
    "duration": 7,
    "start_time": "2021-10-03T14:48:33.766Z"
   },
   {
    "duration": 5719,
    "start_time": "2021-10-03T14:49:49.171Z"
   },
   {
    "duration": 2948,
    "start_time": "2021-10-03T14:49:57.829Z"
   },
   {
    "duration": 1556,
    "start_time": "2021-10-03T14:50:39.831Z"
   },
   {
    "duration": 2868,
    "start_time": "2021-10-03T14:50:45.037Z"
   },
   {
    "duration": 101,
    "start_time": "2021-10-03T14:59:10.514Z"
   },
   {
    "duration": 2914,
    "start_time": "2021-10-03T14:59:30.332Z"
   },
   {
    "duration": 3014,
    "start_time": "2021-10-03T15:00:06.922Z"
   },
   {
    "duration": 2959,
    "start_time": "2021-10-03T15:06:31.086Z"
   },
   {
    "duration": 2844,
    "start_time": "2021-10-03T15:06:43.565Z"
   },
   {
    "duration": 2898,
    "start_time": "2021-10-03T15:07:56.014Z"
   },
   {
    "duration": 2694,
    "start_time": "2021-10-03T15:08:38.111Z"
   },
   {
    "duration": 2709,
    "start_time": "2021-10-03T15:09:20.307Z"
   },
   {
    "duration": 2752,
    "start_time": "2021-10-03T15:10:58.808Z"
   },
   {
    "duration": 2821,
    "start_time": "2021-10-03T15:11:09.618Z"
   },
   {
    "duration": 12,
    "start_time": "2021-10-03T15:12:00.499Z"
   },
   {
    "duration": 2767,
    "start_time": "2021-10-03T15:12:12.761Z"
   },
   {
    "duration": 2739,
    "start_time": "2021-10-03T15:12:52.648Z"
   },
   {
    "duration": 2834,
    "start_time": "2021-10-03T15:13:03.537Z"
   },
   {
    "duration": 2727,
    "start_time": "2021-10-03T15:14:46.572Z"
   },
   {
    "duration": 2589,
    "start_time": "2021-10-03T15:17:23.164Z"
   },
   {
    "duration": 2933,
    "start_time": "2021-10-03T15:17:31.515Z"
   },
   {
    "duration": 2903,
    "start_time": "2021-10-03T15:17:40.907Z"
   },
   {
    "duration": 2964,
    "start_time": "2021-10-03T15:17:57.508Z"
   },
   {
    "duration": 2979,
    "start_time": "2021-10-03T15:18:06.299Z"
   },
   {
    "duration": 2707,
    "start_time": "2021-10-03T15:18:12.396Z"
   },
   {
    "duration": 2718,
    "start_time": "2021-10-03T15:24:47.328Z"
   },
   {
    "duration": 2770,
    "start_time": "2021-10-03T15:24:59.760Z"
   },
   {
    "duration": 2486,
    "start_time": "2021-10-03T16:05:51.736Z"
   },
   {
    "duration": 585,
    "start_time": "2021-10-03T16:06:00.335Z"
   },
   {
    "duration": 7,
    "start_time": "2021-10-03T16:06:41.151Z"
   },
   {
    "duration": 19,
    "start_time": "2021-10-03T16:07:02.719Z"
   },
   {
    "duration": 8,
    "start_time": "2021-10-03T16:07:15.799Z"
   },
   {
    "duration": 1240,
    "start_time": "2021-10-03T16:08:32.407Z"
   },
   {
    "duration": 54,
    "start_time": "2021-10-03T16:08:41.472Z"
   },
   {
    "duration": 428,
    "start_time": "2021-10-03T16:08:54.360Z"
   },
   {
    "duration": 1247,
    "start_time": "2021-10-03T16:16:03.877Z"
   },
   {
    "duration": 221,
    "start_time": "2021-10-03T16:54:20.875Z"
   },
   {
    "duration": 611,
    "start_time": "2021-10-03T16:56:06.603Z"
   },
   {
    "duration": 447,
    "start_time": "2021-10-03T16:56:33.028Z"
   },
   {
    "duration": 521,
    "start_time": "2021-10-03T16:56:44.075Z"
   },
   {
    "duration": 444,
    "start_time": "2021-10-03T16:57:38.483Z"
   },
   {
    "duration": 560,
    "start_time": "2021-10-03T16:57:53.785Z"
   },
   {
    "duration": 643,
    "start_time": "2021-10-03T16:58:22.052Z"
   },
   {
    "duration": 522,
    "start_time": "2021-10-03T16:58:41.716Z"
   },
   {
    "duration": 26,
    "start_time": "2021-10-03T17:59:01.744Z"
   },
   {
    "duration": 24,
    "start_time": "2021-10-03T17:59:02.394Z"
   },
   {
    "duration": 149,
    "start_time": "2021-10-03T17:59:02.790Z"
   },
   {
    "duration": 469,
    "start_time": "2021-10-03T19:32:19.898Z"
   },
   {
    "duration": 755,
    "start_time": "2021-10-03T19:32:26.687Z"
   },
   {
    "duration": 10,
    "start_time": "2021-10-03T19:32:27.445Z"
   },
   {
    "duration": 15,
    "start_time": "2021-10-03T19:32:27.457Z"
   },
   {
    "duration": 4,
    "start_time": "2021-10-03T19:32:27.475Z"
   },
   {
    "duration": 23,
    "start_time": "2021-10-03T19:32:27.480Z"
   },
   {
    "duration": 6,
    "start_time": "2021-10-03T19:32:27.505Z"
   },
   {
    "duration": 18,
    "start_time": "2021-10-03T19:32:27.513Z"
   },
   {
    "duration": 28,
    "start_time": "2021-10-03T19:32:27.533Z"
   },
   {
    "duration": 8,
    "start_time": "2021-10-03T19:32:27.563Z"
   },
   {
    "duration": 8,
    "start_time": "2021-10-03T19:32:27.573Z"
   },
   {
    "duration": 7,
    "start_time": "2021-10-03T19:32:27.582Z"
   },
   {
    "duration": 14,
    "start_time": "2021-10-03T19:32:27.591Z"
   },
   {
    "duration": 18,
    "start_time": "2021-10-03T19:32:27.606Z"
   },
   {
    "duration": 15,
    "start_time": "2021-10-03T19:32:27.626Z"
   },
   {
    "duration": 44,
    "start_time": "2021-10-03T19:32:27.643Z"
   },
   {
    "duration": 16,
    "start_time": "2021-10-03T19:32:27.689Z"
   },
   {
    "duration": 11,
    "start_time": "2021-10-03T19:32:27.706Z"
   },
   {
    "duration": 7,
    "start_time": "2021-10-03T19:32:27.719Z"
   },
   {
    "duration": 13,
    "start_time": "2021-10-03T19:32:27.727Z"
   },
   {
    "duration": 37,
    "start_time": "2021-10-03T19:32:27.741Z"
   },
   {
    "duration": 488,
    "start_time": "2021-10-03T19:32:27.780Z"
   },
   {
    "duration": 28,
    "start_time": "2021-10-03T19:32:28.269Z"
   },
   {
    "duration": 1370,
    "start_time": "2021-10-03T19:32:28.300Z"
   },
   {
    "duration": 331,
    "start_time": "2021-10-03T19:32:29.672Z"
   },
   {
    "duration": 7,
    "start_time": "2021-10-03T19:32:30.006Z"
   },
   {
    "duration": 615,
    "start_time": "2021-10-03T19:32:30.015Z"
   },
   {
    "duration": 283,
    "start_time": "2021-10-04T08:32:38.246Z"
   },
   {
    "duration": 730,
    "start_time": "2021-10-04T08:32:43.783Z"
   },
   {
    "duration": 13,
    "start_time": "2021-10-04T08:32:44.515Z"
   },
   {
    "duration": 24,
    "start_time": "2021-10-04T08:32:44.530Z"
   },
   {
    "duration": 6,
    "start_time": "2021-10-04T08:32:44.556Z"
   },
   {
    "duration": 42,
    "start_time": "2021-10-04T08:32:44.563Z"
   },
   {
    "duration": 30,
    "start_time": "2021-10-04T08:32:44.607Z"
   },
   {
    "duration": 38,
    "start_time": "2021-10-04T08:32:44.638Z"
   },
   {
    "duration": 67,
    "start_time": "2021-10-04T08:32:44.678Z"
   },
   {
    "duration": 30,
    "start_time": "2021-10-04T08:32:44.747Z"
   },
   {
    "duration": 44,
    "start_time": "2021-10-04T08:32:44.778Z"
   },
   {
    "duration": 33,
    "start_time": "2021-10-04T08:32:44.824Z"
   },
   {
    "duration": 49,
    "start_time": "2021-10-04T08:32:44.858Z"
   },
   {
    "duration": 77,
    "start_time": "2021-10-04T08:32:44.909Z"
   },
   {
    "duration": 40,
    "start_time": "2021-10-04T08:32:44.988Z"
   },
   {
    "duration": 25,
    "start_time": "2021-10-04T08:32:45.029Z"
   },
   {
    "duration": 41,
    "start_time": "2021-10-04T08:32:45.056Z"
   },
   {
    "duration": 71,
    "start_time": "2021-10-04T08:32:45.099Z"
   },
   {
    "duration": 41,
    "start_time": "2021-10-04T08:32:45.172Z"
   },
   {
    "duration": 47,
    "start_time": "2021-10-04T08:32:45.215Z"
   },
   {
    "duration": 24,
    "start_time": "2021-10-04T08:32:45.263Z"
   },
   {
    "duration": 520,
    "start_time": "2021-10-04T08:32:45.289Z"
   },
   {
    "duration": 1277,
    "start_time": "2021-10-04T08:32:45.810Z"
   },
   {
    "duration": 318,
    "start_time": "2021-10-04T08:32:47.090Z"
   },
   {
    "duration": 5,
    "start_time": "2021-10-04T08:32:47.410Z"
   },
   {
    "duration": 300,
    "start_time": "2021-10-04T08:32:47.416Z"
   },
   {
    "duration": 252,
    "start_time": "2021-10-04T08:34:50.433Z"
   },
   {
    "duration": 320,
    "start_time": "2021-10-04T08:35:00.485Z"
   },
   {
    "duration": 526,
    "start_time": "2021-10-04T08:51:52.720Z"
   },
   {
    "duration": 505,
    "start_time": "2021-10-04T08:52:08.486Z"
   },
   {
    "duration": 524,
    "start_time": "2021-10-04T08:52:21.207Z"
   },
   {
    "duration": 522,
    "start_time": "2021-10-04T08:56:42.105Z"
   },
   {
    "duration": 7552,
    "start_time": "2021-10-04T08:57:15.244Z"
   },
   {
    "duration": 894,
    "start_time": "2021-10-04T08:57:27.843Z"
   },
   {
    "duration": 794,
    "start_time": "2021-10-04T08:57:34.786Z"
   },
   {
    "duration": 862,
    "start_time": "2021-10-04T08:57:58.906Z"
   },
   {
    "duration": 763,
    "start_time": "2021-10-04T08:58:20.211Z"
   },
   {
    "duration": 15,
    "start_time": "2021-10-04T08:59:56.683Z"
   },
   {
    "duration": 16,
    "start_time": "2021-10-04T09:00:02.476Z"
   },
   {
    "duration": 21,
    "start_time": "2021-10-04T09:00:06.075Z"
   },
   {
    "duration": 32,
    "start_time": "2021-10-04T09:00:22.186Z"
   },
   {
    "duration": 21,
    "start_time": "2021-10-04T09:00:47.380Z"
   },
   {
    "duration": 16,
    "start_time": "2021-10-04T09:01:41.173Z"
   },
   {
    "duration": 22,
    "start_time": "2021-10-04T09:01:51.772Z"
   },
   {
    "duration": 6536,
    "start_time": "2021-10-04T09:02:01.264Z"
   },
   {
    "duration": 816,
    "start_time": "2021-10-04T09:02:24.254Z"
   },
   {
    "duration": 712,
    "start_time": "2021-10-04T09:02:34.966Z"
   },
   {
    "duration": 251,
    "start_time": "2021-10-04T09:03:10.052Z"
   },
   {
    "duration": 248,
    "start_time": "2021-10-04T09:03:10.056Z"
   },
   {
    "duration": 18,
    "start_time": "2021-10-04T09:03:12.662Z"
   },
   {
    "duration": 784,
    "start_time": "2021-10-04T09:03:14.335Z"
   },
   {
    "duration": 718,
    "start_time": "2021-10-04T09:03:27.437Z"
   },
   {
    "duration": 6962,
    "start_time": "2021-10-04T09:03:34.990Z"
   },
   {
    "duration": 830,
    "start_time": "2021-10-04T09:03:52.666Z"
   },
   {
    "duration": 748,
    "start_time": "2021-10-04T09:07:06.880Z"
   },
   {
    "duration": 86,
    "start_time": "2021-10-04T09:08:32.467Z"
   },
   {
    "duration": 7,
    "start_time": "2021-10-04T09:08:36.521Z"
   },
   {
    "duration": 6,
    "start_time": "2021-10-04T09:09:08.417Z"
   },
   {
    "duration": 6,
    "start_time": "2021-10-04T09:09:41.865Z"
   },
   {
    "duration": 5,
    "start_time": "2021-10-04T09:10:09.290Z"
   },
   {
    "duration": 297,
    "start_time": "2021-10-04T09:16:21.036Z"
   },
   {
    "duration": 315,
    "start_time": "2021-10-04T09:16:30.205Z"
   },
   {
    "duration": 84,
    "start_time": "2021-10-04T09:24:36.754Z"
   },
   {
    "duration": 1389,
    "start_time": "2021-10-04T09:24:45.633Z"
   },
   {
    "duration": 1302,
    "start_time": "2021-10-04T09:33:03.838Z"
   },
   {
    "duration": 264,
    "start_time": "2021-10-04T09:33:18.943Z"
   },
   {
    "duration": 1158,
    "start_time": "2021-10-04T09:33:23.646Z"
   },
   {
    "duration": 1198,
    "start_time": "2021-10-04T09:34:25.776Z"
   },
   {
    "duration": 1212,
    "start_time": "2021-10-04T09:34:50.034Z"
   },
   {
    "duration": 1800,
    "start_time": "2021-10-04T09:35:57.080Z"
   },
   {
    "duration": 123,
    "start_time": "2021-10-04T09:36:58.401Z"
   },
   {
    "duration": 1030,
    "start_time": "2021-10-04T09:37:05.009Z"
   },
   {
    "duration": 1539,
    "start_time": "2021-10-04T09:37:23.002Z"
   },
   {
    "duration": 1177,
    "start_time": "2021-10-04T09:37:46.050Z"
   },
   {
    "duration": 1267,
    "start_time": "2021-10-04T09:38:25.081Z"
   },
   {
    "duration": 1247,
    "start_time": "2021-10-04T09:38:37.601Z"
   },
   {
    "duration": 1201,
    "start_time": "2021-10-04T09:39:28.322Z"
   },
   {
    "duration": 483,
    "start_time": "2021-10-04T09:44:05.220Z"
   },
   {
    "duration": 619,
    "start_time": "2021-10-04T09:44:10.460Z"
   },
   {
    "duration": 303,
    "start_time": "2021-10-04T10:06:05.873Z"
   },
   {
    "duration": 173,
    "start_time": "2021-10-04T10:07:57.702Z"
   },
   {
    "duration": 186,
    "start_time": "2021-10-04T10:08:07.194Z"
   },
   {
    "duration": 185,
    "start_time": "2021-10-04T10:08:26.338Z"
   },
   {
    "duration": 187,
    "start_time": "2021-10-04T10:08:39.595Z"
   },
   {
    "duration": 200,
    "start_time": "2021-10-04T10:13:52.373Z"
   },
   {
    "duration": 185,
    "start_time": "2021-10-04T10:13:56.367Z"
   },
   {
    "duration": 199,
    "start_time": "2021-10-04T10:13:58.638Z"
   },
   {
    "duration": 279,
    "start_time": "2021-10-04T10:14:08.167Z"
   },
   {
    "duration": 764,
    "start_time": "2021-10-04T10:32:10.639Z"
   },
   {
    "duration": 798,
    "start_time": "2021-10-04T10:32:17.640Z"
   },
   {
    "duration": 778,
    "start_time": "2021-10-04T10:32:19.944Z"
   },
   {
    "duration": 732,
    "start_time": "2021-10-04T10:34:04.009Z"
   },
   {
    "duration": 663,
    "start_time": "2021-10-04T10:34:28.060Z"
   },
   {
    "duration": 637,
    "start_time": "2021-10-04T10:34:38.777Z"
   },
   {
    "duration": 715,
    "start_time": "2021-10-04T10:34:42.843Z"
   },
   {
    "duration": 827,
    "start_time": "2021-10-04T10:35:15.960Z"
   },
   {
    "duration": 747,
    "start_time": "2021-10-04T10:35:36.962Z"
   },
   {
    "duration": 533,
    "start_time": "2021-10-04T10:36:39.307Z"
   },
   {
    "duration": 538,
    "start_time": "2021-10-04T10:36:55.039Z"
   },
   {
    "duration": 773,
    "start_time": "2021-10-04T10:37:01.367Z"
   },
   {
    "duration": 15,
    "start_time": "2021-10-04T10:42:27.007Z"
   },
   {
    "duration": 92,
    "start_time": "2021-10-04T10:42:35.629Z"
   },
   {
    "duration": 15,
    "start_time": "2021-10-04T10:42:39.622Z"
   },
   {
    "duration": 394,
    "start_time": "2021-10-04T10:44:58.992Z"
   },
   {
    "duration": 498,
    "start_time": "2021-10-04T10:45:24.217Z"
   },
   {
    "duration": 524,
    "start_time": "2021-10-04T10:45:58.808Z"
   },
   {
    "duration": 1882,
    "start_time": "2021-10-04T10:46:08.472Z"
   },
   {
    "duration": 535,
    "start_time": "2021-10-04T10:46:14.888Z"
   },
   {
    "duration": 444,
    "start_time": "2021-10-04T10:46:18.480Z"
   },
   {
    "duration": 1165,
    "start_time": "2021-10-04T10:49:17.631Z"
   },
   {
    "duration": 1395,
    "start_time": "2021-10-04T10:49:43.467Z"
   },
   {
    "duration": 1233,
    "start_time": "2021-10-04T10:50:21.611Z"
   },
   {
    "duration": 1498,
    "start_time": "2021-10-04T10:50:29.604Z"
   },
   {
    "duration": 1707,
    "start_time": "2021-10-04T10:51:27.077Z"
   },
   {
    "duration": 711,
    "start_time": "2021-10-04T11:09:34.598Z"
   },
   {
    "duration": 727,
    "start_time": "2021-10-04T11:09:58.667Z"
   },
   {
    "duration": 826,
    "start_time": "2021-10-04T11:10:18.720Z"
   },
   {
    "duration": 450,
    "start_time": "2021-10-04T11:10:30.422Z"
   },
   {
    "duration": 785,
    "start_time": "2021-10-04T11:10:40.783Z"
   },
   {
    "duration": 846,
    "start_time": "2021-10-04T11:13:34.835Z"
   },
   {
    "duration": 423,
    "start_time": "2021-10-04T11:15:32.521Z"
   },
   {
    "duration": 4,
    "start_time": "2021-10-04T11:15:43.089Z"
   },
   {
    "duration": 6,
    "start_time": "2021-10-04T11:15:49.681Z"
   },
   {
    "duration": 135,
    "start_time": "2021-10-04T11:16:26.649Z"
   },
   {
    "duration": 136,
    "start_time": "2021-10-04T11:16:41.746Z"
   },
   {
    "duration": 134,
    "start_time": "2021-10-04T11:16:55.137Z"
   },
   {
    "duration": 166,
    "start_time": "2021-10-04T11:18:33.827Z"
   },
   {
    "duration": 515,
    "start_time": "2021-10-04T11:19:03.811Z"
   },
   {
    "duration": 563,
    "start_time": "2021-10-04T11:19:07.219Z"
   },
   {
    "duration": 8,
    "start_time": "2021-10-04T11:19:18.717Z"
   },
   {
    "duration": 167,
    "start_time": "2021-10-04T11:19:25.692Z"
   },
   {
    "duration": 11283,
    "start_time": "2021-10-04T11:22:41.237Z"
   },
   {
    "duration": 13,
    "start_time": "2021-10-04T11:40:57.720Z"
   },
   {
    "duration": 15,
    "start_time": "2021-10-04T11:41:31.678Z"
   },
   {
    "duration": 23,
    "start_time": "2021-10-04T11:41:42.695Z"
   },
   {
    "duration": 22,
    "start_time": "2021-10-04T11:41:59.156Z"
   },
   {
    "duration": 171,
    "start_time": "2021-10-04T11:56:07.077Z"
   },
   {
    "duration": 151,
    "start_time": "2021-10-04T11:56:26.081Z"
   },
   {
    "duration": 165,
    "start_time": "2021-10-04T11:56:40.740Z"
   },
   {
    "duration": 14,
    "start_time": "2021-10-04T11:56:54.793Z"
   },
   {
    "duration": 22,
    "start_time": "2021-10-04T11:57:05.681Z"
   },
   {
    "duration": 15,
    "start_time": "2021-10-04T11:57:20.512Z"
   },
   {
    "duration": 94,
    "start_time": "2021-10-04T11:57:29.369Z"
   },
   {
    "duration": 18,
    "start_time": "2021-10-04T11:57:33.914Z"
   },
   {
    "duration": 14,
    "start_time": "2021-10-04T11:57:53.978Z"
   },
   {
    "duration": 16,
    "start_time": "2021-10-04T11:58:05.000Z"
   },
   {
    "duration": 79,
    "start_time": "2021-10-04T12:00:02.274Z"
   },
   {
    "duration": 695,
    "start_time": "2021-10-04T12:02:25.621Z"
   },
   {
    "duration": 702,
    "start_time": "2021-10-04T12:02:44.759Z"
   },
   {
    "duration": 431,
    "start_time": "2021-10-04T12:08:37.460Z"
   },
   {
    "duration": 771,
    "start_time": "2021-10-04T13:01:29.046Z"
   },
   {
    "duration": 1052,
    "start_time": "2021-10-04T13:02:33.437Z"
   },
   {
    "duration": 751,
    "start_time": "2021-10-04T13:02:43.133Z"
   },
   {
    "duration": 422,
    "start_time": "2021-10-04T16:22:04.110Z"
   },
   {
    "duration": 904,
    "start_time": "2021-10-04T16:22:13.307Z"
   },
   {
    "duration": 18,
    "start_time": "2021-10-04T16:22:14.214Z"
   },
   {
    "duration": 34,
    "start_time": "2021-10-04T16:22:14.236Z"
   },
   {
    "duration": 5,
    "start_time": "2021-10-04T16:22:14.274Z"
   },
   {
    "duration": 29,
    "start_time": "2021-10-04T16:22:14.282Z"
   },
   {
    "duration": 45,
    "start_time": "2021-10-04T16:22:14.313Z"
   },
   {
    "duration": 16,
    "start_time": "2021-10-04T16:22:14.361Z"
   },
   {
    "duration": 23,
    "start_time": "2021-10-04T16:22:14.382Z"
   },
   {
    "duration": 11,
    "start_time": "2021-10-04T16:22:14.408Z"
   },
   {
    "duration": 48,
    "start_time": "2021-10-04T16:22:14.421Z"
   },
   {
    "duration": 10,
    "start_time": "2021-10-04T16:22:14.471Z"
   },
   {
    "duration": 12,
    "start_time": "2021-10-04T16:22:14.484Z"
   },
   {
    "duration": 25,
    "start_time": "2021-10-04T16:22:14.498Z"
   },
   {
    "duration": 52,
    "start_time": "2021-10-04T16:22:14.525Z"
   },
   {
    "duration": 22,
    "start_time": "2021-10-04T16:22:14.579Z"
   },
   {
    "duration": 20,
    "start_time": "2021-10-04T16:22:14.603Z"
   },
   {
    "duration": 44,
    "start_time": "2021-10-04T16:22:14.625Z"
   },
   {
    "duration": 8,
    "start_time": "2021-10-04T16:22:14.672Z"
   },
   {
    "duration": 17,
    "start_time": "2021-10-04T16:22:14.682Z"
   },
   {
    "duration": 8,
    "start_time": "2021-10-04T16:22:14.702Z"
   },
   {
    "duration": 829,
    "start_time": "2021-10-04T16:22:14.712Z"
   },
   {
    "duration": 2215,
    "start_time": "2021-10-04T16:22:15.543Z"
   },
   {
    "duration": 779,
    "start_time": "2021-10-04T16:22:17.762Z"
   },
   {
    "duration": 18,
    "start_time": "2021-10-04T16:22:18.543Z"
   },
   {
    "duration": 1026,
    "start_time": "2021-10-04T16:22:18.563Z"
   },
   {
    "duration": 3,
    "start_time": "2021-10-04T16:23:02.154Z"
   },
   {
    "duration": 1387,
    "start_time": "2021-10-04T16:30:25.708Z"
   },
   {
    "duration": 7,
    "start_time": "2021-10-04T16:31:32.726Z"
   },
   {
    "duration": 9,
    "start_time": "2021-10-04T16:31:38.118Z"
   },
   {
    "duration": 10,
    "start_time": "2021-10-04T16:32:00.047Z"
   },
   {
    "duration": 140,
    "start_time": "2021-10-04T16:32:57.584Z"
   },
   {
    "duration": 20,
    "start_time": "2021-10-04T16:33:03.567Z"
   },
   {
    "duration": 480,
    "start_time": "2021-10-04T16:33:15.382Z"
   },
   {
    "duration": 20,
    "start_time": "2021-10-04T16:33:22.839Z"
   },
   {
    "duration": 19,
    "start_time": "2021-10-04T16:33:33.295Z"
   },
   {
    "duration": 21,
    "start_time": "2021-10-04T16:33:38.687Z"
   },
   {
    "duration": 300,
    "start_time": "2021-10-04T16:33:47.426Z"
   },
   {
    "duration": 135,
    "start_time": "2021-10-04T16:33:58.944Z"
   },
   {
    "duration": 22,
    "start_time": "2021-10-04T16:34:04.008Z"
   },
   {
    "duration": 33,
    "start_time": "2021-10-04T16:34:26.244Z"
   },
   {
    "duration": 30,
    "start_time": "2021-10-04T16:34:56.832Z"
   },
   {
    "duration": 33,
    "start_time": "2021-10-04T16:35:08.736Z"
   },
   {
    "duration": 34,
    "start_time": "2021-10-04T16:40:03.307Z"
   },
   {
    "duration": 386,
    "start_time": "2021-10-04T19:18:32.487Z"
   },
   {
    "duration": 894,
    "start_time": "2021-10-04T19:18:40.399Z"
   },
   {
    "duration": 15,
    "start_time": "2021-10-04T19:18:41.296Z"
   },
   {
    "duration": 15,
    "start_time": "2021-10-04T19:18:41.314Z"
   },
   {
    "duration": 31,
    "start_time": "2021-10-04T19:18:41.332Z"
   },
   {
    "duration": 26,
    "start_time": "2021-10-04T19:18:41.365Z"
   },
   {
    "duration": 8,
    "start_time": "2021-10-04T19:18:41.393Z"
   },
   {
    "duration": 24,
    "start_time": "2021-10-04T19:18:41.403Z"
   },
   {
    "duration": 39,
    "start_time": "2021-10-04T19:18:41.431Z"
   },
   {
    "duration": 11,
    "start_time": "2021-10-04T19:18:41.473Z"
   },
   {
    "duration": 17,
    "start_time": "2021-10-04T19:18:41.487Z"
   },
   {
    "duration": 5,
    "start_time": "2021-10-04T19:18:41.507Z"
   },
   {
    "duration": 30,
    "start_time": "2021-10-04T19:18:41.514Z"
   },
   {
    "duration": 32,
    "start_time": "2021-10-04T19:18:41.547Z"
   },
   {
    "duration": 22,
    "start_time": "2021-10-04T19:18:41.582Z"
   },
   {
    "duration": 28,
    "start_time": "2021-10-04T19:18:41.606Z"
   },
   {
    "duration": 39,
    "start_time": "2021-10-04T19:18:41.637Z"
   },
   {
    "duration": 18,
    "start_time": "2021-10-04T19:18:41.678Z"
   },
   {
    "duration": 10,
    "start_time": "2021-10-04T19:18:41.699Z"
   },
   {
    "duration": 59,
    "start_time": "2021-10-04T19:18:41.712Z"
   },
   {
    "duration": 8,
    "start_time": "2021-10-04T19:18:41.773Z"
   },
   {
    "duration": 854,
    "start_time": "2021-10-04T19:18:41.784Z"
   },
   {
    "duration": 2189,
    "start_time": "2021-10-04T19:18:42.640Z"
   },
   {
    "duration": 789,
    "start_time": "2021-10-04T19:18:44.833Z"
   },
   {
    "duration": 1383,
    "start_time": "2021-10-04T19:18:45.625Z"
   },
   {
    "duration": 619,
    "start_time": "2021-10-04T19:18:47.011Z"
   },
   {
    "duration": -60,
    "start_time": "2021-10-04T19:18:47.692Z"
   },
   {
    "duration": 9,
    "start_time": "2021-10-04T19:19:13.451Z"
   },
   {
    "duration": 25,
    "start_time": "2021-10-04T19:19:26.717Z"
   },
   {
    "duration": 9258,
    "start_time": "2021-10-04T19:20:21.291Z"
   },
   {
    "duration": 58,
    "start_time": "2021-10-04T19:26:24.035Z"
   },
   {
    "duration": 145,
    "start_time": "2021-10-04T19:27:26.618Z"
   },
   {
    "duration": 143,
    "start_time": "2021-10-04T19:27:57.409Z"
   },
   {
    "duration": 392,
    "start_time": "2021-10-04T19:28:43.669Z"
   },
   {
    "duration": 10,
    "start_time": "2021-10-04T19:29:02.477Z"
   },
   {
    "duration": 56,
    "start_time": "2021-10-04T19:29:16.338Z"
   },
   {
    "duration": 346,
    "start_time": "2021-10-04T19:31:07.331Z"
   },
   {
    "duration": 291,
    "start_time": "2021-10-04T19:31:22.910Z"
   },
   {
    "duration": 297,
    "start_time": "2021-10-04T19:31:37.803Z"
   },
   {
    "duration": 1913,
    "start_time": "2021-10-04T19:31:48.651Z"
   },
   {
    "duration": 304,
    "start_time": "2021-10-04T19:32:52.337Z"
   },
   {
    "duration": 151,
    "start_time": "2021-10-04T19:33:29.847Z"
   },
   {
    "duration": 150,
    "start_time": "2021-10-04T19:33:49.044Z"
   },
   {
    "duration": 297,
    "start_time": "2021-10-04T19:33:53.337Z"
   },
   {
    "duration": 103,
    "start_time": "2021-10-04T19:34:07.556Z"
   },
   {
    "duration": 321,
    "start_time": "2021-10-04T19:34:12.866Z"
   },
   {
    "duration": 9177,
    "start_time": "2021-10-04T19:34:35.018Z"
   },
   {
    "duration": 381,
    "start_time": "2021-10-04T19:35:03.291Z"
   },
   {
    "duration": 312,
    "start_time": "2021-10-04T19:35:50.752Z"
   },
   {
    "duration": 358,
    "start_time": "2021-10-04T19:36:46.635Z"
   },
   {
    "duration": 436,
    "start_time": "2021-10-04T19:36:58.217Z"
   },
   {
    "duration": 440,
    "start_time": "2021-10-04T19:38:49.472Z"
   },
   {
    "duration": 6332,
    "start_time": "2021-10-04T19:39:31.946Z"
   },
   {
    "duration": 464,
    "start_time": "2021-10-04T19:39:45.062Z"
   },
   {
    "duration": 450,
    "start_time": "2021-10-04T19:39:53.158Z"
   },
   {
    "duration": 441,
    "start_time": "2021-10-04T19:40:37.126Z"
   },
   {
    "duration": 355,
    "start_time": "2021-10-04T19:42:08.887Z"
   },
   {
    "duration": 55,
    "start_time": "2021-10-04T19:42:35.663Z"
   },
   {
    "duration": 103,
    "start_time": "2021-10-04T19:50:03.630Z"
   },
   {
    "duration": 764,
    "start_time": "2021-10-04T19:50:13.192Z"
   },
   {
    "duration": 467,
    "start_time": "2021-10-04T19:50:59.643Z"
   },
   {
    "duration": 562,
    "start_time": "2021-10-04T19:51:56.070Z"
   },
   {
    "duration": 474,
    "start_time": "2021-10-04T19:53:08.768Z"
   },
   {
    "duration": 799,
    "start_time": "2021-10-04T19:53:31.084Z"
   },
   {
    "duration": 64,
    "start_time": "2021-10-04T19:54:09.171Z"
   },
   {
    "duration": 24,
    "start_time": "2021-10-04T19:55:06.039Z"
   },
   {
    "duration": 443,
    "start_time": "2021-10-04T19:55:32.940Z"
   },
   {
    "duration": 383,
    "start_time": "2021-10-04T19:55:43.549Z"
   },
   {
    "duration": 460,
    "start_time": "2021-10-04T19:56:08.691Z"
   },
   {
    "duration": 436,
    "start_time": "2021-10-04T19:56:36.001Z"
   },
   {
    "duration": 322,
    "start_time": "2021-10-04T19:57:08.667Z"
   },
   {
    "duration": 332,
    "start_time": "2021-10-04T19:57:30.094Z"
   },
   {
    "duration": 437,
    "start_time": "2021-10-04T19:57:44.334Z"
   },
   {
    "duration": 369,
    "start_time": "2021-10-04T19:57:54.596Z"
   },
   {
    "duration": 387,
    "start_time": "2021-10-04T19:58:00.779Z"
   },
   {
    "duration": 432,
    "start_time": "2021-10-04T19:58:06.601Z"
   },
   {
    "duration": 300,
    "start_time": "2021-10-05T05:54:49.153Z"
   },
   {
    "duration": 998,
    "start_time": "2021-10-05T05:54:59.704Z"
   },
   {
    "duration": 18,
    "start_time": "2021-10-05T05:55:00.704Z"
   },
   {
    "duration": 16,
    "start_time": "2021-10-05T05:55:00.725Z"
   },
   {
    "duration": 5,
    "start_time": "2021-10-05T05:55:00.744Z"
   },
   {
    "duration": 40,
    "start_time": "2021-10-05T05:55:00.751Z"
   },
   {
    "duration": 9,
    "start_time": "2021-10-05T05:55:00.794Z"
   },
   {
    "duration": 14,
    "start_time": "2021-10-05T05:55:00.824Z"
   },
   {
    "duration": 32,
    "start_time": "2021-10-05T05:55:00.841Z"
   },
   {
    "duration": 43,
    "start_time": "2021-10-05T05:55:00.879Z"
   },
   {
    "duration": 14,
    "start_time": "2021-10-05T05:55:00.926Z"
   },
   {
    "duration": 16,
    "start_time": "2021-10-05T05:55:00.943Z"
   },
   {
    "duration": 23,
    "start_time": "2021-10-05T05:55:00.962Z"
   },
   {
    "duration": 42,
    "start_time": "2021-10-05T05:55:00.988Z"
   },
   {
    "duration": 42,
    "start_time": "2021-10-05T05:55:01.033Z"
   },
   {
    "duration": 46,
    "start_time": "2021-10-05T05:55:01.078Z"
   },
   {
    "duration": 19,
    "start_time": "2021-10-05T05:55:01.127Z"
   },
   {
    "duration": 29,
    "start_time": "2021-10-05T05:55:01.148Z"
   },
   {
    "duration": 22,
    "start_time": "2021-10-05T05:55:01.180Z"
   },
   {
    "duration": 32,
    "start_time": "2021-10-05T05:55:01.204Z"
   },
   {
    "duration": 16,
    "start_time": "2021-10-05T05:55:01.238Z"
   },
   {
    "duration": 853,
    "start_time": "2021-10-05T05:55:01.256Z"
   },
   {
    "duration": 2310,
    "start_time": "2021-10-05T05:55:02.112Z"
   },
   {
    "duration": 800,
    "start_time": "2021-10-05T05:55:04.424Z"
   },
   {
    "duration": 1369,
    "start_time": "2021-10-05T05:55:05.226Z"
   },
   {
    "duration": 473,
    "start_time": "2021-10-05T05:55:06.597Z"
   },
   {
    "duration": 415,
    "start_time": "2021-10-05T05:55:07.072Z"
   },
   {
    "duration": 379,
    "start_time": "2021-10-05T05:55:07.491Z"
   },
   {
    "duration": -53,
    "start_time": "2021-10-05T05:55:07.925Z"
   },
   {
    "duration": 538,
    "start_time": "2021-10-05T05:56:38.057Z"
   },
   {
    "duration": 541,
    "start_time": "2021-10-05T05:56:47.170Z"
   },
   {
    "duration": 473,
    "start_time": "2021-10-05T05:57:21.926Z"
   },
   {
    "duration": 496,
    "start_time": "2021-10-05T06:02:07.382Z"
   },
   {
    "duration": 1011,
    "start_time": "2021-10-05T06:02:42.869Z"
   },
   {
    "duration": 1005,
    "start_time": "2021-10-05T06:03:36.734Z"
   },
   {
    "duration": 980,
    "start_time": "2021-10-05T06:04:29.344Z"
   },
   {
    "duration": 877,
    "start_time": "2021-10-05T06:05:00.858Z"
   },
   {
    "duration": 946,
    "start_time": "2021-10-05T06:05:26.394Z"
   },
   {
    "duration": 951,
    "start_time": "2021-10-05T06:05:35.602Z"
   },
   {
    "duration": 1113,
    "start_time": "2021-10-05T06:05:55.298Z"
   },
   {
    "duration": 1105,
    "start_time": "2021-10-05T06:09:27.840Z"
   },
   {
    "duration": 1528,
    "start_time": "2021-10-05T06:10:32.962Z"
   },
   {
    "duration": 1571,
    "start_time": "2021-10-05T06:10:42.327Z"
   },
   {
    "duration": 103,
    "start_time": "2021-10-05T06:33:09.359Z"
   },
   {
    "duration": 397,
    "start_time": "2021-10-05T06:33:34.140Z"
   },
   {
    "duration": 54,
    "start_time": "2021-10-05T06:33:40.083Z"
   },
   {
    "duration": 6,
    "start_time": "2021-10-05T06:35:30.302Z"
   },
   {
    "duration": 357,
    "start_time": "2021-10-05T06:35:53.067Z"
   },
   {
    "duration": 7,
    "start_time": "2021-10-05T06:36:00.553Z"
   },
   {
    "duration": 4,
    "start_time": "2021-10-05T06:36:59.862Z"
   },
   {
    "duration": 21,
    "start_time": "2021-10-05T06:37:50.835Z"
   },
   {
    "duration": 7,
    "start_time": "2021-10-05T06:37:51.208Z"
   },
   {
    "duration": 300,
    "start_time": "2021-10-05T06:39:06.752Z"
   },
   {
    "duration": 9,
    "start_time": "2021-10-05T06:39:16.643Z"
   },
   {
    "duration": 50,
    "start_time": "2021-10-05T06:45:30.623Z"
   },
   {
    "duration": 292,
    "start_time": "2021-10-05T07:40:56.098Z"
   },
   {
    "duration": 307,
    "start_time": "2021-10-05T07:41:15.923Z"
   },
   {
    "duration": 25,
    "start_time": "2021-10-05T07:41:37.538Z"
   },
   {
    "duration": 56,
    "start_time": "2021-10-05T07:41:51.705Z"
   },
   {
    "duration": 23,
    "start_time": "2021-10-05T07:43:14.607Z"
   },
   {
    "duration": 33,
    "start_time": "2021-10-05T07:43:57.590Z"
   },
   {
    "duration": 493,
    "start_time": "2021-10-05T07:44:07.807Z"
   },
   {
    "duration": 951,
    "start_time": "2021-10-05T07:44:30.655Z"
   },
   {
    "duration": 1450,
    "start_time": "2021-10-05T07:44:48.196Z"
   },
   {
    "duration": 1451,
    "start_time": "2021-10-05T07:45:42.338Z"
   },
   {
    "duration": 1478,
    "start_time": "2021-10-05T07:46:03.157Z"
   },
   {
    "duration": 1547,
    "start_time": "2021-10-05T07:46:43.684Z"
   },
   {
    "duration": 1643,
    "start_time": "2021-10-05T07:47:33.431Z"
   },
   {
    "duration": 1466,
    "start_time": "2021-10-05T07:47:43.481Z"
   },
   {
    "duration": 1453,
    "start_time": "2021-10-05T07:47:55.212Z"
   },
   {
    "duration": 1444,
    "start_time": "2021-10-05T07:48:15.701Z"
   },
   {
    "duration": 1519,
    "start_time": "2021-10-05T07:54:16.345Z"
   },
   {
    "duration": 1558,
    "start_time": "2021-10-05T07:54:26.316Z"
   },
   {
    "duration": 1811,
    "start_time": "2021-10-05T07:54:40.630Z"
   },
   {
    "duration": 2186,
    "start_time": "2021-10-05T07:55:03.029Z"
   },
   {
    "duration": 2500,
    "start_time": "2021-10-05T07:55:18.526Z"
   },
   {
    "duration": 1520,
    "start_time": "2021-10-05T08:40:42.771Z"
   },
   {
    "duration": 111,
    "start_time": "2021-10-05T08:42:29.395Z"
   },
   {
    "duration": 1491,
    "start_time": "2021-10-05T08:42:35.792Z"
   },
   {
    "duration": 1480,
    "start_time": "2021-10-05T08:43:02.802Z"
   },
   {
    "duration": 1390,
    "start_time": "2021-10-05T08:43:18.087Z"
   },
   {
    "duration": 1392,
    "start_time": "2021-10-05T14:22:07.486Z"
   },
   {
    "duration": 944,
    "start_time": "2021-10-05T14:22:16.219Z"
   },
   {
    "duration": 19,
    "start_time": "2021-10-05T14:22:17.166Z"
   },
   {
    "duration": 18,
    "start_time": "2021-10-05T14:22:17.189Z"
   },
   {
    "duration": 6,
    "start_time": "2021-10-05T14:22:17.211Z"
   },
   {
    "duration": 67,
    "start_time": "2021-10-05T14:22:17.220Z"
   },
   {
    "duration": 10,
    "start_time": "2021-10-05T14:22:17.289Z"
   },
   {
    "duration": 14,
    "start_time": "2021-10-05T14:22:17.303Z"
   },
   {
    "duration": 64,
    "start_time": "2021-10-05T14:22:17.320Z"
   },
   {
    "duration": 11,
    "start_time": "2021-10-05T14:22:17.388Z"
   },
   {
    "duration": 12,
    "start_time": "2021-10-05T14:22:17.402Z"
   },
   {
    "duration": 6,
    "start_time": "2021-10-05T14:22:17.416Z"
   },
   {
    "duration": 45,
    "start_time": "2021-10-05T14:22:17.424Z"
   },
   {
    "duration": 28,
    "start_time": "2021-10-05T14:22:17.471Z"
   },
   {
    "duration": 24,
    "start_time": "2021-10-05T14:22:17.501Z"
   },
   {
    "duration": 57,
    "start_time": "2021-10-05T14:22:17.528Z"
   },
   {
    "duration": 22,
    "start_time": "2021-10-05T14:22:17.588Z"
   },
   {
    "duration": 16,
    "start_time": "2021-10-05T14:22:17.612Z"
   },
   {
    "duration": 41,
    "start_time": "2021-10-05T14:22:17.630Z"
   },
   {
    "duration": 18,
    "start_time": "2021-10-05T14:22:17.673Z"
   },
   {
    "duration": 7,
    "start_time": "2021-10-05T14:22:17.693Z"
   },
   {
    "duration": 841,
    "start_time": "2021-10-05T14:22:17.703Z"
   },
   {
    "duration": 2374,
    "start_time": "2021-10-05T14:22:18.546Z"
   },
   {
    "duration": 851,
    "start_time": "2021-10-05T14:22:20.922Z"
   },
   {
    "duration": 1412,
    "start_time": "2021-10-05T14:22:21.776Z"
   },
   {
    "duration": 1504,
    "start_time": "2021-10-05T14:22:23.190Z"
   },
   {
    "duration": 4,
    "start_time": "2021-10-06T09:49:21.464Z"
   },
   {
    "duration": 385,
    "start_time": "2021-10-06T09:50:51.770Z"
   },
   {
    "duration": 966,
    "start_time": "2021-10-06T09:50:58.054Z"
   },
   {
    "duration": 13,
    "start_time": "2021-10-06T09:50:59.022Z"
   },
   {
    "duration": 29,
    "start_time": "2021-10-06T09:50:59.038Z"
   },
   {
    "duration": 6,
    "start_time": "2021-10-06T09:50:59.071Z"
   },
   {
    "duration": 27,
    "start_time": "2021-10-06T09:50:59.080Z"
   },
   {
    "duration": 9,
    "start_time": "2021-10-06T09:50:59.109Z"
   },
   {
    "duration": 13,
    "start_time": "2021-10-06T09:50:59.158Z"
   },
   {
    "duration": 23,
    "start_time": "2021-10-06T09:50:59.176Z"
   },
   {
    "duration": 13,
    "start_time": "2021-10-06T09:50:59.202Z"
   },
   {
    "duration": 49,
    "start_time": "2021-10-06T09:50:59.217Z"
   },
   {
    "duration": 9,
    "start_time": "2021-10-06T09:50:59.269Z"
   },
   {
    "duration": 16,
    "start_time": "2021-10-06T09:50:59.280Z"
   },
   {
    "duration": 63,
    "start_time": "2021-10-06T09:50:59.299Z"
   },
   {
    "duration": 25,
    "start_time": "2021-10-06T09:50:59.365Z"
   },
   {
    "duration": 24,
    "start_time": "2021-10-06T09:50:59.393Z"
   },
   {
    "duration": 54,
    "start_time": "2021-10-06T09:50:59.420Z"
   },
   {
    "duration": 17,
    "start_time": "2021-10-06T09:50:59.477Z"
   },
   {
    "duration": 10,
    "start_time": "2021-10-06T09:50:59.497Z"
   },
   {
    "duration": 55,
    "start_time": "2021-10-06T09:50:59.509Z"
   },
   {
    "duration": 7,
    "start_time": "2021-10-06T09:50:59.567Z"
   },
   {
    "duration": 789,
    "start_time": "2021-10-06T09:50:59.578Z"
   },
   {
    "duration": 2176,
    "start_time": "2021-10-06T09:51:00.370Z"
   },
   {
    "duration": 864,
    "start_time": "2021-10-06T09:51:02.558Z"
   },
   {
    "duration": 1353,
    "start_time": "2021-10-06T09:51:03.424Z"
   },
   {
    "duration": 3,
    "start_time": "2021-10-06T09:51:04.779Z"
   },
   {
    "duration": 126,
    "start_time": "2021-10-06T09:51:38.950Z"
   },
   {
    "duration": 7055,
    "start_time": "2021-10-06T09:51:44.787Z"
   },
   {
    "duration": 1175,
    "start_time": "2021-10-06T09:52:16.309Z"
   },
   {
    "duration": 910,
    "start_time": "2021-10-06T09:52:29.520Z"
   },
   {
    "duration": 1180,
    "start_time": "2021-10-06T09:53:27.611Z"
   },
   {
    "duration": 1200,
    "start_time": "2021-10-06T09:53:46.898Z"
   },
   {
    "duration": 913,
    "start_time": "2021-10-06T09:55:41.808Z"
   },
   {
    "duration": 21,
    "start_time": "2021-10-06T09:57:06.991Z"
   },
   {
    "duration": 106,
    "start_time": "2021-10-06T09:57:39.721Z"
   },
   {
    "duration": 32,
    "start_time": "2021-10-06T09:57:55.492Z"
   },
   {
    "duration": 32,
    "start_time": "2021-10-06T09:58:43.517Z"
   },
   {
    "duration": 42,
    "start_time": "2021-10-06T10:47:08.057Z"
   },
   {
    "duration": 37,
    "start_time": "2021-10-06T10:52:49.413Z"
   },
   {
    "duration": 42,
    "start_time": "2021-10-06T10:52:54.753Z"
   },
   {
    "duration": 323,
    "start_time": "2021-10-06T10:55:25.718Z"
   },
   {
    "duration": 38,
    "start_time": "2021-10-06T10:55:33.703Z"
   },
   {
    "duration": 356,
    "start_time": "2021-10-06T10:56:48.815Z"
   },
   {
    "duration": 37,
    "start_time": "2021-10-06T10:57:07.582Z"
   },
   {
    "duration": 334,
    "start_time": "2021-10-06T10:57:36.255Z"
   },
   {
    "duration": 39,
    "start_time": "2021-10-06T10:57:45.245Z"
   },
   {
    "duration": 29,
    "start_time": "2021-10-06T10:58:53.674Z"
   },
   {
    "duration": 37,
    "start_time": "2021-10-06T10:59:09.465Z"
   },
   {
    "duration": 38,
    "start_time": "2021-10-06T11:00:28.961Z"
   },
   {
    "duration": 334,
    "start_time": "2021-10-06T11:00:38.063Z"
   },
   {
    "duration": 41,
    "start_time": "2021-10-06T11:00:49.879Z"
   },
   {
    "duration": 11,
    "start_time": "2021-10-06T11:01:23.995Z"
   },
   {
    "duration": 12,
    "start_time": "2021-10-06T11:01:33.753Z"
   },
   {
    "duration": 408,
    "start_time": "2021-10-06T11:03:44.279Z"
   },
   {
    "duration": 56,
    "start_time": "2021-10-06T11:04:04.091Z"
   },
   {
    "duration": 39,
    "start_time": "2021-10-06T11:06:36.709Z"
   },
   {
    "duration": 361,
    "start_time": "2021-10-06T15:31:34.163Z"
   },
   {
    "duration": 747,
    "start_time": "2021-10-06T15:31:42.206Z"
   },
   {
    "duration": 11,
    "start_time": "2021-10-06T15:31:42.955Z"
   },
   {
    "duration": 11,
    "start_time": "2021-10-06T15:31:42.970Z"
   },
   {
    "duration": 4,
    "start_time": "2021-10-06T15:31:42.983Z"
   },
   {
    "duration": 20,
    "start_time": "2021-10-06T15:31:42.988Z"
   },
   {
    "duration": 7,
    "start_time": "2021-10-06T15:31:43.010Z"
   },
   {
    "duration": 9,
    "start_time": "2021-10-06T15:31:43.020Z"
   },
   {
    "duration": 51,
    "start_time": "2021-10-06T15:31:43.031Z"
   },
   {
    "duration": 9,
    "start_time": "2021-10-06T15:31:43.083Z"
   },
   {
    "duration": 5,
    "start_time": "2021-10-06T15:31:43.094Z"
   },
   {
    "duration": 4,
    "start_time": "2021-10-06T15:31:43.101Z"
   },
   {
    "duration": 8,
    "start_time": "2021-10-06T15:31:43.107Z"
   },
   {
    "duration": 17,
    "start_time": "2021-10-06T15:31:43.117Z"
   },
   {
    "duration": 53,
    "start_time": "2021-10-06T15:31:43.136Z"
   },
   {
    "duration": 14,
    "start_time": "2021-10-06T15:31:43.191Z"
   },
   {
    "duration": 14,
    "start_time": "2021-10-06T15:31:43.207Z"
   },
   {
    "duration": 12,
    "start_time": "2021-10-06T15:31:43.223Z"
   },
   {
    "duration": 6,
    "start_time": "2021-10-06T15:31:43.237Z"
   },
   {
    "duration": 12,
    "start_time": "2021-10-06T15:31:43.276Z"
   },
   {
    "duration": 4,
    "start_time": "2021-10-06T15:31:43.290Z"
   },
   {
    "duration": 496,
    "start_time": "2021-10-06T15:31:43.296Z"
   },
   {
    "duration": 1497,
    "start_time": "2021-10-06T15:31:43.794Z"
   },
   {
    "duration": 495,
    "start_time": "2021-10-06T15:31:45.293Z"
   },
   {
    "duration": 921,
    "start_time": "2021-10-06T15:31:45.790Z"
   },
   {
    "duration": 2,
    "start_time": "2021-10-06T15:31:46.714Z"
   },
   {
    "duration": 39,
    "start_time": "2021-10-06T15:31:46.718Z"
   },
   {
    "duration": 58,
    "start_time": "2021-10-06T15:31:46.759Z"
   },
   {
    "duration": 26,
    "start_time": "2021-10-06T15:31:46.819Z"
   },
   {
    "duration": 4,
    "start_time": "2021-10-06T15:31:46.846Z"
   },
   {
    "duration": 9,
    "start_time": "2021-10-06T15:32:02.987Z"
   },
   {
    "duration": 7,
    "start_time": "2021-10-06T15:32:27.653Z"
   },
   {
    "duration": 151,
    "start_time": "2021-10-06T15:32:43.980Z"
   },
   {
    "duration": 194,
    "start_time": "2021-10-06T15:43:02.986Z"
   },
   {
    "duration": 30,
    "start_time": "2021-10-06T15:49:06.023Z"
   },
   {
    "duration": 17,
    "start_time": "2021-10-06T15:57:04.280Z"
   },
   {
    "duration": 8,
    "start_time": "2021-10-06T16:00:29.713Z"
   },
   {
    "duration": 8,
    "start_time": "2021-10-06T16:01:07.741Z"
   },
   {
    "duration": 176,
    "start_time": "2021-10-06T16:01:22.000Z"
   },
   {
    "duration": 164,
    "start_time": "2021-10-06T16:02:14.397Z"
   },
   {
    "duration": 174,
    "start_time": "2021-10-06T16:04:29.378Z"
   },
   {
    "duration": 761,
    "start_time": "2021-10-06T16:05:25.007Z"
   },
   {
    "duration": 12,
    "start_time": "2021-10-06T16:05:25.770Z"
   },
   {
    "duration": 11,
    "start_time": "2021-10-06T16:05:25.784Z"
   },
   {
    "duration": 5,
    "start_time": "2021-10-06T16:05:25.797Z"
   },
   {
    "duration": 18,
    "start_time": "2021-10-06T16:05:25.803Z"
   },
   {
    "duration": 6,
    "start_time": "2021-10-06T16:05:25.823Z"
   },
   {
    "duration": 12,
    "start_time": "2021-10-06T16:05:25.831Z"
   },
   {
    "duration": 47,
    "start_time": "2021-10-06T16:05:25.845Z"
   },
   {
    "duration": 9,
    "start_time": "2021-10-06T16:05:25.894Z"
   },
   {
    "duration": 10,
    "start_time": "2021-10-06T16:05:25.905Z"
   },
   {
    "duration": 6,
    "start_time": "2021-10-06T16:05:25.917Z"
   },
   {
    "duration": 10,
    "start_time": "2021-10-06T16:05:25.925Z"
   },
   {
    "duration": 47,
    "start_time": "2021-10-06T16:05:25.937Z"
   },
   {
    "duration": 15,
    "start_time": "2021-10-06T16:05:25.986Z"
   },
   {
    "duration": 16,
    "start_time": "2021-10-06T16:05:26.003Z"
   },
   {
    "duration": 20,
    "start_time": "2021-10-06T16:05:26.021Z"
   },
   {
    "duration": 40,
    "start_time": "2021-10-06T16:05:26.042Z"
   },
   {
    "duration": 7,
    "start_time": "2021-10-06T16:05:26.084Z"
   },
   {
    "duration": 13,
    "start_time": "2021-10-06T16:05:26.092Z"
   },
   {
    "duration": 5,
    "start_time": "2021-10-06T16:05:26.106Z"
   },
   {
    "duration": 503,
    "start_time": "2021-10-06T16:05:26.113Z"
   },
   {
    "duration": 1499,
    "start_time": "2021-10-06T16:05:26.617Z"
   },
   {
    "duration": 498,
    "start_time": "2021-10-06T16:05:28.119Z"
   },
   {
    "duration": 1113,
    "start_time": "2021-10-06T16:05:28.619Z"
   },
   {
    "duration": 3,
    "start_time": "2021-10-06T16:05:29.733Z"
   },
   {
    "duration": 19,
    "start_time": "2021-10-06T16:05:29.737Z"
   },
   {
    "duration": 364,
    "start_time": "2021-10-06T16:05:29.758Z"
   },
   {
    "duration": 516,
    "start_time": "2021-10-06T16:07:14.961Z"
   },
   {
    "duration": 338,
    "start_time": "2021-10-06T16:07:31.258Z"
   },
   {
    "duration": 340,
    "start_time": "2021-10-06T16:07:41.395Z"
   },
   {
    "duration": 339,
    "start_time": "2021-10-06T16:07:55.528Z"
   },
   {
    "duration": 582,
    "start_time": "2021-10-06T16:08:52.044Z"
   },
   {
    "duration": 658,
    "start_time": "2021-10-06T16:10:05.742Z"
   },
   {
    "duration": 506,
    "start_time": "2021-10-06T16:10:23.249Z"
   },
   {
    "duration": 509,
    "start_time": "2021-10-06T16:11:09.922Z"
   },
   {
    "duration": 585,
    "start_time": "2021-10-06T16:11:32.671Z"
   },
   {
    "duration": 10,
    "start_time": "2021-10-06T16:24:47.659Z"
   },
   {
    "duration": 28,
    "start_time": "2021-10-06T16:27:07.027Z"
   },
   {
    "duration": 336,
    "start_time": "2021-10-06T16:28:08.137Z"
   },
   {
    "duration": 331,
    "start_time": "2021-10-06T16:28:54.820Z"
   },
   {
    "duration": 20,
    "start_time": "2021-10-06T16:29:05.496Z"
   },
   {
    "duration": 25,
    "start_time": "2021-10-06T16:29:11.698Z"
   },
   {
    "duration": 860,
    "start_time": "2021-10-06T16:29:33.933Z"
   },
   {
    "duration": 25,
    "start_time": "2021-10-06T16:29:40.563Z"
   },
   {
    "duration": 28,
    "start_time": "2021-10-06T16:29:47.462Z"
   },
   {
    "duration": 211,
    "start_time": "2021-10-06T16:30:15.546Z"
   },
   {
    "duration": 242,
    "start_time": "2021-10-06T16:30:25.144Z"
   },
   {
    "duration": 76,
    "start_time": "2021-10-06T16:34:00.475Z"
   },
   {
    "duration": 310,
    "start_time": "2021-10-06T16:34:11.878Z"
   },
   {
    "duration": 41,
    "start_time": "2021-10-06T16:35:57.689Z"
   },
   {
    "duration": 24,
    "start_time": "2021-10-06T16:46:52.068Z"
   },
   {
    "duration": 10,
    "start_time": "2021-10-06T16:47:26.464Z"
   },
   {
    "duration": 10,
    "start_time": "2021-10-06T16:47:29.581Z"
   },
   {
    "duration": 11,
    "start_time": "2021-10-06T16:47:42.376Z"
   },
   {
    "duration": 705,
    "start_time": "2021-10-06T16:47:54.306Z"
   },
   {
    "duration": 11,
    "start_time": "2021-10-06T16:47:55.013Z"
   },
   {
    "duration": 12,
    "start_time": "2021-10-06T16:47:55.025Z"
   },
   {
    "duration": 4,
    "start_time": "2021-10-06T16:47:55.039Z"
   },
   {
    "duration": 36,
    "start_time": "2021-10-06T16:47:55.044Z"
   },
   {
    "duration": 6,
    "start_time": "2021-10-06T16:47:55.082Z"
   },
   {
    "duration": 12,
    "start_time": "2021-10-06T16:47:55.090Z"
   },
   {
    "duration": 16,
    "start_time": "2021-10-06T16:47:55.104Z"
   },
   {
    "duration": 7,
    "start_time": "2021-10-06T16:47:55.122Z"
   },
   {
    "duration": 5,
    "start_time": "2021-10-06T16:47:55.131Z"
   },
   {
    "duration": 4,
    "start_time": "2021-10-06T16:47:55.138Z"
   },
   {
    "duration": 37,
    "start_time": "2021-10-06T16:47:55.144Z"
   },
   {
    "duration": 16,
    "start_time": "2021-10-06T16:47:55.183Z"
   },
   {
    "duration": 14,
    "start_time": "2021-10-06T16:47:55.200Z"
   },
   {
    "duration": 14,
    "start_time": "2021-10-06T16:47:55.215Z"
   },
   {
    "duration": 17,
    "start_time": "2021-10-06T16:47:55.230Z"
   },
   {
    "duration": 36,
    "start_time": "2021-10-06T16:47:55.249Z"
   },
   {
    "duration": 6,
    "start_time": "2021-10-06T16:47:55.287Z"
   },
   {
    "duration": 12,
    "start_time": "2021-10-06T16:47:55.294Z"
   },
   {
    "duration": 4,
    "start_time": "2021-10-06T16:47:55.307Z"
   },
   {
    "duration": 492,
    "start_time": "2021-10-06T16:47:55.313Z"
   },
   {
    "duration": 1299,
    "start_time": "2021-10-06T16:47:55.807Z"
   },
   {
    "duration": 458,
    "start_time": "2021-10-06T16:47:57.109Z"
   },
   {
    "duration": 882,
    "start_time": "2021-10-06T16:47:57.569Z"
   },
   {
    "duration": 24,
    "start_time": "2021-10-06T16:47:58.453Z"
   },
   {
    "duration": 504,
    "start_time": "2021-10-06T16:47:58.479Z"
   },
   {
    "duration": 10,
    "start_time": "2021-10-06T16:47:58.986Z"
   },
   {
    "duration": 302,
    "start_time": "2021-10-06T16:47:58.997Z"
   },
   {
    "duration": 9,
    "start_time": "2021-10-06T16:47:59.301Z"
   },
   {
    "duration": 9,
    "start_time": "2021-10-06T16:48:07.487Z"
   },
   {
    "duration": 458,
    "start_time": "2021-10-06T16:48:24.059Z"
   },
   {
    "duration": 19,
    "start_time": "2021-10-06T16:48:36.302Z"
   },
   {
    "duration": 20,
    "start_time": "2021-10-06T16:49:26.753Z"
   },
   {
    "duration": 23,
    "start_time": "2021-10-06T16:49:44.827Z"
   },
   {
    "duration": 24,
    "start_time": "2021-10-06T16:50:13.131Z"
   },
   {
    "duration": 5659,
    "start_time": "2021-10-06T16:50:29.064Z"
   },
   {
    "duration": 21,
    "start_time": "2021-10-06T16:50:49.625Z"
   },
   {
    "duration": 211,
    "start_time": "2021-10-06T16:51:08.888Z"
   },
   {
    "duration": 231,
    "start_time": "2021-10-06T16:51:44.878Z"
   },
   {
    "duration": 214,
    "start_time": "2021-10-06T16:51:55.517Z"
   },
   {
    "duration": 210,
    "start_time": "2021-10-06T16:52:02.483Z"
   },
   {
    "duration": 207,
    "start_time": "2021-10-06T16:52:11.727Z"
   },
   {
    "duration": 314,
    "start_time": "2021-10-06T17:07:19.245Z"
   },
   {
    "duration": 228,
    "start_time": "2021-10-06T17:07:35.033Z"
   },
   {
    "duration": 265,
    "start_time": "2021-10-06T17:07:54.534Z"
   },
   {
    "duration": 206,
    "start_time": "2021-10-06T17:08:13.441Z"
   },
   {
    "duration": 305,
    "start_time": "2021-10-06T17:08:31.637Z"
   },
   {
    "duration": 203,
    "start_time": "2021-10-06T17:08:44.211Z"
   },
   {
    "duration": 188,
    "start_time": "2021-10-06T17:08:53.701Z"
   },
   {
    "duration": 195,
    "start_time": "2021-10-06T17:10:02.554Z"
   },
   {
    "duration": 197,
    "start_time": "2021-10-06T17:10:16.188Z"
   },
   {
    "duration": 203,
    "start_time": "2021-10-06T17:10:31.989Z"
   },
   {
    "duration": 205,
    "start_time": "2021-10-06T17:11:01.065Z"
   },
   {
    "duration": 193,
    "start_time": "2021-10-06T17:11:08.816Z"
   },
   {
    "duration": 195,
    "start_time": "2021-10-06T17:11:20.689Z"
   },
   {
    "duration": 271,
    "start_time": "2021-10-06T17:11:27.955Z"
   },
   {
    "duration": 26809,
    "start_time": "2021-10-06T17:11:34.577Z"
   },
   {
    "duration": 206,
    "start_time": "2021-10-06T17:12:32.554Z"
   },
   {
    "duration": 287,
    "start_time": "2021-10-06T17:13:12.301Z"
   },
   {
    "duration": 203,
    "start_time": "2021-10-06T17:13:22.309Z"
   },
   {
    "duration": 24,
    "start_time": "2021-10-06T17:13:37.233Z"
   },
   {
    "duration": 24,
    "start_time": "2021-10-06T17:13:56.109Z"
   },
   {
    "duration": 24,
    "start_time": "2021-10-06T17:14:02.269Z"
   },
   {
    "duration": 22,
    "start_time": "2021-10-06T17:14:31.604Z"
   },
   {
    "duration": 228,
    "start_time": "2021-10-06T17:14:53.236Z"
   },
   {
    "duration": 40,
    "start_time": "2021-10-06T17:14:56.696Z"
   },
   {
    "duration": 43,
    "start_time": "2021-10-06T17:15:08.746Z"
   },
   {
    "duration": 46,
    "start_time": "2021-10-06T17:16:12.640Z"
   },
   {
    "duration": 23,
    "start_time": "2021-10-06T17:16:19.440Z"
   },
   {
    "duration": 25,
    "start_time": "2021-10-06T17:16:27.103Z"
   },
   {
    "duration": 1435,
    "start_time": "2021-10-06T17:17:30.644Z"
   },
   {
    "duration": 1251,
    "start_time": "2021-10-06T17:17:41.092Z"
   },
   {
    "duration": 1253,
    "start_time": "2021-10-06T17:18:02.790Z"
   },
   {
    "duration": 195,
    "start_time": "2021-10-06T17:18:24.860Z"
   },
   {
    "duration": 187,
    "start_time": "2021-10-06T17:19:25.328Z"
   },
   {
    "duration": 8012,
    "start_time": "2021-10-06T17:22:55.272Z"
   },
   {
    "duration": 547,
    "start_time": "2021-10-06T17:23:32.771Z"
   },
   {
    "duration": 410,
    "start_time": "2021-10-06T17:24:24.900Z"
   },
   {
    "duration": 550,
    "start_time": "2021-10-06T17:24:42.441Z"
   },
   {
    "duration": 599,
    "start_time": "2021-10-06T17:25:01.912Z"
   },
   {
    "duration": 239,
    "start_time": "2021-10-06T17:25:06.228Z"
   },
   {
    "duration": 433,
    "start_time": "2021-10-06T17:26:28.568Z"
   },
   {
    "duration": 538,
    "start_time": "2021-10-06T17:27:13.208Z"
   },
   {
    "duration": 534,
    "start_time": "2021-10-06T17:27:28.814Z"
   },
   {
    "duration": 221,
    "start_time": "2021-10-06T17:28:08.209Z"
   },
   {
    "duration": 207,
    "start_time": "2021-10-06T17:28:29.441Z"
   },
   {
    "duration": 714,
    "start_time": "2021-10-06T17:28:46.632Z"
   },
   {
    "duration": 191,
    "start_time": "2021-10-06T17:29:50.152Z"
   },
   {
    "duration": 198,
    "start_time": "2021-10-06T17:29:56.638Z"
   },
   {
    "duration": 195,
    "start_time": "2021-10-06T17:30:15.775Z"
   },
   {
    "duration": 201,
    "start_time": "2021-10-06T17:59:27.926Z"
   },
   {
    "duration": 28,
    "start_time": "2021-10-06T18:00:02.164Z"
   },
   {
    "duration": 192,
    "start_time": "2021-10-06T18:00:26.771Z"
   },
   {
    "duration": 198,
    "start_time": "2021-10-06T18:02:48.723Z"
   },
   {
    "duration": 209,
    "start_time": "2021-10-06T18:02:58.674Z"
   },
   {
    "duration": 195,
    "start_time": "2021-10-06T18:03:07.666Z"
   },
   {
    "duration": 39,
    "start_time": "2021-10-06T18:05:59.515Z"
   },
   {
    "duration": 302,
    "start_time": "2021-10-06T18:08:36.512Z"
   },
   {
    "duration": 239,
    "start_time": "2021-10-07T08:30:42.371Z"
   },
   {
    "duration": 739,
    "start_time": "2021-10-07T08:30:55.617Z"
   },
   {
    "duration": 12,
    "start_time": "2021-10-07T08:30:56.359Z"
   },
   {
    "duration": 12,
    "start_time": "2021-10-07T08:30:56.373Z"
   },
   {
    "duration": 4,
    "start_time": "2021-10-07T08:30:56.387Z"
   },
   {
    "duration": 17,
    "start_time": "2021-10-07T08:30:56.393Z"
   },
   {
    "duration": 42,
    "start_time": "2021-10-07T08:30:56.412Z"
   },
   {
    "duration": 12,
    "start_time": "2021-10-07T08:30:56.456Z"
   },
   {
    "duration": 15,
    "start_time": "2021-10-07T08:30:56.470Z"
   },
   {
    "duration": 8,
    "start_time": "2021-10-07T08:30:56.487Z"
   },
   {
    "duration": 6,
    "start_time": "2021-10-07T08:30:56.496Z"
   },
   {
    "duration": 4,
    "start_time": "2021-10-07T08:30:56.503Z"
   },
   {
    "duration": 13,
    "start_time": "2021-10-07T08:30:56.509Z"
   },
   {
    "duration": 16,
    "start_time": "2021-10-07T08:30:56.550Z"
   },
   {
    "duration": 14,
    "start_time": "2021-10-07T08:30:56.568Z"
   },
   {
    "duration": 14,
    "start_time": "2021-10-07T08:30:56.584Z"
   },
   {
    "duration": 13,
    "start_time": "2021-10-07T08:30:56.599Z"
   },
   {
    "duration": 41,
    "start_time": "2021-10-07T08:30:56.613Z"
   },
   {
    "duration": 6,
    "start_time": "2021-10-07T08:30:56.656Z"
   },
   {
    "duration": 11,
    "start_time": "2021-10-07T08:30:56.664Z"
   },
   {
    "duration": 4,
    "start_time": "2021-10-07T08:30:56.677Z"
   },
   {
    "duration": 484,
    "start_time": "2021-10-07T08:30:56.683Z"
   },
   {
    "duration": 1432,
    "start_time": "2021-10-07T08:30:57.169Z"
   },
   {
    "duration": 462,
    "start_time": "2021-10-07T08:30:58.604Z"
   },
   {
    "duration": 883,
    "start_time": "2021-10-07T08:30:59.068Z"
   },
   {
    "duration": 16,
    "start_time": "2021-10-07T08:30:59.953Z"
   },
   {
    "duration": 528,
    "start_time": "2021-10-07T08:30:59.971Z"
   },
   {
    "duration": 8,
    "start_time": "2021-10-07T08:31:00.502Z"
   },
   {
    "duration": 308,
    "start_time": "2021-10-07T08:31:00.512Z"
   },
   {
    "duration": 202,
    "start_time": "2021-10-07T08:31:00.822Z"
   },
   {
    "duration": 7,
    "start_time": "2021-10-07T08:31:01.026Z"
   },
   {
    "duration": 140,
    "start_time": "2021-10-07T08:31:01.034Z"
   },
   {
    "duration": 20,
    "start_time": "2021-10-07T08:31:37.863Z"
   },
   {
    "duration": 311,
    "start_time": "2021-10-07T08:32:18.161Z"
   },
   {
    "duration": 7,
    "start_time": "2021-10-07T08:33:52.273Z"
   },
   {
    "duration": 19,
    "start_time": "2021-10-07T08:33:53.769Z"
   },
   {
    "duration": 11,
    "start_time": "2021-10-07T08:33:54.624Z"
   },
   {
    "duration": 151,
    "start_time": "2021-10-07T08:36:08.137Z"
   },
   {
    "duration": 146,
    "start_time": "2021-10-07T08:36:16.881Z"
   },
   {
    "duration": 149,
    "start_time": "2021-10-07T08:36:27.545Z"
   },
   {
    "duration": 155,
    "start_time": "2021-10-07T08:36:50.738Z"
   },
   {
    "duration": 214,
    "start_time": "2021-10-07T08:41:16.476Z"
   },
   {
    "duration": 507,
    "start_time": "2021-10-07T08:43:07.190Z"
   },
   {
    "duration": 5947,
    "start_time": "2021-10-07T08:43:43.662Z"
   },
   {
    "duration": 4899,
    "start_time": "2021-10-07T08:43:53.800Z"
   },
   {
    "duration": 350,
    "start_time": "2021-10-07T08:44:03.799Z"
   },
   {
    "duration": 327,
    "start_time": "2021-10-07T08:44:05.910Z"
   },
   {
    "duration": 343,
    "start_time": "2021-10-07T08:44:22.535Z"
   },
   {
    "duration": 428,
    "start_time": "2021-10-07T08:44:41.534Z"
   },
   {
    "duration": 5831,
    "start_time": "2021-10-07T08:44:58.382Z"
   },
   {
    "duration": 6222,
    "start_time": "2021-10-07T08:45:08.871Z"
   },
   {
    "duration": 362,
    "start_time": "2021-10-07T08:45:39.896Z"
   },
   {
    "duration": 427,
    "start_time": "2021-10-07T08:45:45.192Z"
   },
   {
    "duration": 404,
    "start_time": "2021-10-07T08:45:47.772Z"
   },
   {
    "duration": 469,
    "start_time": "2021-10-07T08:46:06.776Z"
   },
   {
    "duration": 569,
    "start_time": "2021-10-07T08:46:44.488Z"
   },
   {
    "duration": 550,
    "start_time": "2021-10-07T08:46:51.536Z"
   },
   {
    "duration": 509,
    "start_time": "2021-10-07T08:47:01.105Z"
   },
   {
    "duration": 640,
    "start_time": "2021-10-07T08:50:43.426Z"
   },
   {
    "duration": 827,
    "start_time": "2021-10-07T08:52:35.720Z"
   },
   {
    "duration": 691,
    "start_time": "2021-10-07T08:52:53.413Z"
   },
   {
    "duration": 716,
    "start_time": "2021-10-07T08:54:10.196Z"
   },
   {
    "duration": 810,
    "start_time": "2021-10-07T08:55:06.620Z"
   },
   {
    "duration": 758,
    "start_time": "2021-10-07T08:55:12.516Z"
   },
   {
    "duration": 711,
    "start_time": "2021-10-07T08:55:16.460Z"
   },
   {
    "duration": 841,
    "start_time": "2021-10-07T08:55:38.693Z"
   },
   {
    "duration": 732,
    "start_time": "2021-10-07T08:56:10.127Z"
   },
   {
    "duration": 423,
    "start_time": "2021-10-07T08:56:41.086Z"
   },
   {
    "duration": 722,
    "start_time": "2021-10-07T08:56:45.750Z"
   },
   {
    "duration": 866,
    "start_time": "2021-10-07T08:56:49.566Z"
   },
   {
    "duration": 5311,
    "start_time": "2021-10-07T08:57:02.413Z"
   },
   {
    "duration": 756,
    "start_time": "2021-10-07T08:57:16.327Z"
   },
   {
    "duration": 268,
    "start_time": "2021-10-07T08:57:37.960Z"
   },
   {
    "duration": 902,
    "start_time": "2021-10-07T08:57:52.664Z"
   },
   {
    "duration": 774,
    "start_time": "2021-10-07T08:58:23.678Z"
   },
   {
    "duration": 887,
    "start_time": "2021-10-07T08:58:37.262Z"
   },
   {
    "duration": 35,
    "start_time": "2021-10-07T09:00:22.103Z"
   },
   {
    "duration": 36,
    "start_time": "2021-10-07T09:00:31.702Z"
   },
   {
    "duration": 36,
    "start_time": "2021-10-07T09:00:36.880Z"
   },
   {
    "duration": 36,
    "start_time": "2021-10-07T09:00:42.901Z"
   },
   {
    "duration": 996,
    "start_time": "2021-10-07T09:01:12.431Z"
   },
   {
    "duration": 755,
    "start_time": "2021-10-07T09:01:17.136Z"
   },
   {
    "duration": 774,
    "start_time": "2021-10-07T09:01:20.279Z"
   },
   {
    "duration": 444,
    "start_time": "2021-10-07T09:03:00.477Z"
   },
   {
    "duration": 320,
    "start_time": "2021-10-07T09:03:34.056Z"
   },
   {
    "duration": 5518,
    "start_time": "2021-10-07T09:05:01.537Z"
   },
   {
    "duration": 22,
    "start_time": "2021-10-07T09:05:27.826Z"
   },
   {
    "duration": 26,
    "start_time": "2021-10-07T09:05:35.279Z"
   },
   {
    "duration": 20,
    "start_time": "2021-10-07T09:05:58.282Z"
   },
   {
    "duration": 42,
    "start_time": "2021-10-07T09:06:06.746Z"
   },
   {
    "duration": 19,
    "start_time": "2021-10-07T09:06:14.395Z"
   },
   {
    "duration": 26,
    "start_time": "2021-10-07T09:06:20.321Z"
   },
   {
    "duration": 280,
    "start_time": "2021-10-07T09:06:26.531Z"
   },
   {
    "duration": 303,
    "start_time": "2021-10-07T09:06:42.634Z"
   },
   {
    "duration": 8,
    "start_time": "2021-10-07T09:06:59.114Z"
   },
   {
    "duration": 36,
    "start_time": "2021-10-07T09:07:04.540Z"
   },
   {
    "duration": 487,
    "start_time": "2021-10-07T09:09:04.724Z"
   },
   {
    "duration": 2681,
    "start_time": "2021-10-07T09:09:15.887Z"
   },
   {
    "duration": 157,
    "start_time": "2021-10-07T09:09:34.595Z"
   },
   {
    "duration": 749,
    "start_time": "2021-10-07T09:09:50.315Z"
   },
   {
    "duration": 290,
    "start_time": "2021-10-07T09:10:05.820Z"
   },
   {
    "duration": 162,
    "start_time": "2021-10-07T09:10:13.746Z"
   },
   {
    "duration": 289,
    "start_time": "2021-10-07T09:10:28.660Z"
   },
   {
    "duration": 313,
    "start_time": "2021-10-07T09:10:41.852Z"
   },
   {
    "duration": 327,
    "start_time": "2021-10-07T09:10:56.668Z"
   },
   {
    "duration": 456,
    "start_time": "2021-10-07T09:11:19.996Z"
   },
   {
    "duration": 314,
    "start_time": "2021-10-07T09:16:16.751Z"
   },
   {
    "duration": 445,
    "start_time": "2021-10-07T09:16:37.543Z"
   },
   {
    "duration": 333,
    "start_time": "2021-10-07T09:16:47.152Z"
   },
   {
    "duration": 621,
    "start_time": "2021-10-07T09:17:11.152Z"
   },
   {
    "duration": 903,
    "start_time": "2021-10-07T09:17:21.504Z"
   },
   {
    "duration": 1081,
    "start_time": "2021-10-07T09:17:39.752Z"
   },
   {
    "duration": 91,
    "start_time": "2021-10-07T09:19:14.610Z"
   },
   {
    "duration": 889,
    "start_time": "2021-10-07T09:19:17.857Z"
   },
   {
    "duration": 1097,
    "start_time": "2021-10-07T09:19:38.032Z"
   },
   {
    "duration": 891,
    "start_time": "2021-10-07T09:19:52.873Z"
   },
   {
    "duration": 1113,
    "start_time": "2021-10-07T09:19:59.145Z"
   },
   {
    "duration": 878,
    "start_time": "2021-10-07T09:20:09.009Z"
   },
   {
    "duration": 1104,
    "start_time": "2021-10-07T09:20:15.721Z"
   },
   {
    "duration": 866,
    "start_time": "2021-10-07T09:20:53.850Z"
   },
   {
    "duration": 1087,
    "start_time": "2021-10-07T09:21:02.538Z"
   },
   {
    "duration": 1091,
    "start_time": "2021-10-07T09:21:29.818Z"
   },
   {
    "duration": 1221,
    "start_time": "2021-10-07T09:22:20.242Z"
   },
   {
    "duration": 1412,
    "start_time": "2021-10-07T09:22:25.139Z"
   },
   {
    "duration": 1371,
    "start_time": "2021-10-07T09:22:33.578Z"
   },
   {
    "duration": 1193,
    "start_time": "2021-10-07T09:22:39.299Z"
   },
   {
    "duration": 1385,
    "start_time": "2021-10-07T09:22:47.042Z"
   },
   {
    "duration": 1391,
    "start_time": "2021-10-07T09:23:02.667Z"
   },
   {
    "duration": 1465,
    "start_time": "2021-10-07T09:23:11.868Z"
   },
   {
    "duration": 1603,
    "start_time": "2021-10-07T09:24:57.882Z"
   },
   {
    "duration": 232,
    "start_time": "2021-10-07T10:10:17.941Z"
   },
   {
    "duration": 197,
    "start_time": "2021-10-07T10:10:22.438Z"
   },
   {
    "duration": 12,
    "start_time": "2021-10-07T10:10:35.941Z"
   },
   {
    "duration": 6709,
    "start_time": "2021-10-07T10:10:49.870Z"
   },
   {
    "duration": 7272,
    "start_time": "2021-10-07T10:11:01.160Z"
   },
   {
    "duration": 49,
    "start_time": "2021-10-07T10:11:23.439Z"
   },
   {
    "duration": 1760,
    "start_time": "2021-10-07T10:11:33.603Z"
   },
   {
    "duration": 1866,
    "start_time": "2021-10-07T10:11:46.334Z"
   },
   {
    "duration": 1906,
    "start_time": "2021-10-07T10:12:05.007Z"
   },
   {
    "duration": 1459,
    "start_time": "2021-10-07T10:12:45.062Z"
   },
   {
    "duration": 10,
    "start_time": "2021-10-07T10:12:46.523Z"
   },
   {
    "duration": 9,
    "start_time": "2021-10-07T10:12:46.537Z"
   },
   {
    "duration": 4,
    "start_time": "2021-10-07T10:12:46.548Z"
   },
   {
    "duration": 20,
    "start_time": "2021-10-07T10:12:46.554Z"
   },
   {
    "duration": 9,
    "start_time": "2021-10-07T10:12:46.576Z"
   },
   {
    "duration": 9,
    "start_time": "2021-10-07T10:12:46.587Z"
   },
   {
    "duration": 15,
    "start_time": "2021-10-07T10:12:46.598Z"
   },
   {
    "duration": 39,
    "start_time": "2021-10-07T10:12:46.615Z"
   },
   {
    "duration": 9,
    "start_time": "2021-10-07T10:12:46.656Z"
   },
   {
    "duration": 7,
    "start_time": "2021-10-07T10:12:46.667Z"
   },
   {
    "duration": 13,
    "start_time": "2021-10-07T10:12:46.676Z"
   },
   {
    "duration": 20,
    "start_time": "2021-10-07T10:12:46.691Z"
   },
   {
    "duration": 43,
    "start_time": "2021-10-07T10:12:46.712Z"
   },
   {
    "duration": 24,
    "start_time": "2021-10-07T10:12:46.758Z"
   },
   {
    "duration": 15,
    "start_time": "2021-10-07T10:12:46.784Z"
   },
   {
    "duration": 21,
    "start_time": "2021-10-07T10:12:46.801Z"
   },
   {
    "duration": 43,
    "start_time": "2021-10-07T10:12:46.823Z"
   },
   {
    "duration": 10,
    "start_time": "2021-10-07T10:12:46.869Z"
   },
   {
    "duration": 12,
    "start_time": "2021-10-07T10:12:46.882Z"
   },
   {
    "duration": 4,
    "start_time": "2021-10-07T10:12:46.895Z"
   },
   {
    "duration": 558,
    "start_time": "2021-10-07T10:12:46.901Z"
   },
   {
    "duration": 1485,
    "start_time": "2021-10-07T10:12:47.461Z"
   },
   {
    "duration": 531,
    "start_time": "2021-10-07T10:12:48.950Z"
   },
   {
    "duration": 1000,
    "start_time": "2021-10-07T10:12:49.483Z"
   },
   {
    "duration": 172,
    "start_time": "2021-10-07T10:12:50.486Z"
   },
   {
    "duration": 906,
    "start_time": "2021-10-07T10:12:50.661Z"
   },
   {
    "duration": 15,
    "start_time": "2021-10-07T10:12:51.569Z"
   },
   {
    "duration": 342,
    "start_time": "2021-10-07T10:12:51.587Z"
   },
   {
    "duration": 360,
    "start_time": "2021-10-07T10:12:51.931Z"
   },
   {
    "duration": 36,
    "start_time": "2021-10-07T10:12:52.292Z"
   },
   {
    "duration": 1506,
    "start_time": "2021-10-07T10:12:52.330Z"
   },
   {
    "duration": 1893,
    "start_time": "2021-10-07T10:15:09.741Z"
   },
   {
    "duration": 1573,
    "start_time": "2021-10-07T10:15:26.580Z"
   },
   {
    "duration": 1913,
    "start_time": "2021-10-07T10:15:57.669Z"
   },
   {
    "duration": 1670,
    "start_time": "2021-10-07T10:16:21.857Z"
   },
   {
    "duration": 1645,
    "start_time": "2021-10-07T10:16:35.437Z"
   },
   {
    "duration": 1475,
    "start_time": "2021-10-07T10:17:02.574Z"
   },
   {
    "duration": 1712,
    "start_time": "2021-10-07T10:17:06.453Z"
   },
   {
    "duration": 1631,
    "start_time": "2021-10-07T10:17:23.337Z"
   },
   {
    "duration": 1649,
    "start_time": "2021-10-07T10:17:33.566Z"
   },
   {
    "duration": 1487,
    "start_time": "2021-10-07T10:17:44.350Z"
   },
   {
    "duration": 1658,
    "start_time": "2021-10-07T10:19:13.631Z"
   },
   {
    "duration": 892,
    "start_time": "2021-10-07T10:32:55.823Z"
   },
   {
    "duration": 2647,
    "start_time": "2021-10-07T10:33:26.431Z"
   },
   {
    "duration": 1452,
    "start_time": "2021-10-07T10:33:45.863Z"
   },
   {
    "duration": 1351,
    "start_time": "2021-10-07T10:34:23.687Z"
   },
   {
    "duration": 1427,
    "start_time": "2021-10-07T10:38:40.233Z"
   },
   {
    "duration": 1429,
    "start_time": "2021-10-07T10:39:28.258Z"
   },
   {
    "duration": 8,
    "start_time": "2021-10-07T10:46:07.542Z"
   },
   {
    "duration": 780,
    "start_time": "2021-10-07T10:47:51.387Z"
   },
   {
    "duration": 144,
    "start_time": "2021-10-07T10:47:57.519Z"
   },
   {
    "duration": 13,
    "start_time": "2021-10-07T11:08:17.154Z"
   },
   {
    "duration": 14,
    "start_time": "2021-10-07T11:08:36.304Z"
   },
   {
    "duration": 168,
    "start_time": "2021-10-07T11:09:28.131Z"
   },
   {
    "duration": 182,
    "start_time": "2021-10-07T11:10:35.147Z"
   },
   {
    "duration": 231,
    "start_time": "2021-10-07T11:11:20.627Z"
   },
   {
    "duration": 210,
    "start_time": "2021-10-07T11:12:51.589Z"
   },
   {
    "duration": 228,
    "start_time": "2021-10-07T11:13:06.125Z"
   },
   {
    "duration": 222,
    "start_time": "2021-10-07T11:13:33.246Z"
   },
   {
    "duration": 552,
    "start_time": "2021-10-07T11:14:32.806Z"
   },
   {
    "duration": 213,
    "start_time": "2021-10-07T11:19:19.662Z"
   },
   {
    "duration": 41,
    "start_time": "2021-10-07T11:19:25.257Z"
   },
   {
    "duration": 713,
    "start_time": "2021-10-07T11:19:31.605Z"
   },
   {
    "duration": 11,
    "start_time": "2021-10-07T11:19:32.320Z"
   },
   {
    "duration": 11,
    "start_time": "2021-10-07T11:19:32.333Z"
   },
   {
    "duration": 5,
    "start_time": "2021-10-07T11:19:32.349Z"
   },
   {
    "duration": 23,
    "start_time": "2021-10-07T11:19:32.357Z"
   },
   {
    "duration": 8,
    "start_time": "2021-10-07T11:19:32.382Z"
   },
   {
    "duration": 22,
    "start_time": "2021-10-07T11:19:32.392Z"
   },
   {
    "duration": 34,
    "start_time": "2021-10-07T11:19:32.417Z"
   },
   {
    "duration": 10,
    "start_time": "2021-10-07T11:19:32.454Z"
   },
   {
    "duration": 7,
    "start_time": "2021-10-07T11:19:32.466Z"
   },
   {
    "duration": 5,
    "start_time": "2021-10-07T11:19:32.475Z"
   },
   {
    "duration": 12,
    "start_time": "2021-10-07T11:19:32.482Z"
   },
   {
    "duration": 17,
    "start_time": "2021-10-07T11:19:32.495Z"
   },
   {
    "duration": 52,
    "start_time": "2021-10-07T11:19:32.513Z"
   },
   {
    "duration": 15,
    "start_time": "2021-10-07T11:19:32.567Z"
   },
   {
    "duration": 13,
    "start_time": "2021-10-07T11:19:32.584Z"
   },
   {
    "duration": 22,
    "start_time": "2021-10-07T11:19:32.599Z"
   },
   {
    "duration": 44,
    "start_time": "2021-10-07T11:19:32.623Z"
   },
   {
    "duration": 7,
    "start_time": "2021-10-07T11:19:32.669Z"
   },
   {
    "duration": 35,
    "start_time": "2021-10-07T11:19:32.678Z"
   },
   {
    "duration": 4,
    "start_time": "2021-10-07T11:19:32.715Z"
   },
   {
    "duration": 496,
    "start_time": "2021-10-07T11:19:32.721Z"
   },
   {
    "duration": 1457,
    "start_time": "2021-10-07T11:19:33.221Z"
   },
   {
    "duration": 521,
    "start_time": "2021-10-07T11:19:34.680Z"
   },
   {
    "duration": 978,
    "start_time": "2021-10-07T11:19:35.203Z"
   },
   {
    "duration": 202,
    "start_time": "2021-10-07T11:19:36.183Z"
   },
   {
    "duration": 876,
    "start_time": "2021-10-07T11:19:36.392Z"
   },
   {
    "duration": 8,
    "start_time": "2021-10-07T11:19:37.270Z"
   },
   {
    "duration": 324,
    "start_time": "2021-10-07T11:19:37.280Z"
   },
   {
    "duration": 343,
    "start_time": "2021-10-07T11:19:37.606Z"
   },
   {
    "duration": 39,
    "start_time": "2021-10-07T11:19:37.951Z"
   },
   {
    "duration": 1568,
    "start_time": "2021-10-07T11:19:37.992Z"
   },
   {
    "duration": 523,
    "start_time": "2021-10-07T11:19:39.563Z"
   },
   {
    "duration": 5450,
    "start_time": "2021-10-07T11:31:48.058Z"
   },
   {
    "duration": 6969,
    "start_time": "2021-10-07T11:33:01.522Z"
   },
   {
    "duration": 36,
    "start_time": "2021-10-07T11:33:27.643Z"
   },
   {
    "duration": 1409,
    "start_time": "2021-10-07T11:33:29.498Z"
   },
   {
    "duration": 736,
    "start_time": "2021-10-07T11:33:39.255Z"
   },
   {
    "duration": 13,
    "start_time": "2021-10-07T11:33:39.993Z"
   },
   {
    "duration": 12,
    "start_time": "2021-10-07T11:33:40.012Z"
   },
   {
    "duration": 23,
    "start_time": "2021-10-07T11:33:40.027Z"
   },
   {
    "duration": 20,
    "start_time": "2021-10-07T11:33:40.052Z"
   },
   {
    "duration": 8,
    "start_time": "2021-10-07T11:33:40.074Z"
   },
   {
    "duration": 10,
    "start_time": "2021-10-07T11:33:40.085Z"
   },
   {
    "duration": 19,
    "start_time": "2021-10-07T11:33:40.098Z"
   },
   {
    "duration": 11,
    "start_time": "2021-10-07T11:33:40.148Z"
   },
   {
    "duration": 7,
    "start_time": "2021-10-07T11:33:40.162Z"
   },
   {
    "duration": 6,
    "start_time": "2021-10-07T11:33:40.171Z"
   },
   {
    "duration": 13,
    "start_time": "2021-10-07T11:33:40.179Z"
   },
   {
    "duration": 56,
    "start_time": "2021-10-07T11:33:40.194Z"
   },
   {
    "duration": 16,
    "start_time": "2021-10-07T11:33:40.253Z"
   },
   {
    "duration": 15,
    "start_time": "2021-10-07T11:33:40.271Z"
   },
   {
    "duration": 18,
    "start_time": "2021-10-07T11:33:40.288Z"
   },
   {
    "duration": 60,
    "start_time": "2021-10-07T11:33:40.308Z"
   },
   {
    "duration": 13,
    "start_time": "2021-10-07T11:33:40.369Z"
   },
   {
    "duration": 6,
    "start_time": "2021-10-07T11:33:40.384Z"
   },
   {
    "duration": 12,
    "start_time": "2021-10-07T11:33:40.392Z"
   },
   {
    "duration": 4,
    "start_time": "2021-10-07T11:33:40.406Z"
   },
   {
    "duration": 511,
    "start_time": "2021-10-07T11:33:40.413Z"
   },
   {
    "duration": 1380,
    "start_time": "2021-10-07T11:33:40.926Z"
   },
   {
    "duration": 488,
    "start_time": "2021-10-07T11:33:42.308Z"
   },
   {
    "duration": 951,
    "start_time": "2021-10-07T11:33:42.798Z"
   },
   {
    "duration": 152,
    "start_time": "2021-10-07T11:33:43.751Z"
   },
   {
    "duration": 793,
    "start_time": "2021-10-07T11:33:43.905Z"
   },
   {
    "duration": 8,
    "start_time": "2021-10-07T11:33:44.699Z"
   },
   {
    "duration": 294,
    "start_time": "2021-10-07T11:33:44.708Z"
   },
   {
    "duration": 327,
    "start_time": "2021-10-07T11:33:45.004Z"
   },
   {
    "duration": 47,
    "start_time": "2021-10-07T11:33:45.333Z"
   },
   {
    "duration": 1556,
    "start_time": "2021-10-07T11:33:45.382Z"
   },
   {
    "duration": 5784,
    "start_time": "2021-10-07T11:33:46.940Z"
   },
   {
    "duration": 489,
    "start_time": "2021-10-07T11:33:59.786Z"
   },
   {
    "duration": 10,
    "start_time": "2021-10-07T11:34:09.694Z"
   },
   {
    "duration": 15,
    "start_time": "2021-10-07T11:34:14.966Z"
   },
   {
    "duration": 179,
    "start_time": "2021-10-07T11:34:23.564Z"
   },
   {
    "duration": 308,
    "start_time": "2021-10-07T11:34:41.309Z"
   },
   {
    "duration": 193,
    "start_time": "2021-10-07T11:35:30.055Z"
   },
   {
    "duration": 225,
    "start_time": "2021-10-07T11:36:05.455Z"
   },
   {
    "duration": 212,
    "start_time": "2021-10-07T11:36:30.040Z"
   },
   {
    "duration": 206,
    "start_time": "2021-10-07T11:36:53.524Z"
   },
   {
    "duration": 210,
    "start_time": "2021-10-07T11:37:51.241Z"
   },
   {
    "duration": 9,
    "start_time": "2021-10-07T11:38:48.337Z"
   },
   {
    "duration": 16,
    "start_time": "2021-10-07T11:38:52.290Z"
   },
   {
    "duration": 222,
    "start_time": "2021-10-07T11:39:17.193Z"
   },
   {
    "duration": 14,
    "start_time": "2021-10-07T11:39:20.787Z"
   },
   {
    "duration": 10,
    "start_time": "2021-10-07T11:39:28.162Z"
   },
   {
    "duration": 211,
    "start_time": "2021-10-07T11:40:00.433Z"
   },
   {
    "duration": 187,
    "start_time": "2021-10-07T11:40:36.153Z"
   },
   {
    "duration": 180,
    "start_time": "2021-10-07T11:40:53.666Z"
   },
   {
    "duration": 7907,
    "start_time": "2021-10-07T11:41:04.569Z"
   },
   {
    "duration": 200,
    "start_time": "2021-10-07T11:41:15.570Z"
   },
   {
    "duration": 8215,
    "start_time": "2021-10-07T11:41:47.018Z"
   },
   {
    "duration": 234,
    "start_time": "2021-10-07T11:42:12.251Z"
   },
   {
    "duration": 329,
    "start_time": "2021-10-07T11:42:24.659Z"
   },
   {
    "duration": 447,
    "start_time": "2021-10-07T11:43:44.715Z"
   },
   {
    "duration": 458,
    "start_time": "2021-10-07T11:43:52.779Z"
   },
   {
    "duration": 293,
    "start_time": "2021-10-07T11:44:10.891Z"
   },
   {
    "duration": 147,
    "start_time": "2021-10-07T11:44:46.507Z"
   },
   {
    "duration": 205,
    "start_time": "2021-10-07T11:45:48.069Z"
   },
   {
    "duration": 192,
    "start_time": "2021-10-07T11:46:15.645Z"
   },
   {
    "duration": 197,
    "start_time": "2021-10-07T11:46:30.469Z"
   },
   {
    "duration": 207,
    "start_time": "2021-10-07T12:13:39.998Z"
   },
   {
    "duration": 66,
    "start_time": "2021-10-07T12:14:26.740Z"
   },
   {
    "duration": 4,
    "start_time": "2021-10-07T12:14:42.077Z"
   },
   {
    "duration": 5,
    "start_time": "2021-10-07T12:14:55.551Z"
   },
   {
    "duration": 5,
    "start_time": "2021-10-07T12:15:23.765Z"
   },
   {
    "duration": 192,
    "start_time": "2021-10-07T12:59:54.311Z"
   },
   {
    "duration": 7733,
    "start_time": "2021-10-07T13:00:07.951Z"
   },
   {
    "duration": 196,
    "start_time": "2021-10-07T13:01:37.065Z"
   },
   {
    "duration": 301,
    "start_time": "2021-10-07T13:01:49.960Z"
   },
   {
    "duration": 235,
    "start_time": "2021-10-07T13:02:13.764Z"
   },
   {
    "duration": 186,
    "start_time": "2021-10-07T13:02:41.632Z"
   },
   {
    "duration": 3,
    "start_time": "2021-10-07T13:03:37.385Z"
   },
   {
    "duration": 5,
    "start_time": "2021-10-07T13:03:40.228Z"
   },
   {
    "duration": 6,
    "start_time": "2021-10-07T13:03:46.605Z"
   },
   {
    "duration": 15,
    "start_time": "2021-10-07T13:04:42.706Z"
   },
   {
    "duration": 18,
    "start_time": "2021-10-07T13:04:52.480Z"
   },
   {
    "duration": 20,
    "start_time": "2021-10-07T13:05:44.235Z"
   },
   {
    "duration": 20,
    "start_time": "2021-10-07T13:19:50.236Z"
   },
   {
    "duration": 692,
    "start_time": "2021-10-07T13:19:57.402Z"
   },
   {
    "duration": 11,
    "start_time": "2021-10-07T13:19:58.096Z"
   },
   {
    "duration": 12,
    "start_time": "2021-10-07T13:19:58.111Z"
   },
   {
    "duration": 26,
    "start_time": "2021-10-07T13:19:58.125Z"
   },
   {
    "duration": 22,
    "start_time": "2021-10-07T13:19:58.153Z"
   },
   {
    "duration": 8,
    "start_time": "2021-10-07T13:19:58.177Z"
   },
   {
    "duration": 13,
    "start_time": "2021-10-07T13:19:58.189Z"
   },
   {
    "duration": 52,
    "start_time": "2021-10-07T13:19:58.205Z"
   },
   {
    "duration": 8,
    "start_time": "2021-10-07T13:19:58.259Z"
   },
   {
    "duration": 6,
    "start_time": "2021-10-07T13:19:58.269Z"
   },
   {
    "duration": 5,
    "start_time": "2021-10-07T13:19:58.276Z"
   },
   {
    "duration": 11,
    "start_time": "2021-10-07T13:19:58.282Z"
   },
   {
    "duration": 17,
    "start_time": "2021-10-07T13:19:58.295Z"
   },
   {
    "duration": 46,
    "start_time": "2021-10-07T13:19:58.314Z"
   },
   {
    "duration": 14,
    "start_time": "2021-10-07T13:19:58.362Z"
   },
   {
    "duration": 17,
    "start_time": "2021-10-07T13:19:58.378Z"
   },
   {
    "duration": 26,
    "start_time": "2021-10-07T13:19:58.397Z"
   },
   {
    "duration": 37,
    "start_time": "2021-10-07T13:19:58.425Z"
   },
   {
    "duration": 11,
    "start_time": "2021-10-07T13:19:58.464Z"
   },
   {
    "duration": 22,
    "start_time": "2021-10-07T13:19:58.477Z"
   },
   {
    "duration": 6,
    "start_time": "2021-10-07T13:19:58.501Z"
   },
   {
    "duration": 479,
    "start_time": "2021-10-07T13:19:58.511Z"
   },
   {
    "duration": 1363,
    "start_time": "2021-10-07T13:19:58.992Z"
   },
   {
    "duration": 498,
    "start_time": "2021-10-07T13:20:00.357Z"
   },
   {
    "duration": 955,
    "start_time": "2021-10-07T13:20:00.857Z"
   },
   {
    "duration": 170,
    "start_time": "2021-10-07T13:20:01.814Z"
   },
   {
    "duration": 826,
    "start_time": "2021-10-07T13:20:01.986Z"
   },
   {
    "duration": 9,
    "start_time": "2021-10-07T13:20:02.814Z"
   },
   {
    "duration": 311,
    "start_time": "2021-10-07T13:20:02.825Z"
   },
   {
    "duration": 332,
    "start_time": "2021-10-07T13:20:03.138Z"
   },
   {
    "duration": 38,
    "start_time": "2021-10-07T13:20:03.473Z"
   },
   {
    "duration": 1492,
    "start_time": "2021-10-07T13:20:03.513Z"
   },
   {
    "duration": 508,
    "start_time": "2021-10-07T13:20:05.007Z"
   },
   {
    "duration": 259,
    "start_time": "2021-10-07T13:20:05.517Z"
   },
   {
    "duration": 21,
    "start_time": "2021-10-07T13:20:05.778Z"
   },
   {
    "duration": 331,
    "start_time": "2021-10-07T13:22:15.658Z"
   },
   {
    "duration": 334,
    "start_time": "2021-10-07T13:22:23.361Z"
   },
   {
    "duration": 202,
    "start_time": "2021-10-07T13:26:58.063Z"
   },
   {
    "duration": 474,
    "start_time": "2021-10-07T13:28:53.806Z"
   },
   {
    "duration": 490,
    "start_time": "2021-10-07T13:29:05.822Z"
   },
   {
    "duration": 197,
    "start_time": "2021-10-07T13:29:28.064Z"
   },
   {
    "duration": 198,
    "start_time": "2021-10-07T13:29:45.463Z"
   },
   {
    "duration": 301,
    "start_time": "2021-10-07T13:30:48.031Z"
   },
   {
    "duration": 172,
    "start_time": "2021-10-07T13:31:15.736Z"
   },
   {
    "duration": 312,
    "start_time": "2021-10-07T13:32:07.085Z"
   },
   {
    "duration": 307,
    "start_time": "2021-10-07T13:32:14.896Z"
   },
   {
    "duration": 307,
    "start_time": "2021-10-07T13:32:29.501Z"
   },
   {
    "duration": 65,
    "start_time": "2021-10-07T13:33:11.085Z"
   },
   {
    "duration": 313,
    "start_time": "2021-10-07T13:33:13.017Z"
   },
   {
    "duration": 36,
    "start_time": "2021-10-07T13:34:06.361Z"
   },
   {
    "duration": 1470,
    "start_time": "2021-10-07T13:34:08.170Z"
   },
   {
    "duration": 470,
    "start_time": "2021-10-07T13:34:09.779Z"
   },
   {
    "duration": 190,
    "start_time": "2021-10-07T13:34:10.251Z"
   },
   {
    "duration": 176,
    "start_time": "2021-10-07T13:34:10.770Z"
   },
   {
    "duration": 275,
    "start_time": "2021-10-07T13:34:57.874Z"
   },
   {
    "duration": 197,
    "start_time": "2021-10-07T13:35:06.943Z"
   },
   {
    "duration": 176,
    "start_time": "2021-10-07T13:35:18.331Z"
   },
   {
    "duration": 177,
    "start_time": "2021-10-07T13:35:27.627Z"
   },
   {
    "duration": 189,
    "start_time": "2021-10-07T13:35:38.819Z"
   },
   {
    "duration": 289,
    "start_time": "2021-10-07T13:36:00.651Z"
   },
   {
    "duration": 179,
    "start_time": "2021-10-07T13:36:13.187Z"
   },
   {
    "duration": 185,
    "start_time": "2021-10-07T13:36:23.963Z"
   },
   {
    "duration": 197,
    "start_time": "2021-10-07T13:37:21.347Z"
   },
   {
    "duration": 345,
    "start_time": "2021-10-07T13:37:53.589Z"
   },
   {
    "duration": 368,
    "start_time": "2021-10-07T13:37:57.300Z"
   },
   {
    "duration": 397,
    "start_time": "2021-10-07T13:38:31.820Z"
   },
   {
    "duration": 206,
    "start_time": "2021-10-07T13:38:41.253Z"
   },
   {
    "duration": 200,
    "start_time": "2021-10-07T13:47:14.225Z"
   },
   {
    "duration": 207,
    "start_time": "2021-10-07T13:47:41.177Z"
   },
   {
    "duration": 315,
    "start_time": "2021-10-07T13:48:16.866Z"
   },
   {
    "duration": 480,
    "start_time": "2021-10-07T13:48:39.698Z"
   },
   {
    "duration": 339,
    "start_time": "2021-10-07T13:48:51.812Z"
   },
   {
    "duration": 185,
    "start_time": "2021-10-07T13:49:32.130Z"
   },
   {
    "duration": 193,
    "start_time": "2021-10-07T13:49:38.482Z"
   },
   {
    "duration": 191,
    "start_time": "2021-10-07T13:49:46.283Z"
   },
   {
    "duration": 206,
    "start_time": "2021-10-07T13:55:16.843Z"
   },
   {
    "duration": 203,
    "start_time": "2021-10-07T13:55:34.637Z"
   },
   {
    "duration": 217,
    "start_time": "2021-10-07T13:56:10.566Z"
   },
   {
    "duration": 5875,
    "start_time": "2021-10-07T13:56:26.486Z"
   },
   {
    "duration": 212,
    "start_time": "2021-10-07T13:56:40.343Z"
   },
   {
    "duration": 205,
    "start_time": "2021-10-07T13:56:51.038Z"
   },
   {
    "duration": 308,
    "start_time": "2021-10-07T13:56:57.670Z"
   },
   {
    "duration": 469,
    "start_time": "2021-10-07T14:03:18.523Z"
   },
   {
    "duration": 306,
    "start_time": "2021-10-07T14:03:29.523Z"
   },
   {
    "duration": 207,
    "start_time": "2021-10-07T14:03:36.819Z"
   },
   {
    "duration": 213,
    "start_time": "2021-10-07T14:04:00.835Z"
   },
   {
    "duration": 251,
    "start_time": "2021-10-07T14:58:31.426Z"
   },
   {
    "duration": 3,
    "start_time": "2021-10-07T15:34:39.234Z"
   },
   {
    "duration": 3,
    "start_time": "2021-10-07T15:36:48.216Z"
   },
   {
    "duration": 216,
    "start_time": "2021-10-07T15:36:49.055Z"
   },
   {
    "duration": 417,
    "start_time": "2021-10-07T15:38:33.728Z"
   },
   {
    "duration": 3,
    "start_time": "2021-10-07T15:52:06.823Z"
   },
   {
    "duration": 224,
    "start_time": "2021-10-07T15:52:12.007Z"
   },
   {
    "duration": 3,
    "start_time": "2021-10-07T15:52:18.727Z"
   },
   {
    "duration": 212,
    "start_time": "2021-10-07T15:52:21.327Z"
   },
   {
    "duration": 4,
    "start_time": "2021-10-07T15:52:39.995Z"
   },
   {
    "duration": 12,
    "start_time": "2021-10-07T15:52:40.823Z"
   },
   {
    "duration": 237,
    "start_time": "2021-10-07T15:53:01.842Z"
   },
   {
    "duration": 239,
    "start_time": "2021-10-07T15:54:38.752Z"
   },
   {
    "duration": 780,
    "start_time": "2021-10-07T15:55:14.270Z"
   },
   {
    "duration": 12,
    "start_time": "2021-10-07T15:55:15.052Z"
   },
   {
    "duration": 23,
    "start_time": "2021-10-07T15:55:15.067Z"
   },
   {
    "duration": 6,
    "start_time": "2021-10-07T15:55:15.092Z"
   },
   {
    "duration": 34,
    "start_time": "2021-10-07T15:55:15.100Z"
   },
   {
    "duration": 17,
    "start_time": "2021-10-07T15:55:15.137Z"
   },
   {
    "duration": 25,
    "start_time": "2021-10-07T15:55:15.157Z"
   },
   {
    "duration": 23,
    "start_time": "2021-10-07T15:55:15.186Z"
   },
   {
    "duration": 13,
    "start_time": "2021-10-07T15:55:15.212Z"
   },
   {
    "duration": 19,
    "start_time": "2021-10-07T15:55:15.227Z"
   },
   {
    "duration": 17,
    "start_time": "2021-10-07T15:55:15.248Z"
   },
   {
    "duration": 26,
    "start_time": "2021-10-07T15:55:15.267Z"
   },
   {
    "duration": 18,
    "start_time": "2021-10-07T15:55:15.295Z"
   },
   {
    "duration": 16,
    "start_time": "2021-10-07T15:55:15.315Z"
   },
   {
    "duration": 29,
    "start_time": "2021-10-07T15:55:15.333Z"
   },
   {
    "duration": 19,
    "start_time": "2021-10-07T15:55:15.364Z"
   },
   {
    "duration": 29,
    "start_time": "2021-10-07T15:55:15.385Z"
   },
   {
    "duration": 12,
    "start_time": "2021-10-07T15:55:15.417Z"
   },
   {
    "duration": 24,
    "start_time": "2021-10-07T15:55:15.431Z"
   },
   {
    "duration": 21,
    "start_time": "2021-10-07T15:55:15.456Z"
   },
   {
    "duration": 4,
    "start_time": "2021-10-07T15:55:15.479Z"
   },
   {
    "duration": 576,
    "start_time": "2021-10-07T15:55:15.485Z"
   },
   {
    "duration": 1442,
    "start_time": "2021-10-07T15:55:16.065Z"
   },
   {
    "duration": 506,
    "start_time": "2021-10-07T15:55:17.509Z"
   },
   {
    "duration": 971,
    "start_time": "2021-10-07T15:55:18.017Z"
   },
   {
    "duration": 170,
    "start_time": "2021-10-07T15:55:18.990Z"
   },
   {
    "duration": 817,
    "start_time": "2021-10-07T15:55:19.162Z"
   },
   {
    "duration": 9,
    "start_time": "2021-10-07T15:55:19.981Z"
   },
   {
    "duration": 318,
    "start_time": "2021-10-07T15:55:19.992Z"
   },
   {
    "duration": 320,
    "start_time": "2021-10-07T15:55:20.312Z"
   },
   {
    "duration": 47,
    "start_time": "2021-10-07T15:55:20.634Z"
   },
   {
    "duration": 1451,
    "start_time": "2021-10-07T15:55:20.683Z"
   },
   {
    "duration": 489,
    "start_time": "2021-10-07T15:55:22.136Z"
   },
   {
    "duration": 208,
    "start_time": "2021-10-07T15:55:22.627Z"
   },
   {
    "duration": 204,
    "start_time": "2021-10-07T15:55:22.838Z"
   },
   {
    "duration": 11183,
    "start_time": "2021-10-07T15:56:29.237Z"
   },
   {
    "duration": 8545,
    "start_time": "2021-10-07T15:56:43.546Z"
   },
   {
    "duration": 205,
    "start_time": "2021-10-07T15:57:02.268Z"
   },
   {
    "duration": 260,
    "start_time": "2021-10-07T15:57:24.310Z"
   },
   {
    "duration": 550,
    "start_time": "2021-10-07T15:57:33.374Z"
   },
   {
    "duration": 311,
    "start_time": "2021-10-07T15:58:17.127Z"
   },
   {
    "duration": 324,
    "start_time": "2021-10-07T15:58:21.358Z"
   },
   {
    "duration": 332,
    "start_time": "2021-10-07T15:58:25.816Z"
   },
   {
    "duration": 560,
    "start_time": "2021-10-07T15:58:51.287Z"
   },
   {
    "duration": 380,
    "start_time": "2021-10-07T15:58:53.999Z"
   },
   {
    "duration": 450,
    "start_time": "2021-10-07T15:59:11.807Z"
   },
   {
    "duration": 451,
    "start_time": "2021-10-07T15:59:16.519Z"
   },
   {
    "duration": 5273,
    "start_time": "2021-10-07T15:59:51.999Z"
   },
   {
    "duration": 5633,
    "start_time": "2021-10-07T16:00:08.017Z"
   },
   {
    "duration": 190,
    "start_time": "2021-10-07T16:00:19.463Z"
   },
   {
    "duration": 9436,
    "start_time": "2021-10-07T16:01:36.680Z"
   },
   {
    "duration": 179,
    "start_time": "2021-10-07T16:02:03.225Z"
   },
   {
    "duration": 1228,
    "start_time": "2021-10-07T16:02:22.387Z"
   },
   {
    "duration": 258,
    "start_time": "2021-10-07T16:02:35.873Z"
   },
   {
    "duration": 206,
    "start_time": "2021-10-07T16:02:41.891Z"
   },
   {
    "duration": 195,
    "start_time": "2021-10-07T16:02:49.762Z"
   },
   {
    "duration": 845,
    "start_time": "2021-10-07T16:05:57.704Z"
   },
   {
    "duration": 210,
    "start_time": "2021-10-07T16:07:02.996Z"
   },
   {
    "duration": 409,
    "start_time": "2021-10-07T16:07:08.004Z"
   },
   {
    "duration": 272,
    "start_time": "2021-10-07T16:07:22.670Z"
   },
   {
    "duration": 517,
    "start_time": "2021-10-07T16:08:51.613Z"
   },
   {
    "duration": 535,
    "start_time": "2021-10-07T16:09:40.237Z"
   },
   {
    "duration": 650,
    "start_time": "2021-10-07T16:10:27.278Z"
   },
   {
    "duration": 505,
    "start_time": "2021-10-07T16:10:45.360Z"
   },
   {
    "duration": 276,
    "start_time": "2021-10-07T16:10:52.301Z"
   },
   {
    "duration": 290,
    "start_time": "2021-10-07T16:11:01.534Z"
   },
   {
    "duration": 524,
    "start_time": "2021-10-07T16:11:29.190Z"
   },
   {
    "duration": 523,
    "start_time": "2021-10-07T16:11:39.166Z"
   },
   {
    "duration": 796,
    "start_time": "2021-10-07T16:12:08.376Z"
   },
   {
    "duration": 69,
    "start_time": "2021-10-07T16:14:46.833Z"
   },
   {
    "duration": 76,
    "start_time": "2021-10-07T16:14:51.232Z"
   },
   {
    "duration": 79,
    "start_time": "2021-10-07T16:15:11.553Z"
   },
   {
    "duration": 71,
    "start_time": "2021-10-07T16:15:15.648Z"
   },
   {
    "duration": 972,
    "start_time": "2021-10-07T16:15:25.561Z"
   },
   {
    "duration": 3,
    "start_time": "2021-10-07T16:17:05.394Z"
   },
   {
    "duration": 5238,
    "start_time": "2021-10-07T16:18:58.819Z"
   },
   {
    "duration": 321,
    "start_time": "2021-10-07T16:19:43.229Z"
   },
   {
    "duration": 379,
    "start_time": "2021-10-07T16:20:00.316Z"
   },
   {
    "duration": 553,
    "start_time": "2021-10-07T16:20:35.459Z"
   },
   {
    "duration": 842,
    "start_time": "2021-10-07T16:21:03.981Z"
   },
   {
    "duration": 937,
    "start_time": "2021-10-07T16:27:03.520Z"
   },
   {
    "duration": 4,
    "start_time": "2021-10-07T16:29:40.440Z"
   },
   {
    "duration": 217,
    "start_time": "2021-10-07T16:30:56.345Z"
   },
   {
    "duration": 448,
    "start_time": "2021-10-07T16:31:36.372Z"
   },
   {
    "duration": 738,
    "start_time": "2021-10-07T16:33:37.811Z"
   },
   {
    "duration": 659,
    "start_time": "2021-10-07T16:33:48.683Z"
   },
   {
    "duration": 940,
    "start_time": "2021-10-08T08:20:54.340Z"
   },
   {
    "duration": 4,
    "start_time": "2021-10-08T08:21:31.486Z"
   },
   {
    "duration": 380,
    "start_time": "2021-10-08T08:25:48.393Z"
   },
   {
    "duration": 916,
    "start_time": "2021-10-08T08:26:01.333Z"
   },
   {
    "duration": 15,
    "start_time": "2021-10-08T08:26:02.251Z"
   },
   {
    "duration": 27,
    "start_time": "2021-10-08T08:26:02.268Z"
   },
   {
    "duration": 6,
    "start_time": "2021-10-08T08:26:02.298Z"
   },
   {
    "duration": 24,
    "start_time": "2021-10-08T08:26:02.307Z"
   },
   {
    "duration": 9,
    "start_time": "2021-10-08T08:26:02.334Z"
   },
   {
    "duration": 46,
    "start_time": "2021-10-08T08:26:02.345Z"
   },
   {
    "duration": 24,
    "start_time": "2021-10-08T08:26:02.395Z"
   },
   {
    "duration": 12,
    "start_time": "2021-10-08T08:26:02.423Z"
   },
   {
    "duration": 17,
    "start_time": "2021-10-08T08:26:02.438Z"
   },
   {
    "duration": 6,
    "start_time": "2021-10-08T08:26:02.483Z"
   },
   {
    "duration": 13,
    "start_time": "2021-10-08T08:26:02.492Z"
   },
   {
    "duration": 24,
    "start_time": "2021-10-08T08:26:02.507Z"
   },
   {
    "duration": 55,
    "start_time": "2021-10-08T08:26:02.534Z"
   },
   {
    "duration": 34,
    "start_time": "2021-10-08T08:26:02.591Z"
   },
   {
    "duration": 20,
    "start_time": "2021-10-08T08:26:02.627Z"
   },
   {
    "duration": 55,
    "start_time": "2021-10-08T08:26:02.649Z"
   },
   {
    "duration": 18,
    "start_time": "2021-10-08T08:26:02.707Z"
   },
   {
    "duration": 8,
    "start_time": "2021-10-08T08:26:02.728Z"
   },
   {
    "duration": 54,
    "start_time": "2021-10-08T08:26:02.739Z"
   },
   {
    "duration": 7,
    "start_time": "2021-10-08T08:26:02.796Z"
   },
   {
    "duration": 833,
    "start_time": "2021-10-08T08:26:02.806Z"
   },
   {
    "duration": 409,
    "start_time": "2021-10-08T08:26:03.643Z"
   },
   {
    "duration": 2141,
    "start_time": "2021-10-08T08:26:04.056Z"
   },
   {
    "duration": 783,
    "start_time": "2021-10-08T08:26:06.199Z"
   },
   {
    "duration": 1327,
    "start_time": "2021-10-08T08:26:06.984Z"
   },
   {
    "duration": 252,
    "start_time": "2021-10-08T08:26:08.313Z"
   },
   {
    "duration": 1316,
    "start_time": "2021-10-08T08:26:08.567Z"
   },
   {
    "duration": 12,
    "start_time": "2021-10-08T08:26:09.886Z"
   },
   {
    "duration": 485,
    "start_time": "2021-10-08T08:26:09.901Z"
   },
   {
    "duration": 511,
    "start_time": "2021-10-08T08:26:10.388Z"
   },
   {
    "duration": 107,
    "start_time": "2021-10-08T08:26:10.903Z"
   },
   {
    "duration": 4090,
    "start_time": "2021-10-08T08:26:11.014Z"
   },
   {
    "duration": 1418,
    "start_time": "2021-10-08T08:26:15.108Z"
   },
   {
    "duration": 305,
    "start_time": "2021-10-08T08:26:16.529Z"
   },
   {
    "duration": 850,
    "start_time": "2021-10-08T08:27:01.092Z"
   },
   {
    "duration": 421,
    "start_time": "2021-10-08T08:27:23.437Z"
   },
   {
    "duration": 360,
    "start_time": "2021-10-08T08:27:47.916Z"
   },
   {
    "duration": 433,
    "start_time": "2021-10-08T08:30:54.856Z"
   },
   {
    "duration": 1363,
    "start_time": "2021-10-08T08:31:05.375Z"
   },
   {
    "duration": 751,
    "start_time": "2021-10-08T08:32:20.706Z"
   },
   {
    "duration": 500,
    "start_time": "2021-10-08T08:32:33.422Z"
   },
   {
    "duration": 114,
    "start_time": "2021-10-08T08:32:58.210Z"
   },
   {
    "duration": 1108,
    "start_time": "2021-10-08T08:33:46.612Z"
   },
   {
    "duration": 15,
    "start_time": "2021-10-08T08:33:47.723Z"
   },
   {
    "duration": 16,
    "start_time": "2021-10-08T08:33:47.742Z"
   },
   {
    "duration": 26,
    "start_time": "2021-10-08T08:33:47.761Z"
   },
   {
    "duration": 26,
    "start_time": "2021-10-08T08:33:47.790Z"
   },
   {
    "duration": 8,
    "start_time": "2021-10-08T08:33:47.819Z"
   },
   {
    "duration": 53,
    "start_time": "2021-10-08T08:33:47.830Z"
   },
   {
    "duration": 23,
    "start_time": "2021-10-08T08:33:47.887Z"
   },
   {
    "duration": 11,
    "start_time": "2021-10-08T08:33:47.912Z"
   },
   {
    "duration": 8,
    "start_time": "2021-10-08T08:33:47.925Z"
   },
   {
    "duration": 8,
    "start_time": "2021-10-08T08:33:47.935Z"
   },
   {
    "duration": 14,
    "start_time": "2021-10-08T08:33:47.984Z"
   },
   {
    "duration": 29,
    "start_time": "2021-10-08T08:33:48.001Z"
   },
   {
    "duration": 66,
    "start_time": "2021-10-08T08:33:48.033Z"
   },
   {
    "duration": 24,
    "start_time": "2021-10-08T08:33:48.102Z"
   },
   {
    "duration": 19,
    "start_time": "2021-10-08T08:33:48.130Z"
   },
   {
    "duration": 66,
    "start_time": "2021-10-08T08:33:48.152Z"
   },
   {
    "duration": 19,
    "start_time": "2021-10-08T08:33:48.221Z"
   },
   {
    "duration": 40,
    "start_time": "2021-10-08T08:33:48.243Z"
   },
   {
    "duration": 17,
    "start_time": "2021-10-08T08:33:48.285Z"
   },
   {
    "duration": 6,
    "start_time": "2021-10-08T08:33:48.304Z"
   },
   {
    "duration": 845,
    "start_time": "2021-10-08T08:33:48.312Z"
   },
   {
    "duration": 2233,
    "start_time": "2021-10-08T08:33:49.162Z"
   },
   {
    "duration": 785,
    "start_time": "2021-10-08T08:33:51.398Z"
   },
   {
    "duration": 929,
    "start_time": "2021-10-08T08:36:26.779Z"
   },
   {
    "duration": 15,
    "start_time": "2021-10-08T08:36:27.711Z"
   },
   {
    "duration": 16,
    "start_time": "2021-10-08T08:36:27.729Z"
   },
   {
    "duration": 5,
    "start_time": "2021-10-08T08:36:27.748Z"
   },
   {
    "duration": 26,
    "start_time": "2021-10-08T08:36:27.782Z"
   },
   {
    "duration": 9,
    "start_time": "2021-10-08T08:36:27.811Z"
   },
   {
    "duration": 14,
    "start_time": "2021-10-08T08:36:27.822Z"
   },
   {
    "duration": 52,
    "start_time": "2021-10-08T08:36:27.840Z"
   },
   {
    "duration": 11,
    "start_time": "2021-10-08T08:36:27.895Z"
   },
   {
    "duration": 15,
    "start_time": "2021-10-08T08:36:27.908Z"
   },
   {
    "duration": 5,
    "start_time": "2021-10-08T08:36:27.925Z"
   },
   {
    "duration": 15,
    "start_time": "2021-10-08T08:36:27.932Z"
   },
   {
    "duration": 56,
    "start_time": "2021-10-08T08:36:27.949Z"
   },
   {
    "duration": 24,
    "start_time": "2021-10-08T08:36:28.008Z"
   },
   {
    "duration": 56,
    "start_time": "2021-10-08T08:36:28.034Z"
   },
   {
    "duration": 20,
    "start_time": "2021-10-08T08:36:28.092Z"
   },
   {
    "duration": 35,
    "start_time": "2021-10-08T08:36:28.114Z"
   },
   {
    "duration": 40,
    "start_time": "2021-10-08T08:36:28.152Z"
   },
   {
    "duration": 8,
    "start_time": "2021-10-08T08:36:28.195Z"
   },
   {
    "duration": 17,
    "start_time": "2021-10-08T08:36:28.205Z"
   },
   {
    "duration": 6,
    "start_time": "2021-10-08T08:36:28.224Z"
   },
   {
    "duration": 785,
    "start_time": "2021-10-08T08:36:28.233Z"
   },
   {
    "duration": 2185,
    "start_time": "2021-10-08T08:36:29.022Z"
   },
   {
    "duration": 782,
    "start_time": "2021-10-08T08:36:31.209Z"
   },
   {
    "duration": 621,
    "start_time": "2021-10-08T08:36:31.993Z"
   },
   {
    "duration": 28,
    "start_time": "2021-10-08T08:36:32.589Z"
   },
   {
    "duration": 23,
    "start_time": "2021-10-08T08:36:32.595Z"
   },
   {
    "duration": 21,
    "start_time": "2021-10-08T08:36:32.598Z"
   },
   {
    "duration": 21,
    "start_time": "2021-10-08T08:36:32.600Z"
   },
   {
    "duration": 18,
    "start_time": "2021-10-08T08:36:32.604Z"
   },
   {
    "duration": 9,
    "start_time": "2021-10-08T08:36:32.614Z"
   },
   {
    "duration": -2,
    "start_time": "2021-10-08T08:36:32.627Z"
   },
   {
    "duration": -19,
    "start_time": "2021-10-08T08:36:32.646Z"
   },
   {
    "duration": -45,
    "start_time": "2021-10-08T08:36:32.673Z"
   },
   {
    "duration": 1291,
    "start_time": "2021-10-08T08:36:44.312Z"
   },
   {
    "duration": 229,
    "start_time": "2021-10-08T08:36:51.884Z"
   },
   {
    "duration": 1253,
    "start_time": "2021-10-08T08:36:53.931Z"
   },
   {
    "duration": 1162,
    "start_time": "2021-10-08T08:37:00.139Z"
   },
   {
    "duration": 127,
    "start_time": "2021-10-08T08:37:38.879Z"
   },
   {
    "duration": 55,
    "start_time": "2021-10-08T08:37:47.158Z"
   },
   {
    "duration": 57,
    "start_time": "2021-10-08T08:37:52.452Z"
   },
   {
    "duration": 54,
    "start_time": "2021-10-08T08:37:56.980Z"
   },
   {
    "duration": 56,
    "start_time": "2021-10-08T08:38:04.044Z"
   },
   {
    "duration": 55,
    "start_time": "2021-10-08T08:38:11.109Z"
   },
   {
    "duration": 140,
    "start_time": "2021-10-08T08:39:09.534Z"
   },
   {
    "duration": 54,
    "start_time": "2021-10-08T08:39:14.973Z"
   },
   {
    "duration": 8,
    "start_time": "2021-10-08T08:42:01.442Z"
   },
   {
    "duration": 11,
    "start_time": "2021-10-08T08:42:29.671Z"
   },
   {
    "duration": 11,
    "start_time": "2021-10-08T08:42:59.455Z"
   },
   {
    "duration": 11,
    "start_time": "2021-10-08T08:43:09.671Z"
   },
   {
    "duration": 14,
    "start_time": "2021-10-08T08:43:18.111Z"
   },
   {
    "duration": 11,
    "start_time": "2021-10-08T08:43:59.904Z"
   },
   {
    "duration": 10,
    "start_time": "2021-10-08T08:44:46.984Z"
   },
   {
    "duration": 9,
    "start_time": "2021-10-08T08:44:55.089Z"
   },
   {
    "duration": 13,
    "start_time": "2021-10-08T08:45:06.817Z"
   },
   {
    "duration": 296,
    "start_time": "2021-10-08T08:45:23.968Z"
   },
   {
    "duration": 351,
    "start_time": "2021-10-08T08:45:36.794Z"
   },
   {
    "duration": 462,
    "start_time": "2021-10-08T09:16:30.064Z"
   },
   {
    "duration": 12,
    "start_time": "2021-10-08T09:16:36.334Z"
   },
   {
    "duration": 455,
    "start_time": "2021-10-08T09:17:35.704Z"
   },
   {
    "duration": 465,
    "start_time": "2021-10-08T09:18:03.544Z"
   },
   {
    "duration": 249,
    "start_time": "2021-10-08T11:09:03.737Z"
   },
   {
    "duration": 237,
    "start_time": "2021-10-08T11:09:12.737Z"
   },
   {
    "duration": 1138,
    "start_time": "2021-10-08T11:09:18.586Z"
   },
   {
    "duration": 523,
    "start_time": "2021-10-08T11:15:47.420Z"
   },
   {
    "duration": 59,
    "start_time": "2021-10-08T11:15:48.212Z"
   },
   {
    "duration": 2755,
    "start_time": "2021-10-08T11:15:49.627Z"
   },
   {
    "duration": 1059,
    "start_time": "2021-10-08T11:16:40.396Z"
   },
   {
    "duration": 285,
    "start_time": "2021-10-08T11:16:44.452Z"
   },
   {
    "duration": 1061,
    "start_time": "2021-10-08T11:16:59.332Z"
   },
   {
    "duration": 1474,
    "start_time": "2021-10-08T11:30:28.715Z"
   },
   {
    "duration": 7,
    "start_time": "2021-10-08T11:31:33.895Z"
   },
   {
    "duration": 36,
    "start_time": "2021-10-08T11:31:39.053Z"
   },
   {
    "duration": 337,
    "start_time": "2021-10-08T11:31:54.591Z"
   },
   {
    "duration": 390,
    "start_time": "2021-10-08T11:32:00.144Z"
   },
   {
    "duration": 58,
    "start_time": "2021-10-08T11:32:06.305Z"
   },
   {
    "duration": 1783,
    "start_time": "2021-10-08T11:32:57.865Z"
   },
   {
    "duration": 1164,
    "start_time": "2021-10-08T11:56:35.346Z"
   },
   {
    "duration": 1141,
    "start_time": "2021-10-08T11:57:39.250Z"
   },
   {
    "duration": 927,
    "start_time": "2021-10-08T11:57:48.118Z"
   },
   {
    "duration": 15,
    "start_time": "2021-10-08T11:57:49.047Z"
   },
   {
    "duration": 26,
    "start_time": "2021-10-08T11:57:49.068Z"
   },
   {
    "duration": 5,
    "start_time": "2021-10-08T11:57:49.096Z"
   },
   {
    "duration": 29,
    "start_time": "2021-10-08T11:57:49.103Z"
   },
   {
    "duration": 9,
    "start_time": "2021-10-08T11:57:49.135Z"
   },
   {
    "duration": 47,
    "start_time": "2021-10-08T11:57:49.147Z"
   },
   {
    "duration": 21,
    "start_time": "2021-10-08T11:57:49.197Z"
   },
   {
    "duration": 10,
    "start_time": "2021-10-08T11:57:49.221Z"
   },
   {
    "duration": 11,
    "start_time": "2021-10-08T11:57:49.234Z"
   },
   {
    "duration": 5,
    "start_time": "2021-10-08T11:57:49.247Z"
   },
   {
    "duration": 11,
    "start_time": "2021-10-08T11:57:49.283Z"
   },
   {
    "duration": 32,
    "start_time": "2021-10-08T11:57:49.296Z"
   },
   {
    "duration": 22,
    "start_time": "2021-10-08T11:57:49.330Z"
   },
   {
    "duration": 48,
    "start_time": "2021-10-08T11:57:49.354Z"
   },
   {
    "duration": 18,
    "start_time": "2021-10-08T11:57:49.404Z"
   },
   {
    "duration": 59,
    "start_time": "2021-10-08T11:57:49.424Z"
   },
   {
    "duration": 17,
    "start_time": "2021-10-08T11:57:49.486Z"
   },
   {
    "duration": 8,
    "start_time": "2021-10-08T11:57:49.505Z"
   },
   {
    "duration": 17,
    "start_time": "2021-10-08T11:57:49.515Z"
   },
   {
    "duration": 6,
    "start_time": "2021-10-08T11:57:49.534Z"
   },
   {
    "duration": 822,
    "start_time": "2021-10-08T11:57:49.545Z"
   },
   {
    "duration": 2163,
    "start_time": "2021-10-08T11:57:50.369Z"
   },
   {
    "duration": 798,
    "start_time": "2021-10-08T11:57:52.534Z"
   },
   {
    "duration": 1329,
    "start_time": "2021-10-08T11:57:53.335Z"
   },
   {
    "duration": 244,
    "start_time": "2021-10-08T11:57:54.667Z"
   },
   {
    "duration": 1179,
    "start_time": "2021-10-08T11:57:54.913Z"
   },
   {
    "duration": 11,
    "start_time": "2021-10-08T11:57:56.094Z"
   },
   {
    "duration": 484,
    "start_time": "2021-10-08T11:57:56.108Z"
   },
   {
    "duration": 498,
    "start_time": "2021-10-08T11:57:56.595Z"
   },
   {
    "duration": 58,
    "start_time": "2021-10-08T11:57:57.096Z"
   },
   {
    "duration": 2368,
    "start_time": "2021-10-08T11:57:57.156Z"
   },
   {
    "duration": 1534,
    "start_time": "2021-10-08T11:57:59.527Z"
   },
   {
    "duration": 1564,
    "start_time": "2021-10-08T11:58:01.064Z"
   },
   {
    "duration": 910,
    "start_time": "2021-10-08T17:03:21.751Z"
   },
   {
    "duration": 17,
    "start_time": "2021-10-08T17:03:22.664Z"
   },
   {
    "duration": 31,
    "start_time": "2021-10-08T17:03:22.684Z"
   },
   {
    "duration": 6,
    "start_time": "2021-10-08T17:03:22.719Z"
   },
   {
    "duration": 40,
    "start_time": "2021-10-08T17:03:22.728Z"
   },
   {
    "duration": 30,
    "start_time": "2021-10-08T17:03:22.770Z"
   },
   {
    "duration": 12,
    "start_time": "2021-10-08T17:03:22.803Z"
   },
   {
    "duration": 34,
    "start_time": "2021-10-08T17:03:22.817Z"
   },
   {
    "duration": 11,
    "start_time": "2021-10-08T17:03:22.855Z"
   },
   {
    "duration": 31,
    "start_time": "2021-10-08T17:03:22.869Z"
   },
   {
    "duration": 5,
    "start_time": "2021-10-08T17:03:22.903Z"
   },
   {
    "duration": 14,
    "start_time": "2021-10-08T17:03:22.911Z"
   },
   {
    "duration": 26,
    "start_time": "2021-10-08T17:03:22.927Z"
   },
   {
    "duration": 56,
    "start_time": "2021-10-08T17:03:22.956Z"
   },
   {
    "duration": 24,
    "start_time": "2021-10-08T17:03:23.014Z"
   },
   {
    "duration": 25,
    "start_time": "2021-10-08T17:03:23.040Z"
   },
   {
    "duration": 58,
    "start_time": "2021-10-08T17:03:23.068Z"
   },
   {
    "duration": 16,
    "start_time": "2021-10-08T17:03:23.129Z"
   },
   {
    "duration": 25,
    "start_time": "2021-10-08T17:03:23.148Z"
   },
   {
    "duration": 28,
    "start_time": "2021-10-08T17:03:23.175Z"
   },
   {
    "duration": 7,
    "start_time": "2021-10-08T17:03:23.205Z"
   },
   {
    "duration": 822,
    "start_time": "2021-10-08T17:03:23.214Z"
   },
   {
    "duration": 2340,
    "start_time": "2021-10-08T17:03:24.039Z"
   },
   {
    "duration": 804,
    "start_time": "2021-10-08T17:03:26.381Z"
   },
   {
    "duration": 1367,
    "start_time": "2021-10-08T17:03:27.187Z"
   },
   {
    "duration": 259,
    "start_time": "2021-10-08T17:03:28.557Z"
   },
   {
    "duration": 1227,
    "start_time": "2021-10-08T17:03:28.822Z"
   },
   {
    "duration": 13,
    "start_time": "2021-10-08T17:03:30.052Z"
   },
   {
    "duration": 524,
    "start_time": "2021-10-08T17:03:30.068Z"
   },
   {
    "duration": 536,
    "start_time": "2021-10-08T17:03:30.595Z"
   },
   {
    "duration": 78,
    "start_time": "2021-10-08T17:03:31.134Z"
   },
   {
    "duration": 2465,
    "start_time": "2021-10-08T17:03:31.215Z"
   },
   {
    "duration": 1554,
    "start_time": "2021-10-08T17:03:33.683Z"
   },
   {
    "duration": 1999,
    "start_time": "2021-10-08T17:03:35.239Z"
   },
   {
    "duration": 376,
    "start_time": "2021-10-08T17:04:53.460Z"
   },
   {
    "duration": 1225,
    "start_time": "2021-10-08T17:05:04.246Z"
   },
   {
    "duration": 93,
    "start_time": "2021-10-08T17:05:09.782Z"
   },
   {
    "duration": 24,
    "start_time": "2021-10-08T17:05:09.878Z"
   },
   {
    "duration": 35,
    "start_time": "2021-10-08T17:05:12.032Z"
   },
   {
    "duration": 23,
    "start_time": "2021-10-08T17:06:03.069Z"
   },
   {
    "duration": 86,
    "start_time": "2021-10-08T17:11:27.689Z"
   },
   {
    "duration": 32,
    "start_time": "2021-10-08T17:11:27.778Z"
   },
   {
    "duration": 34,
    "start_time": "2021-10-08T17:11:27.813Z"
   },
   {
    "duration": 15,
    "start_time": "2021-10-08T17:11:27.850Z"
   },
   {
    "duration": 35,
    "start_time": "2021-10-08T17:11:27.867Z"
   },
   {
    "duration": 27,
    "start_time": "2021-10-08T17:11:27.905Z"
   },
   {
    "duration": 9,
    "start_time": "2021-10-08T17:11:27.934Z"
   },
   {
    "duration": 15,
    "start_time": "2021-10-08T17:11:27.946Z"
   },
   {
    "duration": 53,
    "start_time": "2021-10-08T17:11:27.964Z"
   },
   {
    "duration": 10,
    "start_time": "2021-10-08T17:11:28.020Z"
   },
   {
    "duration": 6,
    "start_time": "2021-10-08T17:11:28.033Z"
   },
   {
    "duration": 9,
    "start_time": "2021-10-08T17:11:28.041Z"
   },
   {
    "duration": 49,
    "start_time": "2021-10-08T17:11:28.053Z"
   },
   {
    "duration": 26,
    "start_time": "2021-10-08T17:11:28.104Z"
   },
   {
    "duration": 24,
    "start_time": "2021-10-08T17:11:28.133Z"
   },
   {
    "duration": 53,
    "start_time": "2021-10-08T17:11:28.160Z"
   },
   {
    "duration": 20,
    "start_time": "2021-10-08T17:11:28.216Z"
   },
   {
    "duration": 34,
    "start_time": "2021-10-08T17:11:28.238Z"
   },
   {
    "duration": 40,
    "start_time": "2021-10-08T17:11:28.275Z"
   },
   {
    "duration": 8,
    "start_time": "2021-10-08T17:11:28.318Z"
   },
   {
    "duration": 24,
    "start_time": "2021-10-08T17:11:28.329Z"
   },
   {
    "duration": 6,
    "start_time": "2021-10-08T17:11:28.355Z"
   },
   {
    "duration": 1195,
    "start_time": "2021-10-08T17:11:28.366Z"
   },
   {
    "duration": 2316,
    "start_time": "2021-10-08T17:11:29.564Z"
   },
   {
    "duration": 803,
    "start_time": "2021-10-08T17:11:31.882Z"
   },
   {
    "duration": 1296,
    "start_time": "2021-10-08T17:11:32.688Z"
   },
   {
    "duration": 41,
    "start_time": "2021-10-08T17:11:33.986Z"
   },
   {
    "duration": 276,
    "start_time": "2021-10-08T17:11:34.029Z"
   },
   {
    "duration": 1498,
    "start_time": "2021-10-08T17:11:34.308Z"
   },
   {
    "duration": 10,
    "start_time": "2021-10-08T17:11:35.808Z"
   },
   {
    "duration": 629,
    "start_time": "2021-10-08T17:11:35.820Z"
   },
   {
    "duration": 584,
    "start_time": "2021-10-08T17:11:36.451Z"
   },
   {
    "duration": 73,
    "start_time": "2021-10-08T17:11:37.037Z"
   },
   {
    "duration": 2639,
    "start_time": "2021-10-08T17:11:37.112Z"
   },
   {
    "duration": 1696,
    "start_time": "2021-10-08T17:11:39.753Z"
   },
   {
    "duration": 1513,
    "start_time": "2021-10-08T17:11:41.451Z"
   },
   {
    "duration": 403,
    "start_time": "2021-10-09T07:37:53.007Z"
   },
   {
    "duration": 990,
    "start_time": "2021-10-09T07:38:03.369Z"
   },
   {
    "duration": 16,
    "start_time": "2021-10-09T07:38:04.362Z"
   },
   {
    "duration": 852,
    "start_time": "2021-10-09T07:38:04.381Z"
   },
   {
    "duration": 32,
    "start_time": "2021-10-09T07:38:05.237Z"
   },
   {
    "duration": 7,
    "start_time": "2021-10-09T07:38:05.272Z"
   },
   {
    "duration": 30,
    "start_time": "2021-10-09T07:38:05.284Z"
   },
   {
    "duration": 12,
    "start_time": "2021-10-09T07:38:05.317Z"
   },
   {
    "duration": 12,
    "start_time": "2021-10-09T07:38:05.361Z"
   },
   {
    "duration": 25,
    "start_time": "2021-10-09T07:38:05.376Z"
   },
   {
    "duration": 12,
    "start_time": "2021-10-09T07:38:05.404Z"
   },
   {
    "duration": 7,
    "start_time": "2021-10-09T07:38:05.419Z"
   },
   {
    "duration": 7,
    "start_time": "2021-10-09T07:38:05.463Z"
   },
   {
    "duration": 22,
    "start_time": "2021-10-09T07:38:05.472Z"
   },
   {
    "duration": 29,
    "start_time": "2021-10-09T07:38:05.497Z"
   },
   {
    "duration": 54,
    "start_time": "2021-10-09T07:38:05.528Z"
   },
   {
    "duration": 39,
    "start_time": "2021-10-09T07:38:05.585Z"
   },
   {
    "duration": 40,
    "start_time": "2021-10-09T07:38:05.626Z"
   },
   {
    "duration": 37,
    "start_time": "2021-10-09T07:38:05.671Z"
   },
   {
    "duration": 51,
    "start_time": "2021-10-09T07:38:05.711Z"
   },
   {
    "duration": 9,
    "start_time": "2021-10-09T07:38:05.765Z"
   },
   {
    "duration": 18,
    "start_time": "2021-10-09T07:38:05.777Z"
   },
   {
    "duration": 7,
    "start_time": "2021-10-09T07:38:05.798Z"
   },
   {
    "duration": 949,
    "start_time": "2021-10-09T07:38:05.807Z"
   },
   {
    "duration": 2469,
    "start_time": "2021-10-09T07:38:06.758Z"
   },
   {
    "duration": 834,
    "start_time": "2021-10-09T07:38:09.229Z"
   },
   {
    "duration": 1431,
    "start_time": "2021-10-09T07:38:10.066Z"
   },
   {
    "duration": 35,
    "start_time": "2021-10-09T07:38:11.499Z"
   },
   {
    "duration": 290,
    "start_time": "2021-10-09T07:38:11.537Z"
   },
   {
    "duration": 1265,
    "start_time": "2021-10-09T07:38:11.830Z"
   },
   {
    "duration": 11,
    "start_time": "2021-10-09T07:38:13.097Z"
   },
   {
    "duration": 640,
    "start_time": "2021-10-09T07:38:13.112Z"
   },
   {
    "duration": -963,
    "start_time": "2021-10-09T07:38:14.719Z"
   },
   {
    "duration": -969,
    "start_time": "2021-10-09T07:38:14.728Z"
   },
   {
    "duration": -970,
    "start_time": "2021-10-09T07:38:14.731Z"
   },
   {
    "duration": -973,
    "start_time": "2021-10-09T07:38:14.736Z"
   },
   {
    "duration": -976,
    "start_time": "2021-10-09T07:38:14.741Z"
   },
   {
    "duration": 129,
    "start_time": "2021-10-09T07:50:25.610Z"
   },
   {
    "duration": 450,
    "start_time": "2021-10-09T07:53:33.644Z"
   },
   {
    "duration": 429,
    "start_time": "2021-10-09T07:54:16.306Z"
   },
   {
    "duration": 24,
    "start_time": "2021-10-09T07:54:49.674Z"
   },
   {
    "duration": 30,
    "start_time": "2021-10-09T07:54:55.433Z"
   },
   {
    "duration": 42,
    "start_time": "2021-10-09T07:55:25.864Z"
   },
   {
    "duration": 1303,
    "start_time": "2021-10-09T07:56:19.038Z"
   },
   {
    "duration": 555,
    "start_time": "2021-10-09T07:56:29.970Z"
   },
   {
    "duration": 341,
    "start_time": "2021-10-09T07:56:48.042Z"
   },
   {
    "duration": 613,
    "start_time": "2021-10-09T07:57:12.213Z"
   },
   {
    "duration": 496,
    "start_time": "2021-10-09T07:57:19.602Z"
   },
   {
    "duration": 1368,
    "start_time": "2021-10-09T08:52:13.323Z"
   },
   {
    "duration": 325,
    "start_time": "2021-10-09T08:52:43.433Z"
   },
   {
    "duration": 1530,
    "start_time": "2021-10-09T08:54:34.202Z"
   },
   {
    "duration": 233,
    "start_time": "2021-10-09T08:54:50.780Z"
   },
   {
    "duration": 103,
    "start_time": "2021-10-09T08:56:41.211Z"
   },
   {
    "duration": 392,
    "start_time": "2021-10-09T08:56:43.491Z"
   },
   {
    "duration": 490,
    "start_time": "2021-10-09T08:56:59.477Z"
   },
   {
    "duration": 26,
    "start_time": "2021-10-09T08:57:25.740Z"
   },
   {
    "duration": 488,
    "start_time": "2021-10-09T08:58:42.589Z"
   },
   {
    "duration": 644,
    "start_time": "2021-10-09T08:59:20.029Z"
   },
   {
    "duration": 57,
    "start_time": "2021-10-09T08:59:37.709Z"
   },
   {
    "duration": 2612,
    "start_time": "2021-10-09T08:59:42.174Z"
   },
   {
    "duration": 1012,
    "start_time": "2021-10-09T09:00:41.254Z"
   },
   {
    "duration": 1540,
    "start_time": "2021-10-09T09:00:46.606Z"
   },
   {
    "duration": 1408,
    "start_time": "2021-10-09T09:00:52.037Z"
   },
   {
    "duration": 2136,
    "start_time": "2021-10-09T09:04:11.360Z"
   },
   {
    "duration": 2200,
    "start_time": "2021-10-09T09:04:35.720Z"
   },
   {
    "duration": 9647,
    "start_time": "2021-10-09T09:05:16.001Z"
   },
   {
    "duration": 2038,
    "start_time": "2021-10-09T09:05:33.979Z"
   },
   {
    "duration": 210,
    "start_time": "2021-10-09T09:07:38.394Z"
   },
   {
    "duration": 2566,
    "start_time": "2021-10-09T09:17:22.431Z"
   },
   {
    "duration": 2553,
    "start_time": "2021-10-09T09:17:38.312Z"
   },
   {
    "duration": 2591,
    "start_time": "2021-10-09T09:18:16.633Z"
   },
   {
    "duration": 2421,
    "start_time": "2021-10-09T09:18:37.168Z"
   },
   {
    "duration": 526,
    "start_time": "2021-10-09T09:21:47.722Z"
   },
   {
    "duration": 495,
    "start_time": "2021-10-09T09:22:07.571Z"
   },
   {
    "duration": 647,
    "start_time": "2021-10-09T09:22:54.163Z"
   },
   {
    "duration": 2464,
    "start_time": "2021-10-09T09:23:15.619Z"
   },
   {
    "duration": 2669,
    "start_time": "2021-10-09T09:23:30.130Z"
   },
   {
    "duration": 352,
    "start_time": "2021-10-09T09:26:21.204Z"
   },
   {
    "duration": 60,
    "start_time": "2021-10-09T09:26:37.814Z"
   },
   {
    "duration": 7095,
    "start_time": "2021-10-09T09:27:04.533Z"
   },
   {
    "duration": 384,
    "start_time": "2021-10-09T09:27:21.510Z"
   },
   {
    "duration": 441,
    "start_time": "2021-10-09T09:27:32.214Z"
   },
   {
    "duration": 387,
    "start_time": "2021-10-09T09:28:46.408Z"
   },
   {
    "duration": 165,
    "start_time": "2021-10-09T09:29:41.166Z"
   },
   {
    "duration": 9,
    "start_time": "2021-10-09T09:34:16.619Z"
   },
   {
    "duration": 2038,
    "start_time": "2021-10-09T09:35:17.475Z"
   },
   {
    "duration": 1347,
    "start_time": "2021-10-09T10:08:08.492Z"
   },
   {
    "duration": 266,
    "start_time": "2021-10-09T10:09:41.347Z"
   },
   {
    "duration": 236,
    "start_time": "2021-10-09T10:10:02.021Z"
   },
   {
    "duration": 1144,
    "start_time": "2021-10-09T10:29:54.832Z"
   },
   {
    "duration": 1136,
    "start_time": "2021-10-09T10:31:43.898Z"
   },
   {
    "duration": 366,
    "start_time": "2021-10-09T10:37:58.821Z"
   },
   {
    "duration": 43,
    "start_time": "2021-10-09T10:48:25.127Z"
   },
   {
    "duration": 445,
    "start_time": "2021-10-09T10:52:23.509Z"
   },
   {
    "duration": 437,
    "start_time": "2021-10-09T10:52:46.381Z"
   },
   {
    "duration": 337,
    "start_time": "2021-10-09T10:53:51.782Z"
   },
   {
    "duration": 479,
    "start_time": "2021-10-09T10:54:06.449Z"
   },
   {
    "duration": 1579,
    "start_time": "2021-10-09T10:56:40.588Z"
   },
   {
    "duration": 1379,
    "start_time": "2021-10-09T10:56:47.862Z"
   },
   {
    "duration": 8,
    "start_time": "2021-10-09T11:54:40.862Z"
   },
   {
    "duration": 287,
    "start_time": "2021-10-09T15:22:54.249Z"
   },
   {
    "duration": 766,
    "start_time": "2021-10-09T15:23:01.113Z"
   },
   {
    "duration": 14,
    "start_time": "2021-10-09T15:23:01.882Z"
   },
   {
    "duration": 457,
    "start_time": "2021-10-09T15:23:01.901Z"
   },
   {
    "duration": 13,
    "start_time": "2021-10-09T15:23:02.360Z"
   },
   {
    "duration": 14,
    "start_time": "2021-10-09T15:23:02.375Z"
   },
   {
    "duration": 42,
    "start_time": "2021-10-09T15:23:02.390Z"
   },
   {
    "duration": 8,
    "start_time": "2021-10-09T15:23:02.435Z"
   },
   {
    "duration": 15,
    "start_time": "2021-10-09T15:23:02.446Z"
   },
   {
    "duration": 20,
    "start_time": "2021-10-09T15:23:02.464Z"
   },
   {
    "duration": 11,
    "start_time": "2021-10-09T15:23:02.486Z"
   },
   {
    "duration": 6,
    "start_time": "2021-10-09T15:23:02.499Z"
   },
   {
    "duration": 6,
    "start_time": "2021-10-09T15:23:02.507Z"
   },
   {
    "duration": 35,
    "start_time": "2021-10-09T15:23:02.515Z"
   },
   {
    "duration": 19,
    "start_time": "2021-10-09T15:23:02.553Z"
   },
   {
    "duration": 17,
    "start_time": "2021-10-09T15:23:02.574Z"
   },
   {
    "duration": 16,
    "start_time": "2021-10-09T15:23:02.593Z"
   },
   {
    "duration": 50,
    "start_time": "2021-10-09T15:23:02.611Z"
   },
   {
    "duration": 22,
    "start_time": "2021-10-09T15:23:02.663Z"
   },
   {
    "duration": 12,
    "start_time": "2021-10-09T15:23:02.687Z"
   },
   {
    "duration": 8,
    "start_time": "2021-10-09T15:23:02.701Z"
   },
   {
    "duration": 47,
    "start_time": "2021-10-09T15:23:02.711Z"
   },
   {
    "duration": 6,
    "start_time": "2021-10-09T15:23:02.762Z"
   },
   {
    "duration": 540,
    "start_time": "2021-10-09T15:23:02.771Z"
   },
   {
    "duration": 1490,
    "start_time": "2021-10-09T15:23:03.313Z"
   },
   {
    "duration": 488,
    "start_time": "2021-10-09T15:23:04.805Z"
   },
   {
    "duration": 885,
    "start_time": "2021-10-09T15:23:05.294Z"
   },
   {
    "duration": 24,
    "start_time": "2021-10-09T15:23:06.181Z"
   },
   {
    "duration": 172,
    "start_time": "2021-10-09T15:23:06.207Z"
   },
   {
    "duration": 701,
    "start_time": "2021-10-09T15:23:06.381Z"
   },
   {
    "duration": 9,
    "start_time": "2021-10-09T15:23:07.084Z"
   },
   {
    "duration": 282,
    "start_time": "2021-10-09T15:23:07.095Z"
   },
   {
    "duration": 306,
    "start_time": "2021-10-09T15:23:07.378Z"
   },
   {
    "duration": 7,
    "start_time": "2021-10-09T15:23:07.686Z"
   },
   {
    "duration": 1197,
    "start_time": "2021-10-09T15:23:07.695Z"
   },
   {
    "duration": 242,
    "start_time": "2021-10-09T15:23:08.893Z"
   },
   {
    "duration": 899,
    "start_time": "2021-10-09T15:23:09.137Z"
   },
   {
    "duration": 1004,
    "start_time": "2021-10-09T15:23:10.038Z"
   },
   {
    "duration": 37,
    "start_time": "2021-10-09T15:23:46.497Z"
   },
   {
    "duration": 5999,
    "start_time": "2021-10-09T15:25:16.850Z"
   },
   {
    "duration": 714,
    "start_time": "2021-10-09T15:25:36.660Z"
   },
   {
    "duration": 6910,
    "start_time": "2021-10-09T15:25:46.907Z"
   },
   {
    "duration": 767,
    "start_time": "2021-10-09T15:26:01.563Z"
   },
   {
    "duration": 946,
    "start_time": "2021-10-09T15:26:20.187Z"
   },
   {
    "duration": 1130,
    "start_time": "2021-10-09T15:26:49.147Z"
   },
   {
    "duration": 2,
    "start_time": "2021-10-09T15:28:03.859Z"
   },
   {
    "duration": 152,
    "start_time": "2021-10-09T15:28:47.076Z"
   },
   {
    "duration": 153,
    "start_time": "2021-10-09T15:30:05.077Z"
   },
   {
    "duration": 165,
    "start_time": "2021-10-09T15:30:54.239Z"
   },
   {
    "duration": 161,
    "start_time": "2021-10-09T15:30:59.870Z"
   },
   {
    "duration": 387,
    "start_time": "2021-10-10T19:32:15.446Z"
   },
   {
    "duration": 1061,
    "start_time": "2021-10-10T19:32:21.242Z"
   },
   {
    "duration": 15,
    "start_time": "2021-10-10T19:32:22.305Z"
   },
   {
    "duration": 698,
    "start_time": "2021-10-10T19:32:22.323Z"
   },
   {
    "duration": 18,
    "start_time": "2021-10-10T19:32:23.023Z"
   },
   {
    "duration": 5,
    "start_time": "2021-10-10T19:32:23.057Z"
   },
   {
    "duration": 27,
    "start_time": "2021-10-10T19:32:23.065Z"
   },
   {
    "duration": 9,
    "start_time": "2021-10-10T19:32:23.094Z"
   },
   {
    "duration": 55,
    "start_time": "2021-10-10T19:32:23.106Z"
   },
   {
    "duration": 24,
    "start_time": "2021-10-10T19:32:23.164Z"
   },
   {
    "duration": 12,
    "start_time": "2021-10-10T19:32:23.190Z"
   },
   {
    "duration": 6,
    "start_time": "2021-10-10T19:32:23.205Z"
   },
   {
    "duration": 44,
    "start_time": "2021-10-10T19:32:23.214Z"
   },
   {
    "duration": 12,
    "start_time": "2021-10-10T19:32:23.260Z"
   },
   {
    "duration": 27,
    "start_time": "2021-10-10T19:32:23.275Z"
   },
   {
    "duration": 67,
    "start_time": "2021-10-10T19:32:23.305Z"
   },
   {
    "duration": 23,
    "start_time": "2021-10-10T19:32:23.375Z"
   },
   {
    "duration": 19,
    "start_time": "2021-10-10T19:32:23.401Z"
   },
   {
    "duration": 66,
    "start_time": "2021-10-10T19:32:23.423Z"
   },
   {
    "duration": 16,
    "start_time": "2021-10-10T19:32:23.492Z"
   },
   {
    "duration": 47,
    "start_time": "2021-10-10T19:32:23.511Z"
   },
   {
    "duration": 18,
    "start_time": "2021-10-10T19:32:23.560Z"
   },
   {
    "duration": 6,
    "start_time": "2021-10-10T19:32:23.581Z"
   },
   {
    "duration": 859,
    "start_time": "2021-10-10T19:32:23.592Z"
   },
   {
    "duration": 1995,
    "start_time": "2021-10-10T19:32:24.454Z"
   },
   {
    "duration": 841,
    "start_time": "2021-10-10T19:32:26.452Z"
   },
   {
    "duration": 1333,
    "start_time": "2021-10-10T19:32:27.295Z"
   },
   {
    "duration": 47,
    "start_time": "2021-10-10T19:32:28.630Z"
   },
   {
    "duration": 244,
    "start_time": "2021-10-10T19:32:28.679Z"
   },
   {
    "duration": 1107,
    "start_time": "2021-10-10T19:32:28.925Z"
   },
   {
    "duration": 24,
    "start_time": "2021-10-10T19:32:30.035Z"
   },
   {
    "duration": 464,
    "start_time": "2021-10-10T19:32:30.062Z"
   },
   {
    "duration": 501,
    "start_time": "2021-10-10T19:32:30.529Z"
   },
   {
    "duration": 26,
    "start_time": "2021-10-10T19:32:31.032Z"
   },
   {
    "duration": 1897,
    "start_time": "2021-10-10T19:32:31.061Z"
   },
   {
    "duration": 402,
    "start_time": "2021-10-10T19:32:32.961Z"
   },
   {
    "duration": 1846,
    "start_time": "2021-10-10T19:32:33.365Z"
   },
   {
    "duration": 269,
    "start_time": "2021-10-10T19:32:35.214Z"
   },
   {
    "duration": 3,
    "start_time": "2021-10-10T19:32:35.486Z"
   },
   {
    "duration": 477,
    "start_time": "2021-10-11T06:31:56.815Z"
   },
   {
    "duration": 953,
    "start_time": "2021-10-11T06:32:06.005Z"
   },
   {
    "duration": 18,
    "start_time": "2021-10-11T06:32:06.961Z"
   },
   {
    "duration": 821,
    "start_time": "2021-10-11T06:32:06.983Z"
   },
   {
    "duration": 19,
    "start_time": "2021-10-11T06:32:07.808Z"
   },
   {
    "duration": 32,
    "start_time": "2021-10-11T06:32:07.830Z"
   },
   {
    "duration": 30,
    "start_time": "2021-10-11T06:32:07.865Z"
   },
   {
    "duration": 9,
    "start_time": "2021-10-11T06:32:07.898Z"
   },
   {
    "duration": 48,
    "start_time": "2021-10-11T06:32:07.910Z"
   },
   {
    "duration": 24,
    "start_time": "2021-10-11T06:32:07.962Z"
   },
   {
    "duration": 13,
    "start_time": "2021-10-11T06:32:07.989Z"
   },
   {
    "duration": 6,
    "start_time": "2021-10-11T06:32:08.005Z"
   },
   {
    "duration": 6,
    "start_time": "2021-10-11T06:32:08.014Z"
   },
   {
    "duration": 46,
    "start_time": "2021-10-11T06:32:08.022Z"
   },
   {
    "duration": 27,
    "start_time": "2021-10-11T06:32:08.070Z"
   },
   {
    "duration": 22,
    "start_time": "2021-10-11T06:32:08.099Z"
   },
   {
    "duration": 57,
    "start_time": "2021-10-11T06:32:08.124Z"
   },
   {
    "duration": 22,
    "start_time": "2021-10-11T06:32:08.184Z"
   },
   {
    "duration": 68,
    "start_time": "2021-10-11T06:32:08.209Z"
   },
   {
    "duration": 16,
    "start_time": "2021-10-11T06:32:08.279Z"
   },
   {
    "duration": 9,
    "start_time": "2021-10-11T06:32:08.297Z"
   },
   {
    "duration": 20,
    "start_time": "2021-10-11T06:32:08.308Z"
   },
   {
    "duration": 7,
    "start_time": "2021-10-11T06:32:08.357Z"
   },
   {
    "duration": 847,
    "start_time": "2021-10-11T06:32:08.366Z"
   },
   {
    "duration": 2000,
    "start_time": "2021-10-11T06:32:09.215Z"
   },
   {
    "duration": 838,
    "start_time": "2021-10-11T06:32:11.218Z"
   },
   {
    "duration": 1265,
    "start_time": "2021-10-11T06:32:12.059Z"
   },
   {
    "duration": 45,
    "start_time": "2021-10-11T06:32:13.329Z"
   },
   {
    "duration": 254,
    "start_time": "2021-10-11T06:32:13.377Z"
   },
   {
    "duration": 1118,
    "start_time": "2021-10-11T06:32:13.634Z"
   },
   {
    "duration": 10,
    "start_time": "2021-10-11T06:32:14.759Z"
   },
   {
    "duration": 460,
    "start_time": "2021-10-11T06:32:14.771Z"
   },
   {
    "duration": 508,
    "start_time": "2021-10-11T06:32:15.234Z"
   },
   {
    "duration": 17,
    "start_time": "2021-10-11T06:32:15.745Z"
   },
   {
    "duration": 2041,
    "start_time": "2021-10-11T06:32:15.764Z"
   },
   {
    "duration": 406,
    "start_time": "2021-10-11T06:32:17.807Z"
   },
   {
    "duration": 1876,
    "start_time": "2021-10-11T06:32:18.215Z"
   },
   {
    "duration": 262,
    "start_time": "2021-10-11T06:32:20.094Z"
   },
   {
    "duration": 4,
    "start_time": "2021-10-11T06:32:20.358Z"
   },
   {
    "duration": 2020,
    "start_time": "2021-10-11T06:35:26.050Z"
   },
   {
    "duration": 1786,
    "start_time": "2021-10-11T06:35:33.408Z"
   },
   {
    "duration": 2001,
    "start_time": "2021-10-11T06:35:39.341Z"
   },
   {
    "duration": 1021,
    "start_time": "2021-10-11T06:36:50.403Z"
   },
   {
    "duration": 1488,
    "start_time": "2021-10-11T06:37:41.285Z"
   },
   {
    "duration": 1033,
    "start_time": "2021-10-11T06:38:28.587Z"
   },
   {
    "duration": 1017,
    "start_time": "2021-10-11T06:38:36.928Z"
   },
   {
    "duration": 1209,
    "start_time": "2021-10-11T06:40:03.675Z"
   },
   {
    "duration": 521,
    "start_time": "2021-10-11T06:40:36.913Z"
   },
   {
    "duration": 12,
    "start_time": "2021-10-11T06:41:41.971Z"
   },
   {
    "duration": 62,
    "start_time": "2021-10-11T06:41:58.461Z"
   },
   {
    "duration": 398,
    "start_time": "2021-10-11T06:43:24.028Z"
   },
   {
    "duration": 381,
    "start_time": "2021-10-11T06:53:20.055Z"
   },
   {
    "duration": 365,
    "start_time": "2021-10-11T06:53:34.018Z"
   },
   {
    "duration": 371,
    "start_time": "2021-10-11T06:54:59.083Z"
   },
   {
    "duration": 1128,
    "start_time": "2021-10-11T06:55:28.257Z"
   },
   {
    "duration": 748,
    "start_time": "2021-10-11T06:55:42.176Z"
   },
   {
    "duration": 912,
    "start_time": "2021-10-11T06:56:38.684Z"
   },
   {
    "duration": 966,
    "start_time": "2021-10-11T06:59:56.914Z"
   },
   {
    "duration": 14,
    "start_time": "2021-10-11T06:59:57.883Z"
   },
   {
    "duration": 690,
    "start_time": "2021-10-11T06:59:57.900Z"
   },
   {
    "duration": 17,
    "start_time": "2021-10-11T06:59:58.593Z"
   },
   {
    "duration": 18,
    "start_time": "2021-10-11T06:59:58.612Z"
   },
   {
    "duration": 46,
    "start_time": "2021-10-11T06:59:58.632Z"
   },
   {
    "duration": 9,
    "start_time": "2021-10-11T06:59:58.680Z"
   },
   {
    "duration": 11,
    "start_time": "2021-10-11T06:59:58.693Z"
   },
   {
    "duration": 26,
    "start_time": "2021-10-11T06:59:58.707Z"
   },
   {
    "duration": 12,
    "start_time": "2021-10-11T06:59:58.757Z"
   },
   {
    "duration": 6,
    "start_time": "2021-10-11T06:59:58.771Z"
   },
   {
    "duration": 5,
    "start_time": "2021-10-11T06:59:58.780Z"
   },
   {
    "duration": 12,
    "start_time": "2021-10-11T06:59:58.787Z"
   },
   {
    "duration": 67,
    "start_time": "2021-10-11T06:59:58.801Z"
   },
   {
    "duration": 23,
    "start_time": "2021-10-11T06:59:58.871Z"
   },
   {
    "duration": 24,
    "start_time": "2021-10-11T06:59:58.896Z"
   },
   {
    "duration": 48,
    "start_time": "2021-10-11T06:59:58.923Z"
   },
   {
    "duration": 36,
    "start_time": "2021-10-11T06:59:58.973Z"
   },
   {
    "duration": 17,
    "start_time": "2021-10-11T06:59:59.011Z"
   },
   {
    "duration": 33,
    "start_time": "2021-10-11T06:59:59.030Z"
   },
   {
    "duration": 17,
    "start_time": "2021-10-11T06:59:59.065Z"
   },
   {
    "duration": 6,
    "start_time": "2021-10-11T06:59:59.084Z"
   },
   {
    "duration": 847,
    "start_time": "2021-10-11T06:59:59.095Z"
   },
   {
    "duration": 2164,
    "start_time": "2021-10-11T06:59:59.945Z"
   },
   {
    "duration": 851,
    "start_time": "2021-10-11T07:00:02.111Z"
   },
   {
    "duration": 931,
    "start_time": "2021-10-11T07:06:25.187Z"
   },
   {
    "duration": 14,
    "start_time": "2021-10-11T07:06:26.120Z"
   },
   {
    "duration": 694,
    "start_time": "2021-10-11T07:06:26.138Z"
   },
   {
    "duration": 25,
    "start_time": "2021-10-11T07:06:26.835Z"
   },
   {
    "duration": 6,
    "start_time": "2021-10-11T07:06:26.862Z"
   },
   {
    "duration": 26,
    "start_time": "2021-10-11T07:06:26.870Z"
   },
   {
    "duration": 10,
    "start_time": "2021-10-11T07:06:26.898Z"
   },
   {
    "duration": 52,
    "start_time": "2021-10-11T07:06:26.911Z"
   },
   {
    "duration": 30,
    "start_time": "2021-10-11T07:06:26.966Z"
   },
   {
    "duration": 11,
    "start_time": "2021-10-11T07:06:26.999Z"
   },
   {
    "duration": 6,
    "start_time": "2021-10-11T07:06:27.012Z"
   },
   {
    "duration": 7,
    "start_time": "2021-10-11T07:06:27.020Z"
   },
   {
    "duration": 31,
    "start_time": "2021-10-11T07:06:27.029Z"
   },
   {
    "duration": 26,
    "start_time": "2021-10-11T07:06:27.063Z"
   },
   {
    "duration": 23,
    "start_time": "2021-10-11T07:06:27.092Z"
   },
   {
    "duration": 61,
    "start_time": "2021-10-11T07:06:27.117Z"
   },
   {
    "duration": 22,
    "start_time": "2021-10-11T07:06:27.181Z"
   },
   {
    "duration": 63,
    "start_time": "2021-10-11T07:06:27.205Z"
   },
   {
    "duration": 16,
    "start_time": "2021-10-11T07:06:27.271Z"
   },
   {
    "duration": 9,
    "start_time": "2021-10-11T07:06:27.290Z"
   },
   {
    "duration": 17,
    "start_time": "2021-10-11T07:06:27.302Z"
   },
   {
    "duration": 37,
    "start_time": "2021-10-11T07:06:27.321Z"
   },
   {
    "duration": 874,
    "start_time": "2021-10-11T07:06:27.363Z"
   },
   {
    "duration": 2007,
    "start_time": "2021-10-11T07:06:28.241Z"
   },
   {
    "duration": 838,
    "start_time": "2021-10-11T07:06:30.251Z"
   },
   {
    "duration": 484,
    "start_time": "2021-10-11T07:06:31.092Z"
   },
   {
    "duration": -1385,
    "start_time": "2021-10-11T07:06:32.964Z"
   },
   {
    "duration": -1394,
    "start_time": "2021-10-11T07:06:32.975Z"
   },
   {
    "duration": -1403,
    "start_time": "2021-10-11T07:06:32.985Z"
   },
   {
    "duration": -1411,
    "start_time": "2021-10-11T07:06:32.995Z"
   },
   {
    "duration": -1420,
    "start_time": "2021-10-11T07:06:33.005Z"
   },
   {
    "duration": -1428,
    "start_time": "2021-10-11T07:06:33.014Z"
   },
   {
    "duration": -1437,
    "start_time": "2021-10-11T07:06:33.025Z"
   },
   {
    "duration": -1445,
    "start_time": "2021-10-11T07:06:33.034Z"
   },
   {
    "duration": -1454,
    "start_time": "2021-10-11T07:06:33.045Z"
   },
   {
    "duration": -1485,
    "start_time": "2021-10-11T07:06:33.077Z"
   },
   {
    "duration": -1502,
    "start_time": "2021-10-11T07:06:33.096Z"
   },
   {
    "duration": -1514,
    "start_time": "2021-10-11T07:06:33.110Z"
   },
   {
    "duration": -1527,
    "start_time": "2021-10-11T07:06:33.124Z"
   },
   {
    "duration": 1372,
    "start_time": "2021-10-11T08:09:34.343Z"
   },
   {
    "duration": 107,
    "start_time": "2021-10-11T08:09:40.708Z"
   },
   {
    "duration": 42,
    "start_time": "2021-10-11T08:09:47.785Z"
   },
   {
    "duration": 379,
    "start_time": "2021-10-11T08:10:49.890Z"
   },
   {
    "duration": 32,
    "start_time": "2021-10-11T08:11:01.714Z"
   },
   {
    "duration": 43,
    "start_time": "2021-10-11T08:11:09.274Z"
   },
   {
    "duration": 34,
    "start_time": "2021-10-11T08:12:03.874Z"
   },
   {
    "duration": 41,
    "start_time": "2021-10-11T08:12:09.270Z"
   },
   {
    "duration": 383,
    "start_time": "2021-10-11T08:12:23.255Z"
   },
   {
    "duration": 32,
    "start_time": "2021-10-11T08:12:31.767Z"
   },
   {
    "duration": 45,
    "start_time": "2021-10-11T08:12:41.098Z"
   },
   {
    "duration": 41,
    "start_time": "2021-10-11T08:12:49.212Z"
   },
   {
    "duration": 411,
    "start_time": "2021-10-11T08:15:05.430Z"
   },
   {
    "duration": 410,
    "start_time": "2021-10-11T08:15:23.199Z"
   },
   {
    "duration": 524,
    "start_time": "2021-10-11T08:15:30.269Z"
   },
   {
    "duration": 775,
    "start_time": "2021-10-11T08:18:44.405Z"
   },
   {
    "duration": 429,
    "start_time": "2021-10-11T08:19:41.313Z"
   },
   {
    "duration": 333,
    "start_time": "2021-10-11T08:22:38.322Z"
   },
   {
    "duration": 366,
    "start_time": "2021-10-11T08:22:51.492Z"
   },
   {
    "duration": 1187,
    "start_time": "2021-10-11T08:54:18.954Z"
   },
   {
    "duration": 35,
    "start_time": "2021-10-11T09:00:40.054Z"
   },
   {
    "duration": 237,
    "start_time": "2021-10-11T09:10:04.704Z"
   },
   {
    "duration": 606,
    "start_time": "2021-10-11T09:12:00.870Z"
   },
   {
    "duration": 901,
    "start_time": "2021-10-11T09:13:10.302Z"
   },
   {
    "duration": 723,
    "start_time": "2021-10-11T09:13:59.191Z"
   },
   {
    "duration": 747,
    "start_time": "2021-10-11T09:14:51.999Z"
   },
   {
    "duration": 768,
    "start_time": "2021-10-11T09:15:34.625Z"
   },
   {
    "duration": 110,
    "start_time": "2021-10-11T09:15:51.679Z"
   },
   {
    "duration": 130,
    "start_time": "2021-10-11T09:16:07.609Z"
   },
   {
    "duration": 111,
    "start_time": "2021-10-11T09:16:22.734Z"
   },
   {
    "duration": 765,
    "start_time": "2021-10-11T09:16:46.762Z"
   },
   {
    "duration": 1310,
    "start_time": "2021-10-11T09:17:07.686Z"
   },
   {
    "duration": 1224,
    "start_time": "2021-10-11T09:56:41.519Z"
   },
   {
    "duration": 1430,
    "start_time": "2021-10-11T09:57:26.760Z"
   },
   {
    "duration": 1644,
    "start_time": "2021-10-11T09:58:40.857Z"
   },
   {
    "duration": 1682,
    "start_time": "2021-10-11T09:58:49.957Z"
   },
   {
    "duration": 1570,
    "start_time": "2021-10-11T10:01:16.503Z"
   },
   {
    "duration": 1734,
    "start_time": "2021-10-11T10:01:37.517Z"
   },
   {
    "duration": 1713,
    "start_time": "2021-10-11T10:04:37.010Z"
   },
   {
    "duration": 1176,
    "start_time": "2021-10-11T10:05:43.376Z"
   },
   {
    "duration": 1198,
    "start_time": "2021-10-11T10:12:54.172Z"
   },
   {
    "duration": 492,
    "start_time": "2021-10-11T10:13:09.164Z"
   },
   {
    "duration": 344,
    "start_time": "2021-10-11T10:13:55.560Z"
   },
   {
    "duration": 10,
    "start_time": "2021-10-11T10:14:03.998Z"
   },
   {
    "duration": 1844,
    "start_time": "2021-10-11T10:14:04.806Z"
   },
   {
    "duration": 53,
    "start_time": "2021-10-11T10:15:16.035Z"
   },
   {
    "duration": 1631,
    "start_time": "2021-10-11T10:16:15.806Z"
   },
   {
    "duration": 1600,
    "start_time": "2021-10-11T10:20:08.670Z"
   },
   {
    "duration": 1688,
    "start_time": "2021-10-11T10:21:16.047Z"
   },
   {
    "duration": 1677,
    "start_time": "2021-10-11T10:22:41.392Z"
   },
   {
    "duration": 37,
    "start_time": "2021-10-11T10:24:10.353Z"
   },
   {
    "duration": 57,
    "start_time": "2021-10-11T10:24:56.489Z"
   },
   {
    "duration": 328,
    "start_time": "2021-10-11T10:26:06.810Z"
   },
   {
    "duration": 8,
    "start_time": "2021-10-11T10:26:12.347Z"
   },
   {
    "duration": 1743,
    "start_time": "2021-10-11T10:26:13.081Z"
   },
   {
    "duration": 1630,
    "start_time": "2021-10-11T10:27:09.435Z"
   },
   {
    "duration": 248,
    "start_time": "2021-10-11T10:27:20.439Z"
   },
   {
    "duration": 239,
    "start_time": "2021-10-11T10:28:58.497Z"
   },
   {
    "duration": 241,
    "start_time": "2021-10-11T10:29:29.775Z"
   },
   {
    "duration": 15,
    "start_time": "2021-10-11T11:42:21.606Z"
   },
   {
    "duration": 13,
    "start_time": "2021-10-11T11:42:53.118Z"
   },
   {
    "duration": 10,
    "start_time": "2021-10-11T11:43:12.955Z"
   },
   {
    "duration": 12,
    "start_time": "2021-10-11T11:43:31.439Z"
   },
   {
    "duration": 10842,
    "start_time": "2021-10-11T11:52:30.934Z"
   },
   {
    "duration": 11,
    "start_time": "2021-10-11T11:53:00.140Z"
   },
   {
    "duration": 720,
    "start_time": "2021-10-11T20:18:38.974Z"
   },
   {
    "duration": 10,
    "start_time": "2021-10-11T20:18:39.696Z"
   },
   {
    "duration": 1084,
    "start_time": "2021-10-11T20:18:39.707Z"
   },
   {
    "duration": 12,
    "start_time": "2021-10-11T20:18:40.794Z"
   },
   {
    "duration": 4,
    "start_time": "2021-10-11T20:18:40.808Z"
   },
   {
    "duration": 46,
    "start_time": "2021-10-11T20:18:40.814Z"
   },
   {
    "duration": 7,
    "start_time": "2021-10-11T20:18:40.862Z"
   },
   {
    "duration": 14,
    "start_time": "2021-10-11T20:18:40.871Z"
   },
   {
    "duration": 17,
    "start_time": "2021-10-11T20:18:40.888Z"
   },
   {
    "duration": 8,
    "start_time": "2021-10-11T20:18:40.908Z"
   },
   {
    "duration": 12,
    "start_time": "2021-10-11T20:18:40.918Z"
   },
   {
    "duration": 4,
    "start_time": "2021-10-11T20:18:40.950Z"
   },
   {
    "duration": 13,
    "start_time": "2021-10-11T20:18:40.956Z"
   },
   {
    "duration": 21,
    "start_time": "2021-10-11T20:18:40.971Z"
   },
   {
    "duration": 17,
    "start_time": "2021-10-11T20:18:40.994Z"
   },
   {
    "duration": 41,
    "start_time": "2021-10-11T20:18:41.013Z"
   },
   {
    "duration": 18,
    "start_time": "2021-10-11T20:18:41.056Z"
   },
   {
    "duration": 22,
    "start_time": "2021-10-11T20:18:41.076Z"
   },
   {
    "duration": 12,
    "start_time": "2021-10-11T20:18:41.099Z"
   },
   {
    "duration": 37,
    "start_time": "2021-10-11T20:18:41.113Z"
   },
   {
    "duration": 13,
    "start_time": "2021-10-11T20:18:41.151Z"
   },
   {
    "duration": 4,
    "start_time": "2021-10-11T20:18:41.166Z"
   },
   {
    "duration": 564,
    "start_time": "2021-10-11T20:18:41.171Z"
   },
   {
    "duration": 1180,
    "start_time": "2021-10-11T20:18:41.737Z"
   },
   {
    "duration": 521,
    "start_time": "2021-10-11T20:18:42.919Z"
   },
   {
    "duration": 843,
    "start_time": "2021-10-11T20:18:43.441Z"
   },
   {
    "duration": 25,
    "start_time": "2021-10-11T20:18:44.287Z"
   },
   {
    "duration": 763,
    "start_time": "2021-10-11T20:18:44.314Z"
   },
   {
    "duration": 23,
    "start_time": "2021-10-11T20:18:45.079Z"
   },
   {
    "duration": 23,
    "start_time": "2021-10-11T20:19:06.672Z"
   },
   {
    "duration": 152,
    "start_time": "2021-10-11T20:21:20.635Z"
   },
   {
    "duration": 682,
    "start_time": "2021-10-11T20:21:20.789Z"
   },
   {
    "duration": 8,
    "start_time": "2021-10-11T20:21:21.474Z"
   },
   {
    "duration": 377,
    "start_time": "2021-10-11T20:21:21.484Z"
   },
   {
    "duration": 386,
    "start_time": "2021-10-11T20:21:21.863Z"
   },
   {
    "duration": 6,
    "start_time": "2021-10-11T20:21:22.251Z"
   },
   {
    "duration": 1235,
    "start_time": "2021-10-11T20:21:22.259Z"
   },
   {
    "duration": 235,
    "start_time": "2021-10-11T20:21:23.497Z"
   },
   {
    "duration": 1114,
    "start_time": "2021-10-11T20:21:23.735Z"
   },
   {
    "duration": 160,
    "start_time": "2021-10-11T20:21:24.851Z"
   },
   {
    "duration": 8,
    "start_time": "2021-10-11T20:21:25.013Z"
   },
   {
    "duration": 27,
    "start_time": "2021-10-11T20:21:25.022Z"
   },
   {
    "duration": 16,
    "start_time": "2021-10-11T20:21:25.051Z"
   },
   {
    "duration": 8,
    "start_time": "2021-10-11T20:21:25.069Z"
   },
   {
    "duration": 21,
    "start_time": "2021-10-11T20:21:35.691Z"
   },
   {
    "duration": 24,
    "start_time": "2021-10-11T20:22:06.714Z"
   },
   {
    "duration": 20,
    "start_time": "2021-10-11T20:22:09.013Z"
   },
   {
    "duration": 465,
    "start_time": "2021-10-12T08:39:31.674Z"
   },
   {
    "duration": 915,
    "start_time": "2021-10-12T08:39:46.023Z"
   },
   {
    "duration": 15,
    "start_time": "2021-10-12T08:39:46.941Z"
   },
   {
    "duration": 638,
    "start_time": "2021-10-12T08:39:46.959Z"
   },
   {
    "duration": 25,
    "start_time": "2021-10-12T08:39:47.600Z"
   },
   {
    "duration": 5,
    "start_time": "2021-10-12T08:39:47.627Z"
   },
   {
    "duration": 37,
    "start_time": "2021-10-12T08:39:47.635Z"
   },
   {
    "duration": 8,
    "start_time": "2021-10-12T08:39:47.675Z"
   },
   {
    "duration": 39,
    "start_time": "2021-10-12T08:39:47.687Z"
   },
   {
    "duration": 23,
    "start_time": "2021-10-12T08:39:47.729Z"
   },
   {
    "duration": 11,
    "start_time": "2021-10-12T08:39:47.755Z"
   },
   {
    "duration": 7,
    "start_time": "2021-10-12T08:39:47.768Z"
   },
   {
    "duration": 48,
    "start_time": "2021-10-12T08:39:47.777Z"
   },
   {
    "duration": 14,
    "start_time": "2021-10-12T08:39:47.828Z"
   },
   {
    "duration": 26,
    "start_time": "2021-10-12T08:39:47.845Z"
   },
   {
    "duration": 63,
    "start_time": "2021-10-12T08:39:47.873Z"
   },
   {
    "duration": 22,
    "start_time": "2021-10-12T08:39:47.938Z"
   },
   {
    "duration": 21,
    "start_time": "2021-10-12T08:39:47.962Z"
   },
   {
    "duration": 61,
    "start_time": "2021-10-12T08:39:47.985Z"
   },
   {
    "duration": 20,
    "start_time": "2021-10-12T08:39:48.048Z"
   },
   {
    "duration": 12,
    "start_time": "2021-10-12T08:39:48.070Z"
   },
   {
    "duration": 47,
    "start_time": "2021-10-12T08:39:48.085Z"
   },
   {
    "duration": 6,
    "start_time": "2021-10-12T08:39:48.134Z"
   },
   {
    "duration": 833,
    "start_time": "2021-10-12T08:39:48.145Z"
   },
   {
    "duration": 2036,
    "start_time": "2021-10-12T08:39:48.981Z"
   },
   {
    "duration": 820,
    "start_time": "2021-10-12T08:39:51.019Z"
   },
   {
    "duration": 1239,
    "start_time": "2021-10-12T08:39:51.842Z"
   },
   {
    "duration": 40,
    "start_time": "2021-10-12T08:39:53.084Z"
   },
   {
    "duration": 1173,
    "start_time": "2021-10-12T08:39:53.127Z"
   },
   {
    "duration": 42,
    "start_time": "2021-10-12T08:39:54.302Z"
   },
   {
    "duration": 320,
    "start_time": "2021-10-12T08:39:54.346Z"
   },
   {
    "duration": -57610,
    "start_time": "2021-10-12T08:40:52.279Z"
   },
   {
    "duration": -57729,
    "start_time": "2021-10-12T08:40:52.399Z"
   },
   {
    "duration": -57750,
    "start_time": "2021-10-12T08:40:52.422Z"
   },
   {
    "duration": -57770,
    "start_time": "2021-10-12T08:40:52.443Z"
   },
   {
    "duration": -57784,
    "start_time": "2021-10-12T08:40:52.459Z"
   },
   {
    "duration": -57803,
    "start_time": "2021-10-12T08:40:52.479Z"
   },
   {
    "duration": -57814,
    "start_time": "2021-10-12T08:40:52.491Z"
   },
   {
    "duration": -57859,
    "start_time": "2021-10-12T08:40:52.538Z"
   },
   {
    "duration": -57875,
    "start_time": "2021-10-12T08:40:52.555Z"
   },
   {
    "duration": -57897,
    "start_time": "2021-10-12T08:40:52.578Z"
   },
   {
    "duration": -57908,
    "start_time": "2021-10-12T08:40:52.591Z"
   },
   {
    "duration": -57944,
    "start_time": "2021-10-12T08:40:52.628Z"
   },
   {
    "duration": -57973,
    "start_time": "2021-10-12T08:40:52.658Z"
   },
   {
    "duration": -58057,
    "start_time": "2021-10-12T08:40:52.744Z"
   },
   {
    "duration": 235,
    "start_time": "2021-10-12T08:49:47.274Z"
   },
   {
    "duration": 1085,
    "start_time": "2021-10-12T08:49:58.832Z"
   },
   {
    "duration": 273,
    "start_time": "2021-10-12T09:26:59.407Z"
   },
   {
    "duration": 1167,
    "start_time": "2021-10-12T09:29:47.268Z"
   },
   {
    "duration": 11,
    "start_time": "2021-10-12T09:29:58.591Z"
   },
   {
    "duration": 435,
    "start_time": "2021-10-12T09:29:59.365Z"
   },
   {
    "duration": 6532,
    "start_time": "2021-10-12T09:30:09.756Z"
   },
   {
    "duration": 7170,
    "start_time": "2021-10-12T09:30:20.863Z"
   },
   {
    "duration": 502,
    "start_time": "2021-10-12T09:30:42.574Z"
   },
   {
    "duration": 9,
    "start_time": "2021-10-12T09:31:16.466Z"
   },
   {
    "duration": 36,
    "start_time": "2021-10-12T09:31:24.533Z"
   },
   {
    "duration": 1963,
    "start_time": "2021-10-12T09:31:25.953Z"
   },
   {
    "duration": 368,
    "start_time": "2021-10-12T09:31:32.124Z"
   },
   {
    "duration": 1732,
    "start_time": "2021-10-12T09:31:40.645Z"
   },
   {
    "duration": 248,
    "start_time": "2021-10-12T09:31:44.008Z"
   },
   {
    "duration": 966,
    "start_time": "2021-10-12T09:32:32.667Z"
   },
   {
    "duration": 15,
    "start_time": "2021-10-12T09:32:33.635Z"
   },
   {
    "duration": 1957,
    "start_time": "2021-10-12T09:32:33.653Z"
   },
   {
    "duration": 21,
    "start_time": "2021-10-12T09:32:35.622Z"
   },
   {
    "duration": 31,
    "start_time": "2021-10-12T09:32:35.645Z"
   },
   {
    "duration": 54,
    "start_time": "2021-10-12T09:32:35.678Z"
   },
   {
    "duration": 10,
    "start_time": "2021-10-12T09:32:35.735Z"
   },
   {
    "duration": 27,
    "start_time": "2021-10-12T09:32:35.749Z"
   },
   {
    "duration": 30,
    "start_time": "2021-10-12T09:32:35.780Z"
   },
   {
    "duration": 26,
    "start_time": "2021-10-12T09:32:35.813Z"
   },
   {
    "duration": 24,
    "start_time": "2021-10-12T09:32:35.842Z"
   },
   {
    "duration": 13,
    "start_time": "2021-10-12T09:32:35.868Z"
   },
   {
    "duration": 22,
    "start_time": "2021-10-12T09:32:35.883Z"
   },
   {
    "duration": 35,
    "start_time": "2021-10-12T09:32:35.908Z"
   },
   {
    "duration": 27,
    "start_time": "2021-10-12T09:32:35.946Z"
   },
   {
    "duration": 48,
    "start_time": "2021-10-12T09:32:35.975Z"
   },
   {
    "duration": 19,
    "start_time": "2021-10-12T09:32:36.026Z"
   },
   {
    "duration": 39,
    "start_time": "2021-10-12T09:32:36.048Z"
   },
   {
    "duration": 36,
    "start_time": "2021-10-12T09:32:36.090Z"
   },
   {
    "duration": 8,
    "start_time": "2021-10-12T09:32:36.129Z"
   },
   {
    "duration": 27,
    "start_time": "2021-10-12T09:32:36.139Z"
   },
   {
    "duration": 7,
    "start_time": "2021-10-12T09:32:36.168Z"
   },
   {
    "duration": 869,
    "start_time": "2021-10-12T09:32:36.180Z"
   },
   {
    "duration": 2099,
    "start_time": "2021-10-12T09:32:37.052Z"
   },
   {
    "duration": 978,
    "start_time": "2021-10-12T09:32:39.153Z"
   },
   {
    "duration": 1309,
    "start_time": "2021-10-12T09:32:40.134Z"
   },
   {
    "duration": 36,
    "start_time": "2021-10-12T09:32:41.445Z"
   },
   {
    "duration": 317,
    "start_time": "2021-10-12T09:32:41.484Z"
   },
   {
    "duration": -990,
    "start_time": "2021-10-12T09:32:42.793Z"
   },
   {
    "duration": -999,
    "start_time": "2021-10-12T09:32:42.804Z"
   },
   {
    "duration": -1005,
    "start_time": "2021-10-12T09:32:42.811Z"
   },
   {
    "duration": -1013,
    "start_time": "2021-10-12T09:32:42.821Z"
   },
   {
    "duration": -1020,
    "start_time": "2021-10-12T09:32:42.829Z"
   },
   {
    "duration": -1028,
    "start_time": "2021-10-12T09:32:42.838Z"
   },
   {
    "duration": -1034,
    "start_time": "2021-10-12T09:32:42.846Z"
   },
   {
    "duration": -1043,
    "start_time": "2021-10-12T09:32:42.856Z"
   },
   {
    "duration": -1050,
    "start_time": "2021-10-12T09:32:42.864Z"
   },
   {
    "duration": -1057,
    "start_time": "2021-10-12T09:32:42.873Z"
   },
   {
    "duration": -1064,
    "start_time": "2021-10-12T09:32:42.881Z"
   },
   {
    "duration": -1084,
    "start_time": "2021-10-12T09:32:42.902Z"
   },
   {
    "duration": -1090,
    "start_time": "2021-10-12T09:32:42.910Z"
   },
   {
    "duration": -1100,
    "start_time": "2021-10-12T09:32:42.921Z"
   },
   {
    "duration": -1109,
    "start_time": "2021-10-12T09:32:42.931Z"
   },
   {
    "duration": -1120,
    "start_time": "2021-10-12T09:32:42.943Z"
   },
   {
    "duration": -1129,
    "start_time": "2021-10-12T09:32:42.954Z"
   },
   {
    "duration": 84,
    "start_time": "2021-10-12T09:33:02.884Z"
   },
   {
    "duration": 14,
    "start_time": "2021-10-12T09:33:04.197Z"
   },
   {
    "duration": 30,
    "start_time": "2021-10-12T09:33:05.195Z"
   },
   {
    "duration": 16,
    "start_time": "2021-10-12T09:33:05.888Z"
   },
   {
    "duration": 6,
    "start_time": "2021-10-12T09:33:06.531Z"
   },
   {
    "duration": 25,
    "start_time": "2021-10-12T09:33:08.838Z"
   },
   {
    "duration": 9,
    "start_time": "2021-10-12T09:33:09.998Z"
   },
   {
    "duration": 13,
    "start_time": "2021-10-12T09:33:11.045Z"
   },
   {
    "duration": 23,
    "start_time": "2021-10-12T09:33:12.055Z"
   },
   {
    "duration": 12,
    "start_time": "2021-10-12T09:33:13.051Z"
   },
   {
    "duration": 7,
    "start_time": "2021-10-12T09:33:14.028Z"
   },
   {
    "duration": 6,
    "start_time": "2021-10-12T09:33:14.302Z"
   },
   {
    "duration": 12,
    "start_time": "2021-10-12T09:33:14.556Z"
   },
   {
    "duration": 24,
    "start_time": "2021-10-12T09:33:15.980Z"
   },
   {
    "duration": 24,
    "start_time": "2021-10-12T09:33:16.224Z"
   },
   {
    "duration": 24,
    "start_time": "2021-10-12T09:33:16.491Z"
   },
   {
    "duration": 19,
    "start_time": "2021-10-12T09:33:17.757Z"
   },
   {
    "duration": 34,
    "start_time": "2021-10-12T09:33:18.011Z"
   },
   {
    "duration": 16,
    "start_time": "2021-10-12T09:33:18.274Z"
   },
   {
    "duration": 9,
    "start_time": "2021-10-12T09:33:20.564Z"
   },
   {
    "duration": 17,
    "start_time": "2021-10-12T09:33:21.395Z"
   },
   {
    "duration": 7,
    "start_time": "2021-10-12T09:33:22.385Z"
   },
   {
    "duration": 778,
    "start_time": "2021-10-12T09:33:22.949Z"
   },
   {
    "duration": 2237,
    "start_time": "2021-10-12T09:33:24.743Z"
   },
   {
    "duration": 925,
    "start_time": "2021-10-12T09:33:36.066Z"
   },
   {
    "duration": 1204,
    "start_time": "2021-10-12T09:33:43.640Z"
   },
   {
    "duration": 35,
    "start_time": "2021-10-12T09:33:51.054Z"
   },
   {
    "duration": 256,
    "start_time": "2021-10-12T09:34:00.458Z"
   },
   {
    "duration": 238,
    "start_time": "2021-10-12T09:34:47.069Z"
   },
   {
    "duration": 237,
    "start_time": "2021-10-12T09:35:02.888Z"
   },
   {
    "duration": 933,
    "start_time": "2021-10-12T09:35:44.601Z"
   },
   {
    "duration": 847,
    "start_time": "2021-10-12T09:41:12.309Z"
   },
   {
    "duration": 838,
    "start_time": "2021-10-12T09:41:19.264Z"
   },
   {
    "duration": 951,
    "start_time": "2021-10-12T09:41:31.047Z"
   },
   {
    "duration": 845,
    "start_time": "2021-10-12T09:41:44.170Z"
   },
   {
    "duration": 989,
    "start_time": "2021-10-12T09:41:58.171Z"
   },
   {
    "duration": 862,
    "start_time": "2021-10-12T09:42:01.340Z"
   },
   {
    "duration": 847,
    "start_time": "2021-10-12T09:42:06.922Z"
   },
   {
    "duration": 960,
    "start_time": "2021-10-12T09:42:50.310Z"
   },
   {
    "duration": 968,
    "start_time": "2021-10-12T09:42:56.459Z"
   },
   {
    "duration": 864,
    "start_time": "2021-10-12T09:43:17.743Z"
   },
   {
    "duration": 919,
    "start_time": "2021-10-12T09:43:26.910Z"
   },
   {
    "duration": 847,
    "start_time": "2021-10-12T09:43:36.951Z"
   },
   {
    "duration": 859,
    "start_time": "2021-10-12T09:44:58.943Z"
   },
   {
    "duration": 932,
    "start_time": "2021-10-12T09:45:20.678Z"
   },
   {
    "duration": 844,
    "start_time": "2021-10-12T09:48:28.428Z"
   },
   {
    "duration": 983,
    "start_time": "2021-10-12T09:48:37.707Z"
   },
   {
    "duration": 859,
    "start_time": "2021-10-12T09:48:45.288Z"
   },
   {
    "duration": 849,
    "start_time": "2021-10-12T09:49:04.946Z"
   },
   {
    "duration": 911,
    "start_time": "2021-10-12T09:51:31.598Z"
   },
   {
    "duration": 862,
    "start_time": "2021-10-12T09:51:36.082Z"
   },
   {
    "duration": 841,
    "start_time": "2021-10-12T09:51:48.155Z"
   },
   {
    "duration": 940,
    "start_time": "2021-10-12T09:52:22.703Z"
   },
   {
    "duration": 854,
    "start_time": "2021-10-12T09:52:31.400Z"
   },
   {
    "duration": 863,
    "start_time": "2021-10-12T09:52:47.512Z"
   },
   {
    "duration": 943,
    "start_time": "2021-10-12T09:52:57.566Z"
   },
   {
    "duration": 863,
    "start_time": "2021-10-12T09:53:06.363Z"
   },
   {
    "duration": 921,
    "start_time": "2021-10-12T09:53:15.797Z"
   },
   {
    "duration": 848,
    "start_time": "2021-10-12T09:53:23.863Z"
   },
   {
    "duration": 915,
    "start_time": "2021-10-12T09:53:37.395Z"
   },
   {
    "duration": 935,
    "start_time": "2021-10-12T09:53:44.001Z"
   },
   {
    "duration": 862,
    "start_time": "2021-10-12T09:54:01.394Z"
   },
   {
    "duration": 864,
    "start_time": "2021-10-12T09:54:08.905Z"
   },
   {
    "duration": 954,
    "start_time": "2021-10-12T10:15:01.225Z"
   },
   {
    "duration": 855,
    "start_time": "2021-10-12T10:15:04.170Z"
   },
   {
    "duration": 847,
    "start_time": "2021-10-12T10:15:06.559Z"
   },
   {
    "duration": 934,
    "start_time": "2021-10-12T10:15:09.681Z"
   },
   {
    "duration": 1032,
    "start_time": "2021-10-12T10:20:12.480Z"
   },
   {
    "duration": 926,
    "start_time": "2021-10-12T10:24:35.251Z"
   },
   {
    "duration": 819,
    "start_time": "2021-10-12T10:24:38.996Z"
   },
   {
    "duration": 843,
    "start_time": "2021-10-12T10:24:50.387Z"
   },
   {
    "duration": 913,
    "start_time": "2021-10-12T10:24:55.622Z"
   },
   {
    "duration": 865,
    "start_time": "2021-10-12T10:25:14.471Z"
   },
   {
    "duration": 848,
    "start_time": "2021-10-12T10:25:21.311Z"
   },
   {
    "duration": 900,
    "start_time": "2021-10-12T10:25:35.631Z"
   },
   {
    "duration": 952,
    "start_time": "2021-10-12T10:25:54.371Z"
   },
   {
    "duration": 847,
    "start_time": "2021-10-12T10:27:39.048Z"
   },
   {
    "duration": 904,
    "start_time": "2021-10-12T10:28:08.074Z"
   },
   {
    "duration": 888,
    "start_time": "2021-10-12T10:28:16.941Z"
   },
   {
    "duration": 946,
    "start_time": "2021-10-12T10:28:22.816Z"
   },
   {
    "duration": 943,
    "start_time": "2021-10-12T10:28:37.081Z"
   },
   {
    "duration": 901,
    "start_time": "2021-10-12T10:28:47.725Z"
   },
   {
    "duration": 933,
    "start_time": "2021-10-12T10:29:03.644Z"
   },
   {
    "duration": 853,
    "start_time": "2021-10-12T10:35:07.123Z"
   },
   {
    "duration": 867,
    "start_time": "2021-10-12T10:35:21.136Z"
   },
   {
    "duration": 930,
    "start_time": "2021-10-12T10:35:36.862Z"
   },
   {
    "duration": 865,
    "start_time": "2021-10-12T10:37:03.002Z"
   },
   {
    "duration": 857,
    "start_time": "2021-10-12T10:37:11.692Z"
   },
   {
    "duration": 1000,
    "start_time": "2021-10-12T10:37:24.701Z"
   },
   {
    "duration": 841,
    "start_time": "2021-10-12T10:38:15.594Z"
   },
   {
    "duration": 898,
    "start_time": "2021-10-12T10:38:22.500Z"
   },
   {
    "duration": 876,
    "start_time": "2021-10-12T10:38:28.288Z"
   },
   {
    "duration": 865,
    "start_time": "2021-10-12T10:38:35.995Z"
   },
   {
    "duration": 1002,
    "start_time": "2021-10-12T10:38:42.067Z"
   },
   {
    "duration": 15,
    "start_time": "2021-10-12T10:39:57.695Z"
   },
   {
    "duration": 1166,
    "start_time": "2021-10-12T10:40:05.514Z"
   },
   {
    "duration": 1326,
    "start_time": "2021-10-12T10:40:20.522Z"
   },
   {
    "duration": 1109,
    "start_time": "2021-10-12T10:40:35.888Z"
   },
   {
    "duration": 946,
    "start_time": "2021-10-12T10:41:15.210Z"
   },
   {
    "duration": 14,
    "start_time": "2021-10-12T10:41:31.255Z"
   },
   {
    "duration": 1141,
    "start_time": "2021-10-12T10:41:35.567Z"
   },
   {
    "duration": 347,
    "start_time": "2021-10-12T10:42:38.056Z"
   },
   {
    "duration": 1227,
    "start_time": "2021-10-12T10:42:40.529Z"
   },
   {
    "duration": 1238,
    "start_time": "2021-10-12T10:42:58.328Z"
   },
   {
    "duration": 236,
    "start_time": "2021-10-12T10:43:56.127Z"
   },
   {
    "duration": 11,
    "start_time": "2021-10-12T10:44:19.841Z"
   },
   {
    "duration": 432,
    "start_time": "2021-10-12T10:44:20.510Z"
   },
   {
    "duration": 1118,
    "start_time": "2021-10-12T10:44:31.016Z"
   },
   {
    "duration": 20,
    "start_time": "2021-10-12T10:45:47.690Z"
   },
   {
    "duration": 1165,
    "start_time": "2021-10-12T10:45:49.069Z"
   },
   {
    "duration": 36,
    "start_time": "2021-10-12T10:45:55.286Z"
   },
   {
    "duration": 35,
    "start_time": "2021-10-12T10:46:02.483Z"
   },
   {
    "duration": 15,
    "start_time": "2021-10-12T10:46:11.204Z"
   },
   {
    "duration": 1192,
    "start_time": "2021-10-12T10:46:12.456Z"
   },
   {
    "duration": 897,
    "start_time": "2021-10-12T10:46:19.852Z"
   },
   {
    "duration": 16,
    "start_time": "2021-10-12T10:46:20.752Z"
   },
   {
    "duration": 612,
    "start_time": "2021-10-12T10:46:20.771Z"
   },
   {
    "duration": 18,
    "start_time": "2021-10-12T10:46:21.386Z"
   },
   {
    "duration": 5,
    "start_time": "2021-10-12T10:46:21.407Z"
   },
   {
    "duration": 31,
    "start_time": "2021-10-12T10:46:21.414Z"
   },
   {
    "duration": 8,
    "start_time": "2021-10-12T10:46:21.448Z"
   },
   {
    "duration": 12,
    "start_time": "2021-10-12T10:46:21.460Z"
   },
   {
    "duration": 23,
    "start_time": "2021-10-12T10:46:21.475Z"
   },
   {
    "duration": 28,
    "start_time": "2021-10-12T10:46:21.500Z"
   },
   {
    "duration": 7,
    "start_time": "2021-10-12T10:46:21.530Z"
   },
   {
    "duration": 5,
    "start_time": "2021-10-12T10:46:21.540Z"
   },
   {
    "duration": 16,
    "start_time": "2021-10-12T10:46:21.548Z"
   },
   {
    "duration": 30,
    "start_time": "2021-10-12T10:46:21.567Z"
   },
   {
    "duration": 41,
    "start_time": "2021-10-12T10:46:21.600Z"
   },
   {
    "duration": 27,
    "start_time": "2021-10-12T10:46:21.643Z"
   },
   {
    "duration": 23,
    "start_time": "2021-10-12T10:46:21.672Z"
   },
   {
    "duration": 42,
    "start_time": "2021-10-12T10:46:21.697Z"
   },
   {
    "duration": 17,
    "start_time": "2021-10-12T10:46:21.742Z"
   },
   {
    "duration": 8,
    "start_time": "2021-10-12T10:46:21.761Z"
   },
   {
    "duration": 17,
    "start_time": "2021-10-12T10:46:21.771Z"
   },
   {
    "duration": 6,
    "start_time": "2021-10-12T10:46:21.791Z"
   },
   {
    "duration": 1462,
    "start_time": "2021-10-12T10:46:21.824Z"
   },
   {
    "duration": 2003,
    "start_time": "2021-10-12T10:46:23.289Z"
   },
   {
    "duration": 907,
    "start_time": "2021-10-12T10:46:25.295Z"
   },
   {
    "duration": 936,
    "start_time": "2021-10-12T10:46:26.205Z"
   },
   {
    "duration": 16,
    "start_time": "2021-10-12T10:46:27.143Z"
   },
   {
    "duration": 1143,
    "start_time": "2021-10-12T10:46:27.162Z"
   },
   {
    "duration": 43,
    "start_time": "2021-10-12T10:46:28.307Z"
   },
   {
    "duration": 38,
    "start_time": "2021-10-12T10:46:28.352Z"
   },
   {
    "duration": 259,
    "start_time": "2021-10-12T10:46:28.392Z"
   },
   {
    "duration": 1140,
    "start_time": "2021-10-12T10:46:28.654Z"
   },
   {
    "duration": 11,
    "start_time": "2021-10-12T10:46:29.796Z"
   },
   {
    "duration": 869,
    "start_time": "2021-10-12T10:46:29.809Z"
   },
   {
    "duration": 552,
    "start_time": "2021-10-12T10:46:30.681Z"
   },
   {
    "duration": 9,
    "start_time": "2021-10-12T10:46:31.235Z"
   },
   {
    "duration": 48,
    "start_time": "2021-10-12T10:46:31.246Z"
   },
   {
    "duration": 1808,
    "start_time": "2021-10-12T10:46:31.296Z"
   },
   {
    "duration": 384,
    "start_time": "2021-10-12T10:46:33.106Z"
   },
   {
    "duration": 1755,
    "start_time": "2021-10-12T10:46:33.493Z"
   },
   {
    "duration": 263,
    "start_time": "2021-10-12T10:46:35.251Z"
   },
   {
    "duration": 16,
    "start_time": "2021-10-12T10:46:35.517Z"
   },
   {
    "duration": 12,
    "start_time": "2021-10-12T10:46:35.535Z"
   },
   {
    "duration": 16,
    "start_time": "2021-10-12T10:46:35.550Z"
   },
   {
    "duration": 24,
    "start_time": "2021-10-12T10:46:35.568Z"
   },
   {
    "duration": 847,
    "start_time": "2021-10-12T10:47:31.865Z"
   },
   {
    "duration": 1019,
    "start_time": "2021-10-12T10:47:47.329Z"
   },
   {
    "duration": 866,
    "start_time": "2021-10-12T10:47:55.536Z"
   },
   {
    "duration": 15,
    "start_time": "2021-10-12T10:49:27.302Z"
   },
   {
    "duration": 1071,
    "start_time": "2021-10-12T10:49:27.938Z"
   },
   {
    "duration": 36,
    "start_time": "2021-10-12T10:49:30.560Z"
   },
   {
    "duration": 17,
    "start_time": "2021-10-12T10:49:52.698Z"
   },
   {
    "duration": 1128,
    "start_time": "2021-10-12T10:49:54.496Z"
   },
   {
    "duration": 17,
    "start_time": "2021-10-12T10:50:05.055Z"
   },
   {
    "duration": 1083,
    "start_time": "2021-10-12T10:50:06.789Z"
   },
   {
    "duration": 19,
    "start_time": "2021-10-12T10:50:17.179Z"
   },
   {
    "duration": 1178,
    "start_time": "2021-10-12T10:50:18.482Z"
   },
   {
    "duration": 36,
    "start_time": "2021-10-12T10:50:32.618Z"
   },
   {
    "duration": 34,
    "start_time": "2021-10-12T10:50:34.227Z"
   },
   {
    "duration": 223,
    "start_time": "2021-10-12T10:50:35.267Z"
   },
   {
    "duration": 1063,
    "start_time": "2021-10-12T10:50:36.041Z"
   },
   {
    "duration": 10,
    "start_time": "2021-10-12T10:50:38.268Z"
   },
   {
    "duration": 485,
    "start_time": "2021-10-12T10:50:38.586Z"
   },
   {
    "duration": 521,
    "start_time": "2021-10-12T10:50:41.209Z"
   },
   {
    "duration": 961,
    "start_time": "2021-10-12T10:52:45.895Z"
   },
   {
    "duration": 14,
    "start_time": "2021-10-12T10:52:46.858Z"
   },
   {
    "duration": 578,
    "start_time": "2021-10-12T10:52:46.875Z"
   },
   {
    "duration": 17,
    "start_time": "2021-10-12T10:52:47.456Z"
   },
   {
    "duration": 8,
    "start_time": "2021-10-12T10:52:47.475Z"
   },
   {
    "duration": 53,
    "start_time": "2021-10-12T10:52:47.486Z"
   },
   {
    "duration": 9,
    "start_time": "2021-10-12T10:52:47.541Z"
   },
   {
    "duration": 18,
    "start_time": "2021-10-12T10:52:47.554Z"
   },
   {
    "duration": 22,
    "start_time": "2021-10-12T10:52:47.575Z"
   },
   {
    "duration": 31,
    "start_time": "2021-10-12T10:52:47.600Z"
   },
   {
    "duration": 6,
    "start_time": "2021-10-12T10:52:47.634Z"
   },
   {
    "duration": 6,
    "start_time": "2021-10-12T10:52:47.642Z"
   },
   {
    "duration": 19,
    "start_time": "2021-10-12T10:52:47.651Z"
   },
   {
    "duration": 57,
    "start_time": "2021-10-12T10:52:47.672Z"
   },
   {
    "duration": 24,
    "start_time": "2021-10-12T10:52:47.731Z"
   },
   {
    "duration": 24,
    "start_time": "2021-10-12T10:52:47.758Z"
   },
   {
    "duration": 53,
    "start_time": "2021-10-12T10:52:47.784Z"
   },
   {
    "duration": 35,
    "start_time": "2021-10-12T10:52:47.840Z"
   },
   {
    "duration": 18,
    "start_time": "2021-10-12T10:52:47.877Z"
   },
   {
    "duration": 9,
    "start_time": "2021-10-12T10:52:47.921Z"
   },
   {
    "duration": 17,
    "start_time": "2021-10-12T10:52:47.932Z"
   },
   {
    "duration": 6,
    "start_time": "2021-10-12T10:52:47.951Z"
   },
   {
    "duration": 837,
    "start_time": "2021-10-12T10:52:47.963Z"
   },
   {
    "duration": 2132,
    "start_time": "2021-10-12T10:52:48.803Z"
   },
   {
    "duration": 854,
    "start_time": "2021-10-12T10:52:50.937Z"
   },
   {
    "duration": 937,
    "start_time": "2021-10-12T10:52:51.793Z"
   },
   {
    "duration": 19,
    "start_time": "2021-10-12T10:52:52.732Z"
   },
   {
    "duration": 1117,
    "start_time": "2021-10-12T10:52:52.753Z"
   },
   {
    "duration": 34,
    "start_time": "2021-10-12T10:52:53.872Z"
   },
   {
    "duration": 33,
    "start_time": "2021-10-12T10:52:53.923Z"
   },
   {
    "duration": 251,
    "start_time": "2021-10-12T10:52:53.958Z"
   },
   {
    "duration": 1101,
    "start_time": "2021-10-12T10:52:54.211Z"
   },
   {
    "duration": 10,
    "start_time": "2021-10-12T10:52:55.323Z"
   },
   {
    "duration": 503,
    "start_time": "2021-10-12T10:52:55.335Z"
   },
   {
    "duration": 570,
    "start_time": "2021-10-12T10:52:55.841Z"
   },
   {
    "duration": 13,
    "start_time": "2021-10-12T10:52:56.414Z"
   },
   {
    "duration": 41,
    "start_time": "2021-10-12T10:52:56.429Z"
   },
   {
    "duration": 1858,
    "start_time": "2021-10-12T10:52:56.473Z"
   },
   {
    "duration": 401,
    "start_time": "2021-10-12T10:52:58.334Z"
   },
   {
    "duration": 1895,
    "start_time": "2021-10-12T10:52:58.737Z"
   },
   {
    "duration": 267,
    "start_time": "2021-10-12T10:53:00.635Z"
   },
   {
    "duration": 21,
    "start_time": "2021-10-12T10:53:00.905Z"
   },
   {
    "duration": 12,
    "start_time": "2021-10-12T10:53:00.928Z"
   },
   {
    "duration": 22,
    "start_time": "2021-10-12T10:53:00.943Z"
   },
   {
    "duration": 20,
    "start_time": "2021-10-12T10:53:00.968Z"
   },
   {
    "duration": 550,
    "start_time": "2021-10-12T10:53:49.638Z"
   },
   {
    "duration": 8,
    "start_time": "2021-10-12T10:54:53.402Z"
   },
   {
    "duration": 8,
    "start_time": "2021-10-12T10:54:55.042Z"
   },
   {
    "duration": 57,
    "start_time": "2021-10-12T10:55:01.303Z"
   },
   {
    "duration": 8,
    "start_time": "2021-10-12T10:55:09.735Z"
   },
   {
    "duration": 1908,
    "start_time": "2021-10-12T10:55:16.423Z"
   },
   {
    "duration": 1645,
    "start_time": "2021-10-12T10:55:56.412Z"
   },
   {
    "duration": 261,
    "start_time": "2021-10-12T10:56:29.480Z"
   },
   {
    "duration": 601,
    "start_time": "2021-10-12T11:01:00.590Z"
   },
   {
    "duration": 543,
    "start_time": "2021-10-12T11:01:17.290Z"
   },
   {
    "duration": 537,
    "start_time": "2021-10-12T11:01:32.949Z"
   },
   {
    "duration": 10,
    "start_time": "2021-10-12T11:01:39.703Z"
   },
   {
    "duration": 13,
    "start_time": "2021-10-12T11:01:57.439Z"
   },
   {
    "duration": 12,
    "start_time": "2021-10-12T11:01:59.600Z"
   },
   {
    "duration": 548,
    "start_time": "2021-10-12T11:26:18.778Z"
   },
   {
    "duration": 641,
    "start_time": "2021-10-12T11:26:43.692Z"
   },
   {
    "duration": 516,
    "start_time": "2021-10-12T11:26:49.691Z"
   },
   {
    "duration": 8,
    "start_time": "2021-10-12T11:26:53.777Z"
   },
   {
    "duration": 34,
    "start_time": "2021-10-12T11:26:55.216Z"
   },
   {
    "duration": 2000,
    "start_time": "2021-10-12T11:26:55.962Z"
   },
   {
    "duration": 385,
    "start_time": "2021-10-12T11:26:59.431Z"
   },
   {
    "duration": 1835,
    "start_time": "2021-10-12T11:27:37.099Z"
   },
   {
    "duration": 57,
    "start_time": "2021-10-12T11:28:03.755Z"
   },
   {
    "duration": 7,
    "start_time": "2021-10-12T11:29:36.704Z"
   },
   {
    "duration": 910,
    "start_time": "2021-10-12T11:29:47.317Z"
   },
   {
    "duration": 15,
    "start_time": "2021-10-12T11:29:48.229Z"
   },
   {
    "duration": 607,
    "start_time": "2021-10-12T11:29:48.247Z"
   },
   {
    "duration": 17,
    "start_time": "2021-10-12T11:29:48.857Z"
   },
   {
    "duration": 18,
    "start_time": "2021-10-12T11:29:48.877Z"
   },
   {
    "duration": 49,
    "start_time": "2021-10-12T11:29:48.898Z"
   },
   {
    "duration": 11,
    "start_time": "2021-10-12T11:29:48.950Z"
   },
   {
    "duration": 33,
    "start_time": "2021-10-12T11:29:48.966Z"
   },
   {
    "duration": 33,
    "start_time": "2021-10-12T11:29:49.002Z"
   },
   {
    "duration": 36,
    "start_time": "2021-10-12T11:29:49.037Z"
   },
   {
    "duration": 20,
    "start_time": "2021-10-12T11:29:49.075Z"
   },
   {
    "duration": 21,
    "start_time": "2021-10-12T11:29:49.098Z"
   },
   {
    "duration": 31,
    "start_time": "2021-10-12T11:29:49.121Z"
   },
   {
    "duration": 40,
    "start_time": "2021-10-12T11:29:49.155Z"
   },
   {
    "duration": 23,
    "start_time": "2021-10-12T11:29:49.198Z"
   },
   {
    "duration": 41,
    "start_time": "2021-10-12T11:29:49.223Z"
   },
   {
    "duration": 30,
    "start_time": "2021-10-12T11:29:49.266Z"
   },
   {
    "duration": 42,
    "start_time": "2021-10-12T11:29:49.299Z"
   },
   {
    "duration": 38,
    "start_time": "2021-10-12T11:29:49.344Z"
   },
   {
    "duration": 18,
    "start_time": "2021-10-12T11:29:49.385Z"
   },
   {
    "duration": 27,
    "start_time": "2021-10-12T11:29:49.405Z"
   },
   {
    "duration": 21,
    "start_time": "2021-10-12T11:29:49.434Z"
   },
   {
    "duration": 848,
    "start_time": "2021-10-12T11:29:49.461Z"
   },
   {
    "duration": 1991,
    "start_time": "2021-10-12T11:29:50.312Z"
   },
   {
    "duration": 840,
    "start_time": "2021-10-12T11:29:52.305Z"
   },
   {
    "duration": 940,
    "start_time": "2021-10-12T11:29:53.148Z"
   },
   {
    "duration": 31,
    "start_time": "2021-10-12T11:29:54.091Z"
   },
   {
    "duration": 1105,
    "start_time": "2021-10-12T11:29:54.125Z"
   },
   {
    "duration": 36,
    "start_time": "2021-10-12T11:29:55.233Z"
   },
   {
    "duration": 59,
    "start_time": "2021-10-12T11:29:55.271Z"
   },
   {
    "duration": 239,
    "start_time": "2021-10-12T11:29:55.333Z"
   },
   {
    "duration": 1104,
    "start_time": "2021-10-12T11:29:55.574Z"
   },
   {
    "duration": 11,
    "start_time": "2021-10-12T11:29:56.680Z"
   },
   {
    "duration": 524,
    "start_time": "2021-10-12T11:29:56.693Z"
   },
   {
    "duration": 337,
    "start_time": "2021-10-12T11:29:57.220Z"
   },
   {
    "duration": -826,
    "start_time": "2021-10-12T11:29:58.386Z"
   },
   {
    "duration": -884,
    "start_time": "2021-10-12T11:29:58.445Z"
   },
   {
    "duration": -918,
    "start_time": "2021-10-12T11:29:58.481Z"
   },
   {
    "duration": -951,
    "start_time": "2021-10-12T11:29:58.516Z"
   },
   {
    "duration": -960,
    "start_time": "2021-10-12T11:29:58.526Z"
   },
   {
    "duration": -969,
    "start_time": "2021-10-12T11:29:58.537Z"
   },
   {
    "duration": -978,
    "start_time": "2021-10-12T11:29:58.547Z"
   },
   {
    "duration": -989,
    "start_time": "2021-10-12T11:29:58.560Z"
   },
   {
    "duration": -998,
    "start_time": "2021-10-12T11:29:58.571Z"
   },
   {
    "duration": -1006,
    "start_time": "2021-10-12T11:29:58.580Z"
   },
   {
    "duration": -1015,
    "start_time": "2021-10-12T11:29:58.590Z"
   },
   {
    "duration": 5740,
    "start_time": "2021-10-12T11:30:34.680Z"
   },
   {
    "duration": 7,
    "start_time": "2021-10-12T11:31:06.707Z"
   },
   {
    "duration": 6,
    "start_time": "2021-10-12T11:31:33.021Z"
   },
   {
    "duration": 5,
    "start_time": "2021-10-12T11:31:36.827Z"
   },
   {
    "duration": 6,
    "start_time": "2021-10-12T11:31:57.331Z"
   },
   {
    "duration": 9,
    "start_time": "2021-10-12T11:32:27.849Z"
   },
   {
    "duration": 8,
    "start_time": "2021-10-12T11:32:38.401Z"
   },
   {
    "duration": 6,
    "start_time": "2021-10-12T11:34:36.060Z"
   },
   {
    "duration": 293,
    "start_time": "2021-10-12T11:35:26.069Z"
   },
   {
    "duration": 87421,
    "start_time": "2021-10-12T11:37:20.722Z"
   },
   {
    "duration": 7,
    "start_time": "2021-10-12T11:41:23.494Z"
   },
   {
    "duration": 546,
    "start_time": "2021-10-12T11:42:34.253Z"
   },
   {
    "duration": 531,
    "start_time": "2021-10-12T11:42:44.303Z"
   },
   {
    "duration": 7,
    "start_time": "2021-10-12T11:44:54.314Z"
   },
   {
    "duration": 511,
    "start_time": "2021-10-12T11:44:56.261Z"
   },
   {
    "duration": 255,
    "start_time": "2021-10-12T11:45:20.468Z"
   },
   {
    "duration": 234,
    "start_time": "2021-10-12T11:46:14.621Z"
   },
   {
    "duration": 247,
    "start_time": "2021-10-12T11:46:24.167Z"
   },
   {
    "duration": 1695,
    "start_time": "2021-10-12T11:47:07.760Z"
   },
   {
    "duration": 60,
    "start_time": "2021-10-12T11:47:39.244Z"
   },
   {
    "duration": 923,
    "start_time": "2021-10-12T11:48:01.175Z"
   },
   {
    "duration": 15,
    "start_time": "2021-10-12T11:48:02.100Z"
   },
   {
    "duration": 576,
    "start_time": "2021-10-12T11:48:02.123Z"
   },
   {
    "duration": 32,
    "start_time": "2021-10-12T11:48:02.704Z"
   },
   {
    "duration": 6,
    "start_time": "2021-10-12T11:48:02.739Z"
   },
   {
    "duration": 30,
    "start_time": "2021-10-12T11:48:02.749Z"
   },
   {
    "duration": 43,
    "start_time": "2021-10-12T11:48:02.782Z"
   },
   {
    "duration": 14,
    "start_time": "2021-10-12T11:48:02.831Z"
   },
   {
    "duration": 24,
    "start_time": "2021-10-12T11:48:02.848Z"
   },
   {
    "duration": 49,
    "start_time": "2021-10-12T11:48:02.875Z"
   },
   {
    "duration": 7,
    "start_time": "2021-10-12T11:48:02.927Z"
   },
   {
    "duration": 8,
    "start_time": "2021-10-12T11:48:02.936Z"
   },
   {
    "duration": 13,
    "start_time": "2021-10-12T11:48:02.947Z"
   },
   {
    "duration": 64,
    "start_time": "2021-10-12T11:48:02.962Z"
   },
   {
    "duration": 24,
    "start_time": "2021-10-12T11:48:03.028Z"
   },
   {
    "duration": 24,
    "start_time": "2021-10-12T11:48:03.055Z"
   },
   {
    "duration": 57,
    "start_time": "2021-10-12T11:48:03.081Z"
   },
   {
    "duration": 34,
    "start_time": "2021-10-12T11:48:03.140Z"
   },
   {
    "duration": 21,
    "start_time": "2021-10-12T11:48:03.176Z"
   },
   {
    "duration": 8,
    "start_time": "2021-10-12T11:48:03.223Z"
   },
   {
    "duration": 21,
    "start_time": "2021-10-12T11:48:03.233Z"
   },
   {
    "duration": 7,
    "start_time": "2021-10-12T11:48:03.256Z"
   },
   {
    "duration": 856,
    "start_time": "2021-10-12T11:48:03.268Z"
   },
   {
    "duration": 1938,
    "start_time": "2021-10-12T11:48:04.127Z"
   },
   {
    "duration": 817,
    "start_time": "2021-10-12T11:48:06.067Z"
   },
   {
    "duration": 932,
    "start_time": "2021-10-12T11:48:06.886Z"
   },
   {
    "duration": 16,
    "start_time": "2021-10-12T11:48:07.822Z"
   },
   {
    "duration": 1113,
    "start_time": "2021-10-12T11:48:07.840Z"
   },
   {
    "duration": 37,
    "start_time": "2021-10-12T11:48:08.956Z"
   },
   {
    "duration": 57,
    "start_time": "2021-10-12T11:48:08.996Z"
   },
   {
    "duration": 276,
    "start_time": "2021-10-12T11:48:09.056Z"
   },
   {
    "duration": 1070,
    "start_time": "2021-10-12T11:48:09.335Z"
   },
   {
    "duration": 20,
    "start_time": "2021-10-12T11:48:10.407Z"
   },
   {
    "duration": 506,
    "start_time": "2021-10-12T11:48:10.429Z"
   },
   {
    "duration": 494,
    "start_time": "2021-10-12T11:48:10.937Z"
   },
   {
    "duration": -827,
    "start_time": "2021-10-12T11:48:12.260Z"
   },
   {
    "duration": -846,
    "start_time": "2021-10-12T11:48:12.281Z"
   },
   {
    "duration": -857,
    "start_time": "2021-10-12T11:48:12.293Z"
   },
   {
    "duration": -865,
    "start_time": "2021-10-12T11:48:12.302Z"
   },
   {
    "duration": -871,
    "start_time": "2021-10-12T11:48:12.310Z"
   },
   {
    "duration": -878,
    "start_time": "2021-10-12T11:48:12.319Z"
   },
   {
    "duration": -885,
    "start_time": "2021-10-12T11:48:12.327Z"
   },
   {
    "duration": -891,
    "start_time": "2021-10-12T11:48:12.335Z"
   },
   {
    "duration": -898,
    "start_time": "2021-10-12T11:48:12.343Z"
   },
   {
    "duration": -905,
    "start_time": "2021-10-12T11:48:12.352Z"
   },
   {
    "duration": -912,
    "start_time": "2021-10-12T11:48:12.361Z"
   },
   {
    "duration": 10,
    "start_time": "2021-10-12T11:49:10.210Z"
   },
   {
    "duration": 60,
    "start_time": "2021-10-12T11:49:15.498Z"
   },
   {
    "duration": 13,
    "start_time": "2021-10-12T11:49:50.951Z"
   },
   {
    "duration": 11,
    "start_time": "2021-10-12T11:50:43.137Z"
   },
   {
    "duration": 232,
    "start_time": "2021-10-12T11:52:49.479Z"
   },
   {
    "duration": 88687,
    "start_time": "2021-10-12T11:53:02.449Z"
   },
   {
    "duration": 106,
    "start_time": "2021-10-12T11:57:23.954Z"
   },
   {
    "duration": 990,
    "start_time": "2021-10-12T11:58:00.010Z"
   },
   {
    "duration": 18,
    "start_time": "2021-10-12T11:58:01.003Z"
   },
   {
    "duration": 608,
    "start_time": "2021-10-12T11:58:01.024Z"
   },
   {
    "duration": 18,
    "start_time": "2021-10-12T11:58:01.636Z"
   },
   {
    "duration": 7,
    "start_time": "2021-10-12T11:58:01.657Z"
   },
   {
    "duration": 56,
    "start_time": "2021-10-12T11:58:01.666Z"
   },
   {
    "duration": 9,
    "start_time": "2021-10-12T11:58:01.727Z"
   },
   {
    "duration": 34,
    "start_time": "2021-10-12T11:58:01.739Z"
   },
   {
    "duration": 39,
    "start_time": "2021-10-12T11:58:01.776Z"
   },
   {
    "duration": 34,
    "start_time": "2021-10-12T11:58:01.818Z"
   },
   {
    "duration": 32,
    "start_time": "2021-10-12T11:58:01.854Z"
   },
   {
    "duration": 29,
    "start_time": "2021-10-12T11:58:01.889Z"
   },
   {
    "duration": 36,
    "start_time": "2021-10-12T11:58:01.920Z"
   },
   {
    "duration": 30,
    "start_time": "2021-10-12T11:58:01.958Z"
   },
   {
    "duration": 28,
    "start_time": "2021-10-12T11:58:01.991Z"
   },
   {
    "duration": 22,
    "start_time": "2021-10-12T11:58:02.021Z"
   },
   {
    "duration": 34,
    "start_time": "2021-10-12T11:58:02.046Z"
   },
   {
    "duration": 40,
    "start_time": "2021-10-12T11:58:02.083Z"
   },
   {
    "duration": 18,
    "start_time": "2021-10-12T11:58:02.126Z"
   },
   {
    "duration": 17,
    "start_time": "2021-10-12T11:58:02.147Z"
   },
   {
    "duration": 35,
    "start_time": "2021-10-12T11:58:02.166Z"
   },
   {
    "duration": 18,
    "start_time": "2021-10-12T11:58:02.204Z"
   },
   {
    "duration": 879,
    "start_time": "2021-10-12T11:58:02.228Z"
   },
   {
    "duration": 2096,
    "start_time": "2021-10-12T11:58:03.110Z"
   },
   {
    "duration": 820,
    "start_time": "2021-10-12T11:58:05.208Z"
   },
   {
    "duration": 925,
    "start_time": "2021-10-12T11:58:06.030Z"
   },
   {
    "duration": 16,
    "start_time": "2021-10-12T11:58:06.957Z"
   },
   {
    "duration": 1161,
    "start_time": "2021-10-12T11:58:06.976Z"
   },
   {
    "duration": 34,
    "start_time": "2021-10-12T11:58:08.139Z"
   },
   {
    "duration": 51,
    "start_time": "2021-10-12T11:58:08.175Z"
   },
   {
    "duration": 243,
    "start_time": "2021-10-12T11:58:08.228Z"
   },
   {
    "duration": 1068,
    "start_time": "2021-10-12T11:58:08.473Z"
   },
   {
    "duration": 10,
    "start_time": "2021-10-12T11:58:09.544Z"
   },
   {
    "duration": 538,
    "start_time": "2021-10-12T11:58:09.557Z"
   },
   {
    "duration": 646,
    "start_time": "2021-10-12T11:58:10.098Z"
   },
   {
    "duration": 367,
    "start_time": "2021-10-12T11:58:10.747Z"
   },
   {
    "duration": -806,
    "start_time": "2021-10-12T11:58:11.923Z"
   },
   {
    "duration": -812,
    "start_time": "2021-10-12T11:58:11.931Z"
   },
   {
    "duration": -820,
    "start_time": "2021-10-12T11:58:11.941Z"
   },
   {
    "duration": -825,
    "start_time": "2021-10-12T11:58:11.949Z"
   },
   {
    "duration": -833,
    "start_time": "2021-10-12T11:58:11.959Z"
   },
   {
    "duration": -838,
    "start_time": "2021-10-12T11:58:11.966Z"
   },
   {
    "duration": -846,
    "start_time": "2021-10-12T11:58:11.977Z"
   },
   {
    "duration": -868,
    "start_time": "2021-10-12T11:58:12.001Z"
   },
   {
    "duration": -875,
    "start_time": "2021-10-12T11:58:12.010Z"
   },
   {
    "duration": 7,
    "start_time": "2021-10-12T11:58:49.587Z"
   },
   {
    "duration": 540,
    "start_time": "2021-10-12T11:59:40.673Z"
   },
   {
    "duration": 508,
    "start_time": "2021-10-12T12:00:10.088Z"
   },
   {
    "duration": 504,
    "start_time": "2021-10-12T12:00:34.293Z"
   },
   {
    "duration": 281,
    "start_time": "2021-10-12T12:01:06.511Z"
   },
   {
    "duration": 8,
    "start_time": "2021-10-12T12:01:27.000Z"
   },
   {
    "duration": 33,
    "start_time": "2021-10-12T12:01:33.790Z"
   },
   {
    "duration": 1870,
    "start_time": "2021-10-12T12:01:36.991Z"
   },
   {
    "duration": 369,
    "start_time": "2021-10-12T12:01:41.974Z"
   },
   {
    "duration": 1664,
    "start_time": "2021-10-12T12:02:00.362Z"
   },
   {
    "duration": 234,
    "start_time": "2021-10-12T12:02:06.101Z"
   },
   {
    "duration": 12,
    "start_time": "2021-10-12T12:02:08.767Z"
   },
   {
    "duration": 13,
    "start_time": "2021-10-12T12:02:09.063Z"
   },
   {
    "duration": 10,
    "start_time": "2021-10-12T12:02:09.353Z"
   },
   {
    "duration": 12,
    "start_time": "2021-10-12T12:02:09.690Z"
   },
   {
    "duration": 674,
    "start_time": "2021-10-13T07:58:56.068Z"
   },
   {
    "duration": 11,
    "start_time": "2021-10-13T07:58:56.744Z"
   },
   {
    "duration": 7380,
    "start_time": "2021-10-13T07:58:56.758Z"
   },
   {
    "duration": 11,
    "start_time": "2021-10-13T07:59:04.140Z"
   },
   {
    "duration": 4,
    "start_time": "2021-10-13T07:59:04.152Z"
   },
   {
    "duration": 23,
    "start_time": "2021-10-13T07:59:04.157Z"
   },
   {
    "duration": 11,
    "start_time": "2021-10-13T07:59:04.182Z"
   },
   {
    "duration": 12,
    "start_time": "2021-10-13T07:59:04.195Z"
   },
   {
    "duration": 35,
    "start_time": "2021-10-13T07:59:04.209Z"
   },
   {
    "duration": 10,
    "start_time": "2021-10-13T07:59:04.247Z"
   },
   {
    "duration": 5,
    "start_time": "2021-10-13T07:59:04.259Z"
   },
   {
    "duration": 7,
    "start_time": "2021-10-13T07:59:04.266Z"
   },
   {
    "duration": 13,
    "start_time": "2021-10-13T07:59:04.274Z"
   },
   {
    "duration": 16,
    "start_time": "2021-10-13T07:59:04.289Z"
   },
   {
    "duration": 45,
    "start_time": "2021-10-13T07:59:04.307Z"
   },
   {
    "duration": 15,
    "start_time": "2021-10-13T07:59:04.354Z"
   },
   {
    "duration": 34,
    "start_time": "2021-10-13T07:59:04.371Z"
   },
   {
    "duration": 21,
    "start_time": "2021-10-13T07:59:04.406Z"
   },
   {
    "duration": 19,
    "start_time": "2021-10-13T07:59:04.429Z"
   },
   {
    "duration": 24,
    "start_time": "2021-10-13T07:59:04.450Z"
   },
   {
    "duration": 17,
    "start_time": "2021-10-13T07:59:04.476Z"
   },
   {
    "duration": 19,
    "start_time": "2021-10-13T07:59:04.495Z"
   },
   {
    "duration": 510,
    "start_time": "2021-10-13T07:59:04.516Z"
   },
   {
    "duration": 1355,
    "start_time": "2021-10-13T07:59:05.028Z"
   },
   {
    "duration": 487,
    "start_time": "2021-10-13T07:59:06.385Z"
   },
   {
    "duration": 553,
    "start_time": "2021-10-13T07:59:06.874Z"
   },
   {
    "duration": 19,
    "start_time": "2021-10-13T07:59:07.430Z"
   },
   {
    "duration": 684,
    "start_time": "2021-10-13T07:59:07.451Z"
   },
   {
    "duration": 22,
    "start_time": "2021-10-13T07:59:08.144Z"
   },
   {
    "duration": 20,
    "start_time": "2021-10-13T07:59:08.168Z"
   },
   {
    "duration": 185,
    "start_time": "2021-10-13T07:59:08.189Z"
   },
   {
    "duration": 789,
    "start_time": "2021-10-13T07:59:08.376Z"
   },
   {
    "duration": 7,
    "start_time": "2021-10-13T07:59:09.166Z"
   },
   {
    "duration": 327,
    "start_time": "2021-10-13T07:59:09.174Z"
   },
   {
    "duration": 293,
    "start_time": "2021-10-13T07:59:09.503Z"
   },
   {
    "duration": 6,
    "start_time": "2021-10-13T07:59:09.797Z"
   },
   {
    "duration": 26,
    "start_time": "2021-10-13T07:59:09.804Z"
   },
   {
    "duration": 1002,
    "start_time": "2021-10-13T07:59:09.831Z"
   },
   {
    "duration": 215,
    "start_time": "2021-10-13T07:59:10.834Z"
   },
   {
    "duration": 1009,
    "start_time": "2021-10-13T07:59:11.050Z"
   },
   {
    "duration": 148,
    "start_time": "2021-10-13T07:59:12.061Z"
   },
   {
    "duration": 980,
    "start_time": "2021-10-22T18:07:48.379Z"
   },
   {
    "duration": 664,
    "start_time": "2021-10-22T18:07:49.363Z"
   },
   {
    "duration": 18,
    "start_time": "2021-10-22T18:07:50.032Z"
   },
   {
    "duration": 29,
    "start_time": "2021-10-22T18:07:50.053Z"
   },
   {
    "duration": 27,
    "start_time": "2021-10-22T18:07:50.084Z"
   },
   {
    "duration": 8,
    "start_time": "2021-10-22T18:07:50.114Z"
   },
   {
    "duration": 13,
    "start_time": "2021-10-22T18:07:50.125Z"
   },
   {
    "duration": 56,
    "start_time": "2021-10-22T18:07:50.142Z"
   },
   {
    "duration": 11,
    "start_time": "2021-10-22T18:07:50.201Z"
   },
   {
    "duration": 6,
    "start_time": "2021-10-22T18:07:50.215Z"
   },
   {
    "duration": 9,
    "start_time": "2021-10-22T18:07:50.223Z"
   },
   {
    "duration": 50,
    "start_time": "2021-10-22T18:07:50.234Z"
   },
   {
    "duration": 27,
    "start_time": "2021-10-22T18:07:50.286Z"
   },
   {
    "duration": 23,
    "start_time": "2021-10-22T18:07:50.315Z"
   },
   {
    "duration": 53,
    "start_time": "2021-10-22T18:07:50.340Z"
   },
   {
    "duration": 20,
    "start_time": "2021-10-22T18:07:50.396Z"
   },
   {
    "duration": 35,
    "start_time": "2021-10-22T18:07:50.418Z"
   },
   {
    "duration": 16,
    "start_time": "2021-10-22T18:07:50.481Z"
   },
   {
    "duration": 8,
    "start_time": "2021-10-22T18:07:50.500Z"
   },
   {
    "duration": 16,
    "start_time": "2021-10-22T18:07:50.510Z"
   },
   {
    "duration": 8,
    "start_time": "2021-10-22T18:07:50.528Z"
   },
   {
    "duration": 968,
    "start_time": "2021-10-22T18:07:50.538Z"
   },
   {
    "duration": 2013,
    "start_time": "2021-10-22T18:07:51.511Z"
   },
   {
    "duration": 867,
    "start_time": "2021-10-22T18:07:53.527Z"
   },
   {
    "duration": 946,
    "start_time": "2021-10-22T18:07:54.396Z"
   },
   {
    "duration": 18,
    "start_time": "2021-10-22T18:07:55.345Z"
   },
   {
    "duration": 1133,
    "start_time": "2021-10-22T18:07:55.366Z"
   },
   {
    "duration": 36,
    "start_time": "2021-10-22T18:07:56.501Z"
   },
   {
    "duration": 59,
    "start_time": "2021-10-22T18:07:56.539Z"
   },
   {
    "duration": 244,
    "start_time": "2021-10-22T18:07:56.600Z"
   },
   {
    "duration": 1124,
    "start_time": "2021-10-22T18:07:56.846Z"
   },
   {
    "duration": 10,
    "start_time": "2021-10-22T18:07:57.981Z"
   },
   {
    "duration": 512,
    "start_time": "2021-10-22T18:07:57.993Z"
   },
   {
    "duration": 542,
    "start_time": "2021-10-22T18:07:58.508Z"
   },
   {
    "duration": 8,
    "start_time": "2021-10-22T18:07:59.053Z"
   },
   {
    "duration": 45,
    "start_time": "2021-10-22T18:07:59.063Z"
   },
   {
    "duration": 1910,
    "start_time": "2021-10-22T18:07:59.111Z"
   },
   {
    "duration": 405,
    "start_time": "2021-10-22T18:08:01.024Z"
   },
   {
    "duration": 1823,
    "start_time": "2021-10-22T18:08:01.432Z"
   },
   {
    "duration": 249,
    "start_time": "2021-10-22T18:08:03.257Z"
   },
   {
    "duration": 230,
    "start_time": "2021-10-22T18:09:52.938Z"
   },
   {
    "duration": 524,
    "start_time": "2021-10-22T18:10:17.188Z"
   },
   {
    "duration": 36,
    "start_time": "2021-10-22T18:11:16.705Z"
   },
   {
    "duration": 38,
    "start_time": "2021-10-22T18:11:22.722Z"
   },
   {
    "duration": 1498,
    "start_time": "2021-10-22T18:14:56.646Z"
   },
   {
    "duration": 676,
    "start_time": "2021-10-22T18:14:58.147Z"
   },
   {
    "duration": 18,
    "start_time": "2021-10-22T18:14:58.826Z"
   },
   {
    "duration": 5,
    "start_time": "2021-10-22T18:14:58.846Z"
   },
   {
    "duration": 52,
    "start_time": "2021-10-22T18:14:58.853Z"
   },
   {
    "duration": 9,
    "start_time": "2021-10-22T18:14:58.908Z"
   },
   {
    "duration": 13,
    "start_time": "2021-10-22T18:14:58.919Z"
   },
   {
    "duration": 52,
    "start_time": "2021-10-22T18:14:58.936Z"
   },
   {
    "duration": 33,
    "start_time": "2021-10-22T18:14:58.992Z"
   },
   {
    "duration": 7,
    "start_time": "2021-10-22T18:14:59.027Z"
   },
   {
    "duration": 7,
    "start_time": "2021-10-22T18:14:59.036Z"
   },
   {
    "duration": 62,
    "start_time": "2021-10-22T18:14:59.045Z"
   },
   {
    "duration": 27,
    "start_time": "2021-10-22T18:14:59.110Z"
   },
   {
    "duration": 49,
    "start_time": "2021-10-22T18:14:59.139Z"
   },
   {
    "duration": 24,
    "start_time": "2021-10-22T18:14:59.190Z"
   },
   {
    "duration": 21,
    "start_time": "2021-10-22T18:14:59.216Z"
   },
   {
    "duration": 60,
    "start_time": "2021-10-22T18:14:59.240Z"
   },
   {
    "duration": 16,
    "start_time": "2021-10-22T18:14:59.302Z"
   },
   {
    "duration": 9,
    "start_time": "2021-10-22T18:14:59.320Z"
   },
   {
    "duration": 51,
    "start_time": "2021-10-22T18:14:59.331Z"
   },
   {
    "duration": 7,
    "start_time": "2021-10-22T18:14:59.385Z"
   },
   {
    "duration": 865,
    "start_time": "2021-10-22T18:14:59.394Z"
   },
   {
    "duration": 2089,
    "start_time": "2021-10-22T18:15:00.264Z"
   },
   {
    "duration": 976,
    "start_time": "2021-10-22T18:15:02.356Z"
   },
   {
    "duration": 1076,
    "start_time": "2021-10-22T18:15:03.334Z"
   },
   {
    "duration": 18,
    "start_time": "2021-10-22T18:15:04.412Z"
   },
   {
    "duration": 1191,
    "start_time": "2021-10-22T18:15:04.432Z"
   },
   {
    "duration": 258,
    "start_time": "2021-10-22T18:15:05.626Z"
   },
   {
    "duration": 1151,
    "start_time": "2021-10-22T18:15:05.887Z"
   },
   {
    "duration": 10,
    "start_time": "2021-10-22T18:15:07.040Z"
   },
   {
    "duration": 607,
    "start_time": "2021-10-22T18:15:07.052Z"
   },
   {
    "duration": 552,
    "start_time": "2021-10-22T18:15:07.662Z"
   },
   {
    "duration": 9,
    "start_time": "2021-10-22T18:15:08.216Z"
   },
   {
    "duration": 2138,
    "start_time": "2021-10-22T18:15:08.227Z"
   },
   {
    "duration": 400,
    "start_time": "2021-10-22T18:15:10.368Z"
   },
   {
    "duration": 2163,
    "start_time": "2021-10-22T18:15:10.770Z"
   },
   {
    "duration": 263,
    "start_time": "2021-10-22T18:15:12.935Z"
   },
   {
    "duration": 4,
    "start_time": "2021-10-22T18:15:49.421Z"
   },
   {
    "duration": 507,
    "start_time": "2021-10-22T18:15:50.059Z"
   },
   {
    "duration": 1357,
    "start_time": "2021-10-23T11:50:40.766Z"
   },
   {
    "duration": 658,
    "start_time": "2021-10-23T11:50:42.125Z"
   },
   {
    "duration": 17,
    "start_time": "2021-10-23T11:50:42.787Z"
   },
   {
    "duration": 5,
    "start_time": "2021-10-23T11:50:42.807Z"
   },
   {
    "duration": 26,
    "start_time": "2021-10-23T11:50:42.814Z"
   },
   {
    "duration": 42,
    "start_time": "2021-10-23T11:50:42.842Z"
   },
   {
    "duration": 17,
    "start_time": "2021-10-23T11:50:42.887Z"
   },
   {
    "duration": 23,
    "start_time": "2021-10-23T11:50:42.907Z"
   },
   {
    "duration": 64,
    "start_time": "2021-10-23T11:50:42.932Z"
   },
   {
    "duration": 6,
    "start_time": "2021-10-23T11:50:42.998Z"
   },
   {
    "duration": 10,
    "start_time": "2021-10-23T11:50:43.006Z"
   },
   {
    "duration": 32,
    "start_time": "2021-10-23T11:50:43.018Z"
   },
   {
    "duration": 49,
    "start_time": "2021-10-23T11:50:43.052Z"
   },
   {
    "duration": 23,
    "start_time": "2021-10-23T11:50:43.103Z"
   },
   {
    "duration": 24,
    "start_time": "2021-10-23T11:50:43.128Z"
   },
   {
    "duration": 22,
    "start_time": "2021-10-23T11:50:43.182Z"
   },
   {
    "duration": 33,
    "start_time": "2021-10-23T11:50:43.206Z"
   },
   {
    "duration": 44,
    "start_time": "2021-10-23T11:50:43.242Z"
   },
   {
    "duration": 8,
    "start_time": "2021-10-23T11:50:43.288Z"
   },
   {
    "duration": 18,
    "start_time": "2021-10-23T11:50:43.299Z"
   },
   {
    "duration": 6,
    "start_time": "2021-10-23T11:50:43.320Z"
   },
   {
    "duration": 894,
    "start_time": "2021-10-23T11:50:43.329Z"
   },
   {
    "duration": 3321,
    "start_time": "2021-10-23T11:50:44.229Z"
   },
   {
    "duration": 840,
    "start_time": "2021-10-23T11:50:47.554Z"
   },
   {
    "duration": 928,
    "start_time": "2021-10-23T11:50:48.396Z"
   },
   {
    "duration": 17,
    "start_time": "2021-10-23T11:50:49.326Z"
   },
   {
    "duration": 1411,
    "start_time": "2021-10-23T11:50:49.345Z"
   },
   {
    "duration": 382,
    "start_time": "2021-10-23T11:50:50.760Z"
   },
   {
    "duration": 1740,
    "start_time": "2021-10-23T11:50:51.145Z"
   },
   {
    "duration": 17,
    "start_time": "2021-10-23T11:50:52.888Z"
   },
   {
    "duration": 799,
    "start_time": "2021-10-23T11:50:52.908Z"
   },
   {
    "duration": 3,
    "start_time": "2021-10-23T11:50:53.710Z"
   },
   {
    "duration": 692,
    "start_time": "2021-10-23T11:50:53.716Z"
   },
   {
    "duration": 9,
    "start_time": "2021-10-23T11:50:54.411Z"
   },
   {
    "duration": 1886,
    "start_time": "2021-10-23T11:50:54.422Z"
   },
   {
    "duration": 388,
    "start_time": "2021-10-23T11:50:56.311Z"
   },
   {
    "duration": 1777,
    "start_time": "2021-10-23T11:50:56.702Z"
   },
   {
    "duration": 251,
    "start_time": "2021-10-23T11:50:58.482Z"
   },
   {
    "duration": 83,
    "start_time": "2021-10-23T12:02:56.143Z"
   },
   {
    "duration": 901,
    "start_time": "2021-10-23T12:03:01.332Z"
   },
   {
    "duration": 689,
    "start_time": "2021-10-23T12:03:02.235Z"
   },
   {
    "duration": 18,
    "start_time": "2021-10-23T12:03:02.927Z"
   },
   {
    "duration": 35,
    "start_time": "2021-10-23T12:03:02.947Z"
   },
   {
    "duration": 26,
    "start_time": "2021-10-23T12:03:02.985Z"
   },
   {
    "duration": 9,
    "start_time": "2021-10-23T12:03:03.014Z"
   },
   {
    "duration": 16,
    "start_time": "2021-10-23T12:03:03.025Z"
   },
   {
    "duration": 24,
    "start_time": "2021-10-23T12:03:03.081Z"
   },
   {
    "duration": 31,
    "start_time": "2021-10-23T12:03:03.109Z"
   },
   {
    "duration": 6,
    "start_time": "2021-10-23T12:03:03.142Z"
   },
   {
    "duration": 6,
    "start_time": "2021-10-23T12:03:03.182Z"
   },
   {
    "duration": 31,
    "start_time": "2021-10-23T12:03:03.190Z"
   },
   {
    "duration": 67,
    "start_time": "2021-10-23T12:03:03.223Z"
   },
   {
    "duration": 23,
    "start_time": "2021-10-23T12:03:03.292Z"
   },
   {
    "duration": 25,
    "start_time": "2021-10-23T12:03:03.317Z"
   },
   {
    "duration": 49,
    "start_time": "2021-10-23T12:03:03.344Z"
   },
   {
    "duration": 42,
    "start_time": "2021-10-23T12:03:03.396Z"
   },
   {
    "duration": 49,
    "start_time": "2021-10-23T12:03:03.441Z"
   },
   {
    "duration": 8,
    "start_time": "2021-10-23T12:03:03.493Z"
   },
   {
    "duration": 17,
    "start_time": "2021-10-23T12:03:03.503Z"
   },
   {
    "duration": 6,
    "start_time": "2021-10-23T12:03:03.522Z"
   },
   {
    "duration": 883,
    "start_time": "2021-10-23T12:03:03.530Z"
   },
   {
    "duration": 1967,
    "start_time": "2021-10-23T12:03:04.418Z"
   },
   {
    "duration": 865,
    "start_time": "2021-10-23T12:03:06.388Z"
   },
   {
    "duration": 943,
    "start_time": "2021-10-23T12:03:07.256Z"
   },
   {
    "duration": 18,
    "start_time": "2021-10-23T12:03:08.201Z"
   },
   {
    "duration": 1125,
    "start_time": "2021-10-23T12:03:08.221Z"
   },
   {
    "duration": 265,
    "start_time": "2021-10-23T12:03:09.348Z"
   },
   {
    "duration": 1214,
    "start_time": "2021-10-23T12:03:09.615Z"
   },
   {
    "duration": 10,
    "start_time": "2021-10-23T12:03:10.832Z"
   },
   {
    "duration": 537,
    "start_time": "2021-10-23T12:03:10.845Z"
   },
   {
    "duration": 3,
    "start_time": "2021-10-23T12:03:11.384Z"
   },
   {
    "duration": 565,
    "start_time": "2021-10-23T12:03:11.389Z"
   },
   {
    "duration": 8,
    "start_time": "2021-10-23T12:03:11.956Z"
   },
   {
    "duration": 1827,
    "start_time": "2021-10-23T12:03:11.966Z"
   },
   {
    "duration": 401,
    "start_time": "2021-10-23T12:03:13.796Z"
   },
   {
    "duration": 1744,
    "start_time": "2021-10-23T12:03:14.200Z"
   },
   {
    "duration": 257,
    "start_time": "2021-10-23T12:03:15.947Z"
   },
   {
    "duration": 955,
    "start_time": "2021-10-23T12:33:42.859Z"
   },
   {
    "duration": 690,
    "start_time": "2021-10-23T12:33:43.817Z"
   },
   {
    "duration": 20,
    "start_time": "2021-10-23T12:33:44.511Z"
   },
   {
    "duration": 7,
    "start_time": "2021-10-23T12:33:44.534Z"
   },
   {
    "duration": 60,
    "start_time": "2021-10-23T12:33:44.544Z"
   },
   {
    "duration": 10,
    "start_time": "2021-10-23T12:33:44.607Z"
   },
   {
    "duration": 15,
    "start_time": "2021-10-23T12:33:44.620Z"
   },
   {
    "duration": 56,
    "start_time": "2021-10-23T12:33:44.639Z"
   },
   {
    "duration": 32,
    "start_time": "2021-10-23T12:33:44.698Z"
   },
   {
    "duration": 6,
    "start_time": "2021-10-23T12:33:44.732Z"
   },
   {
    "duration": 13,
    "start_time": "2021-10-23T12:33:44.741Z"
   },
   {
    "duration": 33,
    "start_time": "2021-10-23T12:33:44.783Z"
   },
   {
    "duration": 26,
    "start_time": "2021-10-23T12:33:44.818Z"
   },
   {
    "duration": 52,
    "start_time": "2021-10-23T12:33:44.847Z"
   },
   {
    "duration": 25,
    "start_time": "2021-10-23T12:33:44.901Z"
   },
   {
    "duration": 25,
    "start_time": "2021-10-23T12:33:44.928Z"
   },
   {
    "duration": 56,
    "start_time": "2021-10-23T12:33:44.955Z"
   },
   {
    "duration": 16,
    "start_time": "2021-10-23T12:33:45.013Z"
   },
   {
    "duration": 9,
    "start_time": "2021-10-23T12:33:45.032Z"
   },
   {
    "duration": 47,
    "start_time": "2021-10-23T12:33:45.043Z"
   },
   {
    "duration": 7,
    "start_time": "2021-10-23T12:33:45.092Z"
   },
   {
    "duration": 847,
    "start_time": "2021-10-23T12:33:45.102Z"
   },
   {
    "duration": 2090,
    "start_time": "2021-10-23T12:33:45.954Z"
   },
   {
    "duration": 842,
    "start_time": "2021-10-23T12:33:48.047Z"
   },
   {
    "duration": 938,
    "start_time": "2021-10-23T12:33:48.891Z"
   },
   {
    "duration": 17,
    "start_time": "2021-10-23T12:33:49.832Z"
   },
   {
    "duration": 1193,
    "start_time": "2021-10-23T12:33:49.852Z"
   },
   {
    "duration": 260,
    "start_time": "2021-10-23T12:33:51.048Z"
   },
   {
    "duration": 1086,
    "start_time": "2021-10-23T12:33:51.311Z"
   },
   {
    "duration": 12,
    "start_time": "2021-10-23T12:33:52.400Z"
   },
   {
    "duration": 655,
    "start_time": "2021-10-23T12:33:52.415Z"
   },
   {
    "duration": 562,
    "start_time": "2021-10-23T12:33:53.073Z"
   },
   {
    "duration": 9,
    "start_time": "2021-10-23T12:33:53.637Z"
   },
   {
    "duration": 2179,
    "start_time": "2021-10-23T12:33:53.648Z"
   },
   {
    "duration": 397,
    "start_time": "2021-10-23T12:33:55.830Z"
   },
   {
    "duration": 1776,
    "start_time": "2021-10-23T12:33:56.229Z"
   },
   {
    "duration": 266,
    "start_time": "2021-10-23T12:33:58.008Z"
   },
   {
    "duration": 80,
    "start_time": "2021-10-23T13:49:16.163Z"
   },
   {
    "duration": 882,
    "start_time": "2021-10-23T13:49:21.135Z"
   },
   {
    "duration": 665,
    "start_time": "2021-10-23T13:49:22.019Z"
   },
   {
    "duration": 18,
    "start_time": "2021-10-23T13:49:22.687Z"
   },
   {
    "duration": 5,
    "start_time": "2021-10-23T13:49:22.708Z"
   },
   {
    "duration": 28,
    "start_time": "2021-10-23T13:49:22.715Z"
   },
   {
    "duration": 42,
    "start_time": "2021-10-23T13:49:22.746Z"
   },
   {
    "duration": 13,
    "start_time": "2021-10-23T13:49:22.790Z"
   },
   {
    "duration": 29,
    "start_time": "2021-10-23T13:49:22.809Z"
   },
   {
    "duration": 61,
    "start_time": "2021-10-23T13:49:22.841Z"
   },
   {
    "duration": 7,
    "start_time": "2021-10-23T13:49:22.904Z"
   },
   {
    "duration": 5,
    "start_time": "2021-10-23T13:49:22.914Z"
   },
   {
    "duration": 63,
    "start_time": "2021-10-23T13:49:22.921Z"
   },
   {
    "duration": 27,
    "start_time": "2021-10-23T13:49:22.986Z"
   },
   {
    "duration": 23,
    "start_time": "2021-10-23T13:49:23.016Z"
   },
   {
    "duration": 58,
    "start_time": "2021-10-23T13:49:23.041Z"
   },
   {
    "duration": 19,
    "start_time": "2021-10-23T13:49:23.102Z"
   },
   {
    "duration": 33,
    "start_time": "2021-10-23T13:49:23.124Z"
   },
   {
    "duration": 37,
    "start_time": "2021-10-23T13:49:23.158Z"
   },
   {
    "duration": 8,
    "start_time": "2021-10-23T13:49:23.197Z"
   },
   {
    "duration": 17,
    "start_time": "2021-10-23T13:49:23.207Z"
   },
   {
    "duration": 7,
    "start_time": "2021-10-23T13:49:23.226Z"
   },
   {
    "duration": 868,
    "start_time": "2021-10-23T13:49:23.235Z"
   },
   {
    "duration": 2006,
    "start_time": "2021-10-23T13:49:24.108Z"
   },
   {
    "duration": 830,
    "start_time": "2021-10-23T13:49:26.117Z"
   },
   {
    "duration": 917,
    "start_time": "2021-10-23T13:49:26.949Z"
   },
   {
    "duration": 26,
    "start_time": "2021-10-23T13:49:27.868Z"
   },
   {
    "duration": 1104,
    "start_time": "2021-10-23T13:49:27.897Z"
   },
   {
    "duration": 245,
    "start_time": "2021-10-23T13:49:29.005Z"
   },
   {
    "duration": 1448,
    "start_time": "2021-10-23T13:49:29.253Z"
   },
   {
    "duration": 11,
    "start_time": "2021-10-23T13:49:30.703Z"
   },
   {
    "duration": 1373,
    "start_time": "2021-10-23T13:49:30.717Z"
   },
   {
    "duration": 802,
    "start_time": "2021-10-23T13:49:32.093Z"
   },
   {
    "duration": 8,
    "start_time": "2021-10-23T13:49:32.897Z"
   },
   {
    "duration": 1786,
    "start_time": "2021-10-23T13:49:32.907Z"
   },
   {
    "duration": 389,
    "start_time": "2021-10-23T13:49:34.696Z"
   },
   {
    "duration": 1733,
    "start_time": "2021-10-23T13:49:35.087Z"
   },
   {
    "duration": 247,
    "start_time": "2021-10-23T13:49:36.823Z"
   },
   {
    "duration": 519,
    "start_time": "2021-10-23T13:49:57.440Z"
   },
   {
    "duration": 905,
    "start_time": "2021-10-23T13:50:02.820Z"
   },
   {
    "duration": 685,
    "start_time": "2021-10-23T13:50:03.728Z"
   },
   {
    "duration": 16,
    "start_time": "2021-10-23T13:50:04.417Z"
   },
   {
    "duration": 5,
    "start_time": "2021-10-23T13:50:04.436Z"
   },
   {
    "duration": 55,
    "start_time": "2021-10-23T13:50:04.443Z"
   },
   {
    "duration": 9,
    "start_time": "2021-10-23T13:50:04.500Z"
   },
   {
    "duration": 15,
    "start_time": "2021-10-23T13:50:04.511Z"
   },
   {
    "duration": 23,
    "start_time": "2021-10-23T13:50:04.529Z"
   },
   {
    "duration": 57,
    "start_time": "2021-10-23T13:50:04.555Z"
   },
   {
    "duration": 7,
    "start_time": "2021-10-23T13:50:04.614Z"
   },
   {
    "duration": 10,
    "start_time": "2021-10-23T13:50:04.623Z"
   },
   {
    "duration": 57,
    "start_time": "2021-10-23T13:50:04.635Z"
   },
   {
    "duration": 26,
    "start_time": "2021-10-23T13:50:04.695Z"
   },
   {
    "duration": 23,
    "start_time": "2021-10-23T13:50:04.724Z"
   },
   {
    "duration": 54,
    "start_time": "2021-10-23T13:50:04.750Z"
   },
   {
    "duration": 20,
    "start_time": "2021-10-23T13:50:04.807Z"
   },
   {
    "duration": 61,
    "start_time": "2021-10-23T13:50:04.830Z"
   },
   {
    "duration": 20,
    "start_time": "2021-10-23T13:50:04.894Z"
   },
   {
    "duration": 8,
    "start_time": "2021-10-23T13:50:04.916Z"
   },
   {
    "duration": 18,
    "start_time": "2021-10-23T13:50:04.926Z"
   },
   {
    "duration": 40,
    "start_time": "2021-10-23T13:50:04.946Z"
   },
   {
    "duration": 882,
    "start_time": "2021-10-23T13:50:04.989Z"
   },
   {
    "duration": 2129,
    "start_time": "2021-10-23T13:50:05.876Z"
   },
   {
    "duration": 852,
    "start_time": "2021-10-23T13:50:08.009Z"
   },
   {
    "duration": 920,
    "start_time": "2021-10-23T13:50:08.864Z"
   },
   {
    "duration": 20,
    "start_time": "2021-10-23T13:50:09.787Z"
   },
   {
    "duration": 1128,
    "start_time": "2021-10-23T13:50:09.810Z"
   },
   {
    "duration": 250,
    "start_time": "2021-10-23T13:50:10.941Z"
   },
   {
    "duration": 1096,
    "start_time": "2021-10-23T13:50:11.195Z"
   },
   {
    "duration": 12,
    "start_time": "2021-10-23T13:50:12.294Z"
   },
   {
    "duration": 521,
    "start_time": "2021-10-23T13:50:12.309Z"
   },
   {
    "duration": 516,
    "start_time": "2021-10-23T13:50:12.833Z"
   },
   {
    "duration": 8,
    "start_time": "2021-10-23T13:50:13.352Z"
   },
   {
    "duration": 1771,
    "start_time": "2021-10-23T13:50:13.381Z"
   },
   {
    "duration": 381,
    "start_time": "2021-10-23T13:50:15.155Z"
   },
   {
    "duration": 1756,
    "start_time": "2021-10-23T13:50:15.539Z"
   },
   {
    "duration": 276,
    "start_time": "2021-10-23T13:50:17.298Z"
   },
   {
    "duration": 926,
    "start_time": "2021-10-23T13:56:41.576Z"
   },
   {
    "duration": 654,
    "start_time": "2021-10-23T13:56:42.504Z"
   },
   {
    "duration": 29,
    "start_time": "2021-10-23T13:56:43.161Z"
   },
   {
    "duration": 6,
    "start_time": "2021-10-23T13:56:43.193Z"
   },
   {
    "duration": 29,
    "start_time": "2021-10-23T13:56:43.201Z"
   },
   {
    "duration": 9,
    "start_time": "2021-10-23T13:56:43.233Z"
   },
   {
    "duration": 45,
    "start_time": "2021-10-23T13:56:43.244Z"
   },
   {
    "duration": 22,
    "start_time": "2021-10-23T13:56:43.293Z"
   },
   {
    "duration": 32,
    "start_time": "2021-10-23T13:56:43.319Z"
   },
   {
    "duration": 28,
    "start_time": "2021-10-23T13:56:43.354Z"
   },
   {
    "duration": 6,
    "start_time": "2021-10-23T13:56:43.385Z"
   },
   {
    "duration": 34,
    "start_time": "2021-10-23T13:56:43.393Z"
   },
   {
    "duration": 63,
    "start_time": "2021-10-23T13:56:43.429Z"
   },
   {
    "duration": 23,
    "start_time": "2021-10-23T13:56:43.495Z"
   },
   {
    "duration": 23,
    "start_time": "2021-10-23T13:56:43.520Z"
   },
   {
    "duration": 49,
    "start_time": "2021-10-23T13:56:43.545Z"
   },
   {
    "duration": 34,
    "start_time": "2021-10-23T13:56:43.596Z"
   },
   {
    "duration": 15,
    "start_time": "2021-10-23T13:56:43.632Z"
   },
   {
    "duration": 36,
    "start_time": "2021-10-23T13:56:43.649Z"
   },
   {
    "duration": 16,
    "start_time": "2021-10-23T13:56:43.688Z"
   },
   {
    "duration": 8,
    "start_time": "2021-10-23T13:56:43.707Z"
   },
   {
    "duration": 855,
    "start_time": "2021-10-23T13:56:43.718Z"
   },
   {
    "duration": 1969,
    "start_time": "2021-10-23T13:56:44.584Z"
   },
   {
    "duration": 838,
    "start_time": "2021-10-23T13:56:46.556Z"
   },
   {
    "duration": 944,
    "start_time": "2021-10-23T13:56:47.396Z"
   },
   {
    "duration": 16,
    "start_time": "2021-10-23T13:56:48.342Z"
   },
   {
    "duration": 1136,
    "start_time": "2021-10-23T13:56:48.360Z"
   },
   {
    "duration": 242,
    "start_time": "2021-10-23T13:56:49.499Z"
   },
   {
    "duration": 1091,
    "start_time": "2021-10-23T13:56:49.743Z"
   },
   {
    "duration": 12,
    "start_time": "2021-10-23T13:56:50.836Z"
   },
   {
    "duration": 532,
    "start_time": "2021-10-23T13:56:50.850Z"
   },
   {
    "duration": 514,
    "start_time": "2021-10-23T13:56:51.384Z"
   },
   {
    "duration": 9,
    "start_time": "2021-10-23T13:56:51.900Z"
   },
   {
    "duration": 1797,
    "start_time": "2021-10-23T13:56:51.911Z"
   },
   {
    "duration": 402,
    "start_time": "2021-10-23T13:56:53.711Z"
   },
   {
    "duration": 1720,
    "start_time": "2021-10-23T13:56:54.115Z"
   },
   {
    "duration": 255,
    "start_time": "2021-10-23T13:56:55.837Z"
   },
   {
    "duration": 924,
    "start_time": "2021-10-31T09:25:29.505Z"
   },
   {
    "duration": 647,
    "start_time": "2021-10-31T09:25:30.432Z"
   },
   {
    "duration": 19,
    "start_time": "2021-10-31T09:25:31.083Z"
   },
   {
    "duration": 7,
    "start_time": "2021-10-31T09:25:31.105Z"
   },
   {
    "duration": 33,
    "start_time": "2021-10-31T09:25:31.115Z"
   },
   {
    "duration": 40,
    "start_time": "2021-10-31T09:25:31.151Z"
   },
   {
    "duration": 27,
    "start_time": "2021-10-31T09:25:31.194Z"
   },
   {
    "duration": 24,
    "start_time": "2021-10-31T09:25:31.226Z"
   },
   {
    "duration": 56,
    "start_time": "2021-10-31T09:25:31.254Z"
   },
   {
    "duration": 9,
    "start_time": "2021-10-31T09:25:31.313Z"
   },
   {
    "duration": 8,
    "start_time": "2021-10-31T09:25:31.324Z"
   },
   {
    "duration": 85,
    "start_time": "2021-10-31T09:25:31.335Z"
   },
   {
    "duration": 39,
    "start_time": "2021-10-31T09:25:31.423Z"
   },
   {
    "duration": 34,
    "start_time": "2021-10-31T09:25:31.482Z"
   },
   {
    "duration": 35,
    "start_time": "2021-10-31T09:25:31.518Z"
   },
   {
    "duration": 30,
    "start_time": "2021-10-31T09:25:31.583Z"
   },
   {
    "duration": 68,
    "start_time": "2021-10-31T09:25:31.616Z"
   },
   {
    "duration": 22,
    "start_time": "2021-10-31T09:25:31.687Z"
   },
   {
    "duration": 11,
    "start_time": "2021-10-31T09:25:31.712Z"
   },
   {
    "duration": 57,
    "start_time": "2021-10-31T09:25:31.725Z"
   },
   {
    "duration": 8,
    "start_time": "2021-10-31T09:25:31.785Z"
   },
   {
    "duration": 1372,
    "start_time": "2021-10-31T09:25:31.797Z"
   },
   {
    "duration": 2067,
    "start_time": "2021-10-31T09:25:33.175Z"
   },
   {
    "duration": 1286,
    "start_time": "2021-10-31T09:25:35.245Z"
   },
   {
    "duration": 1390,
    "start_time": "2021-10-31T09:25:36.534Z"
   },
   {
    "duration": 24,
    "start_time": "2021-10-31T09:25:37.927Z"
   },
   {
    "duration": 1134,
    "start_time": "2021-10-31T09:25:37.953Z"
   },
   {
    "duration": 251,
    "start_time": "2021-10-31T09:25:39.089Z"
   },
   {
    "duration": 1410,
    "start_time": "2021-10-31T09:25:39.342Z"
   },
   {
    "duration": 11,
    "start_time": "2021-10-31T09:25:40.755Z"
   },
   {
    "duration": 697,
    "start_time": "2021-10-31T09:25:40.769Z"
   },
   {
    "duration": 782,
    "start_time": "2021-10-31T09:25:41.469Z"
   },
   {
    "duration": 12,
    "start_time": "2021-10-31T09:25:42.253Z"
   },
   {
    "duration": 2628,
    "start_time": "2021-10-31T09:25:42.268Z"
   },
   {
    "duration": 572,
    "start_time": "2021-10-31T09:25:44.899Z"
   },
   {
    "duration": 2624,
    "start_time": "2021-10-31T09:25:45.474Z"
   },
   {
    "duration": 281,
    "start_time": "2021-10-31T09:25:48.102Z"
   }
  ],
  "kernelspec": {
   "display_name": "Python 3",
   "language": "python",
   "name": "python3"
  },
  "language_info": {
   "codemirror_mode": {
    "name": "ipython",
    "version": 3
   },
   "file_extension": ".py",
   "mimetype": "text/x-python",
   "name": "python",
   "nbconvert_exporter": "python",
   "pygments_lexer": "ipython3",
   "version": "3.7.8"
  },
  "toc": {
   "base_numbering": 1,
   "nav_menu": {},
   "number_sections": true,
   "sideBar": true,
   "skip_h1_title": true,
   "title_cell": "Содержание",
   "title_sidebar": "Contents",
   "toc_cell": true,
   "toc_position": {
    "height": "calc(100% - 180px)",
    "left": "10px",
    "top": "150px",
    "width": "292.422px"
   },
   "toc_section_display": true,
   "toc_window_display": true
  }
 },
 "nbformat": 4,
 "nbformat_minor": 2
}
